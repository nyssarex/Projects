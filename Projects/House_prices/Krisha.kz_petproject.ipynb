{
 "cells": [
  {
   "cell_type": "code",
   "execution_count": 1,
   "metadata": {
    "scrolled": false
   },
   "outputs": [
    {
     "data": {
      "text/html": [
       "\n",
       "        <script>\n",
       "            function code_toggle_2157900109798689421() {\n",
       "                $('div.cell.code_cell.rendered.selected').find('div.input').toggle();\n",
       "            }\n",
       "\n",
       "            \n",
       "        </script>\n",
       "\n",
       "        <a href=\"javascript:code_toggle_2157900109798689421()\">Toggle show/hide</a>\n",
       "    "
      ],
      "text/plain": [
       "<IPython.core.display.HTML object>"
      ]
     },
     "execution_count": 1,
     "metadata": {},
     "output_type": "execute_result"
    }
   ],
   "source": [
    "from IPython.display import HTML\n",
    "import random\n",
    "\n",
    "def hide_toggle(for_next=False):\n",
    "    this_cell = \"\"\"$('div.cell.code_cell.rendered.selected')\"\"\"\n",
    "    next_cell = this_cell + '.next()'\n",
    "\n",
    "    toggle_text = 'Toggle show/hide'  # text shown on toggle link\n",
    "    target_cell = this_cell  # target cell to control with toggle\n",
    "    js_hide_current = ''  # bit of JS to permanently hide code in current cell (only when toggling next cell)\n",
    "\n",
    "    if for_next:\n",
    "        target_cell = next_cell\n",
    "        toggle_text += ' next cell'\n",
    "        js_hide_current = this_cell + '.find(\"div.input\").hide();'\n",
    "\n",
    "    js_f_name = 'code_toggle_{}'.format(str(random.randint(1,2**64)))\n",
    "\n",
    "    html = \"\"\"\n",
    "        <script>\n",
    "            function {f_name}() {{\n",
    "                {cell_selector}.find('div.input').toggle();\n",
    "            }}\n",
    "\n",
    "            {js_hide_current}\n",
    "        </script>\n",
    "\n",
    "        <a href=\"javascript:{f_name}()\">{toggle_text}</a>\n",
    "    \"\"\".format(\n",
    "        f_name=js_f_name,\n",
    "        cell_selector=target_cell,\n",
    "        js_hide_current=js_hide_current, \n",
    "        toggle_text=toggle_text\n",
    "    )\n",
    "\n",
    "    return HTML(html)\n",
    "hide_toggle()"
   ]
  },
  {
   "cell_type": "markdown",
   "metadata": {},
   "source": [
    "## DS Look on: Продажа новых квартир в Астане (Нур-Султан) by krisha.kz\n"
   ]
  },
  {
   "attachments": {
    "image.png": {
     "image/png": "[encoded data removed]"
    }
   },
   "cell_type": "markdown",
   "metadata": {},
   "source": [
    "![image.png](attachment:image.png)"
   ]
  },
  {
   "cell_type": "markdown",
   "metadata": {},
   "source": [
    "Интро: В данном блокноте будет проведен анализ цен на квартиры в новых ЖК(новостройки) опубликованные на сайте объявлений krisha.kz за 07.09.2020\n",
    "Данные были собраны, обработаны и проанализированы с сайта krisha.kz , используя Python и его библиотек. Выборка состоит из 167 квартир, опубликованными отделами продаж застройщиков.\n"
   ]
  },
  {
   "cell_type": "markdown",
   "metadata": {},
   "source": [
    "В выборке отсутствуют объявления с других сайтов, других застройщиков (Bazis,NAK и тд) так как их не было на Krisha.kz"
   ]
  },
  {
   "cell_type": "markdown",
   "metadata": {},
   "source": [
    "P.S данная выборка слишком мала, поэтому не следует принимать решения, опираясь только на этот блокнот.\n",
    "#### P.S.S. Все мнения и доводы, касаются только данную выборку и не описывают текущее положение рынка недвижимости города Нур-Султан"
   ]
  },
  {
   "cell_type": "markdown",
   "metadata": {},
   "source": [
    "## Обзор:"
   ]
  },
  {
   "cell_type": "code",
   "execution_count": 2,
   "metadata": {},
   "outputs": [
    {
     "data": {
      "text/html": [
       "        <script type=\"text/javascript\">\n",
       "        window.PlotlyConfig = {MathJaxConfig: 'local'};\n",
       "        if (window.MathJax) {MathJax.Hub.Config({SVG: {font: \"STIX-Web\"}});}\n",
       "        if (typeof require !== 'undefined') {\n",
       "        require.undef(\"plotly\");\n",
       "        requirejs.config({\n",
       "            paths: {\n",
       "                'plotly': ['https://cdn.plot.ly/plotly-latest.min']\n",
       "            }\n",
       "        });\n",
       "        require(['plotly'], function(Plotly) {\n",
       "            window._Plotly = Plotly;\n",
       "        });\n",
       "        }\n",
       "        </script>\n",
       "        "
      ]
     },
     "metadata": {},
     "output_type": "display_data"
    },
    {
     "data": {
      "text/html": [
       "        <script type=\"text/javascript\">\n",
       "        window.PlotlyConfig = {MathJaxConfig: 'local'};\n",
       "        if (window.MathJax) {MathJax.Hub.Config({SVG: {font: \"STIX-Web\"}});}\n",
       "        if (typeof require !== 'undefined') {\n",
       "        require.undef(\"plotly\");\n",
       "        requirejs.config({\n",
       "            paths: {\n",
       "                'plotly': ['https://cdn.plot.ly/plotly-latest.min']\n",
       "            }\n",
       "        });\n",
       "        require(['plotly'], function(Plotly) {\n",
       "            window._Plotly = Plotly;\n",
       "        });\n",
       "        }\n",
       "        </script>\n",
       "        "
      ]
     },
     "metadata": {},
     "output_type": "display_data"
    },
    {
     "data": {
      "text/html": [
       "\n",
       "        <script>\n",
       "            function code_toggle_8539740594921939467() {\n",
       "                $('div.cell.code_cell.rendered.selected').find('div.input').toggle();\n",
       "            }\n",
       "\n",
       "            \n",
       "        </script>\n",
       "\n",
       "        <a href=\"javascript:code_toggle_8539740594921939467()\">Toggle show/hide</a>\n",
       "    "
      ],
      "text/plain": [
       "<IPython.core.display.HTML object>"
      ]
     },
     "execution_count": 2,
     "metadata": {},
     "output_type": "execute_result"
    }
   ],
   "source": [
    "# Standard plotly imports\n",
    "import chart_studio.plotly as py\n",
    "import plotly.graph_objs as go\n",
    "from plotly.offline import iplot, init_notebook_mode\n",
    "# Using plotly + cufflinks in offline mode\n",
    "import cufflinks\n",
    "cufflinks.go_offline(connected=True)\n",
    "init_notebook_mode(connected=True)\n",
    "hide_toggle()"
   ]
  },
  {
   "cell_type": "code",
   "execution_count": 3,
   "metadata": {},
   "outputs": [
    {
     "data": {
      "text/html": [
       "\n",
       "        <script>\n",
       "            function code_toggle_13017482209273601225() {\n",
       "                $('div.cell.code_cell.rendered.selected').find('div.input').toggle();\n",
       "            }\n",
       "\n",
       "            \n",
       "        </script>\n",
       "\n",
       "        <a href=\"javascript:code_toggle_13017482209273601225()\">Toggle show/hide</a>\n",
       "    "
      ],
      "text/plain": [
       "<IPython.core.display.HTML object>"
      ]
     },
     "execution_count": 3,
     "metadata": {},
     "output_type": "execute_result"
    }
   ],
   "source": [
    "import pandas as pd \n",
    "import matplotlib.pyplot as plt\n",
    "from matplotlib.cbook import boxplot_stats\n",
    "import seaborn as sns\n",
    "import numpy as np \n",
    "import warnings\n",
    "warnings.filterwarnings('ignore')\n",
    "%matplotlib inline\n",
    "hide_toggle()"
   ]
  },
  {
   "cell_type": "code",
   "execution_count": 4,
   "metadata": {},
   "outputs": [
    {
     "data": {
      "text/html": [
       "\n",
       "        <script>\n",
       "            function code_toggle_7964027561679118483() {\n",
       "                $('div.cell.code_cell.rendered.selected').find('div.input').toggle();\n",
       "            }\n",
       "\n",
       "            \n",
       "        </script>\n",
       "\n",
       "        <a href=\"javascript:code_toggle_7964027561679118483()\">Toggle show/hide</a>\n",
       "    "
      ],
      "text/plain": [
       "<IPython.core.display.HTML object>"
      ]
     },
     "execution_count": 4,
     "metadata": {},
     "output_type": "execute_result"
    }
   ],
   "source": [
    "xls = pd.ExcelFile(r\"krysha.xlsx\")\n",
    "hide_toggle()"
   ]
  },
  {
   "cell_type": "code",
   "execution_count": 5,
   "metadata": {},
   "outputs": [
    {
     "data": {
      "text/html": [
       "\n",
       "        <script>\n",
       "            function code_toggle_1551473501933530523() {\n",
       "                $('div.cell.code_cell.rendered.selected').find('div.input').toggle();\n",
       "            }\n",
       "\n",
       "            \n",
       "        </script>\n",
       "\n",
       "        <a href=\"javascript:code_toggle_1551473501933530523()\">Toggle show/hide</a>\n",
       "    "
      ],
      "text/plain": [
       "<IPython.core.display.HTML object>"
      ]
     },
     "execution_count": 5,
     "metadata": {},
     "output_type": "execute_result"
    }
   ],
   "source": [
    "data= pd.read_excel(xls, 'Sheet1')\n",
    "hide_toggle()"
   ]
  },
  {
   "cell_type": "code",
   "execution_count": 6,
   "metadata": {},
   "outputs": [
    {
     "data": {
      "text/html": [
       "\n",
       "        <script>\n",
       "            function code_toggle_9465766203772669425() {\n",
       "                $('div.cell.code_cell.rendered.selected').find('div.input').toggle();\n",
       "            }\n",
       "\n",
       "            \n",
       "        </script>\n",
       "\n",
       "        <a href=\"javascript:code_toggle_9465766203772669425()\">Toggle show/hide</a>\n",
       "    "
      ],
      "text/plain": [
       "<IPython.core.display.HTML object>"
      ]
     },
     "execution_count": 6,
     "metadata": {},
     "output_type": "execute_result"
    }
   ],
   "source": [
    "data[\"Цена за м2\"]=data[\"Цена (тнг)\"]/data[\"Площадь (м2)\"]\n",
    "hide_toggle()"
   ]
  },
  {
   "cell_type": "markdown",
   "metadata": {},
   "source": [
    "#### Порядок квартир соответсвует странице объявления. То есть, первые варианты были опубликованны на первых страницах сайта, а последние на последних."
   ]
  },
  {
   "cell_type": "code",
   "execution_count": 7,
   "metadata": {
    "scrolled": false
   },
   "outputs": [
    {
     "data": {
      "text/html": [
       "<div>\n",
       "<style scoped>\n",
       "    .dataframe tbody tr th:only-of-type {\n",
       "        vertical-align: middle;\n",
       "    }\n",
       "\n",
       "    .dataframe tbody tr th {\n",
       "        vertical-align: top;\n",
       "    }\n",
       "\n",
       "    .dataframe thead th {\n",
       "        text-align: right;\n",
       "    }\n",
       "</style>\n",
       "<table border=\"1\" class=\"dataframe\">\n",
       "  <thead>\n",
       "    <tr style=\"text-align: right;\">\n",
       "      <th></th>\n",
       "      <th>Unnamed: 0</th>\n",
       "      <th>ЖК</th>\n",
       "      <th>Застройщик</th>\n",
       "      <th>Площадь (м2)</th>\n",
       "      <th>Количество комнат</th>\n",
       "      <th>Информация</th>\n",
       "      <th>Цена (тнг)</th>\n",
       "      <th>Кухня (м2)</th>\n",
       "      <th>Жил площадь (м2)</th>\n",
       "      <th>Высота потолков (м)</th>\n",
       "      <th>Цена за м2</th>\n",
       "    </tr>\n",
       "  </thead>\n",
       "  <tbody>\n",
       "    <tr>\n",
       "      <th>0</th>\n",
       "      <td>0</td>\n",
       "      <td>«Ботанический»</td>\n",
       "      <td>«BI Group»</td>\n",
       "      <td>117.21</td>\n",
       "      <td>3</td>\n",
       "      <td>\\n                    жил. комплекс Ботаническ...</td>\n",
       "      <td>55487214</td>\n",
       "      <td>4.41</td>\n",
       "      <td>63.63</td>\n",
       "      <td>3.0</td>\n",
       "      <td>473400.000000</td>\n",
       "    </tr>\n",
       "    <tr>\n",
       "      <th>1</th>\n",
       "      <td>1</td>\n",
       "      <td>«Vela Village»</td>\n",
       "      <td>«BI Group»</td>\n",
       "      <td>219.83</td>\n",
       "      <td>5</td>\n",
       "      <td>\\n                    жил. комплекс Vella Vill...</td>\n",
       "      <td>86261292</td>\n",
       "      <td>16.92</td>\n",
       "      <td>90.53</td>\n",
       "      <td>3.6</td>\n",
       "      <td>392400.000000</td>\n",
       "    </tr>\n",
       "    <tr>\n",
       "      <th>2</th>\n",
       "      <td>2</td>\n",
       "      <td>«Alau»</td>\n",
       "      <td>«АстанаТехСтрой»</td>\n",
       "      <td>44.22</td>\n",
       "      <td>1</td>\n",
       "      <td>\\n                    жил. комплекс Alau, 19 э...</td>\n",
       "      <td>15477000</td>\n",
       "      <td>NaN</td>\n",
       "      <td>NaN</td>\n",
       "      <td>3.0</td>\n",
       "      <td>350000.000000</td>\n",
       "    </tr>\n",
       "    <tr>\n",
       "      <th>3</th>\n",
       "      <td>3</td>\n",
       "      <td>«Headliner»</td>\n",
       "      <td>«BI Group»</td>\n",
       "      <td>111.94</td>\n",
       "      <td>3</td>\n",
       "      <td>\\n                    жил. комплекс Headliner,...</td>\n",
       "      <td>42258294</td>\n",
       "      <td>NaN</td>\n",
       "      <td>NaN</td>\n",
       "      <td>3.0</td>\n",
       "      <td>377508.433089</td>\n",
       "    </tr>\n",
       "    <tr>\n",
       "      <th>4</th>\n",
       "      <td>4</td>\n",
       "      <td>«College»</td>\n",
       "      <td>«ТОО Фаворит Строй»</td>\n",
       "      <td>60.96</td>\n",
       "      <td>2</td>\n",
       "      <td>\\n                    жил. комплекс College, 9...</td>\n",
       "      <td>16443000</td>\n",
       "      <td>10.40</td>\n",
       "      <td>32.78</td>\n",
       "      <td>3.0</td>\n",
       "      <td>269734.251969</td>\n",
       "    </tr>\n",
       "    <tr>\n",
       "      <th>...</th>\n",
       "      <td>...</td>\n",
       "      <td>...</td>\n",
       "      <td>...</td>\n",
       "      <td>...</td>\n",
       "      <td>...</td>\n",
       "      <td>...</td>\n",
       "      <td>...</td>\n",
       "      <td>...</td>\n",
       "      <td>...</td>\n",
       "      <td>...</td>\n",
       "      <td>...</td>\n",
       "    </tr>\n",
       "    <tr>\n",
       "      <th>162</th>\n",
       "      <td>162</td>\n",
       "      <td>«Казанат 2»</td>\n",
       "      <td>«ЖСК Жануя Инвест»</td>\n",
       "      <td>61.00</td>\n",
       "      <td>2</td>\n",
       "      <td>\\n                    жил. комплекс Казанат 2,...</td>\n",
       "      <td>12200000</td>\n",
       "      <td>NaN</td>\n",
       "      <td>NaN</td>\n",
       "      <td>2.8</td>\n",
       "      <td>200000.000000</td>\n",
       "    </tr>\n",
       "    <tr>\n",
       "      <th>163</th>\n",
       "      <td>163</td>\n",
       "      <td>«Казанат 2»</td>\n",
       "      <td>«ЖСК Жануя Инвест»</td>\n",
       "      <td>44.93</td>\n",
       "      <td>1</td>\n",
       "      <td>\\n                    жил. комплекс Казанат 2,...</td>\n",
       "      <td>8986000</td>\n",
       "      <td>NaN</td>\n",
       "      <td>NaN</td>\n",
       "      <td>2.8</td>\n",
       "      <td>200000.000000</td>\n",
       "    </tr>\n",
       "    <tr>\n",
       "      <th>164</th>\n",
       "      <td>164</td>\n",
       "      <td>«ASQAT»</td>\n",
       "      <td>«Asti Group»</td>\n",
       "      <td>56.07</td>\n",
       "      <td>2</td>\n",
       "      <td>\\n                    жил. комплекс ASQAT, 7 э...</td>\n",
       "      <td>15979950</td>\n",
       "      <td>10.25</td>\n",
       "      <td>27.62</td>\n",
       "      <td>2.7</td>\n",
       "      <td>285000.000000</td>\n",
       "    </tr>\n",
       "    <tr>\n",
       "      <th>165</th>\n",
       "      <td>165</td>\n",
       "      <td>«ASQAT»</td>\n",
       "      <td>«Asti Group»</td>\n",
       "      <td>57.53</td>\n",
       "      <td>2</td>\n",
       "      <td>\\n                    жил. комплекс ASQAT, 7 э...</td>\n",
       "      <td>16396050</td>\n",
       "      <td>9.83</td>\n",
       "      <td>32.14</td>\n",
       "      <td>2.7</td>\n",
       "      <td>285000.000000</td>\n",
       "    </tr>\n",
       "    <tr>\n",
       "      <th>166</th>\n",
       "      <td>166</td>\n",
       "      <td>«ASQAT»</td>\n",
       "      <td>«Asti Group»</td>\n",
       "      <td>56.35</td>\n",
       "      <td>2</td>\n",
       "      <td>\\n                    жил. комплекс ASQAT, 7 э...</td>\n",
       "      <td>16059750</td>\n",
       "      <td>10.61</td>\n",
       "      <td>28.01</td>\n",
       "      <td>2.7</td>\n",
       "      <td>285000.000000</td>\n",
       "    </tr>\n",
       "  </tbody>\n",
       "</table>\n",
       "<p>167 rows × 11 columns</p>\n",
       "</div>"
      ],
      "text/plain": [
       "     Unnamed: 0              ЖК           Застройщик  Площадь (м2)  \\\n",
       "0             0  «Ботанический»           «BI Group»        117.21   \n",
       "1             1  «Vela Village»           «BI Group»        219.83   \n",
       "2             2          «Alau»     «АстанаТехСтрой»         44.22   \n",
       "3             3     «Headliner»           «BI Group»        111.94   \n",
       "4             4       «College»  «ТОО Фаворит Строй»         60.96   \n",
       "..          ...             ...                  ...           ...   \n",
       "162         162     «Казанат 2»   «ЖСК Жануя Инвест»         61.00   \n",
       "163         163     «Казанат 2»   «ЖСК Жануя Инвест»         44.93   \n",
       "164         164         «ASQAT»         «Asti Group»         56.07   \n",
       "165         165         «ASQAT»         «Asti Group»         57.53   \n",
       "166         166         «ASQAT»         «Asti Group»         56.35   \n",
       "\n",
       "     Количество комнат                                         Информация  \\\n",
       "0                    3  \\n                    жил. комплекс Ботаническ...   \n",
       "1                    5  \\n                    жил. комплекс Vella Vill...   \n",
       "2                    1  \\n                    жил. комплекс Alau, 19 э...   \n",
       "3                    3  \\n                    жил. комплекс Headliner,...   \n",
       "4                    2  \\n                    жил. комплекс College, 9...   \n",
       "..                 ...                                                ...   \n",
       "162                  2  \\n                    жил. комплекс Казанат 2,...   \n",
       "163                  1  \\n                    жил. комплекс Казанат 2,...   \n",
       "164                  2  \\n                    жил. комплекс ASQAT, 7 э...   \n",
       "165                  2  \\n                    жил. комплекс ASQAT, 7 э...   \n",
       "166                  2  \\n                    жил. комплекс ASQAT, 7 э...   \n",
       "\n",
       "     Цена (тнг)  Кухня (м2)  Жил площадь (м2)  Высота потолков (м)  \\\n",
       "0      55487214        4.41             63.63                  3.0   \n",
       "1      86261292       16.92             90.53                  3.6   \n",
       "2      15477000         NaN               NaN                  3.0   \n",
       "3      42258294         NaN               NaN                  3.0   \n",
       "4      16443000       10.40             32.78                  3.0   \n",
       "..          ...         ...               ...                  ...   \n",
       "162    12200000         NaN               NaN                  2.8   \n",
       "163     8986000         NaN               NaN                  2.8   \n",
       "164    15979950       10.25             27.62                  2.7   \n",
       "165    16396050        9.83             32.14                  2.7   \n",
       "166    16059750       10.61             28.01                  2.7   \n",
       "\n",
       "        Цена за м2  \n",
       "0    473400.000000  \n",
       "1    392400.000000  \n",
       "2    350000.000000  \n",
       "3    377508.433089  \n",
       "4    269734.251969  \n",
       "..             ...  \n",
       "162  200000.000000  \n",
       "163  200000.000000  \n",
       "164  285000.000000  \n",
       "165  285000.000000  \n",
       "166  285000.000000  \n",
       "\n",
       "[167 rows x 11 columns]"
      ]
     },
     "execution_count": 7,
     "metadata": {},
     "output_type": "execute_result"
    }
   ],
   "source": [
    "data"
   ]
  },
  {
   "cell_type": "code",
   "execution_count": 8,
   "metadata": {},
   "outputs": [
    {
     "data": {
      "text/html": [
       "<div>\n",
       "<style scoped>\n",
       "    .dataframe tbody tr th:only-of-type {\n",
       "        vertical-align: middle;\n",
       "    }\n",
       "\n",
       "    .dataframe tbody tr th {\n",
       "        vertical-align: top;\n",
       "    }\n",
       "\n",
       "    .dataframe thead th {\n",
       "        text-align: right;\n",
       "    }\n",
       "</style>\n",
       "<table border=\"1\" class=\"dataframe\">\n",
       "  <thead>\n",
       "    <tr style=\"text-align: right;\">\n",
       "      <th></th>\n",
       "      <th>Unnamed: 0</th>\n",
       "      <th>Площадь (м2)</th>\n",
       "      <th>Количество комнат</th>\n",
       "      <th>Цена (тнг)</th>\n",
       "      <th>Кухня (м2)</th>\n",
       "      <th>Жил площадь (м2)</th>\n",
       "      <th>Высота потолков (м)</th>\n",
       "      <th>Цена за м2</th>\n",
       "    </tr>\n",
       "  </thead>\n",
       "  <tbody>\n",
       "    <tr>\n",
       "      <th>count</th>\n",
       "      <td>167.00000</td>\n",
       "      <td>167.000000</td>\n",
       "      <td>167.000000</td>\n",
       "      <td>1.670000e+02</td>\n",
       "      <td>152.000000</td>\n",
       "      <td>152.000000</td>\n",
       "      <td>157.000000</td>\n",
       "      <td>167.000000</td>\n",
       "    </tr>\n",
       "    <tr>\n",
       "      <th>mean</th>\n",
       "      <td>83.00000</td>\n",
       "      <td>77.505988</td>\n",
       "      <td>2.215569</td>\n",
       "      <td>2.641228e+07</td>\n",
       "      <td>12.599013</td>\n",
       "      <td>41.309868</td>\n",
       "      <td>2.877070</td>\n",
       "      <td>310820.067431</td>\n",
       "    </tr>\n",
       "    <tr>\n",
       "      <th>std</th>\n",
       "      <td>48.35287</td>\n",
       "      <td>35.872727</td>\n",
       "      <td>0.957656</td>\n",
       "      <td>1.882447e+07</td>\n",
       "      <td>4.171492</td>\n",
       "      <td>21.210581</td>\n",
       "      <td>0.145828</td>\n",
       "      <td>103097.947993</td>\n",
       "    </tr>\n",
       "    <tr>\n",
       "      <th>min</th>\n",
       "      <td>0.00000</td>\n",
       "      <td>32.220000</td>\n",
       "      <td>1.000000</td>\n",
       "      <td>4.662000e+06</td>\n",
       "      <td>1.900000</td>\n",
       "      <td>9.800000</td>\n",
       "      <td>2.700000</td>\n",
       "      <td>140000.000000</td>\n",
       "    </tr>\n",
       "    <tr>\n",
       "      <th>25%</th>\n",
       "      <td>41.50000</td>\n",
       "      <td>47.900000</td>\n",
       "      <td>1.000000</td>\n",
       "      <td>1.111412e+07</td>\n",
       "      <td>9.717500</td>\n",
       "      <td>20.947500</td>\n",
       "      <td>2.700000</td>\n",
       "      <td>250000.000000</td>\n",
       "    </tr>\n",
       "    <tr>\n",
       "      <th>50%</th>\n",
       "      <td>83.00000</td>\n",
       "      <td>68.140000</td>\n",
       "      <td>2.000000</td>\n",
       "      <td>1.901286e+07</td>\n",
       "      <td>11.990000</td>\n",
       "      <td>37.140000</td>\n",
       "      <td>3.000000</td>\n",
       "      <td>290000.000000</td>\n",
       "    </tr>\n",
       "    <tr>\n",
       "      <th>75%</th>\n",
       "      <td>124.50000</td>\n",
       "      <td>103.495000</td>\n",
       "      <td>3.000000</td>\n",
       "      <td>3.821538e+07</td>\n",
       "      <td>15.112500</td>\n",
       "      <td>58.032500</td>\n",
       "      <td>3.000000</td>\n",
       "      <td>384300.000000</td>\n",
       "    </tr>\n",
       "    <tr>\n",
       "      <th>max</th>\n",
       "      <td>166.00000</td>\n",
       "      <td>219.830000</td>\n",
       "      <td>5.000000</td>\n",
       "      <td>9.169000e+07</td>\n",
       "      <td>29.130000</td>\n",
       "      <td>93.750000</td>\n",
       "      <td>3.600000</td>\n",
       "      <td>522223.472488</td>\n",
       "    </tr>\n",
       "  </tbody>\n",
       "</table>\n",
       "</div>"
      ],
      "text/plain": [
       "       Unnamed: 0  Площадь (м2)  Количество комнат    Цена (тнг)  Кухня (м2)  \\\n",
       "count   167.00000    167.000000         167.000000  1.670000e+02  152.000000   \n",
       "mean     83.00000     77.505988           2.215569  2.641228e+07   12.599013   \n",
       "std      48.35287     35.872727           0.957656  1.882447e+07    4.171492   \n",
       "min       0.00000     32.220000           1.000000  4.662000e+06    1.900000   \n",
       "25%      41.50000     47.900000           1.000000  1.111412e+07    9.717500   \n",
       "50%      83.00000     68.140000           2.000000  1.901286e+07   11.990000   \n",
       "75%     124.50000    103.495000           3.000000  3.821538e+07   15.112500   \n",
       "max     166.00000    219.830000           5.000000  9.169000e+07   29.130000   \n",
       "\n",
       "       Жил площадь (м2)  Высота потолков (м)     Цена за м2  \n",
       "count        152.000000           157.000000     167.000000  \n",
       "mean          41.309868             2.877070  310820.067431  \n",
       "std           21.210581             0.145828  103097.947993  \n",
       "min            9.800000             2.700000  140000.000000  \n",
       "25%           20.947500             2.700000  250000.000000  \n",
       "50%           37.140000             3.000000  290000.000000  \n",
       "75%           58.032500             3.000000  384300.000000  \n",
       "max           93.750000             3.600000  522223.472488  "
      ]
     },
     "execution_count": 8,
     "metadata": {},
     "output_type": "execute_result"
    }
   ],
   "source": [
    "data.describe()"
   ]
  },
  {
   "cell_type": "code",
   "execution_count": 24,
   "metadata": {},
   "outputs": [
    {
     "data": {
      "image/png": "[encoded data removed]",
      "text/plain": [
       "<Figure size 576x432 with 1 Axes>"
      ]
     },
     "metadata": {
      "needs_background": "light"
     },
     "output_type": "display_data"
    },
    {
     "data": {
      "text/html": [
       "\n",
       "        <script>\n",
       "            function code_toggle_12356715805902757260() {\n",
       "                $('div.cell.code_cell.rendered.selected').find('div.input').toggle();\n",
       "            }\n",
       "\n",
       "            \n",
       "        </script>\n",
       "\n",
       "        <a href=\"javascript:code_toggle_12356715805902757260()\">Toggle show/hide</a>\n",
       "    "
      ],
      "text/plain": [
       "<IPython.core.display.HTML object>"
      ]
     },
     "execution_count": 24,
     "metadata": {},
     "output_type": "execute_result"
    }
   ],
   "source": [
    "f, ax = plt.subplots(figsize=(8, 6))\n",
    "sns.countplot(x=data[\"Застройщик\"],order = data['Застройщик'].value_counts().index)\n",
    "ax.set_title('Figure 1. Количество объявлений от каждого застройщика ')\n",
    "ax.set_ylabel('Кол-во')\n",
    "plt.xticks(rotation=90)\n",
    "plt.show()\n",
    "hide_toggle()"
   ]
  },
  {
   "cell_type": "markdown",
   "metadata": {},
   "source": [
    "График сверху показывает доминирование объявлений застройщика BI Group, в виду количества ЖК"
   ]
  },
  {
   "cell_type": "code",
   "execution_count": 23,
   "metadata": {
    "scrolled": false
   },
   "outputs": [
    {
     "data": {
      "image/png": "[encoded data removed]",
      "text/plain": [
       "<Figure size 576x432 with 1 Axes>"
      ]
     },
     "metadata": {
      "needs_background": "light"
     },
     "output_type": "display_data"
    },
    {
     "data": {
      "text/html": [
       "\n",
       "        <script>\n",
       "            function code_toggle_6306165641607242012() {\n",
       "                $('div.cell.code_cell.rendered.selected').find('div.input').toggle();\n",
       "            }\n",
       "\n",
       "            \n",
       "        </script>\n",
       "\n",
       "        <a href=\"javascript:code_toggle_6306165641607242012()\">Toggle show/hide</a>\n",
       "    "
      ],
      "text/plain": [
       "<IPython.core.display.HTML object>"
      ]
     },
     "execution_count": 23,
     "metadata": {},
     "output_type": "execute_result"
    }
   ],
   "source": [
    "f, ax = plt.subplots(figsize=(8, 6))\n",
    "sns.countplot(x=data[\"ЖК\"],order = data['ЖК'].value_counts().index)\n",
    "ax.set_title('Figure 2. Кол-во оъявлений на каждый ЖК ')\n",
    "ax.set_ylabel('Кол-во')\n",
    "plt.xticks(rotation=90)\n",
    "plt.show()\n",
    "hide_toggle()"
   ]
  },
  {
   "cell_type": "markdown",
   "metadata": {},
   "source": [
    "Однако если проанализировать количество объявлений по ЖК  можно заметить, что в ТОПе находятся уже не ЖК BI Group"
   ]
  },
  {
   "cell_type": "markdown",
   "metadata": {},
   "source": [
    "## Только о цифрах"
   ]
  },
  {
   "cell_type": "markdown",
   "metadata": {},
   "source": [
    "### Топ 10 низких цен за квадрат "
   ]
  },
  {
   "cell_type": "code",
   "execution_count": 11,
   "metadata": {},
   "outputs": [
    {
     "data": {
      "text/html": [
       "<div>\n",
       "<style scoped>\n",
       "    .dataframe tbody tr th:only-of-type {\n",
       "        vertical-align: middle;\n",
       "    }\n",
       "\n",
       "    .dataframe tbody tr th {\n",
       "        vertical-align: top;\n",
       "    }\n",
       "\n",
       "    .dataframe thead th {\n",
       "        text-align: right;\n",
       "    }\n",
       "</style>\n",
       "<table border=\"1\" class=\"dataframe\">\n",
       "  <thead>\n",
       "    <tr style=\"text-align: right;\">\n",
       "      <th></th>\n",
       "      <th>Unnamed: 0</th>\n",
       "      <th>ЖК</th>\n",
       "      <th>Застройщик</th>\n",
       "      <th>Площадь (м2)</th>\n",
       "      <th>Количество комнат</th>\n",
       "      <th>Информация</th>\n",
       "      <th>Цена (тнг)</th>\n",
       "      <th>Кухня (м2)</th>\n",
       "      <th>Жил площадь (м2)</th>\n",
       "      <th>Высота потолков (м)</th>\n",
       "      <th>Цена за м2</th>\n",
       "    </tr>\n",
       "  </thead>\n",
       "  <tbody>\n",
       "    <tr>\n",
       "      <th>109</th>\n",
       "      <td>109</td>\n",
       "      <td>«Байсал»</td>\n",
       "      <td>«Береке Курылыс 2030»</td>\n",
       "      <td>52.90</td>\n",
       "      <td>2</td>\n",
       "      <td>\\n                    жил. комплекс Байсал, 6 ...</td>\n",
       "      <td>7406000</td>\n",
       "      <td>14.90</td>\n",
       "      <td>23.60</td>\n",
       "      <td>2.8</td>\n",
       "      <td>140000.000000</td>\n",
       "    </tr>\n",
       "    <tr>\n",
       "      <th>13</th>\n",
       "      <td>13</td>\n",
       "      <td>«Tulpar City»</td>\n",
       "      <td>«AIZ QURYLYS ТОО»</td>\n",
       "      <td>39.75</td>\n",
       "      <td>1</td>\n",
       "      <td>\\n                    жил. комплекс Tulpar Cit...</td>\n",
       "      <td>7155000</td>\n",
       "      <td>10.36</td>\n",
       "      <td>18.60</td>\n",
       "      <td>2.7</td>\n",
       "      <td>180000.000000</td>\n",
       "    </tr>\n",
       "    <tr>\n",
       "      <th>157</th>\n",
       "      <td>157</td>\n",
       "      <td>«Казанат 2»</td>\n",
       "      <td>«ЖСК Жануя Инвест»</td>\n",
       "      <td>41.87</td>\n",
       "      <td>1</td>\n",
       "      <td>\\n                    жил. комплекс Казанат 2,...</td>\n",
       "      <td>8374000</td>\n",
       "      <td>NaN</td>\n",
       "      <td>NaN</td>\n",
       "      <td>2.8</td>\n",
       "      <td>200000.000000</td>\n",
       "    </tr>\n",
       "    <tr>\n",
       "      <th>15</th>\n",
       "      <td>15</td>\n",
       "      <td>«Алтын Отау»</td>\n",
       "      <td>«Алтын Отау ТОО»</td>\n",
       "      <td>37.02</td>\n",
       "      <td>1</td>\n",
       "      <td>\\n                    жил. комплекс Алтын Отау...</td>\n",
       "      <td>9255000</td>\n",
       "      <td>12.77</td>\n",
       "      <td>15.39</td>\n",
       "      <td>2.8</td>\n",
       "      <td>250000.000000</td>\n",
       "    </tr>\n",
       "    <tr>\n",
       "      <th>10</th>\n",
       "      <td>10</td>\n",
       "      <td>«Эмир»</td>\n",
       "      <td>«GarInvest»</td>\n",
       "      <td>60.27</td>\n",
       "      <td>2</td>\n",
       "      <td>\\n                    жил. комплекс Эмир, 12 э...</td>\n",
       "      <td>15368850</td>\n",
       "      <td>10.24</td>\n",
       "      <td>31.39</td>\n",
       "      <td>3.0</td>\n",
       "      <td>255000.000000</td>\n",
       "    </tr>\n",
       "    <tr>\n",
       "      <th>4</th>\n",
       "      <td>4</td>\n",
       "      <td>«College»</td>\n",
       "      <td>«ТОО Фаворит Строй»</td>\n",
       "      <td>60.96</td>\n",
       "      <td>2</td>\n",
       "      <td>\\n                    жил. комплекс College, 9...</td>\n",
       "      <td>16443000</td>\n",
       "      <td>10.40</td>\n",
       "      <td>32.78</td>\n",
       "      <td>3.0</td>\n",
       "      <td>269734.251969</td>\n",
       "    </tr>\n",
       "    <tr>\n",
       "      <th>103</th>\n",
       "      <td>103</td>\n",
       "      <td>«Apple City»</td>\n",
       "      <td>«SAT-NS ТОО»</td>\n",
       "      <td>66.15</td>\n",
       "      <td>2</td>\n",
       "      <td>\\n                    жил. комплекс Apple City...</td>\n",
       "      <td>19183500</td>\n",
       "      <td>15.12</td>\n",
       "      <td>31.34</td>\n",
       "      <td>3.0</td>\n",
       "      <td>290000.000000</td>\n",
       "    </tr>\n",
       "    <tr>\n",
       "      <th>134</th>\n",
       "      <td>134</td>\n",
       "      <td>«ASQAT»</td>\n",
       "      <td>«Asti Group»</td>\n",
       "      <td>34.04</td>\n",
       "      <td>1</td>\n",
       "      <td>\\n                    жил. комплекс ASQAT, 7 э...</td>\n",
       "      <td>10041800</td>\n",
       "      <td>9.74</td>\n",
       "      <td>15.45</td>\n",
       "      <td>2.7</td>\n",
       "      <td>295000.000000</td>\n",
       "    </tr>\n",
       "    <tr>\n",
       "      <th>2</th>\n",
       "      <td>2</td>\n",
       "      <td>«Alau»</td>\n",
       "      <td>«АстанаТехСтрой»</td>\n",
       "      <td>44.22</td>\n",
       "      <td>1</td>\n",
       "      <td>\\n                    жил. комплекс Alau, 19 э...</td>\n",
       "      <td>15477000</td>\n",
       "      <td>NaN</td>\n",
       "      <td>NaN</td>\n",
       "      <td>3.0</td>\n",
       "      <td>350000.000000</td>\n",
       "    </tr>\n",
       "    <tr>\n",
       "      <th>6</th>\n",
       "      <td>6</td>\n",
       "      <td>«Capital Park»</td>\n",
       "      <td>«BI Group»</td>\n",
       "      <td>48.75</td>\n",
       "      <td>2</td>\n",
       "      <td>\\n                    жил. комплекс Capital Pa...</td>\n",
       "      <td>17476875</td>\n",
       "      <td>5.95</td>\n",
       "      <td>27.32</td>\n",
       "      <td>2.7</td>\n",
       "      <td>358500.000000</td>\n",
       "    </tr>\n",
       "  </tbody>\n",
       "</table>\n",
       "</div>"
      ],
      "text/plain": [
       "     Unnamed: 0              ЖК             Застройщик  Площадь (м2)  \\\n",
       "109         109        «Байсал»  «Береке Курылыс 2030»         52.90   \n",
       "13           13   «Tulpar City»      «AIZ QURYLYS ТОО»         39.75   \n",
       "157         157     «Казанат 2»     «ЖСК Жануя Инвест»         41.87   \n",
       "15           15    «Алтын Отау»       «Алтын Отау ТОО»         37.02   \n",
       "10           10          «Эмир»            «GarInvest»         60.27   \n",
       "4             4       «College»    «ТОО Фаворит Строй»         60.96   \n",
       "103         103    «Apple City»           «SAT-NS ТОО»         66.15   \n",
       "134         134         «ASQAT»           «Asti Group»         34.04   \n",
       "2             2          «Alau»       «АстанаТехСтрой»         44.22   \n",
       "6             6  «Capital Park»             «BI Group»         48.75   \n",
       "\n",
       "     Количество комнат                                         Информация  \\\n",
       "109                  2  \\n                    жил. комплекс Байсал, 6 ...   \n",
       "13                   1  \\n                    жил. комплекс Tulpar Cit...   \n",
       "157                  1  \\n                    жил. комплекс Казанат 2,...   \n",
       "15                   1  \\n                    жил. комплекс Алтын Отау...   \n",
       "10                   2  \\n                    жил. комплекс Эмир, 12 э...   \n",
       "4                    2  \\n                    жил. комплекс College, 9...   \n",
       "103                  2  \\n                    жил. комплекс Apple City...   \n",
       "134                  1  \\n                    жил. комплекс ASQAT, 7 э...   \n",
       "2                    1  \\n                    жил. комплекс Alau, 19 э...   \n",
       "6                    2  \\n                    жил. комплекс Capital Pa...   \n",
       "\n",
       "     Цена (тнг)  Кухня (м2)  Жил площадь (м2)  Высота потолков (м)  \\\n",
       "109     7406000       14.90             23.60                  2.8   \n",
       "13      7155000       10.36             18.60                  2.7   \n",
       "157     8374000         NaN               NaN                  2.8   \n",
       "15      9255000       12.77             15.39                  2.8   \n",
       "10     15368850       10.24             31.39                  3.0   \n",
       "4      16443000       10.40             32.78                  3.0   \n",
       "103    19183500       15.12             31.34                  3.0   \n",
       "134    10041800        9.74             15.45                  2.7   \n",
       "2      15477000         NaN               NaN                  3.0   \n",
       "6      17476875        5.95             27.32                  2.7   \n",
       "\n",
       "        Цена за м2  \n",
       "109  140000.000000  \n",
       "13   180000.000000  \n",
       "157  200000.000000  \n",
       "15   250000.000000  \n",
       "10   255000.000000  \n",
       "4    269734.251969  \n",
       "103  290000.000000  \n",
       "134  295000.000000  \n",
       "2    350000.000000  \n",
       "6    358500.000000  "
      ]
     },
     "execution_count": 11,
     "metadata": {},
     "output_type": "execute_result"
    }
   ],
   "source": [
    "data.drop_duplicates(subset=['ЖК']).nsmallest(10, 'Цена за м2')\n"
   ]
  },
  {
   "cell_type": "markdown",
   "metadata": {},
   "source": [
    "### Топ 10 высоких цен за квадрат "
   ]
  },
  {
   "cell_type": "code",
   "execution_count": 12,
   "metadata": {},
   "outputs": [
    {
     "data": {
      "text/html": [
       "<div>\n",
       "<style scoped>\n",
       "    .dataframe tbody tr th:only-of-type {\n",
       "        vertical-align: middle;\n",
       "    }\n",
       "\n",
       "    .dataframe tbody tr th {\n",
       "        vertical-align: top;\n",
       "    }\n",
       "\n",
       "    .dataframe thead th {\n",
       "        text-align: right;\n",
       "    }\n",
       "</style>\n",
       "<table border=\"1\" class=\"dataframe\">\n",
       "  <thead>\n",
       "    <tr style=\"text-align: right;\">\n",
       "      <th></th>\n",
       "      <th>Unnamed: 0</th>\n",
       "      <th>ЖК</th>\n",
       "      <th>Застройщик</th>\n",
       "      <th>Площадь (м2)</th>\n",
       "      <th>Количество комнат</th>\n",
       "      <th>Информация</th>\n",
       "      <th>Цена (тнг)</th>\n",
       "      <th>Кухня (м2)</th>\n",
       "      <th>Жил площадь (м2)</th>\n",
       "      <th>Высота потолков (м)</th>\n",
       "      <th>Цена за м2</th>\n",
       "    </tr>\n",
       "  </thead>\n",
       "  <tbody>\n",
       "    <tr>\n",
       "      <th>8</th>\n",
       "      <td>8</td>\n",
       "      <td>«Esil Riverside»</td>\n",
       "      <td>«BI Group»</td>\n",
       "      <td>127.00</td>\n",
       "      <td>3</td>\n",
       "      <td>\\n                    жил. комплекс Esil River...</td>\n",
       "      <td>63538100</td>\n",
       "      <td>26.19</td>\n",
       "      <td>58.62</td>\n",
       "      <td>3.0</td>\n",
       "      <td>500300.000000</td>\n",
       "    </tr>\n",
       "    <tr>\n",
       "      <th>0</th>\n",
       "      <td>0</td>\n",
       "      <td>«Ботанический»</td>\n",
       "      <td>«BI Group»</td>\n",
       "      <td>117.21</td>\n",
       "      <td>3</td>\n",
       "      <td>\\n                    жил. комплекс Ботаническ...</td>\n",
       "      <td>55487214</td>\n",
       "      <td>4.41</td>\n",
       "      <td>63.63</td>\n",
       "      <td>3.0</td>\n",
       "      <td>473400.000000</td>\n",
       "    </tr>\n",
       "    <tr>\n",
       "      <th>14</th>\n",
       "      <td>14</td>\n",
       "      <td>«Atlant»</td>\n",
       "      <td>«BI Group»</td>\n",
       "      <td>122.80</td>\n",
       "      <td>3</td>\n",
       "      <td>\\n                    жил. комплекс Atlant, 21...</td>\n",
       "      <td>53755913</td>\n",
       "      <td>15.22</td>\n",
       "      <td>68.20</td>\n",
       "      <td>3.0</td>\n",
       "      <td>437751.734528</td>\n",
       "    </tr>\n",
       "    <tr>\n",
       "      <th>5</th>\n",
       "      <td>5</td>\n",
       "      <td>«Grand Opera»</td>\n",
       "      <td>«BI Group»</td>\n",
       "      <td>132.25</td>\n",
       "      <td>3</td>\n",
       "      <td>\\n                    жил. комплекс Grand Oper...</td>\n",
       "      <td>55994650</td>\n",
       "      <td>18.42</td>\n",
       "      <td>71.13</td>\n",
       "      <td>3.0</td>\n",
       "      <td>423400.000000</td>\n",
       "    </tr>\n",
       "    <tr>\n",
       "      <th>7</th>\n",
       "      <td>7</td>\n",
       "      <td>«BI City Tokyo»</td>\n",
       "      <td>«BI Group»</td>\n",
       "      <td>75.41</td>\n",
       "      <td>3</td>\n",
       "      <td>\\n                    жил. комплекс BI City To...</td>\n",
       "      <td>30842690</td>\n",
       "      <td>6.20</td>\n",
       "      <td>44.52</td>\n",
       "      <td>NaN</td>\n",
       "      <td>409000.000000</td>\n",
       "    </tr>\n",
       "    <tr>\n",
       "      <th>1</th>\n",
       "      <td>1</td>\n",
       "      <td>«Vela Village»</td>\n",
       "      <td>«BI Group»</td>\n",
       "      <td>219.83</td>\n",
       "      <td>5</td>\n",
       "      <td>\\n                    жил. комплекс Vella Vill...</td>\n",
       "      <td>86261292</td>\n",
       "      <td>16.92</td>\n",
       "      <td>90.53</td>\n",
       "      <td>3.6</td>\n",
       "      <td>392400.000000</td>\n",
       "    </tr>\n",
       "    <tr>\n",
       "      <th>148</th>\n",
       "      <td>148</td>\n",
       "      <td>«Nura Esil»</td>\n",
       "      <td>«BI Group»</td>\n",
       "      <td>48.00</td>\n",
       "      <td>1</td>\n",
       "      <td>\\n                    жил. комплекс Nura Esil,...</td>\n",
       "      <td>18412800</td>\n",
       "      <td>14.22</td>\n",
       "      <td>19.59</td>\n",
       "      <td>3.0</td>\n",
       "      <td>383600.000000</td>\n",
       "    </tr>\n",
       "    <tr>\n",
       "      <th>3</th>\n",
       "      <td>3</td>\n",
       "      <td>«Headliner»</td>\n",
       "      <td>«BI Group»</td>\n",
       "      <td>111.94</td>\n",
       "      <td>3</td>\n",
       "      <td>\\n                    жил. комплекс Headliner,...</td>\n",
       "      <td>42258294</td>\n",
       "      <td>NaN</td>\n",
       "      <td>NaN</td>\n",
       "      <td>3.0</td>\n",
       "      <td>377508.433089</td>\n",
       "    </tr>\n",
       "    <tr>\n",
       "      <th>6</th>\n",
       "      <td>6</td>\n",
       "      <td>«Capital Park»</td>\n",
       "      <td>«BI Group»</td>\n",
       "      <td>48.75</td>\n",
       "      <td>2</td>\n",
       "      <td>\\n                    жил. комплекс Capital Pa...</td>\n",
       "      <td>17476875</td>\n",
       "      <td>5.95</td>\n",
       "      <td>27.32</td>\n",
       "      <td>2.7</td>\n",
       "      <td>358500.000000</td>\n",
       "    </tr>\n",
       "    <tr>\n",
       "      <th>2</th>\n",
       "      <td>2</td>\n",
       "      <td>«Alau»</td>\n",
       "      <td>«АстанаТехСтрой»</td>\n",
       "      <td>44.22</td>\n",
       "      <td>1</td>\n",
       "      <td>\\n                    жил. комплекс Alau, 19 э...</td>\n",
       "      <td>15477000</td>\n",
       "      <td>NaN</td>\n",
       "      <td>NaN</td>\n",
       "      <td>3.0</td>\n",
       "      <td>350000.000000</td>\n",
       "    </tr>\n",
       "  </tbody>\n",
       "</table>\n",
       "</div>"
      ],
      "text/plain": [
       "     Unnamed: 0                ЖК        Застройщик  Площадь (м2)  \\\n",
       "8             8  «Esil Riverside»        «BI Group»        127.00   \n",
       "0             0    «Ботанический»        «BI Group»        117.21   \n",
       "14           14          «Atlant»        «BI Group»        122.80   \n",
       "5             5     «Grand Opera»        «BI Group»        132.25   \n",
       "7             7   «BI City Tokyo»        «BI Group»         75.41   \n",
       "1             1    «Vela Village»        «BI Group»        219.83   \n",
       "148         148       «Nura Esil»        «BI Group»         48.00   \n",
       "3             3       «Headliner»        «BI Group»        111.94   \n",
       "6             6    «Capital Park»        «BI Group»         48.75   \n",
       "2             2            «Alau»  «АстанаТехСтрой»         44.22   \n",
       "\n",
       "     Количество комнат                                         Информация  \\\n",
       "8                    3  \\n                    жил. комплекс Esil River...   \n",
       "0                    3  \\n                    жил. комплекс Ботаническ...   \n",
       "14                   3  \\n                    жил. комплекс Atlant, 21...   \n",
       "5                    3  \\n                    жил. комплекс Grand Oper...   \n",
       "7                    3  \\n                    жил. комплекс BI City To...   \n",
       "1                    5  \\n                    жил. комплекс Vella Vill...   \n",
       "148                  1  \\n                    жил. комплекс Nura Esil,...   \n",
       "3                    3  \\n                    жил. комплекс Headliner,...   \n",
       "6                    2  \\n                    жил. комплекс Capital Pa...   \n",
       "2                    1  \\n                    жил. комплекс Alau, 19 э...   \n",
       "\n",
       "     Цена (тнг)  Кухня (м2)  Жил площадь (м2)  Высота потолков (м)  \\\n",
       "8      63538100       26.19             58.62                  3.0   \n",
       "0      55487214        4.41             63.63                  3.0   \n",
       "14     53755913       15.22             68.20                  3.0   \n",
       "5      55994650       18.42             71.13                  3.0   \n",
       "7      30842690        6.20             44.52                  NaN   \n",
       "1      86261292       16.92             90.53                  3.6   \n",
       "148    18412800       14.22             19.59                  3.0   \n",
       "3      42258294         NaN               NaN                  3.0   \n",
       "6      17476875        5.95             27.32                  2.7   \n",
       "2      15477000         NaN               NaN                  3.0   \n",
       "\n",
       "        Цена за м2  \n",
       "8    500300.000000  \n",
       "0    473400.000000  \n",
       "14   437751.734528  \n",
       "5    423400.000000  \n",
       "7    409000.000000  \n",
       "1    392400.000000  \n",
       "148  383600.000000  \n",
       "3    377508.433089  \n",
       "6    358500.000000  \n",
       "2    350000.000000  "
      ]
     },
     "execution_count": 12,
     "metadata": {},
     "output_type": "execute_result"
    }
   ],
   "source": [
    "data.drop_duplicates(subset=['ЖК']).nlargest(10, 'Цена за м2')"
   ]
  },
  {
   "cell_type": "markdown",
   "metadata": {},
   "source": [
    "#### Самая дешевая квартира"
   ]
  },
  {
   "cell_type": "code",
   "execution_count": 13,
   "metadata": {},
   "outputs": [
    {
     "data": {
      "text/html": [
       "<div>\n",
       "<style scoped>\n",
       "    .dataframe tbody tr th:only-of-type {\n",
       "        vertical-align: middle;\n",
       "    }\n",
       "\n",
       "    .dataframe tbody tr th {\n",
       "        vertical-align: top;\n",
       "    }\n",
       "\n",
       "    .dataframe thead th {\n",
       "        text-align: right;\n",
       "    }\n",
       "</style>\n",
       "<table border=\"1\" class=\"dataframe\">\n",
       "  <thead>\n",
       "    <tr style=\"text-align: right;\">\n",
       "      <th></th>\n",
       "      <th>Unnamed: 0</th>\n",
       "      <th>ЖК</th>\n",
       "      <th>Застройщик</th>\n",
       "      <th>Площадь (м2)</th>\n",
       "      <th>Количество комнат</th>\n",
       "      <th>Информация</th>\n",
       "      <th>Цена (тнг)</th>\n",
       "      <th>Кухня (м2)</th>\n",
       "      <th>Жил площадь (м2)</th>\n",
       "      <th>Высота потолков (м)</th>\n",
       "      <th>Цена за м2</th>\n",
       "    </tr>\n",
       "  </thead>\n",
       "  <tbody>\n",
       "    <tr>\n",
       "      <th>128</th>\n",
       "      <td>128</td>\n",
       "      <td>«Байсал»</td>\n",
       "      <td>«Береке Курылыс 2030»</td>\n",
       "      <td>33.3</td>\n",
       "      <td>1</td>\n",
       "      <td>\\n                    жил. комплекс Байсал, 6 ...</td>\n",
       "      <td>4662000</td>\n",
       "      <td>10.5</td>\n",
       "      <td>11.1</td>\n",
       "      <td>2.8</td>\n",
       "      <td>140000.0</td>\n",
       "    </tr>\n",
       "  </tbody>\n",
       "</table>\n",
       "</div>"
      ],
      "text/plain": [
       "     Unnamed: 0        ЖК             Застройщик  Площадь (м2)  \\\n",
       "128         128  «Байсал»  «Береке Курылыс 2030»          33.3   \n",
       "\n",
       "     Количество комнат                                         Информация  \\\n",
       "128                  1  \\n                    жил. комплекс Байсал, 6 ...   \n",
       "\n",
       "     Цена (тнг)  Кухня (м2)  Жил площадь (м2)  Высота потолков (м)  Цена за м2  \n",
       "128     4662000        10.5              11.1                  2.8    140000.0  "
      ]
     },
     "execution_count": 13,
     "metadata": {},
     "output_type": "execute_result"
    }
   ],
   "source": [
    "data[data[\"Цена (тнг)\"]==data[\"Цена (тнг)\"].min()]"
   ]
  },
  {
   "cell_type": "markdown",
   "metadata": {},
   "source": [
    "#### Самая дорогая квартира"
   ]
  },
  {
   "cell_type": "code",
   "execution_count": 14,
   "metadata": {},
   "outputs": [
    {
     "data": {
      "text/html": [
       "<div>\n",
       "<style scoped>\n",
       "    .dataframe tbody tr th:only-of-type {\n",
       "        vertical-align: middle;\n",
       "    }\n",
       "\n",
       "    .dataframe tbody tr th {\n",
       "        vertical-align: top;\n",
       "    }\n",
       "\n",
       "    .dataframe thead th {\n",
       "        text-align: right;\n",
       "    }\n",
       "</style>\n",
       "<table border=\"1\" class=\"dataframe\">\n",
       "  <thead>\n",
       "    <tr style=\"text-align: right;\">\n",
       "      <th></th>\n",
       "      <th>Unnamed: 0</th>\n",
       "      <th>ЖК</th>\n",
       "      <th>Застройщик</th>\n",
       "      <th>Площадь (м2)</th>\n",
       "      <th>Количество комнат</th>\n",
       "      <th>Информация</th>\n",
       "      <th>Цена (тнг)</th>\n",
       "      <th>Кухня (м2)</th>\n",
       "      <th>Жил площадь (м2)</th>\n",
       "      <th>Высота потолков (м)</th>\n",
       "      <th>Цена за м2</th>\n",
       "    </tr>\n",
       "  </thead>\n",
       "  <tbody>\n",
       "    <tr>\n",
       "      <th>42</th>\n",
       "      <td>42</td>\n",
       "      <td>«Esil Riverside»</td>\n",
       "      <td>«BI Group»</td>\n",
       "      <td>186.36</td>\n",
       "      <td>4</td>\n",
       "      <td>\\n                    жил. комплекс Esil River...</td>\n",
       "      <td>91690000</td>\n",
       "      <td>19.32</td>\n",
       "      <td>93.75</td>\n",
       "      <td>3.0</td>\n",
       "      <td>492004.722043</td>\n",
       "    </tr>\n",
       "  </tbody>\n",
       "</table>\n",
       "</div>"
      ],
      "text/plain": [
       "    Unnamed: 0                ЖК  Застройщик  Площадь (м2)  Количество комнат  \\\n",
       "42          42  «Esil Riverside»  «BI Group»        186.36                  4   \n",
       "\n",
       "                                           Информация  Цена (тнг)  Кухня (м2)  \\\n",
       "42  \\n                    жил. комплекс Esil River...    91690000       19.32   \n",
       "\n",
       "    Жил площадь (м2)  Высота потолков (м)     Цена за м2  \n",
       "42             93.75                  3.0  492004.722043  "
      ]
     },
     "execution_count": 14,
     "metadata": {},
     "output_type": "execute_result"
    }
   ],
   "source": [
    "data[data[\"Цена (тнг)\"]==data[\"Цена (тнг)\"].max()]"
   ]
  },
  {
   "cell_type": "markdown",
   "metadata": {},
   "source": [
    "## Статистика и визуализация"
   ]
  },
  {
   "cell_type": "markdown",
   "metadata": {},
   "source": [
    "#### \"Чем больше квартира тем дороже \" by all people\n",
    "Мы все знаем этот очевидный факт, это утверждение описывает отношение цены на площадь кв, то есть цену за 1 кв м.\n",
    "Давайте графически убедимся в этом"
   ]
  },
  {
   "cell_type": "markdown",
   "metadata": {},
   "source": [
    "### ЦЕНА (тнг) vs ПЛОЩАДЬ (м2)"
   ]
  },
  {
   "cell_type": "code",
   "execution_count": 25,
   "metadata": {
    "scrolled": false
   },
   "outputs": [
    {
     "data": {
      "application/vnd.plotly.v1+json": {
       "config": {
        "plotlyServerURL": "https://plot.ly"
       },
       "data": [
        {
         "customdata": [
          [
           "«Ботанический»",
           117.21,
           473400
          ],
          [
           "«Vela Village»",
           219.83,
           392400
          ],
          [
           "«Headliner»",
           111.94,
           377508.4330891549
          ],
          [
           "«Grand Opera»",
           132.25,
           423400
          ],
          [
           "«Capital Park»",
           48.75,
           358500
          ],
          [
           "«BI City Tokyo»",
           75.41,
           409000
          ],
          [
           "«Esil Riverside»",
           127,
           500300
          ],
          [
           "«Ботанический»",
           126.3,
           468311.2114014252
          ],
          [
           "«Headliner»",
           45.4,
           383400
          ],
          [
           "«Atlant»",
           122.8,
           437751.7345276873
          ],
          [
           "«Grand Opera»",
           150.61,
           439599.99999999994
          ],
          [
           "«Capital Park»",
           49.19,
           360500
          ],
          [
           "«BI City Tokyo»",
           105,
           351000
          ],
          [
           "«Esil Riverside»",
           137.65,
           482300
          ],
          [
           "«Ботанический»",
           132.41,
           447300
          ],
          [
           "«Headliner»",
           73.11,
           373800
          ],
          [
           "«Atlant»",
           152.8,
           414428.0890052356
          ],
          [
           "«Grand Opera»",
           158.84,
           442700
          ],
          [
           "«BI City Tokyo»",
           110.84,
           351000
          ],
          [
           "«Capital Park»",
           54.05,
           347900
          ],
          [
           "«Esil Riverside»",
           139.26,
           477300.00000000006
          ],
          [
           "«Ботанический»",
           128.16,
           467300
          ],
          [
           "«Headliner»",
           74.25,
           374600
          ],
          [
           "«Atlant»",
           146.3,
           433526.4524948735
          ],
          [
           "«Grand Opera»",
           159.14,
           446800.00000000006
          ],
          [
           "«BI City Tokyo»",
           114.03,
           348000
          ],
          [
           "«Capital Park»",
           55.03,
           345500
          ],
          [
           "«Ботанический»",
           140.56,
           455600
          ],
          [
           "«Esil Riverside»",
           186.36,
           492004.7220433569
          ],
          [
           "«Headliner»",
           76.89,
           393274.43100533227
          ],
          [
           "«Atlant»",
           82,
           428000
          ],
          [
           "«BI City Tokyo»",
           46.71,
           380000
          ],
          [
           "«Capital Park»",
           52.59,
           366200
          ],
          [
           "«Esil Riverside»",
           83.12,
           518407.12223291624
          ],
          [
           "«Grand Opera»",
           105.04,
           451600
          ],
          [
           "«Headliner»",
           98.14,
           398489.85123293253
          ],
          [
           "«BI City Tokyo»",
           47.63,
           379700
          ],
          [
           "«Capital Park»",
           75.98,
           360000
          ],
          [
           "«Esil Riverside»",
           88.87,
           522223.47248790367
          ],
          [
           "«Atlant»",
           94.7,
           430000
          ],
          [
           "«Grand Opera»",
           115.1,
           439400
          ],
          [
           "«BI City Tokyo»",
           48.24,
           379600
          ],
          [
           "«Capital Park»",
           82.03,
           385000
          ],
          [
           "«Esil Riverside»",
           93.35,
           502303.16014997324
          ],
          [
           "«Grand Opera»",
           122.87,
           423400
          ],
          [
           "«Atlant»",
           97.8,
           430777.9754601227
          ],
          [
           "«Capital Park»",
           95.96,
           364300
          ],
          [
           "«BI City Tokyo»",
           50.25,
           428249.99004975124
          ],
          [
           "«Esil Riverside»",
           96.24,
           502285.9517871987
          ],
          [
           "«Grand Opera»",
           118.32,
           450400
          ],
          [
           "«Atlant»",
           102.3,
           417779.57966764417
          ],
          [
           "«BI City Tokyo»",
           60.23,
           405000
          ],
          [
           "«Capital Park»",
           107,
           344000
          ],
          [
           "«Esil Riverside»",
           110.27,
           497324.74834497145
          ],
          [
           "«Grand Opera»",
           126.8,
           425400
          ],
          [
           "«Atlant»",
           113.6,
           429585.07042253524
          ],
          [
           "«BI City Tokyo»",
           75.3,
           359000
          ],
          [
           "«Capital Park»",
           108.66,
           343800
          ],
          [
           "«Esil Riverside»",
           116.6,
           492300
          ],
          [
           "«Capital Park»",
           101.87,
           367800
          ],
          [
           "«Capital Park»",
           109.02,
           344000
          ],
          [
           "«Capital Park»",
           107.95,
           352800
          ],
          [
           "«Capital Park»",
           108.68,
           359600
          ],
          [
           "«Nura Esil»",
           48,
           383600
          ],
          [
           "«Nura Esil»",
           111.1,
           380756.9756975698
          ],
          [
           "«Nura Esil»",
           92.7,
           373000
          ],
          [
           "«Nura Esil»",
           125,
           371200
          ],
          [
           "«Nura Esil»",
           46.5,
           379900
          ],
          [
           "«Nura Esil»",
           83.2,
           395600
          ],
          [
           "«Nura Esil»",
           96,
           396000
          ],
          [
           "«Nura Esil»",
           107,
           377000
          ],
          [
           "«Nura Esil»",
           49.2,
           390300
          ]
         ],
         "hovertemplate": "Застройщик=«BI Group»<br>Площадь (м2)=%{customdata[1]}<br>Цена (тнг)=%{y}<br>Количество комнат=%{marker.size}<br>ЖК=%{customdata[0]}<br>Цена за м2=%{customdata[2]}<extra></extra>",
         "legendgroup": "«BI Group»",
         "marker": {
          "color": "#636efa",
          "size": [
           3,
           5,
           3,
           3,
           2,
           3,
           3,
           3,
           1,
           3,
           4,
           2,
           3,
           3,
           3,
           2,
           4,
           4,
           3,
           1,
           3,
           3,
           2,
           4,
           4,
           3,
           2,
           3,
           4,
           2,
           2,
           1,
           1,
           2,
           3,
           3,
           1,
           2,
           3,
           3,
           3,
           1,
           2,
           3,
           3,
           3,
           3,
           1,
           3,
           3,
           3,
           2,
           3,
           3,
           3,
           3,
           2,
           3,
           3,
           3,
           3,
           3,
           3,
           1,
           3,
           3,
           4,
           1,
           3,
           3,
           3,
           1
          ],
          "sizemode": "area",
          "sizeref": 0.0125,
          "symbol": "circle"
         },
         "mode": "markers",
         "name": "«BI Group»",
         "orientation": "v",
         "showlegend": true,
         "type": "scatter",
         "x": [
          117.21,
          219.83,
          111.94,
          132.25,
          48.75,
          75.41,
          127,
          126.3,
          45.4,
          122.8,
          150.61,
          49.19,
          105,
          137.65,
          132.41,
          73.11,
          152.8,
          158.84,
          110.84,
          54.05,
          139.26,
          128.16,
          74.25,
          146.3,
          159.14,
          114.03,
          55.03,
          140.56,
          186.36,
          76.89,
          82,
          46.71,
          52.59,
          83.12,
          105.04,
          98.14,
          47.63,
          75.98,
          88.87,
          94.7,
          115.1,
          48.24,
          82.03,
          93.35,
          122.87,
          97.8,
          95.96,
          50.25,
          96.24,
          118.32,
          102.3,
          60.23,
          107,
          110.27,
          126.8,
          113.6,
          75.3,
          108.66,
          116.6,
          101.87,
          109.02,
          107.95,
          108.68,
          48,
          111.1,
          92.7,
          125,
          46.5,
          83.2,
          96,
          107,
          49.2
         ],
         "xaxis": "x",
         "y": [
          55487214,
          86261292,
          42258294,
          55994650,
          17476875,
          30842690,
          63538100,
          59147706,
          17406360,
          53755913,
          66208156,
          17732995,
          36855000,
          66388595,
          59226993,
          27328518,
          63324612,
          70318468,
          38904840,
          18803995,
          66468798,
          59889168,
          27814050,
          63424920,
          71103752,
          39682440,
          19012865,
          64039136,
          91690000,
          30238871,
          35096000,
          17749800,
          19258458,
          43090000,
          47436064,
          39107794,
          18085111,
          27352800,
          46410000,
          40721000,
          50574940,
          18311904,
          31581550,
          46890000,
          52023158,
          42130086,
          34958228,
          21519562,
          48340000,
          53291328,
          42738851,
          24393150,
          36808000,
          54840000,
          53940720,
          48800864,
          27032700,
          37357308,
          57402180,
          37467786,
          37502880,
          38084760,
          39081328,
          18412800,
          42302100,
          34577100,
          46400000,
          17665350,
          32913920,
          38016000,
          40339000,
          19202760
         ],
         "yaxis": "y"
        },
        {
         "customdata": [
          [
           "«Alau»",
           44.22,
           350000
          ],
          [
           "«Alau»",
           97.39,
           285000
          ],
          [
           "«Alau»",
           127.82,
           300000
          ],
          [
           "«Alau»",
           178,
           301213.4831460674
          ]
         ],
         "hovertemplate": "Застройщик=«АстанаТехСтрой»<br>Площадь (м2)=%{customdata[1]}<br>Цена (тнг)=%{y}<br>Количество комнат=%{marker.size}<br>ЖК=%{customdata[0]}<br>Цена за м2=%{customdata[2]}<extra></extra>",
         "legendgroup": "«АстанаТехСтрой»",
         "marker": {
          "color": "#EF553B",
          "size": [
           1,
           3,
           3,
           4
          ],
          "sizemode": "area",
          "sizeref": 0.0125,
          "symbol": "circle"
         },
         "mode": "markers",
         "name": "«АстанаТехСтрой»",
         "orientation": "v",
         "showlegend": true,
         "type": "scatter",
         "x": [
          44.22,
          97.39,
          127.82,
          178
         ],
         "xaxis": "x",
         "y": [
          15477000,
          27756150,
          38346000,
          53616000
         ],
         "yaxis": "y"
        },
        {
         "customdata": [
          [
           "«College»",
           60.96,
           269734.25196850393
          ],
          [
           "«College»",
           76.89,
           275703.0823253999
          ],
          [
           "«College»",
           80.75,
           275000
          ],
          [
           "«College»",
           89.33,
           266940.22165006155
          ],
          [
           "«College»",
           104.69,
           270000
          ],
          [
           "«College»",
           113.19,
           265000
          ],
          [
           "«College»",
           116.89,
           267000
          ],
          [
           "«College»",
           35.34,
           301871.25070741365
          ]
         ],
         "hovertemplate": "Застройщик=«ТОО Фаворит Строй»<br>Площадь (м2)=%{customdata[1]}<br>Цена (тнг)=%{y}<br>Количество комнат=%{marker.size}<br>ЖК=%{customdata[0]}<br>Цена за м2=%{customdata[2]}<extra></extra>",
         "legendgroup": "«ТОО Фаворит Строй»",
         "marker": {
          "color": "#00cc96",
          "size": [
           2,
           3,
           3,
           3,
           4,
           4,
           4,
           1
          ],
          "sizemode": "area",
          "sizeref": 0.0125,
          "symbol": "circle"
         },
         "mode": "markers",
         "name": "«ТОО Фаворит Строй»",
         "orientation": "v",
         "showlegend": true,
         "type": "scatter",
         "x": [
          60.96,
          76.89,
          80.75,
          89.33,
          104.69,
          113.19,
          116.89,
          35.34
         ],
         "xaxis": "x",
         "y": [
          16443000,
          21198810,
          22206250,
          23845770,
          28266300,
          29995350,
          31209630,
          10668130
         ],
         "yaxis": "y"
        },
        {
         "customdata": [
          [
           "«Эмир»",
           60.27,
           255000
          ],
          [
           "«Эмир»",
           64.54,
           254999.99999999997
          ],
          [
           "«Эмир»",
           73.02,
           255000
          ],
          [
           "«Эмир»",
           90.73,
           255000
          ],
          [
           "«Эмир»",
           37.85,
           255000
          ]
         ],
         "hovertemplate": "Застройщик=«GarInvest»<br>Площадь (м2)=%{customdata[1]}<br>Цена (тнг)=%{y}<br>Количество комнат=%{marker.size}<br>ЖК=%{customdata[0]}<br>Цена за м2=%{customdata[2]}<extra></extra>",
         "legendgroup": "«GarInvest»",
         "marker": {
          "color": "#ab63fa",
          "size": [
           2,
           2,
           3,
           3,
           1
          ],
          "sizemode": "area",
          "sizeref": 0.0125,
          "symbol": "circle"
         },
         "mode": "markers",
         "name": "«GarInvest»",
         "orientation": "v",
         "showlegend": true,
         "type": "scatter",
         "x": [
          60.27,
          64.54,
          73.02,
          90.73,
          37.85
         ],
         "xaxis": "x",
         "y": [
          15368850,
          16457700,
          18620100,
          23136150,
          9651750
         ],
         "yaxis": "y"
        },
        {
         "customdata": [
          [
           "«Tulpar City»",
           39.75,
           180000
          ],
          [
           "«Tulpar City»",
           40.17,
           180000
          ],
          [
           "«Tulpar City»",
           41.04,
           180000
          ],
          [
           "«Tulpar City»",
           41.98,
           180000
          ],
          [
           "«Tulpar City»",
           42.14,
           180000
          ],
          [
           "«Tulpar City»",
           44.22,
           180000
          ],
          [
           "«Tulpar City»",
           46.72,
           180000
          ],
          [
           "«Tulpar City»",
           51.56,
           180000
          ],
          [
           "«Tulpar City»",
           79.3,
           180000
          ],
          [
           "«Tulpar City»",
           79.62,
           180000
          ],
          [
           "«Tulpar City»",
           34.5,
           180000
          ],
          [
           "«Tulpar City»",
           35.35,
           180000
          ],
          [
           "«Tulpar City»",
           36.67,
           180000
          ],
          [
           "«Tulpar City»",
           37.4,
           180000
          ]
         ],
         "hovertemplate": "Застройщик=«AIZ QURYLYS ТОО»<br>Площадь (м2)=%{customdata[1]}<br>Цена (тнг)=%{y}<br>Количество комнат=%{marker.size}<br>ЖК=%{customdata[0]}<br>Цена за м2=%{customdata[2]}<extra></extra>",
         "legendgroup": "«AIZ QURYLYS ТОО»",
         "marker": {
          "color": "#FFA15A",
          "size": [
           1,
           1,
           1,
           1,
           1,
           1,
           1,
           1,
           3,
           3,
           1,
           1,
           1,
           1
          ],
          "sizemode": "area",
          "sizeref": 0.0125,
          "symbol": "circle"
         },
         "mode": "markers",
         "name": "«AIZ QURYLYS ТОО»",
         "orientation": "v",
         "showlegend": true,
         "type": "scatter",
         "x": [
          39.75,
          40.17,
          41.04,
          41.98,
          42.14,
          44.22,
          46.72,
          51.56,
          79.3,
          79.62,
          34.5,
          35.35,
          36.67,
          37.4
         ],
         "xaxis": "x",
         "y": [
          7155000,
          7230600,
          7387200,
          7556400,
          7585200,
          7959600,
          8409600,
          9280800,
          14274000,
          14331600,
          6210000,
          6363000,
          6600600,
          6732000
         ],
         "yaxis": "y"
        },
        {
         "customdata": [
          [
           "«Алтын Отау»",
           37.02,
           249999.99999999997
          ],
          [
           "«Алтын Отау»",
           38.54,
           250000
          ],
          [
           "«Алтын Отау»",
           42.97,
           250000
          ],
          [
           "«Алтын Отау»",
           57.87,
           250000
          ],
          [
           "«Алтын Отау»",
           59.69,
           250000
          ],
          [
           "«Алтын Отау»",
           63.36,
           250000
          ],
          [
           "«Алтын Отау»",
           66.73,
           249999.99999999997
          ],
          [
           "«Алтын Отау»",
           68.53,
           250000
          ],
          [
           "«Алтын Отау»",
           71.46,
           250000.00000000003
          ]
         ],
         "hovertemplate": "Застройщик=«Алтын Отау ТОО»<br>Площадь (м2)=%{customdata[1]}<br>Цена (тнг)=%{y}<br>Количество комнат=%{marker.size}<br>ЖК=%{customdata[0]}<br>Цена за м2=%{customdata[2]}<extra></extra>",
         "legendgroup": "«Алтын Отау ТОО»",
         "marker": {
          "color": "#19d3f3",
          "size": [
           1,
           1,
           1,
           2,
           2,
           2,
           2,
           2,
           3
          ],
          "sizemode": "area",
          "sizeref": 0.0125,
          "symbol": "circle"
         },
         "mode": "markers",
         "name": "«Алтын Отау ТОО»",
         "orientation": "v",
         "showlegend": true,
         "type": "scatter",
         "x": [
          37.02,
          38.54,
          42.97,
          57.87,
          59.69,
          63.36,
          66.73,
          68.53,
          71.46
         ],
         "xaxis": "x",
         "y": [
          9255000,
          9635000,
          10742500,
          14467500,
          14922500,
          15840000,
          16682500,
          17132500,
          17865000
         ],
         "yaxis": "y"
        },
        {
         "customdata": [
          [
           "«Apple City»",
           66.15,
           290000
          ],
          [
           "«Apple City»",
           66.44,
           290000
          ],
          [
           "«Apple City»",
           65.85,
           290000
          ],
          [
           "«Apple City»",
           68.14,
           290000
          ],
          [
           "«Apple City»",
           80.64,
           290000
          ],
          [
           "«Apple City»",
           66.34,
           290000
          ],
          [
           "«Apple City»",
           61.4,
           290000
          ],
          [
           "«Apple City»",
           53.29,
           290000
          ],
          [
           "«Apple City»",
           47.8,
           290000
          ],
          [
           "«Apple City»",
           49.98,
           290000
          ],
          [
           "«Apple City»",
           42.36,
           290000
          ],
          [
           "«Apple City»",
           61.85,
           290000
          ],
          [
           "«Apple City»",
           64.7,
           290000
          ],
          [
           "«Apple City»",
           45.81,
           290000
          ],
          [
           "«Apple City»",
           57.98,
           290000
          ]
         ],
         "hovertemplate": "Застройщик=«SAT-NS ТОО»<br>Площадь (м2)=%{customdata[1]}<br>Цена (тнг)=%{y}<br>Количество комнат=%{marker.size}<br>ЖК=%{customdata[0]}<br>Цена за м2=%{customdata[2]}<extra></extra>",
         "legendgroup": "«SAT-NS ТОО»",
         "marker": {
          "color": "#FF6692",
          "size": [
           2,
           2,
           2,
           2,
           2,
           2,
           2,
           2,
           1,
           2,
           1,
           2,
           2,
           1,
           2
          ],
          "sizemode": "area",
          "sizeref": 0.0125,
          "symbol": "circle"
         },
         "mode": "markers",
         "name": "«SAT-NS ТОО»",
         "orientation": "v",
         "showlegend": true,
         "type": "scatter",
         "x": [
          66.15,
          66.44,
          65.85,
          68.14,
          80.64,
          66.34,
          61.4,
          53.29,
          47.8,
          49.98,
          42.36,
          61.85,
          64.7,
          45.81,
          57.98
         ],
         "xaxis": "x",
         "y": [
          19183500,
          19267600,
          19096500,
          19760600,
          23385600,
          19238600,
          17806000,
          15454100,
          13862000,
          14494200,
          12284400,
          17936500,
          18763000,
          13284900,
          16814200
         ],
         "yaxis": "y"
        },
        {
         "customdata": [
          [
           "«Байсал»",
           52.9,
           140000
          ],
          [
           "«Байсал»",
           67.3,
           140000
          ],
          [
           "«Байсал»",
           46.4,
           140000
          ],
          [
           "«Байсал»",
           44.9,
           140000
          ],
          [
           "«Байсал»",
           38,
           140000
          ],
          [
           "«Байсал»",
           61.2,
           140000
          ],
          [
           "«Байсал»",
           54.1,
           140000
          ],
          [
           "«Байсал»",
           52.1,
           140000
          ],
          [
           "«Байсал»",
           53.1,
           140000
          ],
          [
           "«Байсал»",
           38,
           140000
          ],
          [
           "«Байсал»",
           45.9,
           140000
          ],
          [
           "«Байсал»",
           33.3,
           140000
          ],
          [
           "«Байсал»",
           73.4,
           140000
          ],
          [
           "«Байсал»",
           51.7,
           140000
          ],
          [
           "«Байсал»",
           36.8,
           140000
          ],
          [
           "«Байсал»",
           36.4,
           180000
          ]
         ],
         "hovertemplate": "Застройщик=«Береке Курылыс 2030»<br>Площадь (м2)=%{customdata[1]}<br>Цена (тнг)=%{y}<br>Количество комнат=%{marker.size}<br>ЖК=%{customdata[0]}<br>Цена за м2=%{customdata[2]}<extra></extra>",
         "legendgroup": "«Береке Курылыс 2030»",
         "marker": {
          "color": "#B6E880",
          "size": [
           2,
           3,
           2,
           1,
           1,
           3,
           2,
           2,
           2,
           1,
           1,
           1,
           2,
           2,
           1,
           1
          ],
          "sizemode": "area",
          "sizeref": 0.0125,
          "symbol": "circle"
         },
         "mode": "markers",
         "name": "«Береке Курылыс 2030»",
         "orientation": "v",
         "showlegend": true,
         "type": "scatter",
         "x": [
          52.9,
          67.3,
          46.4,
          44.9,
          38,
          61.2,
          54.1,
          52.1,
          53.1,
          38,
          45.9,
          33.3,
          73.4,
          51.7,
          36.8,
          36.4
         ],
         "xaxis": "x",
         "y": [
          7406000,
          9422000,
          6496000,
          6286000,
          5320000,
          8568000,
          7574000,
          7294000,
          7434000,
          5320000,
          6426000,
          4662000,
          10276000,
          7238000,
          5152000,
          6552000
         ],
         "yaxis": "y"
        },
        {
         "customdata": [
          [
           "«ASQAT»",
           34.04,
           295000
          ],
          [
           "«ASQAT»",
           86.96,
           255000.00000000003
          ],
          [
           "«ASQAT»",
           32.34,
           294999.99999999994
          ],
          [
           "«ASQAT»",
           36.37,
           295000
          ],
          [
           "«ASQAT»",
           69.59,
           265000
          ],
          [
           "«ASQAT»",
           81.56,
           280000
          ],
          [
           "«ASQAT»",
           87.15,
           280000
          ],
          [
           "«ASQAT»",
           92.33,
           280000
          ],
          [
           "«ASQAT»",
           75.75,
           265000
          ],
          [
           "«ASQAT»",
           37.45,
           295000
          ],
          [
           "«ASQAT»",
           35.99,
           295000
          ],
          [
           "«ASQAT»",
           71.06,
           265000
          ],
          [
           "«ASQAT»",
           37.9,
           295000
          ],
          [
           "«ASQAT»",
           32.22,
           295000
          ],
          [
           "«ASQAT»",
           56.07,
           285000
          ],
          [
           "«ASQAT»",
           57.53,
           285000
          ],
          [
           "«ASQAT»",
           56.35,
           285000
          ]
         ],
         "hovertemplate": "Застройщик=«Asti Group»<br>Площадь (м2)=%{customdata[1]}<br>Цена (тнг)=%{y}<br>Количество комнат=%{marker.size}<br>ЖК=%{customdata[0]}<br>Цена за м2=%{customdata[2]}<extra></extra>",
         "legendgroup": "«Asti Group»",
         "marker": {
          "color": "#FF97FF",
          "size": [
           1,
           3,
           1,
           1,
           2,
           3,
           3,
           3,
           2,
           1,
           1,
           2,
           1,
           1,
           2,
           2,
           2
          ],
          "sizemode": "area",
          "sizeref": 0.0125,
          "symbol": "circle"
         },
         "mode": "markers",
         "name": "«Asti Group»",
         "orientation": "v",
         "showlegend": true,
         "type": "scatter",
         "x": [
          34.04,
          86.96,
          32.34,
          36.37,
          69.59,
          81.56,
          87.15,
          92.33,
          75.75,
          37.45,
          35.99,
          71.06,
          37.9,
          32.22,
          56.07,
          57.53,
          56.35
         ],
         "xaxis": "x",
         "y": [
          10041800,
          22174800,
          9540300,
          10729150,
          18441350,
          22836800,
          24402000,
          25852400,
          20073750,
          11047750,
          10617050,
          18830900,
          11180500,
          9504900,
          15979950,
          16396050,
          16059750
         ],
         "yaxis": "y"
        },
        {
         "customdata": [
          [
           "«Казанат 2»",
           41.87,
           200000
          ],
          [
           "«Казанат 2»",
           41.81,
           200000
          ],
          [
           "«Казанат 2»",
           61.13,
           200000
          ],
          [
           "«Казанат 2»",
           78.95,
           200000
          ],
          [
           "«Казанат 2»",
           67.16,
           200000
          ],
          [
           "«Казанат 2»",
           61,
           200000
          ],
          [
           "«Казанат 2»",
           44.93,
           200000
          ]
         ],
         "hovertemplate": "Застройщик=«ЖСК Жануя Инвест»<br>Площадь (м2)=%{customdata[1]}<br>Цена (тнг)=%{y}<br>Количество комнат=%{marker.size}<br>ЖК=%{customdata[0]}<br>Цена за м2=%{customdata[2]}<extra></extra>",
         "legendgroup": "«ЖСК Жануя Инвест»",
         "marker": {
          "color": "#FECB52",
          "size": [
           1,
           1,
           2,
           3,
           2,
           2,
           1
          ],
          "sizemode": "area",
          "sizeref": 0.0125,
          "symbol": "circle"
         },
         "mode": "markers",
         "name": "«ЖСК Жануя Инвест»",
         "orientation": "v",
         "showlegend": true,
         "type": "scatter",
         "x": [
          41.87,
          41.81,
          61.13,
          78.95,
          67.16,
          61,
          44.93
         ],
         "xaxis": "x",
         "y": [
          8374000,
          8362000,
          12226000,
          15790000,
          13432000,
          12200000,
          8986000
         ],
         "yaxis": "y"
        }
       ],
       "layout": {
        "legend": {
         "itemsizing": "constant",
         "title": {
          "text": "Застройщик"
         },
         "tracegroupgap": 0
        },
        "template": {
         "data": {
          "bar": [
           {
            "error_x": {
             "color": "#2a3f5f"
            },
            "error_y": {
             "color": "#2a3f5f"
            },
            "marker": {
             "line": {
              "color": "#E5ECF6",
              "width": 0.5
             }
            },
            "type": "bar"
           }
          ],
          "barpolar": [
           {
            "marker": {
             "line": {
              "color": "#E5ECF6",
              "width": 0.5
             }
            },
            "type": "barpolar"
           }
          ],
          "carpet": [
           {
            "aaxis": {
             "endlinecolor": "#2a3f5f",
             "gridcolor": "white",
             "linecolor": "white",
             "minorgridcolor": "white",
             "startlinecolor": "#2a3f5f"
            },
            "baxis": {
             "endlinecolor": "#2a3f5f",
             "gridcolor": "white",
             "linecolor": "white",
             "minorgridcolor": "white",
             "startlinecolor": "#2a3f5f"
            },
            "type": "carpet"
           }
          ],
          "choropleth": [
           {
            "colorbar": {
             "outlinewidth": 0,
             "ticks": ""
            },
            "type": "choropleth"
           }
          ],
          "contour": [
           {
            "colorbar": {
             "outlinewidth": 0,
             "ticks": ""
            },
            "colorscale": [
             [
              0,
              "#0d0887"
             ],
             [
              0.1111111111111111,
              "#46039f"
             ],
             [
              0.2222222222222222,
              "#7201a8"
             ],
             [
              0.3333333333333333,
              "#9c179e"
             ],
             [
              0.4444444444444444,
              "#bd3786"
             ],
             [
              0.5555555555555556,
              "#d8576b"
             ],
             [
              0.6666666666666666,
              "#ed7953"
             ],
             [
              0.7777777777777778,
              "#fb9f3a"
             ],
             [
              0.8888888888888888,
              "#fdca26"
             ],
             [
              1,
              "#f0f921"
             ]
            ],
            "type": "contour"
           }
          ],
          "contourcarpet": [
           {
            "colorbar": {
             "outlinewidth": 0,
             "ticks": ""
            },
            "type": "contourcarpet"
           }
          ],
          "heatmap": [
           {
            "colorbar": {
             "outlinewidth": 0,
             "ticks": ""
            },
            "colorscale": [
             [
              0,
              "#0d0887"
             ],
             [
              0.1111111111111111,
              "#46039f"
             ],
             [
              0.2222222222222222,
              "#7201a8"
             ],
             [
              0.3333333333333333,
              "#9c179e"
             ],
             [
              0.4444444444444444,
              "#bd3786"
             ],
             [
              0.5555555555555556,
              "#d8576b"
             ],
             [
              0.6666666666666666,
              "#ed7953"
             ],
             [
              0.7777777777777778,
              "#fb9f3a"
             ],
             [
              0.8888888888888888,
              "#fdca26"
             ],
             [
              1,
              "#f0f921"
             ]
            ],
            "type": "heatmap"
           }
          ],
          "heatmapgl": [
           {
            "colorbar": {
             "outlinewidth": 0,
             "ticks": ""
            },
            "colorscale": [
             [
              0,
              "#0d0887"
             ],
             [
              0.1111111111111111,
              "#46039f"
             ],
             [
              0.2222222222222222,
              "#7201a8"
             ],
             [
              0.3333333333333333,
              "#9c179e"
             ],
             [
              0.4444444444444444,
              "#bd3786"
             ],
             [
              0.5555555555555556,
              "#d8576b"
             ],
             [
              0.6666666666666666,
              "#ed7953"
             ],
             [
              0.7777777777777778,
              "#fb9f3a"
             ],
             [
              0.8888888888888888,
              "#fdca26"
             ],
             [
              1,
              "#f0f921"
             ]
            ],
            "type": "heatmapgl"
           }
          ],
          "histogram": [
           {
            "marker": {
             "colorbar": {
              "outlinewidth": 0,
              "ticks": ""
             }
            },
            "type": "histogram"
           }
          ],
          "histogram2d": [
           {
            "colorbar": {
             "outlinewidth": 0,
             "ticks": ""
            },
            "colorscale": [
             [
              0,
              "#0d0887"
             ],
             [
              0.1111111111111111,
              "#46039f"
             ],
             [
              0.2222222222222222,
              "#7201a8"
             ],
             [
              0.3333333333333333,
              "#9c179e"
             ],
             [
              0.4444444444444444,
              "#bd3786"
             ],
             [
              0.5555555555555556,
              "#d8576b"
             ],
             [
              0.6666666666666666,
              "#ed7953"
             ],
             [
              0.7777777777777778,
              "#fb9f3a"
             ],
             [
              0.8888888888888888,
              "#fdca26"
             ],
             [
              1,
              "#f0f921"
             ]
            ],
            "type": "histogram2d"
           }
          ],
          "histogram2dcontour": [
           {
            "colorbar": {
             "outlinewidth": 0,
             "ticks": ""
            },
            "colorscale": [
             [
              0,
              "#0d0887"
             ],
             [
              0.1111111111111111,
              "#46039f"
             ],
             [
              0.2222222222222222,
              "#7201a8"
             ],
             [
              0.3333333333333333,
              "#9c179e"
             ],
             [
              0.4444444444444444,
              "#bd3786"
             ],
             [
              0.5555555555555556,
              "#d8576b"
             ],
             [
              0.6666666666666666,
              "#ed7953"
             ],
             [
              0.7777777777777778,
              "#fb9f3a"
             ],
             [
              0.8888888888888888,
              "#fdca26"
             ],
             [
              1,
              "#f0f921"
             ]
            ],
            "type": "histogram2dcontour"
           }
          ],
          "mesh3d": [
           {
            "colorbar": {
             "outlinewidth": 0,
             "ticks": ""
            },
            "type": "mesh3d"
           }
          ],
          "parcoords": [
           {
            "line": {
             "colorbar": {
              "outlinewidth": 0,
              "ticks": ""
             }
            },
            "type": "parcoords"
           }
          ],
          "pie": [
           {
            "automargin": true,
            "type": "pie"
           }
          ],
          "scatter": [
           {
            "marker": {
             "colorbar": {
              "outlinewidth": 0,
              "ticks": ""
             }
            },
            "type": "scatter"
           }
          ],
          "scatter3d": [
           {
            "line": {
             "colorbar": {
              "outlinewidth": 0,
              "ticks": ""
             }
            },
            "marker": {
             "colorbar": {
              "outlinewidth": 0,
              "ticks": ""
             }
            },
            "type": "scatter3d"
           }
          ],
          "scattercarpet": [
           {
            "marker": {
             "colorbar": {
              "outlinewidth": 0,
              "ticks": ""
             }
            },
            "type": "scattercarpet"
           }
          ],
          "scattergeo": [
           {
            "marker": {
             "colorbar": {
              "outlinewidth": 0,
              "ticks": ""
             }
            },
            "type": "scattergeo"
           }
          ],
          "scattergl": [
           {
            "marker": {
             "colorbar": {
              "outlinewidth": 0,
              "ticks": ""
             }
            },
            "type": "scattergl"
           }
          ],
          "scattermapbox": [
           {
            "marker": {
             "colorbar": {
              "outlinewidth": 0,
              "ticks": ""
             }
            },
            "type": "scattermapbox"
           }
          ],
          "scatterpolar": [
           {
            "marker": {
             "colorbar": {
              "outlinewidth": 0,
              "ticks": ""
             }
            },
            "type": "scatterpolar"
           }
          ],
          "scatterpolargl": [
           {
            "marker": {
             "colorbar": {
              "outlinewidth": 0,
              "ticks": ""
             }
            },
            "type": "scatterpolargl"
           }
          ],
          "scatterternary": [
           {
            "marker": {
             "colorbar": {
              "outlinewidth": 0,
              "ticks": ""
             }
            },
            "type": "scatterternary"
           }
          ],
          "surface": [
           {
            "colorbar": {
             "outlinewidth": 0,
             "ticks": ""
            },
            "colorscale": [
             [
              0,
              "#0d0887"
             ],
             [
              0.1111111111111111,
              "#46039f"
             ],
             [
              0.2222222222222222,
              "#7201a8"
             ],
             [
              0.3333333333333333,
              "#9c179e"
             ],
             [
              0.4444444444444444,
              "#bd3786"
             ],
             [
              0.5555555555555556,
              "#d8576b"
             ],
             [
              0.6666666666666666,
              "#ed7953"
             ],
             [
              0.7777777777777778,
              "#fb9f3a"
             ],
             [
              0.8888888888888888,
              "#fdca26"
             ],
             [
              1,
              "#f0f921"
             ]
            ],
            "type": "surface"
           }
          ],
          "table": [
           {
            "cells": {
             "fill": {
              "color": "#EBF0F8"
             },
             "line": {
              "color": "white"
             }
            },
            "header": {
             "fill": {
              "color": "#C8D4E3"
             },
             "line": {
              "color": "white"
             }
            },
            "type": "table"
           }
          ]
         },
         "layout": {
          "annotationdefaults": {
           "arrowcolor": "#2a3f5f",
           "arrowhead": 0,
           "arrowwidth": 1
          },
          "coloraxis": {
           "colorbar": {
            "outlinewidth": 0,
            "ticks": ""
           }
          },
          "colorscale": {
           "diverging": [
            [
             0,
             "#8e0152"
            ],
            [
             0.1,
             "#c51b7d"
            ],
            [
             0.2,
             "#de77ae"
            ],
            [
             0.3,
             "#f1b6da"
            ],
            [
             0.4,
             "#fde0ef"
            ],
            [
             0.5,
             "#f7f7f7"
            ],
            [
             0.6,
             "#e6f5d0"
            ],
            [
             0.7,
             "#b8e186"
            ],
            [
             0.8,
             "#7fbc41"
            ],
            [
             0.9,
             "#4d9221"
            ],
            [
             1,
             "#276419"
            ]
           ],
           "sequential": [
            [
             0,
             "#0d0887"
            ],
            [
             0.1111111111111111,
             "#46039f"
            ],
            [
             0.2222222222222222,
             "#7201a8"
            ],
            [
             0.3333333333333333,
             "#9c179e"
            ],
            [
             0.4444444444444444,
             "#bd3786"
            ],
            [
             0.5555555555555556,
             "#d8576b"
            ],
            [
             0.6666666666666666,
             "#ed7953"
            ],
            [
             0.7777777777777778,
             "#fb9f3a"
            ],
            [
             0.8888888888888888,
             "#fdca26"
            ],
            [
             1,
             "#f0f921"
            ]
           ],
           "sequentialminus": [
            [
             0,
             "#0d0887"
            ],
            [
             0.1111111111111111,
             "#46039f"
            ],
            [
             0.2222222222222222,
             "#7201a8"
            ],
            [
             0.3333333333333333,
             "#9c179e"
            ],
            [
             0.4444444444444444,
             "#bd3786"
            ],
            [
             0.5555555555555556,
             "#d8576b"
            ],
            [
             0.6666666666666666,
             "#ed7953"
            ],
            [
             0.7777777777777778,
             "#fb9f3a"
            ],
            [
             0.8888888888888888,
             "#fdca26"
            ],
            [
             1,
             "#f0f921"
            ]
           ]
          },
          "colorway": [
           "#636efa",
           "#EF553B",
           "#00cc96",
           "#ab63fa",
           "#FFA15A",
           "#19d3f3",
           "#FF6692",
           "#B6E880",
           "#FF97FF",
           "#FECB52"
          ],
          "font": {
           "color": "#2a3f5f"
          },
          "geo": {
           "bgcolor": "white",
           "lakecolor": "white",
           "landcolor": "#E5ECF6",
           "showlakes": true,
           "showland": true,
           "subunitcolor": "white"
          },
          "hoverlabel": {
           "align": "left"
          },
          "hovermode": "closest",
          "mapbox": {
           "style": "light"
          },
          "paper_bgcolor": "white",
          "plot_bgcolor": "#E5ECF6",
          "polar": {
           "angularaxis": {
            "gridcolor": "white",
            "linecolor": "white",
            "ticks": ""
           },
           "bgcolor": "#E5ECF6",
           "radialaxis": {
            "gridcolor": "white",
            "linecolor": "white",
            "ticks": ""
           }
          },
          "scene": {
           "xaxis": {
            "backgroundcolor": "#E5ECF6",
            "gridcolor": "white",
            "gridwidth": 2,
            "linecolor": "white",
            "showbackground": true,
            "ticks": "",
            "zerolinecolor": "white"
           },
           "yaxis": {
            "backgroundcolor": "#E5ECF6",
            "gridcolor": "white",
            "gridwidth": 2,
            "linecolor": "white",
            "showbackground": true,
            "ticks": "",
            "zerolinecolor": "white"
           },
           "zaxis": {
            "backgroundcolor": "#E5ECF6",
            "gridcolor": "white",
            "gridwidth": 2,
            "linecolor": "white",
            "showbackground": true,
            "ticks": "",
            "zerolinecolor": "white"
           }
          },
          "shapedefaults": {
           "line": {
            "color": "#2a3f5f"
           }
          },
          "ternary": {
           "aaxis": {
            "gridcolor": "white",
            "linecolor": "white",
            "ticks": ""
           },
           "baxis": {
            "gridcolor": "white",
            "linecolor": "white",
            "ticks": ""
           },
           "bgcolor": "#E5ECF6",
           "caxis": {
            "gridcolor": "white",
            "linecolor": "white",
            "ticks": ""
           }
          },
          "title": {
           "x": 0.05
          },
          "xaxis": {
           "automargin": true,
           "gridcolor": "white",
           "linecolor": "white",
           "ticks": "",
           "title": {
            "standoff": 15
           },
           "zerolinecolor": "white",
           "zerolinewidth": 2
          },
          "yaxis": {
           "automargin": true,
           "gridcolor": "white",
           "linecolor": "white",
           "ticks": "",
           "title": {
            "standoff": 15
           },
           "zerolinecolor": "white",
           "zerolinewidth": 2
          }
         }
        },
        "title": {
         "text": "Figure 3. Цена (тнг) vs Площадь (м2)"
        },
        "xaxis": {
         "anchor": "y",
         "domain": [
          0,
          1
         ],
         "title": {
          "text": "Площадь (м2)"
         }
        },
        "yaxis": {
         "anchor": "x",
         "domain": [
          0,
          1
         ],
         "title": {
          "text": "Цена (тнг)"
         }
        }
       }
      },
      "text/html": [
       "<div>\n",
       "        \n",
       "        \n",
       "            <div id=\"f5b9e7bd-883d-40b4-a275-c2da39ad90be\" class=\"plotly-graph-div\" style=\"height:525px; width:100%;\"></div>\n",
       "            <script type=\"text/javascript\">\n",
       "                require([\"plotly\"], function(Plotly) {\n",
       "                    window.PLOTLYENV=window.PLOTLYENV || {};\n",
       "                    \n",
       "                if (document.getElementById(\"f5b9e7bd-883d-40b4-a275-c2da39ad90be\")) {\n",
       "                    Plotly.newPlot(\n",
       "                        'f5b9e7bd-883d-40b4-a275-c2da39ad90be',\n",
       "                        [{\"customdata\": [[\"\\u00ab\\u0411\\u043e\\u0442\\u0430\\u043d\\u0438\\u0447\\u0435\\u0441\\u043a\\u0438\\u0439\\u00bb\", 117.21, 473400.0], [\"\\u00abVela Village\\u00bb\", 219.83, 392400.0], [\"\\u00abHeadliner\\u00bb\", 111.94, 377508.4330891549], [\"\\u00abGrand Opera\\u00bb\", 132.25, 423400.0], [\"\\u00abCapital Park\\u00bb\", 48.75, 358500.0], [\"\\u00abBI City Tokyo\\u00bb\", 75.41, 409000.0], [\"\\u00abEsil Riverside\\u00bb\", 127.0, 500300.0], [\"\\u00ab\\u0411\\u043e\\u0442\\u0430\\u043d\\u0438\\u0447\\u0435\\u0441\\u043a\\u0438\\u0439\\u00bb\", 126.3, 468311.2114014252], [\"\\u00abHeadliner\\u00bb\", 45.4, 383400.0], [\"\\u00abAtlant\\u00bb\", 122.8, 437751.7345276873], [\"\\u00abGrand Opera\\u00bb\", 150.61, 439599.99999999994], [\"\\u00abCapital Park\\u00bb\", 49.19, 360500.0], [\"\\u00abBI City Tokyo\\u00bb\", 105.0, 351000.0], [\"\\u00abEsil Riverside\\u00bb\", 137.65, 482300.0], [\"\\u00ab\\u0411\\u043e\\u0442\\u0430\\u043d\\u0438\\u0447\\u0435\\u0441\\u043a\\u0438\\u0439\\u00bb\", 132.41, 447300.0], [\"\\u00abHeadliner\\u00bb\", 73.11, 373800.0], [\"\\u00abAtlant\\u00bb\", 152.8, 414428.0890052356], [\"\\u00abGrand Opera\\u00bb\", 158.84, 442700.0], [\"\\u00abBI City Tokyo\\u00bb\", 110.84, 351000.0], [\"\\u00abCapital Park\\u00bb\", 54.05, 347900.0], [\"\\u00abEsil Riverside\\u00bb\", 139.26, 477300.00000000006], [\"\\u00ab\\u0411\\u043e\\u0442\\u0430\\u043d\\u0438\\u0447\\u0435\\u0441\\u043a\\u0438\\u0439\\u00bb\", 128.16, 467300.0], [\"\\u00abHeadliner\\u00bb\", 74.25, 374600.0], [\"\\u00abAtlant\\u00bb\", 146.3, 433526.4524948735], [\"\\u00abGrand Opera\\u00bb\", 159.14, 446800.00000000006], [\"\\u00abBI City Tokyo\\u00bb\", 114.03, 348000.0], [\"\\u00abCapital Park\\u00bb\", 55.03, 345500.0], [\"\\u00ab\\u0411\\u043e\\u0442\\u0430\\u043d\\u0438\\u0447\\u0435\\u0441\\u043a\\u0438\\u0439\\u00bb\", 140.56, 455600.0], [\"\\u00abEsil Riverside\\u00bb\", 186.36, 492004.7220433569], [\"\\u00abHeadliner\\u00bb\", 76.89, 393274.43100533227], [\"\\u00abAtlant\\u00bb\", 82.0, 428000.0], [\"\\u00abBI City Tokyo\\u00bb\", 46.71, 380000.0], [\"\\u00abCapital Park\\u00bb\", 52.59, 366200.0], [\"\\u00abEsil Riverside\\u00bb\", 83.12, 518407.12223291624], [\"\\u00abGrand Opera\\u00bb\", 105.04, 451600.0], [\"\\u00abHeadliner\\u00bb\", 98.14, 398489.85123293253], [\"\\u00abBI City Tokyo\\u00bb\", 47.63, 379700.0], [\"\\u00abCapital Park\\u00bb\", 75.98, 360000.0], [\"\\u00abEsil Riverside\\u00bb\", 88.87, 522223.47248790367], [\"\\u00abAtlant\\u00bb\", 94.7, 430000.0], [\"\\u00abGrand Opera\\u00bb\", 115.1, 439400.0], [\"\\u00abBI City Tokyo\\u00bb\", 48.24, 379600.0], [\"\\u00abCapital Park\\u00bb\", 82.03, 385000.0], [\"\\u00abEsil Riverside\\u00bb\", 93.35, 502303.16014997324], [\"\\u00abGrand Opera\\u00bb\", 122.87, 423400.0], [\"\\u00abAtlant\\u00bb\", 97.8, 430777.9754601227], [\"\\u00abCapital Park\\u00bb\", 95.96, 364300.0], [\"\\u00abBI City Tokyo\\u00bb\", 50.25, 428249.99004975124], [\"\\u00abEsil Riverside\\u00bb\", 96.24, 502285.9517871987], [\"\\u00abGrand Opera\\u00bb\", 118.32, 450400.0], [\"\\u00abAtlant\\u00bb\", 102.3, 417779.57966764417], [\"\\u00abBI City Tokyo\\u00bb\", 60.23, 405000.0], [\"\\u00abCapital Park\\u00bb\", 107.0, 344000.0], [\"\\u00abEsil Riverside\\u00bb\", 110.27, 497324.74834497145], [\"\\u00abGrand Opera\\u00bb\", 126.8, 425400.0], [\"\\u00abAtlant\\u00bb\", 113.6, 429585.07042253524], [\"\\u00abBI City Tokyo\\u00bb\", 75.3, 359000.0], [\"\\u00abCapital Park\\u00bb\", 108.66, 343800.0], [\"\\u00abEsil Riverside\\u00bb\", 116.6, 492300.0], [\"\\u00abCapital Park\\u00bb\", 101.87, 367800.0], [\"\\u00abCapital Park\\u00bb\", 109.02, 344000.0], [\"\\u00abCapital Park\\u00bb\", 107.95, 352800.0], [\"\\u00abCapital Park\\u00bb\", 108.68, 359600.0], [\"\\u00abNura Esil\\u00bb\", 48.0, 383600.0], [\"\\u00abNura Esil\\u00bb\", 111.1, 380756.9756975698], [\"\\u00abNura Esil\\u00bb\", 92.7, 373000.0], [\"\\u00abNura Esil\\u00bb\", 125.0, 371200.0], [\"\\u00abNura Esil\\u00bb\", 46.5, 379900.0], [\"\\u00abNura Esil\\u00bb\", 83.2, 395600.0], [\"\\u00abNura Esil\\u00bb\", 96.0, 396000.0], [\"\\u00abNura Esil\\u00bb\", 107.0, 377000.0], [\"\\u00abNura Esil\\u00bb\", 49.2, 390300.0]], \"hovertemplate\": \"\\u0417\\u0430\\u0441\\u0442\\u0440\\u043e\\u0439\\u0449\\u0438\\u043a=\\u00abBI Group\\u00bb<br>\\u041f\\u043b\\u043e\\u0449\\u0430\\u0434\\u044c (\\u043c2)=%{customdata[1]}<br>\\u0426\\u0435\\u043d\\u0430 (\\u0442\\u043d\\u0433)=%{y}<br>\\u041a\\u043e\\u043b\\u0438\\u0447\\u0435\\u0441\\u0442\\u0432\\u043e \\u043a\\u043e\\u043c\\u043d\\u0430\\u0442=%{marker.size}<br>\\u0416\\u041a=%{customdata[0]}<br>\\u0426\\u0435\\u043d\\u0430 \\u0437\\u0430 \\u043c2=%{customdata[2]}<extra></extra>\", \"legendgroup\": \"\\u00abBI Group\\u00bb\", \"marker\": {\"color\": \"#636efa\", \"size\": [3, 5, 3, 3, 2, 3, 3, 3, 1, 3, 4, 2, 3, 3, 3, 2, 4, 4, 3, 1, 3, 3, 2, 4, 4, 3, 2, 3, 4, 2, 2, 1, 1, 2, 3, 3, 1, 2, 3, 3, 3, 1, 2, 3, 3, 3, 3, 1, 3, 3, 3, 2, 3, 3, 3, 3, 2, 3, 3, 3, 3, 3, 3, 1, 3, 3, 4, 1, 3, 3, 3, 1], \"sizemode\": \"area\", \"sizeref\": 0.0125, \"symbol\": \"circle\"}, \"mode\": \"markers\", \"name\": \"\\u00abBI Group\\u00bb\", \"orientation\": \"v\", \"showlegend\": true, \"type\": \"scatter\", \"x\": [117.21, 219.83, 111.94, 132.25, 48.75, 75.41, 127.0, 126.3, 45.4, 122.8, 150.61, 49.19, 105.0, 137.65, 132.41, 73.11, 152.8, 158.84, 110.84, 54.05, 139.26, 128.16, 74.25, 146.3, 159.14, 114.03, 55.03, 140.56, 186.36, 76.89, 82.0, 46.71, 52.59, 83.12, 105.04, 98.14, 47.63, 75.98, 88.87, 94.7, 115.1, 48.24, 82.03, 93.35, 122.87, 97.8, 95.96, 50.25, 96.24, 118.32, 102.3, 60.23, 107.0, 110.27, 126.8, 113.6, 75.3, 108.66, 116.6, 101.87, 109.02, 107.95, 108.68, 48.0, 111.1, 92.7, 125.0, 46.5, 83.2, 96.0, 107.0, 49.2], \"xaxis\": \"x\", \"y\": [55487214, 86261292, 42258294, 55994650, 17476875, 30842690, 63538100, 59147706, 17406360, 53755913, 66208156, 17732995, 36855000, 66388595, 59226993, 27328518, 63324612, 70318468, 38904840, 18803995, 66468798, 59889168, 27814050, 63424920, 71103752, 39682440, 19012865, 64039136, 91690000, 30238871, 35096000, 17749800, 19258458, 43090000, 47436064, 39107794, 18085111, 27352800, 46410000, 40721000, 50574940, 18311904, 31581550, 46890000, 52023158, 42130086, 34958228, 21519562, 48340000, 53291328, 42738851, 24393150, 36808000, 54840000, 53940720, 48800864, 27032700, 37357308, 57402180, 37467786, 37502880, 38084760, 39081328, 18412800, 42302100, 34577100, 46400000, 17665350, 32913920, 38016000, 40339000, 19202760], \"yaxis\": \"y\"}, {\"customdata\": [[\"\\u00abAlau\\u00bb\", 44.22, 350000.0], [\"\\u00abAlau\\u00bb\", 97.39, 285000.0], [\"\\u00abAlau\\u00bb\", 127.82, 300000.0], [\"\\u00abAlau\\u00bb\", 178.0, 301213.4831460674]], \"hovertemplate\": \"\\u0417\\u0430\\u0441\\u0442\\u0440\\u043e\\u0439\\u0449\\u0438\\u043a=\\u00ab\\u0410\\u0441\\u0442\\u0430\\u043d\\u0430\\u0422\\u0435\\u0445\\u0421\\u0442\\u0440\\u043e\\u0439\\u00bb<br>\\u041f\\u043b\\u043e\\u0449\\u0430\\u0434\\u044c (\\u043c2)=%{customdata[1]}<br>\\u0426\\u0435\\u043d\\u0430 (\\u0442\\u043d\\u0433)=%{y}<br>\\u041a\\u043e\\u043b\\u0438\\u0447\\u0435\\u0441\\u0442\\u0432\\u043e \\u043a\\u043e\\u043c\\u043d\\u0430\\u0442=%{marker.size}<br>\\u0416\\u041a=%{customdata[0]}<br>\\u0426\\u0435\\u043d\\u0430 \\u0437\\u0430 \\u043c2=%{customdata[2]}<extra></extra>\", \"legendgroup\": \"\\u00ab\\u0410\\u0441\\u0442\\u0430\\u043d\\u0430\\u0422\\u0435\\u0445\\u0421\\u0442\\u0440\\u043e\\u0439\\u00bb\", \"marker\": {\"color\": \"#EF553B\", \"size\": [1, 3, 3, 4], \"sizemode\": \"area\", \"sizeref\": 0.0125, \"symbol\": \"circle\"}, \"mode\": \"markers\", \"name\": \"\\u00ab\\u0410\\u0441\\u0442\\u0430\\u043d\\u0430\\u0422\\u0435\\u0445\\u0421\\u0442\\u0440\\u043e\\u0439\\u00bb\", \"orientation\": \"v\", \"showlegend\": true, \"type\": \"scatter\", \"x\": [44.22, 97.39, 127.82, 178.0], \"xaxis\": \"x\", \"y\": [15477000, 27756150, 38346000, 53616000], \"yaxis\": \"y\"}, {\"customdata\": [[\"\\u00abCollege\\u00bb\", 60.96, 269734.25196850393], [\"\\u00abCollege\\u00bb\", 76.89, 275703.0823253999], [\"\\u00abCollege\\u00bb\", 80.75, 275000.0], [\"\\u00abCollege\\u00bb\", 89.33, 266940.22165006155], [\"\\u00abCollege\\u00bb\", 104.69, 270000.0], [\"\\u00abCollege\\u00bb\", 113.19, 265000.0], [\"\\u00abCollege\\u00bb\", 116.89, 267000.0], [\"\\u00abCollege\\u00bb\", 35.34, 301871.25070741365]], \"hovertemplate\": \"\\u0417\\u0430\\u0441\\u0442\\u0440\\u043e\\u0439\\u0449\\u0438\\u043a=\\u00ab\\u0422\\u041e\\u041e \\u0424\\u0430\\u0432\\u043e\\u0440\\u0438\\u0442 \\u0421\\u0442\\u0440\\u043e\\u0439\\u00bb<br>\\u041f\\u043b\\u043e\\u0449\\u0430\\u0434\\u044c (\\u043c2)=%{customdata[1]}<br>\\u0426\\u0435\\u043d\\u0430 (\\u0442\\u043d\\u0433)=%{y}<br>\\u041a\\u043e\\u043b\\u0438\\u0447\\u0435\\u0441\\u0442\\u0432\\u043e \\u043a\\u043e\\u043c\\u043d\\u0430\\u0442=%{marker.size}<br>\\u0416\\u041a=%{customdata[0]}<br>\\u0426\\u0435\\u043d\\u0430 \\u0437\\u0430 \\u043c2=%{customdata[2]}<extra></extra>\", \"legendgroup\": \"\\u00ab\\u0422\\u041e\\u041e \\u0424\\u0430\\u0432\\u043e\\u0440\\u0438\\u0442 \\u0421\\u0442\\u0440\\u043e\\u0439\\u00bb\", \"marker\": {\"color\": \"#00cc96\", \"size\": [2, 3, 3, 3, 4, 4, 4, 1], \"sizemode\": \"area\", \"sizeref\": 0.0125, \"symbol\": \"circle\"}, \"mode\": \"markers\", \"name\": \"\\u00ab\\u0422\\u041e\\u041e \\u0424\\u0430\\u0432\\u043e\\u0440\\u0438\\u0442 \\u0421\\u0442\\u0440\\u043e\\u0439\\u00bb\", \"orientation\": \"v\", \"showlegend\": true, \"type\": \"scatter\", \"x\": [60.96, 76.89, 80.75, 89.33, 104.69, 113.19, 116.89, 35.34], \"xaxis\": \"x\", \"y\": [16443000, 21198810, 22206250, 23845770, 28266300, 29995350, 31209630, 10668130], \"yaxis\": \"y\"}, {\"customdata\": [[\"\\u00ab\\u042d\\u043c\\u0438\\u0440\\u00bb\", 60.27, 255000.0], [\"\\u00ab\\u042d\\u043c\\u0438\\u0440\\u00bb\", 64.54, 254999.99999999997], [\"\\u00ab\\u042d\\u043c\\u0438\\u0440\\u00bb\", 73.02, 255000.0], [\"\\u00ab\\u042d\\u043c\\u0438\\u0440\\u00bb\", 90.73, 255000.0], [\"\\u00ab\\u042d\\u043c\\u0438\\u0440\\u00bb\", 37.85, 255000.0]], \"hovertemplate\": \"\\u0417\\u0430\\u0441\\u0442\\u0440\\u043e\\u0439\\u0449\\u0438\\u043a=\\u00abGarInvest\\u00bb<br>\\u041f\\u043b\\u043e\\u0449\\u0430\\u0434\\u044c (\\u043c2)=%{customdata[1]}<br>\\u0426\\u0435\\u043d\\u0430 (\\u0442\\u043d\\u0433)=%{y}<br>\\u041a\\u043e\\u043b\\u0438\\u0447\\u0435\\u0441\\u0442\\u0432\\u043e \\u043a\\u043e\\u043c\\u043d\\u0430\\u0442=%{marker.size}<br>\\u0416\\u041a=%{customdata[0]}<br>\\u0426\\u0435\\u043d\\u0430 \\u0437\\u0430 \\u043c2=%{customdata[2]}<extra></extra>\", \"legendgroup\": \"\\u00abGarInvest\\u00bb\", \"marker\": {\"color\": \"#ab63fa\", \"size\": [2, 2, 3, 3, 1], \"sizemode\": \"area\", \"sizeref\": 0.0125, \"symbol\": \"circle\"}, \"mode\": \"markers\", \"name\": \"\\u00abGarInvest\\u00bb\", \"orientation\": \"v\", \"showlegend\": true, \"type\": \"scatter\", \"x\": [60.27, 64.54, 73.02, 90.73, 37.85], \"xaxis\": \"x\", \"y\": [15368850, 16457700, 18620100, 23136150, 9651750], \"yaxis\": \"y\"}, {\"customdata\": [[\"\\u00abTulpar City\\u00bb\", 39.75, 180000.0], [\"\\u00abTulpar City\\u00bb\", 40.17, 180000.0], [\"\\u00abTulpar City\\u00bb\", 41.04, 180000.0], [\"\\u00abTulpar City\\u00bb\", 41.98, 180000.0], [\"\\u00abTulpar City\\u00bb\", 42.14, 180000.0], [\"\\u00abTulpar City\\u00bb\", 44.22, 180000.0], [\"\\u00abTulpar City\\u00bb\", 46.72, 180000.0], [\"\\u00abTulpar City\\u00bb\", 51.56, 180000.0], [\"\\u00abTulpar City\\u00bb\", 79.3, 180000.0], [\"\\u00abTulpar City\\u00bb\", 79.62, 180000.0], [\"\\u00abTulpar City\\u00bb\", 34.5, 180000.0], [\"\\u00abTulpar City\\u00bb\", 35.35, 180000.0], [\"\\u00abTulpar City\\u00bb\", 36.67, 180000.0], [\"\\u00abTulpar City\\u00bb\", 37.4, 180000.0]], \"hovertemplate\": \"\\u0417\\u0430\\u0441\\u0442\\u0440\\u043e\\u0439\\u0449\\u0438\\u043a=\\u00abAIZ QURYLYS \\u0422\\u041e\\u041e\\u00bb<br>\\u041f\\u043b\\u043e\\u0449\\u0430\\u0434\\u044c (\\u043c2)=%{customdata[1]}<br>\\u0426\\u0435\\u043d\\u0430 (\\u0442\\u043d\\u0433)=%{y}<br>\\u041a\\u043e\\u043b\\u0438\\u0447\\u0435\\u0441\\u0442\\u0432\\u043e \\u043a\\u043e\\u043c\\u043d\\u0430\\u0442=%{marker.size}<br>\\u0416\\u041a=%{customdata[0]}<br>\\u0426\\u0435\\u043d\\u0430 \\u0437\\u0430 \\u043c2=%{customdata[2]}<extra></extra>\", \"legendgroup\": \"\\u00abAIZ QURYLYS \\u0422\\u041e\\u041e\\u00bb\", \"marker\": {\"color\": \"#FFA15A\", \"size\": [1, 1, 1, 1, 1, 1, 1, 1, 3, 3, 1, 1, 1, 1], \"sizemode\": \"area\", \"sizeref\": 0.0125, \"symbol\": \"circle\"}, \"mode\": \"markers\", \"name\": \"\\u00abAIZ QURYLYS \\u0422\\u041e\\u041e\\u00bb\", \"orientation\": \"v\", \"showlegend\": true, \"type\": \"scatter\", \"x\": [39.75, 40.17, 41.04, 41.98, 42.14, 44.22, 46.72, 51.56, 79.3, 79.62, 34.5, 35.35, 36.67, 37.4], \"xaxis\": \"x\", \"y\": [7155000, 7230600, 7387200, 7556400, 7585200, 7959600, 8409600, 9280800, 14274000, 14331600, 6210000, 6363000, 6600600, 6732000], \"yaxis\": \"y\"}, {\"customdata\": [[\"\\u00ab\\u0410\\u043b\\u0442\\u044b\\u043d \\u041e\\u0442\\u0430\\u0443\\u00bb\", 37.02, 249999.99999999997], [\"\\u00ab\\u0410\\u043b\\u0442\\u044b\\u043d \\u041e\\u0442\\u0430\\u0443\\u00bb\", 38.54, 250000.0], [\"\\u00ab\\u0410\\u043b\\u0442\\u044b\\u043d \\u041e\\u0442\\u0430\\u0443\\u00bb\", 42.97, 250000.0], [\"\\u00ab\\u0410\\u043b\\u0442\\u044b\\u043d \\u041e\\u0442\\u0430\\u0443\\u00bb\", 57.87, 250000.0], [\"\\u00ab\\u0410\\u043b\\u0442\\u044b\\u043d \\u041e\\u0442\\u0430\\u0443\\u00bb\", 59.69, 250000.0], [\"\\u00ab\\u0410\\u043b\\u0442\\u044b\\u043d \\u041e\\u0442\\u0430\\u0443\\u00bb\", 63.36, 250000.0], [\"\\u00ab\\u0410\\u043b\\u0442\\u044b\\u043d \\u041e\\u0442\\u0430\\u0443\\u00bb\", 66.73, 249999.99999999997], [\"\\u00ab\\u0410\\u043b\\u0442\\u044b\\u043d \\u041e\\u0442\\u0430\\u0443\\u00bb\", 68.53, 250000.0], [\"\\u00ab\\u0410\\u043b\\u0442\\u044b\\u043d \\u041e\\u0442\\u0430\\u0443\\u00bb\", 71.46, 250000.00000000003]], \"hovertemplate\": \"\\u0417\\u0430\\u0441\\u0442\\u0440\\u043e\\u0439\\u0449\\u0438\\u043a=\\u00ab\\u0410\\u043b\\u0442\\u044b\\u043d \\u041e\\u0442\\u0430\\u0443 \\u0422\\u041e\\u041e\\u00bb<br>\\u041f\\u043b\\u043e\\u0449\\u0430\\u0434\\u044c (\\u043c2)=%{customdata[1]}<br>\\u0426\\u0435\\u043d\\u0430 (\\u0442\\u043d\\u0433)=%{y}<br>\\u041a\\u043e\\u043b\\u0438\\u0447\\u0435\\u0441\\u0442\\u0432\\u043e \\u043a\\u043e\\u043c\\u043d\\u0430\\u0442=%{marker.size}<br>\\u0416\\u041a=%{customdata[0]}<br>\\u0426\\u0435\\u043d\\u0430 \\u0437\\u0430 \\u043c2=%{customdata[2]}<extra></extra>\", \"legendgroup\": \"\\u00ab\\u0410\\u043b\\u0442\\u044b\\u043d \\u041e\\u0442\\u0430\\u0443 \\u0422\\u041e\\u041e\\u00bb\", \"marker\": {\"color\": \"#19d3f3\", \"size\": [1, 1, 1, 2, 2, 2, 2, 2, 3], \"sizemode\": \"area\", \"sizeref\": 0.0125, \"symbol\": \"circle\"}, \"mode\": \"markers\", \"name\": \"\\u00ab\\u0410\\u043b\\u0442\\u044b\\u043d \\u041e\\u0442\\u0430\\u0443 \\u0422\\u041e\\u041e\\u00bb\", \"orientation\": \"v\", \"showlegend\": true, \"type\": \"scatter\", \"x\": [37.02, 38.54, 42.97, 57.87, 59.69, 63.36, 66.73, 68.53, 71.46], \"xaxis\": \"x\", \"y\": [9255000, 9635000, 10742500, 14467500, 14922500, 15840000, 16682500, 17132500, 17865000], \"yaxis\": \"y\"}, {\"customdata\": [[\"\\u00abApple City\\u00bb\", 66.15, 290000.0], [\"\\u00abApple City\\u00bb\", 66.44, 290000.0], [\"\\u00abApple City\\u00bb\", 65.85, 290000.0], [\"\\u00abApple City\\u00bb\", 68.14, 290000.0], [\"\\u00abApple City\\u00bb\", 80.64, 290000.0], [\"\\u00abApple City\\u00bb\", 66.34, 290000.0], [\"\\u00abApple City\\u00bb\", 61.4, 290000.0], [\"\\u00abApple City\\u00bb\", 53.29, 290000.0], [\"\\u00abApple City\\u00bb\", 47.8, 290000.0], [\"\\u00abApple City\\u00bb\", 49.98, 290000.0], [\"\\u00abApple City\\u00bb\", 42.36, 290000.0], [\"\\u00abApple City\\u00bb\", 61.85, 290000.0], [\"\\u00abApple City\\u00bb\", 64.7, 290000.0], [\"\\u00abApple City\\u00bb\", 45.81, 290000.0], [\"\\u00abApple City\\u00bb\", 57.98, 290000.0]], \"hovertemplate\": \"\\u0417\\u0430\\u0441\\u0442\\u0440\\u043e\\u0439\\u0449\\u0438\\u043a=\\u00abSAT-NS \\u0422\\u041e\\u041e\\u00bb<br>\\u041f\\u043b\\u043e\\u0449\\u0430\\u0434\\u044c (\\u043c2)=%{customdata[1]}<br>\\u0426\\u0435\\u043d\\u0430 (\\u0442\\u043d\\u0433)=%{y}<br>\\u041a\\u043e\\u043b\\u0438\\u0447\\u0435\\u0441\\u0442\\u0432\\u043e \\u043a\\u043e\\u043c\\u043d\\u0430\\u0442=%{marker.size}<br>\\u0416\\u041a=%{customdata[0]}<br>\\u0426\\u0435\\u043d\\u0430 \\u0437\\u0430 \\u043c2=%{customdata[2]}<extra></extra>\", \"legendgroup\": \"\\u00abSAT-NS \\u0422\\u041e\\u041e\\u00bb\", \"marker\": {\"color\": \"#FF6692\", \"size\": [2, 2, 2, 2, 2, 2, 2, 2, 1, 2, 1, 2, 2, 1, 2], \"sizemode\": \"area\", \"sizeref\": 0.0125, \"symbol\": \"circle\"}, \"mode\": \"markers\", \"name\": \"\\u00abSAT-NS \\u0422\\u041e\\u041e\\u00bb\", \"orientation\": \"v\", \"showlegend\": true, \"type\": \"scatter\", \"x\": [66.15, 66.44, 65.85, 68.14, 80.64, 66.34, 61.4, 53.29, 47.8, 49.98, 42.36, 61.85, 64.7, 45.81, 57.98], \"xaxis\": \"x\", \"y\": [19183500, 19267600, 19096500, 19760600, 23385600, 19238600, 17806000, 15454100, 13862000, 14494200, 12284400, 17936500, 18763000, 13284900, 16814200], \"yaxis\": \"y\"}, {\"customdata\": [[\"\\u00ab\\u0411\\u0430\\u0439\\u0441\\u0430\\u043b\\u00bb\", 52.9, 140000.0], [\"\\u00ab\\u0411\\u0430\\u0439\\u0441\\u0430\\u043b\\u00bb\", 67.3, 140000.0], [\"\\u00ab\\u0411\\u0430\\u0439\\u0441\\u0430\\u043b\\u00bb\", 46.4, 140000.0], [\"\\u00ab\\u0411\\u0430\\u0439\\u0441\\u0430\\u043b\\u00bb\", 44.9, 140000.0], [\"\\u00ab\\u0411\\u0430\\u0439\\u0441\\u0430\\u043b\\u00bb\", 38.0, 140000.0], [\"\\u00ab\\u0411\\u0430\\u0439\\u0441\\u0430\\u043b\\u00bb\", 61.2, 140000.0], [\"\\u00ab\\u0411\\u0430\\u0439\\u0441\\u0430\\u043b\\u00bb\", 54.1, 140000.0], [\"\\u00ab\\u0411\\u0430\\u0439\\u0441\\u0430\\u043b\\u00bb\", 52.1, 140000.0], [\"\\u00ab\\u0411\\u0430\\u0439\\u0441\\u0430\\u043b\\u00bb\", 53.1, 140000.0], [\"\\u00ab\\u0411\\u0430\\u0439\\u0441\\u0430\\u043b\\u00bb\", 38.0, 140000.0], [\"\\u00ab\\u0411\\u0430\\u0439\\u0441\\u0430\\u043b\\u00bb\", 45.9, 140000.0], [\"\\u00ab\\u0411\\u0430\\u0439\\u0441\\u0430\\u043b\\u00bb\", 33.3, 140000.0], [\"\\u00ab\\u0411\\u0430\\u0439\\u0441\\u0430\\u043b\\u00bb\", 73.4, 140000.0], [\"\\u00ab\\u0411\\u0430\\u0439\\u0441\\u0430\\u043b\\u00bb\", 51.7, 140000.0], [\"\\u00ab\\u0411\\u0430\\u0439\\u0441\\u0430\\u043b\\u00bb\", 36.8, 140000.0], [\"\\u00ab\\u0411\\u0430\\u0439\\u0441\\u0430\\u043b\\u00bb\", 36.4, 180000.0]], \"hovertemplate\": \"\\u0417\\u0430\\u0441\\u0442\\u0440\\u043e\\u0439\\u0449\\u0438\\u043a=\\u00ab\\u0411\\u0435\\u0440\\u0435\\u043a\\u0435 \\u041a\\u0443\\u0440\\u044b\\u043b\\u044b\\u0441 2030\\u00bb<br>\\u041f\\u043b\\u043e\\u0449\\u0430\\u0434\\u044c (\\u043c2)=%{customdata[1]}<br>\\u0426\\u0435\\u043d\\u0430 (\\u0442\\u043d\\u0433)=%{y}<br>\\u041a\\u043e\\u043b\\u0438\\u0447\\u0435\\u0441\\u0442\\u0432\\u043e \\u043a\\u043e\\u043c\\u043d\\u0430\\u0442=%{marker.size}<br>\\u0416\\u041a=%{customdata[0]}<br>\\u0426\\u0435\\u043d\\u0430 \\u0437\\u0430 \\u043c2=%{customdata[2]}<extra></extra>\", \"legendgroup\": \"\\u00ab\\u0411\\u0435\\u0440\\u0435\\u043a\\u0435 \\u041a\\u0443\\u0440\\u044b\\u043b\\u044b\\u0441 2030\\u00bb\", \"marker\": {\"color\": \"#B6E880\", \"size\": [2, 3, 2, 1, 1, 3, 2, 2, 2, 1, 1, 1, 2, 2, 1, 1], \"sizemode\": \"area\", \"sizeref\": 0.0125, \"symbol\": \"circle\"}, \"mode\": \"markers\", \"name\": \"\\u00ab\\u0411\\u0435\\u0440\\u0435\\u043a\\u0435 \\u041a\\u0443\\u0440\\u044b\\u043b\\u044b\\u0441 2030\\u00bb\", \"orientation\": \"v\", \"showlegend\": true, \"type\": \"scatter\", \"x\": [52.9, 67.3, 46.4, 44.9, 38.0, 61.2, 54.1, 52.1, 53.1, 38.0, 45.9, 33.3, 73.4, 51.7, 36.8, 36.4], \"xaxis\": \"x\", \"y\": [7406000, 9422000, 6496000, 6286000, 5320000, 8568000, 7574000, 7294000, 7434000, 5320000, 6426000, 4662000, 10276000, 7238000, 5152000, 6552000], \"yaxis\": \"y\"}, {\"customdata\": [[\"\\u00abASQAT\\u00bb\", 34.04, 295000.0], [\"\\u00abASQAT\\u00bb\", 86.96, 255000.00000000003], [\"\\u00abASQAT\\u00bb\", 32.34, 294999.99999999994], [\"\\u00abASQAT\\u00bb\", 36.37, 295000.0], [\"\\u00abASQAT\\u00bb\", 69.59, 265000.0], [\"\\u00abASQAT\\u00bb\", 81.56, 280000.0], [\"\\u00abASQAT\\u00bb\", 87.15, 280000.0], [\"\\u00abASQAT\\u00bb\", 92.33, 280000.0], [\"\\u00abASQAT\\u00bb\", 75.75, 265000.0], [\"\\u00abASQAT\\u00bb\", 37.45, 295000.0], [\"\\u00abASQAT\\u00bb\", 35.99, 295000.0], [\"\\u00abASQAT\\u00bb\", 71.06, 265000.0], [\"\\u00abASQAT\\u00bb\", 37.9, 295000.0], [\"\\u00abASQAT\\u00bb\", 32.22, 295000.0], [\"\\u00abASQAT\\u00bb\", 56.07, 285000.0], [\"\\u00abASQAT\\u00bb\", 57.53, 285000.0], [\"\\u00abASQAT\\u00bb\", 56.35, 285000.0]], \"hovertemplate\": \"\\u0417\\u0430\\u0441\\u0442\\u0440\\u043e\\u0439\\u0449\\u0438\\u043a=\\u00abAsti Group\\u00bb<br>\\u041f\\u043b\\u043e\\u0449\\u0430\\u0434\\u044c (\\u043c2)=%{customdata[1]}<br>\\u0426\\u0435\\u043d\\u0430 (\\u0442\\u043d\\u0433)=%{y}<br>\\u041a\\u043e\\u043b\\u0438\\u0447\\u0435\\u0441\\u0442\\u0432\\u043e \\u043a\\u043e\\u043c\\u043d\\u0430\\u0442=%{marker.size}<br>\\u0416\\u041a=%{customdata[0]}<br>\\u0426\\u0435\\u043d\\u0430 \\u0437\\u0430 \\u043c2=%{customdata[2]}<extra></extra>\", \"legendgroup\": \"\\u00abAsti Group\\u00bb\", \"marker\": {\"color\": \"#FF97FF\", \"size\": [1, 3, 1, 1, 2, 3, 3, 3, 2, 1, 1, 2, 1, 1, 2, 2, 2], \"sizemode\": \"area\", \"sizeref\": 0.0125, \"symbol\": \"circle\"}, \"mode\": \"markers\", \"name\": \"\\u00abAsti Group\\u00bb\", \"orientation\": \"v\", \"showlegend\": true, \"type\": \"scatter\", \"x\": [34.04, 86.96, 32.34, 36.37, 69.59, 81.56, 87.15, 92.33, 75.75, 37.45, 35.99, 71.06, 37.9, 32.22, 56.07, 57.53, 56.35], \"xaxis\": \"x\", \"y\": [10041800, 22174800, 9540300, 10729150, 18441350, 22836800, 24402000, 25852400, 20073750, 11047750, 10617050, 18830900, 11180500, 9504900, 15979950, 16396050, 16059750], \"yaxis\": \"y\"}, {\"customdata\": [[\"\\u00ab\\u041a\\u0430\\u0437\\u0430\\u043d\\u0430\\u0442 2\\u00bb\", 41.87, 200000.0], [\"\\u00ab\\u041a\\u0430\\u0437\\u0430\\u043d\\u0430\\u0442 2\\u00bb\", 41.81, 200000.0], [\"\\u00ab\\u041a\\u0430\\u0437\\u0430\\u043d\\u0430\\u0442 2\\u00bb\", 61.13, 200000.0], [\"\\u00ab\\u041a\\u0430\\u0437\\u0430\\u043d\\u0430\\u0442 2\\u00bb\", 78.95, 200000.0], [\"\\u00ab\\u041a\\u0430\\u0437\\u0430\\u043d\\u0430\\u0442 2\\u00bb\", 67.16, 200000.0], [\"\\u00ab\\u041a\\u0430\\u0437\\u0430\\u043d\\u0430\\u0442 2\\u00bb\", 61.0, 200000.0], [\"\\u00ab\\u041a\\u0430\\u0437\\u0430\\u043d\\u0430\\u0442 2\\u00bb\", 44.93, 200000.0]], \"hovertemplate\": \"\\u0417\\u0430\\u0441\\u0442\\u0440\\u043e\\u0439\\u0449\\u0438\\u043a=\\u00ab\\u0416\\u0421\\u041a \\u0416\\u0430\\u043d\\u0443\\u044f \\u0418\\u043d\\u0432\\u0435\\u0441\\u0442\\u00bb<br>\\u041f\\u043b\\u043e\\u0449\\u0430\\u0434\\u044c (\\u043c2)=%{customdata[1]}<br>\\u0426\\u0435\\u043d\\u0430 (\\u0442\\u043d\\u0433)=%{y}<br>\\u041a\\u043e\\u043b\\u0438\\u0447\\u0435\\u0441\\u0442\\u0432\\u043e \\u043a\\u043e\\u043c\\u043d\\u0430\\u0442=%{marker.size}<br>\\u0416\\u041a=%{customdata[0]}<br>\\u0426\\u0435\\u043d\\u0430 \\u0437\\u0430 \\u043c2=%{customdata[2]}<extra></extra>\", \"legendgroup\": \"\\u00ab\\u0416\\u0421\\u041a \\u0416\\u0430\\u043d\\u0443\\u044f \\u0418\\u043d\\u0432\\u0435\\u0441\\u0442\\u00bb\", \"marker\": {\"color\": \"#FECB52\", \"size\": [1, 1, 2, 3, 2, 2, 1], \"sizemode\": \"area\", \"sizeref\": 0.0125, \"symbol\": \"circle\"}, \"mode\": \"markers\", \"name\": \"\\u00ab\\u0416\\u0421\\u041a \\u0416\\u0430\\u043d\\u0443\\u044f \\u0418\\u043d\\u0432\\u0435\\u0441\\u0442\\u00bb\", \"orientation\": \"v\", \"showlegend\": true, \"type\": \"scatter\", \"x\": [41.87, 41.81, 61.13, 78.95, 67.16, 61.0, 44.93], \"xaxis\": \"x\", \"y\": [8374000, 8362000, 12226000, 15790000, 13432000, 12200000, 8986000], \"yaxis\": \"y\"}],\n",
       "                        {\"legend\": {\"itemsizing\": \"constant\", \"title\": {\"text\": \"\\u0417\\u0430\\u0441\\u0442\\u0440\\u043e\\u0439\\u0449\\u0438\\u043a\"}, \"tracegroupgap\": 0}, \"template\": {\"data\": {\"bar\": [{\"error_x\": {\"color\": \"#2a3f5f\"}, \"error_y\": {\"color\": \"#2a3f5f\"}, \"marker\": {\"line\": {\"color\": \"#E5ECF6\", \"width\": 0.5}}, \"type\": \"bar\"}], \"barpolar\": [{\"marker\": {\"line\": {\"color\": \"#E5ECF6\", \"width\": 0.5}}, \"type\": \"barpolar\"}], \"carpet\": [{\"aaxis\": {\"endlinecolor\": \"#2a3f5f\", \"gridcolor\": \"white\", \"linecolor\": \"white\", \"minorgridcolor\": \"white\", \"startlinecolor\": \"#2a3f5f\"}, \"baxis\": {\"endlinecolor\": \"#2a3f5f\", \"gridcolor\": \"white\", \"linecolor\": \"white\", \"minorgridcolor\": \"white\", \"startlinecolor\": \"#2a3f5f\"}, \"type\": \"carpet\"}], \"choropleth\": [{\"colorbar\": {\"outlinewidth\": 0, \"ticks\": \"\"}, \"type\": \"choropleth\"}], \"contour\": [{\"colorbar\": {\"outlinewidth\": 0, \"ticks\": \"\"}, \"colorscale\": [[0.0, \"#0d0887\"], [0.1111111111111111, \"#46039f\"], [0.2222222222222222, \"#7201a8\"], [0.3333333333333333, \"#9c179e\"], [0.4444444444444444, \"#bd3786\"], [0.5555555555555556, \"#d8576b\"], [0.6666666666666666, \"#ed7953\"], [0.7777777777777778, \"#fb9f3a\"], [0.8888888888888888, \"#fdca26\"], [1.0, \"#f0f921\"]], \"type\": \"contour\"}], \"contourcarpet\": [{\"colorbar\": {\"outlinewidth\": 0, \"ticks\": \"\"}, \"type\": \"contourcarpet\"}], \"heatmap\": [{\"colorbar\": {\"outlinewidth\": 0, \"ticks\": \"\"}, \"colorscale\": [[0.0, \"#0d0887\"], [0.1111111111111111, \"#46039f\"], [0.2222222222222222, \"#7201a8\"], [0.3333333333333333, \"#9c179e\"], [0.4444444444444444, \"#bd3786\"], [0.5555555555555556, \"#d8576b\"], [0.6666666666666666, \"#ed7953\"], [0.7777777777777778, \"#fb9f3a\"], [0.8888888888888888, \"#fdca26\"], [1.0, \"#f0f921\"]], \"type\": \"heatmap\"}], \"heatmapgl\": [{\"colorbar\": {\"outlinewidth\": 0, \"ticks\": \"\"}, \"colorscale\": [[0.0, \"#0d0887\"], [0.1111111111111111, \"#46039f\"], [0.2222222222222222, \"#7201a8\"], [0.3333333333333333, \"#9c179e\"], [0.4444444444444444, \"#bd3786\"], [0.5555555555555556, \"#d8576b\"], [0.6666666666666666, \"#ed7953\"], [0.7777777777777778, \"#fb9f3a\"], [0.8888888888888888, \"#fdca26\"], [1.0, \"#f0f921\"]], \"type\": \"heatmapgl\"}], \"histogram\": [{\"marker\": {\"colorbar\": {\"outlinewidth\": 0, \"ticks\": \"\"}}, \"type\": \"histogram\"}], \"histogram2d\": [{\"colorbar\": {\"outlinewidth\": 0, \"ticks\": \"\"}, \"colorscale\": [[0.0, \"#0d0887\"], [0.1111111111111111, \"#46039f\"], [0.2222222222222222, \"#7201a8\"], [0.3333333333333333, \"#9c179e\"], [0.4444444444444444, \"#bd3786\"], [0.5555555555555556, \"#d8576b\"], [0.6666666666666666, \"#ed7953\"], [0.7777777777777778, \"#fb9f3a\"], [0.8888888888888888, \"#fdca26\"], [1.0, \"#f0f921\"]], \"type\": \"histogram2d\"}], \"histogram2dcontour\": [{\"colorbar\": {\"outlinewidth\": 0, \"ticks\": \"\"}, \"colorscale\": [[0.0, \"#0d0887\"], [0.1111111111111111, \"#46039f\"], [0.2222222222222222, \"#7201a8\"], [0.3333333333333333, \"#9c179e\"], [0.4444444444444444, \"#bd3786\"], [0.5555555555555556, \"#d8576b\"], [0.6666666666666666, \"#ed7953\"], [0.7777777777777778, \"#fb9f3a\"], [0.8888888888888888, \"#fdca26\"], [1.0, \"#f0f921\"]], \"type\": \"histogram2dcontour\"}], \"mesh3d\": [{\"colorbar\": {\"outlinewidth\": 0, \"ticks\": \"\"}, \"type\": \"mesh3d\"}], \"parcoords\": [{\"line\": {\"colorbar\": {\"outlinewidth\": 0, \"ticks\": \"\"}}, \"type\": \"parcoords\"}], \"pie\": [{\"automargin\": true, \"type\": \"pie\"}], \"scatter\": [{\"marker\": {\"colorbar\": {\"outlinewidth\": 0, \"ticks\": \"\"}}, \"type\": \"scatter\"}], \"scatter3d\": [{\"line\": {\"colorbar\": {\"outlinewidth\": 0, \"ticks\": \"\"}}, \"marker\": {\"colorbar\": {\"outlinewidth\": 0, \"ticks\": \"\"}}, \"type\": \"scatter3d\"}], \"scattercarpet\": [{\"marker\": {\"colorbar\": {\"outlinewidth\": 0, \"ticks\": \"\"}}, \"type\": \"scattercarpet\"}], \"scattergeo\": [{\"marker\": {\"colorbar\": {\"outlinewidth\": 0, \"ticks\": \"\"}}, \"type\": \"scattergeo\"}], \"scattergl\": [{\"marker\": {\"colorbar\": {\"outlinewidth\": 0, \"ticks\": \"\"}}, \"type\": \"scattergl\"}], \"scattermapbox\": [{\"marker\": {\"colorbar\": {\"outlinewidth\": 0, \"ticks\": \"\"}}, \"type\": \"scattermapbox\"}], \"scatterpolar\": [{\"marker\": {\"colorbar\": {\"outlinewidth\": 0, \"ticks\": \"\"}}, \"type\": \"scatterpolar\"}], \"scatterpolargl\": [{\"marker\": {\"colorbar\": {\"outlinewidth\": 0, \"ticks\": \"\"}}, \"type\": \"scatterpolargl\"}], \"scatterternary\": [{\"marker\": {\"colorbar\": {\"outlinewidth\": 0, \"ticks\": \"\"}}, \"type\": \"scatterternary\"}], \"surface\": [{\"colorbar\": {\"outlinewidth\": 0, \"ticks\": \"\"}, \"colorscale\": [[0.0, \"#0d0887\"], [0.1111111111111111, \"#46039f\"], [0.2222222222222222, \"#7201a8\"], [0.3333333333333333, \"#9c179e\"], [0.4444444444444444, \"#bd3786\"], [0.5555555555555556, \"#d8576b\"], [0.6666666666666666, \"#ed7953\"], [0.7777777777777778, \"#fb9f3a\"], [0.8888888888888888, \"#fdca26\"], [1.0, \"#f0f921\"]], \"type\": \"surface\"}], \"table\": [{\"cells\": {\"fill\": {\"color\": \"#EBF0F8\"}, \"line\": {\"color\": \"white\"}}, \"header\": {\"fill\": {\"color\": \"#C8D4E3\"}, \"line\": {\"color\": \"white\"}}, \"type\": \"table\"}]}, \"layout\": {\"annotationdefaults\": {\"arrowcolor\": \"#2a3f5f\", \"arrowhead\": 0, \"arrowwidth\": 1}, \"coloraxis\": {\"colorbar\": {\"outlinewidth\": 0, \"ticks\": \"\"}}, \"colorscale\": {\"diverging\": [[0, \"#8e0152\"], [0.1, \"#c51b7d\"], [0.2, \"#de77ae\"], [0.3, \"#f1b6da\"], [0.4, \"#fde0ef\"], [0.5, \"#f7f7f7\"], [0.6, \"#e6f5d0\"], [0.7, \"#b8e186\"], [0.8, \"#7fbc41\"], [0.9, \"#4d9221\"], [1, \"#276419\"]], \"sequential\": [[0.0, \"#0d0887\"], [0.1111111111111111, \"#46039f\"], [0.2222222222222222, \"#7201a8\"], [0.3333333333333333, \"#9c179e\"], [0.4444444444444444, \"#bd3786\"], [0.5555555555555556, \"#d8576b\"], [0.6666666666666666, \"#ed7953\"], [0.7777777777777778, \"#fb9f3a\"], [0.8888888888888888, \"#fdca26\"], [1.0, \"#f0f921\"]], \"sequentialminus\": [[0.0, \"#0d0887\"], [0.1111111111111111, \"#46039f\"], [0.2222222222222222, \"#7201a8\"], [0.3333333333333333, \"#9c179e\"], [0.4444444444444444, \"#bd3786\"], [0.5555555555555556, \"#d8576b\"], [0.6666666666666666, \"#ed7953\"], [0.7777777777777778, \"#fb9f3a\"], [0.8888888888888888, \"#fdca26\"], [1.0, \"#f0f921\"]]}, \"colorway\": [\"#636efa\", \"#EF553B\", \"#00cc96\", \"#ab63fa\", \"#FFA15A\", \"#19d3f3\", \"#FF6692\", \"#B6E880\", \"#FF97FF\", \"#FECB52\"], \"font\": {\"color\": \"#2a3f5f\"}, \"geo\": {\"bgcolor\": \"white\", \"lakecolor\": \"white\", \"landcolor\": \"#E5ECF6\", \"showlakes\": true, \"showland\": true, \"subunitcolor\": \"white\"}, \"hoverlabel\": {\"align\": \"left\"}, \"hovermode\": \"closest\", \"mapbox\": {\"style\": \"light\"}, \"paper_bgcolor\": \"white\", \"plot_bgcolor\": \"#E5ECF6\", \"polar\": {\"angularaxis\": {\"gridcolor\": \"white\", \"linecolor\": \"white\", \"ticks\": \"\"}, \"bgcolor\": \"#E5ECF6\", \"radialaxis\": {\"gridcolor\": \"white\", \"linecolor\": \"white\", \"ticks\": \"\"}}, \"scene\": {\"xaxis\": {\"backgroundcolor\": \"#E5ECF6\", \"gridcolor\": \"white\", \"gridwidth\": 2, \"linecolor\": \"white\", \"showbackground\": true, \"ticks\": \"\", \"zerolinecolor\": \"white\"}, \"yaxis\": {\"backgroundcolor\": \"#E5ECF6\", \"gridcolor\": \"white\", \"gridwidth\": 2, \"linecolor\": \"white\", \"showbackground\": true, \"ticks\": \"\", \"zerolinecolor\": \"white\"}, \"zaxis\": {\"backgroundcolor\": \"#E5ECF6\", \"gridcolor\": \"white\", \"gridwidth\": 2, \"linecolor\": \"white\", \"showbackground\": true, \"ticks\": \"\", \"zerolinecolor\": \"white\"}}, \"shapedefaults\": {\"line\": {\"color\": \"#2a3f5f\"}}, \"ternary\": {\"aaxis\": {\"gridcolor\": \"white\", \"linecolor\": \"white\", \"ticks\": \"\"}, \"baxis\": {\"gridcolor\": \"white\", \"linecolor\": \"white\", \"ticks\": \"\"}, \"bgcolor\": \"#E5ECF6\", \"caxis\": {\"gridcolor\": \"white\", \"linecolor\": \"white\", \"ticks\": \"\"}}, \"title\": {\"x\": 0.05}, \"xaxis\": {\"automargin\": true, \"gridcolor\": \"white\", \"linecolor\": \"white\", \"ticks\": \"\", \"title\": {\"standoff\": 15}, \"zerolinecolor\": \"white\", \"zerolinewidth\": 2}, \"yaxis\": {\"automargin\": true, \"gridcolor\": \"white\", \"linecolor\": \"white\", \"ticks\": \"\", \"title\": {\"standoff\": 15}, \"zerolinecolor\": \"white\", \"zerolinewidth\": 2}}}, \"title\": {\"text\": \"Figure 3. \\u0426\\u0435\\u043d\\u0430 (\\u0442\\u043d\\u0433) vs \\u041f\\u043b\\u043e\\u0449\\u0430\\u0434\\u044c (\\u043c2)\"}, \"xaxis\": {\"anchor\": \"y\", \"domain\": [0.0, 1.0], \"title\": {\"text\": \"\\u041f\\u043b\\u043e\\u0449\\u0430\\u0434\\u044c (\\u043c2)\"}}, \"yaxis\": {\"anchor\": \"x\", \"domain\": [0.0, 1.0], \"title\": {\"text\": \"\\u0426\\u0435\\u043d\\u0430 (\\u0442\\u043d\\u0433)\"}}},\n",
       "                        {\"responsive\": true}\n",
       "                    ).then(function(){\n",
       "                            \n",
       "var gd = document.getElementById('f5b9e7bd-883d-40b4-a275-c2da39ad90be');\n",
       "var x = new MutationObserver(function (mutations, observer) {{\n",
       "        var display = window.getComputedStyle(gd).display;\n",
       "        if (!display || display === 'none') {{\n",
       "            console.log([gd, 'removed!']);\n",
       "            Plotly.purge(gd);\n",
       "            observer.disconnect();\n",
       "        }}\n",
       "}});\n",
       "\n",
       "// Listen for the removal of the full notebook cells\n",
       "var notebookContainer = gd.closest('#notebook-container');\n",
       "if (notebookContainer) {{\n",
       "    x.observe(notebookContainer, {childList: true});\n",
       "}}\n",
       "\n",
       "// Listen for the clearing of the current output cell\n",
       "var outputEl = gd.closest('.output');\n",
       "if (outputEl) {{\n",
       "    x.observe(outputEl, {childList: true});\n",
       "}}\n",
       "\n",
       "                        })\n",
       "                };\n",
       "                });\n",
       "            </script>\n",
       "        </div>"
      ]
     },
     "metadata": {},
     "output_type": "display_data"
    },
    {
     "data": {
      "text/html": [
       "\n",
       "        <script>\n",
       "            function code_toggle_12932076568443858796() {\n",
       "                $('div.cell.code_cell.rendered.selected').find('div.input').toggle();\n",
       "            }\n",
       "\n",
       "            \n",
       "        </script>\n",
       "\n",
       "        <a href=\"javascript:code_toggle_12932076568443858796()\">Toggle show/hide</a>\n",
       "    "
      ],
      "text/plain": [
       "<IPython.core.display.HTML object>"
      ]
     },
     "execution_count": 25,
     "metadata": {},
     "output_type": "execute_result"
    }
   ],
   "source": [
    "import plotly.express as px\n",
    "df = data\n",
    "fig = px.scatter(df, x=\"Площадь (м2)\", y=\"Цена (тнг)\", color=\"Застройщик\",\n",
    "                 size='Количество комнат', hover_data=[\"ЖК\",\"Площадь (м2)\",\"Цена за м2\"],title='Figure 3. Цена (тнг) vs Площадь (м2)')\n",
    "fig.show()\n",
    "hide_toggle()"
   ]
  },
  {
   "cell_type": "markdown",
   "metadata": {},
   "source": [
    "#### Наблюдения:\n",
    " 1. Все затройщики, кроме BI Group имеют примерно одинаковую тендецию отношения цены за площадь, когда у BI Group это цифра заметно больше\n",
    " 2. Доминирующий затройщик с квартирами выше 125 м2 является BI Group\n",
    "\n"
   ]
  },
  {
   "cell_type": "code",
   "execution_count": 26,
   "metadata": {
    "scrolled": false
   },
   "outputs": [
    {
     "data": {
      "application/vnd.plotly.v1+json": {
       "config": {
        "plotlyServerURL": "https://plot.ly"
       },
       "data": [
        {
         "customdata": [
          [
           "«Ботанический»",
           117.21,
           55487214
          ],
          [
           "«Ботанический»",
           126.3,
           59147706
          ],
          [
           "«Ботанический»",
           132.41,
           59226993
          ],
          [
           "«Ботанический»",
           128.16,
           59889168
          ],
          [
           "«Ботанический»",
           140.56,
           64039136
          ]
         ],
         "hovertemplate": "ЖК=%{customdata[0]}<br>Площадь (м2)=%{customdata[1]}<br>Цена за м2=%{y}<br>Количество комнат=%{marker.size}<br>Цена (тнг)=%{customdata[2]}<extra></extra>",
         "legendgroup": "«Ботанический»",
         "marker": {
          "color": "#636efa",
          "size": [
           3,
           3,
           3,
           3,
           3
          ],
          "sizemode": "area",
          "sizeref": 0.0125,
          "symbol": "circle"
         },
         "mode": "markers",
         "name": "«Ботанический»",
         "orientation": "v",
         "showlegend": true,
         "type": "scatter",
         "x": [
          117.21,
          126.3,
          132.41,
          128.16,
          140.56
         ],
         "xaxis": "x",
         "y": [
          473400,
          468311.2114014252,
          447300,
          467300,
          455600
         ],
         "yaxis": "y"
        },
        {
         "customdata": [
          [
           "«Vela Village»",
           219.83,
           86261292
          ]
         ],
         "hovertemplate": "ЖК=%{customdata[0]}<br>Площадь (м2)=%{customdata[1]}<br>Цена за м2=%{y}<br>Количество комнат=%{marker.size}<br>Цена (тнг)=%{customdata[2]}<extra></extra>",
         "legendgroup": "«Vela Village»",
         "marker": {
          "color": "#EF553B",
          "size": [
           5
          ],
          "sizemode": "area",
          "sizeref": 0.0125,
          "symbol": "circle"
         },
         "mode": "markers",
         "name": "«Vela Village»",
         "orientation": "v",
         "showlegend": true,
         "type": "scatter",
         "x": [
          219.83
         ],
         "xaxis": "x",
         "y": [
          392400
         ],
         "yaxis": "y"
        },
        {
         "customdata": [
          [
           "«Headliner»",
           111.94,
           42258294
          ],
          [
           "«Headliner»",
           45.4,
           17406360
          ],
          [
           "«Headliner»",
           73.11,
           27328518
          ],
          [
           "«Headliner»",
           74.25,
           27814050
          ],
          [
           "«Headliner»",
           76.89,
           30238871
          ],
          [
           "«Headliner»",
           98.14,
           39107794
          ]
         ],
         "hovertemplate": "ЖК=%{customdata[0]}<br>Площадь (м2)=%{customdata[1]}<br>Цена за м2=%{y}<br>Количество комнат=%{marker.size}<br>Цена (тнг)=%{customdata[2]}<extra></extra>",
         "legendgroup": "«Headliner»",
         "marker": {
          "color": "#00cc96",
          "size": [
           3,
           1,
           2,
           2,
           2,
           3
          ],
          "sizemode": "area",
          "sizeref": 0.0125,
          "symbol": "circle"
         },
         "mode": "markers",
         "name": "«Headliner»",
         "orientation": "v",
         "showlegend": true,
         "type": "scatter",
         "x": [
          111.94,
          45.4,
          73.11,
          74.25,
          76.89,
          98.14
         ],
         "xaxis": "x",
         "y": [
          377508.4330891549,
          383400,
          373800,
          374600,
          393274.43100533227,
          398489.85123293253
         ],
         "yaxis": "y"
        },
        {
         "customdata": [
          [
           "«Grand Opera»",
           132.25,
           55994650
          ],
          [
           "«Grand Opera»",
           150.61,
           66208156
          ],
          [
           "«Grand Opera»",
           158.84,
           70318468
          ],
          [
           "«Grand Opera»",
           159.14,
           71103752
          ],
          [
           "«Grand Opera»",
           105.04,
           47436064
          ],
          [
           "«Grand Opera»",
           115.1,
           50574940
          ],
          [
           "«Grand Opera»",
           122.87,
           52023158
          ],
          [
           "«Grand Opera»",
           118.32,
           53291328
          ],
          [
           "«Grand Opera»",
           126.8,
           53940720
          ]
         ],
         "hovertemplate": "ЖК=%{customdata[0]}<br>Площадь (м2)=%{customdata[1]}<br>Цена за м2=%{y}<br>Количество комнат=%{marker.size}<br>Цена (тнг)=%{customdata[2]}<extra></extra>",
         "legendgroup": "«Grand Opera»",
         "marker": {
          "color": "#ab63fa",
          "size": [
           3,
           4,
           4,
           4,
           3,
           3,
           3,
           3,
           3
          ],
          "sizemode": "area",
          "sizeref": 0.0125,
          "symbol": "circle"
         },
         "mode": "markers",
         "name": "«Grand Opera»",
         "orientation": "v",
         "showlegend": true,
         "type": "scatter",
         "x": [
          132.25,
          150.61,
          158.84,
          159.14,
          105.04,
          115.1,
          122.87,
          118.32,
          126.8
         ],
         "xaxis": "x",
         "y": [
          423400,
          439599.99999999994,
          442700,
          446800.00000000006,
          451600,
          439400,
          423400,
          450400,
          425400
         ],
         "yaxis": "y"
        },
        {
         "customdata": [
          [
           "«Capital Park»",
           48.75,
           17476875
          ],
          [
           "«Capital Park»",
           49.19,
           17732995
          ],
          [
           "«Capital Park»",
           54.05,
           18803995
          ],
          [
           "«Capital Park»",
           55.03,
           19012865
          ],
          [
           "«Capital Park»",
           52.59,
           19258458
          ],
          [
           "«Capital Park»",
           75.98,
           27352800
          ],
          [
           "«Capital Park»",
           82.03,
           31581550
          ],
          [
           "«Capital Park»",
           95.96,
           34958228
          ],
          [
           "«Capital Park»",
           107,
           36808000
          ],
          [
           "«Capital Park»",
           108.66,
           37357308
          ],
          [
           "«Capital Park»",
           101.87,
           37467786
          ],
          [
           "«Capital Park»",
           109.02,
           37502880
          ],
          [
           "«Capital Park»",
           107.95,
           38084760
          ],
          [
           "«Capital Park»",
           108.68,
           39081328
          ]
         ],
         "hovertemplate": "ЖК=%{customdata[0]}<br>Площадь (м2)=%{customdata[1]}<br>Цена за м2=%{y}<br>Количество комнат=%{marker.size}<br>Цена (тнг)=%{customdata[2]}<extra></extra>",
         "legendgroup": "«Capital Park»",
         "marker": {
          "color": "#FFA15A",
          "size": [
           2,
           2,
           1,
           2,
           1,
           2,
           2,
           3,
           3,
           3,
           3,
           3,
           3,
           3
          ],
          "sizemode": "area",
          "sizeref": 0.0125,
          "symbol": "circle"
         },
         "mode": "markers",
         "name": "«Capital Park»",
         "orientation": "v",
         "showlegend": true,
         "type": "scatter",
         "x": [
          48.75,
          49.19,
          54.05,
          55.03,
          52.59,
          75.98,
          82.03,
          95.96,
          107,
          108.66,
          101.87,
          109.02,
          107.95,
          108.68
         ],
         "xaxis": "x",
         "y": [
          358500,
          360500,
          347900,
          345500,
          366200,
          360000,
          385000,
          364300,
          344000,
          343800,
          367800,
          344000,
          352800,
          359600
         ],
         "yaxis": "y"
        },
        {
         "customdata": [
          [
           "«BI City Tokyo»",
           75.41,
           30842690
          ],
          [
           "«BI City Tokyo»",
           105,
           36855000
          ],
          [
           "«BI City Tokyo»",
           110.84,
           38904840
          ],
          [
           "«BI City Tokyo»",
           114.03,
           39682440
          ],
          [
           "«BI City Tokyo»",
           46.71,
           17749800
          ],
          [
           "«BI City Tokyo»",
           47.63,
           18085111
          ],
          [
           "«BI City Tokyo»",
           48.24,
           18311904
          ],
          [
           "«BI City Tokyo»",
           50.25,
           21519562
          ],
          [
           "«BI City Tokyo»",
           60.23,
           24393150
          ],
          [
           "«BI City Tokyo»",
           75.3,
           27032700
          ]
         ],
         "hovertemplate": "ЖК=%{customdata[0]}<br>Площадь (м2)=%{customdata[1]}<br>Цена за м2=%{y}<br>Количество комнат=%{marker.size}<br>Цена (тнг)=%{customdata[2]}<extra></extra>",
         "legendgroup": "«BI City Tokyo»",
         "marker": {
          "color": "#19d3f3",
          "size": [
           3,
           3,
           3,
           3,
           1,
           1,
           1,
           1,
           2,
           2
          ],
          "sizemode": "area",
          "sizeref": 0.0125,
          "symbol": "circle"
         },
         "mode": "markers",
         "name": "«BI City Tokyo»",
         "orientation": "v",
         "showlegend": true,
         "type": "scatter",
         "x": [
          75.41,
          105,
          110.84,
          114.03,
          46.71,
          47.63,
          48.24,
          50.25,
          60.23,
          75.3
         ],
         "xaxis": "x",
         "y": [
          409000,
          351000,
          351000,
          348000,
          380000,
          379700,
          379600,
          428249.99004975124,
          405000,
          359000
         ],
         "yaxis": "y"
        },
        {
         "customdata": [
          [
           "«Esil Riverside»",
           127,
           63538100
          ],
          [
           "«Esil Riverside»",
           137.65,
           66388595
          ],
          [
           "«Esil Riverside»",
           139.26,
           66468798
          ],
          [
           "«Esil Riverside»",
           186.36,
           91690000
          ],
          [
           "«Esil Riverside»",
           83.12,
           43090000
          ],
          [
           "«Esil Riverside»",
           88.87,
           46410000
          ],
          [
           "«Esil Riverside»",
           93.35,
           46890000
          ],
          [
           "«Esil Riverside»",
           96.24,
           48340000
          ],
          [
           "«Esil Riverside»",
           110.27,
           54840000
          ],
          [
           "«Esil Riverside»",
           116.6,
           57402180
          ]
         ],
         "hovertemplate": "ЖК=%{customdata[0]}<br>Площадь (м2)=%{customdata[1]}<br>Цена за м2=%{y}<br>Количество комнат=%{marker.size}<br>Цена (тнг)=%{customdata[2]}<extra></extra>",
         "legendgroup": "«Esil Riverside»",
         "marker": {
          "color": "#FF6692",
          "size": [
           3,
           3,
           3,
           4,
           2,
           3,
           3,
           3,
           3,
           3
          ],
          "sizemode": "area",
          "sizeref": 0.0125,
          "symbol": "circle"
         },
         "mode": "markers",
         "name": "«Esil Riverside»",
         "orientation": "v",
         "showlegend": true,
         "type": "scatter",
         "x": [
          127,
          137.65,
          139.26,
          186.36,
          83.12,
          88.87,
          93.35,
          96.24,
          110.27,
          116.6
         ],
         "xaxis": "x",
         "y": [
          500300,
          482300,
          477300.00000000006,
          492004.7220433569,
          518407.12223291624,
          522223.47248790367,
          502303.16014997324,
          502285.9517871987,
          497324.74834497145,
          492300
         ],
         "yaxis": "y"
        },
        {
         "customdata": [
          [
           "«Atlant»",
           122.8,
           53755913
          ],
          [
           "«Atlant»",
           152.8,
           63324612
          ],
          [
           "«Atlant»",
           146.3,
           63424920
          ],
          [
           "«Atlant»",
           82,
           35096000
          ],
          [
           "«Atlant»",
           94.7,
           40721000
          ],
          [
           "«Atlant»",
           97.8,
           42130086
          ],
          [
           "«Atlant»",
           102.3,
           42738851
          ],
          [
           "«Atlant»",
           113.6,
           48800864
          ]
         ],
         "hovertemplate": "ЖК=%{customdata[0]}<br>Площадь (м2)=%{customdata[1]}<br>Цена за м2=%{y}<br>Количество комнат=%{marker.size}<br>Цена (тнг)=%{customdata[2]}<extra></extra>",
         "legendgroup": "«Atlant»",
         "marker": {
          "color": "#B6E880",
          "size": [
           3,
           4,
           4,
           2,
           3,
           3,
           3,
           3
          ],
          "sizemode": "area",
          "sizeref": 0.0125,
          "symbol": "circle"
         },
         "mode": "markers",
         "name": "«Atlant»",
         "orientation": "v",
         "showlegend": true,
         "type": "scatter",
         "x": [
          122.8,
          152.8,
          146.3,
          82,
          94.7,
          97.8,
          102.3,
          113.6
         ],
         "xaxis": "x",
         "y": [
          437751.7345276873,
          414428.0890052356,
          433526.4524948735,
          428000,
          430000,
          430777.9754601227,
          417779.57966764417,
          429585.07042253524
         ],
         "yaxis": "y"
        },
        {
         "customdata": [
          [
           "«Nura Esil»",
           48,
           18412800
          ],
          [
           "«Nura Esil»",
           111.1,
           42302100
          ],
          [
           "«Nura Esil»",
           92.7,
           34577100
          ],
          [
           "«Nura Esil»",
           125,
           46400000
          ],
          [
           "«Nura Esil»",
           46.5,
           17665350
          ],
          [
           "«Nura Esil»",
           83.2,
           32913920
          ],
          [
           "«Nura Esil»",
           96,
           38016000
          ],
          [
           "«Nura Esil»",
           107,
           40339000
          ],
          [
           "«Nura Esil»",
           49.2,
           19202760
          ]
         ],
         "hovertemplate": "ЖК=%{customdata[0]}<br>Площадь (м2)=%{customdata[1]}<br>Цена за м2=%{y}<br>Количество комнат=%{marker.size}<br>Цена (тнг)=%{customdata[2]}<extra></extra>",
         "legendgroup": "«Nura Esil»",
         "marker": {
          "color": "#FF97FF",
          "size": [
           1,
           3,
           3,
           4,
           1,
           3,
           3,
           3,
           1
          ],
          "sizemode": "area",
          "sizeref": 0.0125,
          "symbol": "circle"
         },
         "mode": "markers",
         "name": "«Nura Esil»",
         "orientation": "v",
         "showlegend": true,
         "type": "scatter",
         "x": [
          48,
          111.1,
          92.7,
          125,
          46.5,
          83.2,
          96,
          107,
          49.2
         ],
         "xaxis": "x",
         "y": [
          383600,
          380756.9756975698,
          373000,
          371200,
          379900,
          395600,
          396000,
          377000,
          390300
         ],
         "yaxis": "y"
        }
       ],
       "layout": {
        "legend": {
         "itemsizing": "constant",
         "title": {
          "text": "ЖК"
         },
         "tracegroupgap": 0
        },
        "template": {
         "data": {
          "bar": [
           {
            "error_x": {
             "color": "#2a3f5f"
            },
            "error_y": {
             "color": "#2a3f5f"
            },
            "marker": {
             "line": {
              "color": "#E5ECF6",
              "width": 0.5
             }
            },
            "type": "bar"
           }
          ],
          "barpolar": [
           {
            "marker": {
             "line": {
              "color": "#E5ECF6",
              "width": 0.5
             }
            },
            "type": "barpolar"
           }
          ],
          "carpet": [
           {
            "aaxis": {
             "endlinecolor": "#2a3f5f",
             "gridcolor": "white",
             "linecolor": "white",
             "minorgridcolor": "white",
             "startlinecolor": "#2a3f5f"
            },
            "baxis": {
             "endlinecolor": "#2a3f5f",
             "gridcolor": "white",
             "linecolor": "white",
             "minorgridcolor": "white",
             "startlinecolor": "#2a3f5f"
            },
            "type": "carpet"
           }
          ],
          "choropleth": [
           {
            "colorbar": {
             "outlinewidth": 0,
             "ticks": ""
            },
            "type": "choropleth"
           }
          ],
          "contour": [
           {
            "colorbar": {
             "outlinewidth": 0,
             "ticks": ""
            },
            "colorscale": [
             [
              0,
              "#0d0887"
             ],
             [
              0.1111111111111111,
              "#46039f"
             ],
             [
              0.2222222222222222,
              "#7201a8"
             ],
             [
              0.3333333333333333,
              "#9c179e"
             ],
             [
              0.4444444444444444,
              "#bd3786"
             ],
             [
              0.5555555555555556,
              "#d8576b"
             ],
             [
              0.6666666666666666,
              "#ed7953"
             ],
             [
              0.7777777777777778,
              "#fb9f3a"
             ],
             [
              0.8888888888888888,
              "#fdca26"
             ],
             [
              1,
              "#f0f921"
             ]
            ],
            "type": "contour"
           }
          ],
          "contourcarpet": [
           {
            "colorbar": {
             "outlinewidth": 0,
             "ticks": ""
            },
            "type": "contourcarpet"
           }
          ],
          "heatmap": [
           {
            "colorbar": {
             "outlinewidth": 0,
             "ticks": ""
            },
            "colorscale": [
             [
              0,
              "#0d0887"
             ],
             [
              0.1111111111111111,
              "#46039f"
             ],
             [
              0.2222222222222222,
              "#7201a8"
             ],
             [
              0.3333333333333333,
              "#9c179e"
             ],
             [
              0.4444444444444444,
              "#bd3786"
             ],
             [
              0.5555555555555556,
              "#d8576b"
             ],
             [
              0.6666666666666666,
              "#ed7953"
             ],
             [
              0.7777777777777778,
              "#fb9f3a"
             ],
             [
              0.8888888888888888,
              "#fdca26"
             ],
             [
              1,
              "#f0f921"
             ]
            ],
            "type": "heatmap"
           }
          ],
          "heatmapgl": [
           {
            "colorbar": {
             "outlinewidth": 0,
             "ticks": ""
            },
            "colorscale": [
             [
              0,
              "#0d0887"
             ],
             [
              0.1111111111111111,
              "#46039f"
             ],
             [
              0.2222222222222222,
              "#7201a8"
             ],
             [
              0.3333333333333333,
              "#9c179e"
             ],
             [
              0.4444444444444444,
              "#bd3786"
             ],
             [
              0.5555555555555556,
              "#d8576b"
             ],
             [
              0.6666666666666666,
              "#ed7953"
             ],
             [
              0.7777777777777778,
              "#fb9f3a"
             ],
             [
              0.8888888888888888,
              "#fdca26"
             ],
             [
              1,
              "#f0f921"
             ]
            ],
            "type": "heatmapgl"
           }
          ],
          "histogram": [
           {
            "marker": {
             "colorbar": {
              "outlinewidth": 0,
              "ticks": ""
             }
            },
            "type": "histogram"
           }
          ],
          "histogram2d": [
           {
            "colorbar": {
             "outlinewidth": 0,
             "ticks": ""
            },
            "colorscale": [
             [
              0,
              "#0d0887"
             ],
             [
              0.1111111111111111,
              "#46039f"
             ],
             [
              0.2222222222222222,
              "#7201a8"
             ],
             [
              0.3333333333333333,
              "#9c179e"
             ],
             [
              0.4444444444444444,
              "#bd3786"
             ],
             [
              0.5555555555555556,
              "#d8576b"
             ],
             [
              0.6666666666666666,
              "#ed7953"
             ],
             [
              0.7777777777777778,
              "#fb9f3a"
             ],
             [
              0.8888888888888888,
              "#fdca26"
             ],
             [
              1,
              "#f0f921"
             ]
            ],
            "type": "histogram2d"
           }
          ],
          "histogram2dcontour": [
           {
            "colorbar": {
             "outlinewidth": 0,
             "ticks": ""
            },
            "colorscale": [
             [
              0,
              "#0d0887"
             ],
             [
              0.1111111111111111,
              "#46039f"
             ],
             [
              0.2222222222222222,
              "#7201a8"
             ],
             [
              0.3333333333333333,
              "#9c179e"
             ],
             [
              0.4444444444444444,
              "#bd3786"
             ],
             [
              0.5555555555555556,
              "#d8576b"
             ],
             [
              0.6666666666666666,
              "#ed7953"
             ],
             [
              0.7777777777777778,
              "#fb9f3a"
             ],
             [
              0.8888888888888888,
              "#fdca26"
             ],
             [
              1,
              "#f0f921"
             ]
            ],
            "type": "histogram2dcontour"
           }
          ],
          "mesh3d": [
           {
            "colorbar": {
             "outlinewidth": 0,
             "ticks": ""
            },
            "type": "mesh3d"
           }
          ],
          "parcoords": [
           {
            "line": {
             "colorbar": {
              "outlinewidth": 0,
              "ticks": ""
             }
            },
            "type": "parcoords"
           }
          ],
          "pie": [
           {
            "automargin": true,
            "type": "pie"
           }
          ],
          "scatter": [
           {
            "marker": {
             "colorbar": {
              "outlinewidth": 0,
              "ticks": ""
             }
            },
            "type": "scatter"
           }
          ],
          "scatter3d": [
           {
            "line": {
             "colorbar": {
              "outlinewidth": 0,
              "ticks": ""
             }
            },
            "marker": {
             "colorbar": {
              "outlinewidth": 0,
              "ticks": ""
             }
            },
            "type": "scatter3d"
           }
          ],
          "scattercarpet": [
           {
            "marker": {
             "colorbar": {
              "outlinewidth": 0,
              "ticks": ""
             }
            },
            "type": "scattercarpet"
           }
          ],
          "scattergeo": [
           {
            "marker": {
             "colorbar": {
              "outlinewidth": 0,
              "ticks": ""
             }
            },
            "type": "scattergeo"
           }
          ],
          "scattergl": [
           {
            "marker": {
             "colorbar": {
              "outlinewidth": 0,
              "ticks": ""
             }
            },
            "type": "scattergl"
           }
          ],
          "scattermapbox": [
           {
            "marker": {
             "colorbar": {
              "outlinewidth": 0,
              "ticks": ""
             }
            },
            "type": "scattermapbox"
           }
          ],
          "scatterpolar": [
           {
            "marker": {
             "colorbar": {
              "outlinewidth": 0,
              "ticks": ""
             }
            },
            "type": "scatterpolar"
           }
          ],
          "scatterpolargl": [
           {
            "marker": {
             "colorbar": {
              "outlinewidth": 0,
              "ticks": ""
             }
            },
            "type": "scatterpolargl"
           }
          ],
          "scatterternary": [
           {
            "marker": {
             "colorbar": {
              "outlinewidth": 0,
              "ticks": ""
             }
            },
            "type": "scatterternary"
           }
          ],
          "surface": [
           {
            "colorbar": {
             "outlinewidth": 0,
             "ticks": ""
            },
            "colorscale": [
             [
              0,
              "#0d0887"
             ],
             [
              0.1111111111111111,
              "#46039f"
             ],
             [
              0.2222222222222222,
              "#7201a8"
             ],
             [
              0.3333333333333333,
              "#9c179e"
             ],
             [
              0.4444444444444444,
              "#bd3786"
             ],
             [
              0.5555555555555556,
              "#d8576b"
             ],
             [
              0.6666666666666666,
              "#ed7953"
             ],
             [
              0.7777777777777778,
              "#fb9f3a"
             ],
             [
              0.8888888888888888,
              "#fdca26"
             ],
             [
              1,
              "#f0f921"
             ]
            ],
            "type": "surface"
           }
          ],
          "table": [
           {
            "cells": {
             "fill": {
              "color": "#EBF0F8"
             },
             "line": {
              "color": "white"
             }
            },
            "header": {
             "fill": {
              "color": "#C8D4E3"
             },
             "line": {
              "color": "white"
             }
            },
            "type": "table"
           }
          ]
         },
         "layout": {
          "annotationdefaults": {
           "arrowcolor": "#2a3f5f",
           "arrowhead": 0,
           "arrowwidth": 1
          },
          "coloraxis": {
           "colorbar": {
            "outlinewidth": 0,
            "ticks": ""
           }
          },
          "colorscale": {
           "diverging": [
            [
             0,
             "#8e0152"
            ],
            [
             0.1,
             "#c51b7d"
            ],
            [
             0.2,
             "#de77ae"
            ],
            [
             0.3,
             "#f1b6da"
            ],
            [
             0.4,
             "#fde0ef"
            ],
            [
             0.5,
             "#f7f7f7"
            ],
            [
             0.6,
             "#e6f5d0"
            ],
            [
             0.7,
             "#b8e186"
            ],
            [
             0.8,
             "#7fbc41"
            ],
            [
             0.9,
             "#4d9221"
            ],
            [
             1,
             "#276419"
            ]
           ],
           "sequential": [
            [
             0,
             "#0d0887"
            ],
            [
             0.1111111111111111,
             "#46039f"
            ],
            [
             0.2222222222222222,
             "#7201a8"
            ],
            [
             0.3333333333333333,
             "#9c179e"
            ],
            [
             0.4444444444444444,
             "#bd3786"
            ],
            [
             0.5555555555555556,
             "#d8576b"
            ],
            [
             0.6666666666666666,
             "#ed7953"
            ],
            [
             0.7777777777777778,
             "#fb9f3a"
            ],
            [
             0.8888888888888888,
             "#fdca26"
            ],
            [
             1,
             "#f0f921"
            ]
           ],
           "sequentialminus": [
            [
             0,
             "#0d0887"
            ],
            [
             0.1111111111111111,
             "#46039f"
            ],
            [
             0.2222222222222222,
             "#7201a8"
            ],
            [
             0.3333333333333333,
             "#9c179e"
            ],
            [
             0.4444444444444444,
             "#bd3786"
            ],
            [
             0.5555555555555556,
             "#d8576b"
            ],
            [
             0.6666666666666666,
             "#ed7953"
            ],
            [
             0.7777777777777778,
             "#fb9f3a"
            ],
            [
             0.8888888888888888,
             "#fdca26"
            ],
            [
             1,
             "#f0f921"
            ]
           ]
          },
          "colorway": [
           "#636efa",
           "#EF553B",
           "#00cc96",
           "#ab63fa",
           "#FFA15A",
           "#19d3f3",
           "#FF6692",
           "#B6E880",
           "#FF97FF",
           "#FECB52"
          ],
          "font": {
           "color": "#2a3f5f"
          },
          "geo": {
           "bgcolor": "white",
           "lakecolor": "white",
           "landcolor": "#E5ECF6",
           "showlakes": true,
           "showland": true,
           "subunitcolor": "white"
          },
          "hoverlabel": {
           "align": "left"
          },
          "hovermode": "closest",
          "mapbox": {
           "style": "light"
          },
          "paper_bgcolor": "white",
          "plot_bgcolor": "#E5ECF6",
          "polar": {
           "angularaxis": {
            "gridcolor": "white",
            "linecolor": "white",
            "ticks": ""
           },
           "bgcolor": "#E5ECF6",
           "radialaxis": {
            "gridcolor": "white",
            "linecolor": "white",
            "ticks": ""
           }
          },
          "scene": {
           "xaxis": {
            "backgroundcolor": "#E5ECF6",
            "gridcolor": "white",
            "gridwidth": 2,
            "linecolor": "white",
            "showbackground": true,
            "ticks": "",
            "zerolinecolor": "white"
           },
           "yaxis": {
            "backgroundcolor": "#E5ECF6",
            "gridcolor": "white",
            "gridwidth": 2,
            "linecolor": "white",
            "showbackground": true,
            "ticks": "",
            "zerolinecolor": "white"
           },
           "zaxis": {
            "backgroundcolor": "#E5ECF6",
            "gridcolor": "white",
            "gridwidth": 2,
            "linecolor": "white",
            "showbackground": true,
            "ticks": "",
            "zerolinecolor": "white"
           }
          },
          "shapedefaults": {
           "line": {
            "color": "#2a3f5f"
           }
          },
          "ternary": {
           "aaxis": {
            "gridcolor": "white",
            "linecolor": "white",
            "ticks": ""
           },
           "baxis": {
            "gridcolor": "white",
            "linecolor": "white",
            "ticks": ""
           },
           "bgcolor": "#E5ECF6",
           "caxis": {
            "gridcolor": "white",
            "linecolor": "white",
            "ticks": ""
           }
          },
          "title": {
           "x": 0.05
          },
          "xaxis": {
           "automargin": true,
           "gridcolor": "white",
           "linecolor": "white",
           "ticks": "",
           "title": {
            "standoff": 15
           },
           "zerolinecolor": "white",
           "zerolinewidth": 2
          },
          "yaxis": {
           "automargin": true,
           "gridcolor": "white",
           "linecolor": "white",
           "ticks": "",
           "title": {
            "standoff": 15
           },
           "zerolinecolor": "white",
           "zerolinewidth": 2
          }
         }
        },
        "title": {
         "text": "Figure 4. Цена за м2 vs Площадь (м2)"
        },
        "xaxis": {
         "anchor": "y",
         "domain": [
          0,
          1
         ],
         "title": {
          "text": "Площадь (м2)"
         }
        },
        "yaxis": {
         "anchor": "x",
         "domain": [
          0,
          1
         ],
         "title": {
          "text": "Цена за м2"
         }
        }
       }
      },
      "text/html": [
       "<div>\n",
       "        \n",
       "        \n",
       "            <div id=\"f5bf22e2-0feb-49a4-9551-3b6f2dfdd133\" class=\"plotly-graph-div\" style=\"height:525px; width:100%;\"></div>\n",
       "            <script type=\"text/javascript\">\n",
       "                require([\"plotly\"], function(Plotly) {\n",
       "                    window.PLOTLYENV=window.PLOTLYENV || {};\n",
       "                    \n",
       "                if (document.getElementById(\"f5bf22e2-0feb-49a4-9551-3b6f2dfdd133\")) {\n",
       "                    Plotly.newPlot(\n",
       "                        'f5bf22e2-0feb-49a4-9551-3b6f2dfdd133',\n",
       "                        [{\"customdata\": [[\"\\u00ab\\u0411\\u043e\\u0442\\u0430\\u043d\\u0438\\u0447\\u0435\\u0441\\u043a\\u0438\\u0439\\u00bb\", 117.21, 55487214], [\"\\u00ab\\u0411\\u043e\\u0442\\u0430\\u043d\\u0438\\u0447\\u0435\\u0441\\u043a\\u0438\\u0439\\u00bb\", 126.3, 59147706], [\"\\u00ab\\u0411\\u043e\\u0442\\u0430\\u043d\\u0438\\u0447\\u0435\\u0441\\u043a\\u0438\\u0439\\u00bb\", 132.41, 59226993], [\"\\u00ab\\u0411\\u043e\\u0442\\u0430\\u043d\\u0438\\u0447\\u0435\\u0441\\u043a\\u0438\\u0439\\u00bb\", 128.16, 59889168], [\"\\u00ab\\u0411\\u043e\\u0442\\u0430\\u043d\\u0438\\u0447\\u0435\\u0441\\u043a\\u0438\\u0439\\u00bb\", 140.56, 64039136]], \"hovertemplate\": \"\\u0416\\u041a=%{customdata[0]}<br>\\u041f\\u043b\\u043e\\u0449\\u0430\\u0434\\u044c (\\u043c2)=%{customdata[1]}<br>\\u0426\\u0435\\u043d\\u0430 \\u0437\\u0430 \\u043c2=%{y}<br>\\u041a\\u043e\\u043b\\u0438\\u0447\\u0435\\u0441\\u0442\\u0432\\u043e \\u043a\\u043e\\u043c\\u043d\\u0430\\u0442=%{marker.size}<br>\\u0426\\u0435\\u043d\\u0430 (\\u0442\\u043d\\u0433)=%{customdata[2]}<extra></extra>\", \"legendgroup\": \"\\u00ab\\u0411\\u043e\\u0442\\u0430\\u043d\\u0438\\u0447\\u0435\\u0441\\u043a\\u0438\\u0439\\u00bb\", \"marker\": {\"color\": \"#636efa\", \"size\": [3, 3, 3, 3, 3], \"sizemode\": \"area\", \"sizeref\": 0.0125, \"symbol\": \"circle\"}, \"mode\": \"markers\", \"name\": \"\\u00ab\\u0411\\u043e\\u0442\\u0430\\u043d\\u0438\\u0447\\u0435\\u0441\\u043a\\u0438\\u0439\\u00bb\", \"orientation\": \"v\", \"showlegend\": true, \"type\": \"scatter\", \"x\": [117.21, 126.3, 132.41, 128.16, 140.56], \"xaxis\": \"x\", \"y\": [473400.0, 468311.2114014252, 447300.0, 467300.0, 455600.0], \"yaxis\": \"y\"}, {\"customdata\": [[\"\\u00abVela Village\\u00bb\", 219.83, 86261292]], \"hovertemplate\": \"\\u0416\\u041a=%{customdata[0]}<br>\\u041f\\u043b\\u043e\\u0449\\u0430\\u0434\\u044c (\\u043c2)=%{customdata[1]}<br>\\u0426\\u0435\\u043d\\u0430 \\u0437\\u0430 \\u043c2=%{y}<br>\\u041a\\u043e\\u043b\\u0438\\u0447\\u0435\\u0441\\u0442\\u0432\\u043e \\u043a\\u043e\\u043c\\u043d\\u0430\\u0442=%{marker.size}<br>\\u0426\\u0435\\u043d\\u0430 (\\u0442\\u043d\\u0433)=%{customdata[2]}<extra></extra>\", \"legendgroup\": \"\\u00abVela Village\\u00bb\", \"marker\": {\"color\": \"#EF553B\", \"size\": [5], \"sizemode\": \"area\", \"sizeref\": 0.0125, \"symbol\": \"circle\"}, \"mode\": \"markers\", \"name\": \"\\u00abVela Village\\u00bb\", \"orientation\": \"v\", \"showlegend\": true, \"type\": \"scatter\", \"x\": [219.83], \"xaxis\": \"x\", \"y\": [392400.0], \"yaxis\": \"y\"}, {\"customdata\": [[\"\\u00abHeadliner\\u00bb\", 111.94, 42258294], [\"\\u00abHeadliner\\u00bb\", 45.4, 17406360], [\"\\u00abHeadliner\\u00bb\", 73.11, 27328518], [\"\\u00abHeadliner\\u00bb\", 74.25, 27814050], [\"\\u00abHeadliner\\u00bb\", 76.89, 30238871], [\"\\u00abHeadliner\\u00bb\", 98.14, 39107794]], \"hovertemplate\": \"\\u0416\\u041a=%{customdata[0]}<br>\\u041f\\u043b\\u043e\\u0449\\u0430\\u0434\\u044c (\\u043c2)=%{customdata[1]}<br>\\u0426\\u0435\\u043d\\u0430 \\u0437\\u0430 \\u043c2=%{y}<br>\\u041a\\u043e\\u043b\\u0438\\u0447\\u0435\\u0441\\u0442\\u0432\\u043e \\u043a\\u043e\\u043c\\u043d\\u0430\\u0442=%{marker.size}<br>\\u0426\\u0435\\u043d\\u0430 (\\u0442\\u043d\\u0433)=%{customdata[2]}<extra></extra>\", \"legendgroup\": \"\\u00abHeadliner\\u00bb\", \"marker\": {\"color\": \"#00cc96\", \"size\": [3, 1, 2, 2, 2, 3], \"sizemode\": \"area\", \"sizeref\": 0.0125, \"symbol\": \"circle\"}, \"mode\": \"markers\", \"name\": \"\\u00abHeadliner\\u00bb\", \"orientation\": \"v\", \"showlegend\": true, \"type\": \"scatter\", \"x\": [111.94, 45.4, 73.11, 74.25, 76.89, 98.14], \"xaxis\": \"x\", \"y\": [377508.4330891549, 383400.0, 373800.0, 374600.0, 393274.43100533227, 398489.85123293253], \"yaxis\": \"y\"}, {\"customdata\": [[\"\\u00abGrand Opera\\u00bb\", 132.25, 55994650], [\"\\u00abGrand Opera\\u00bb\", 150.61, 66208156], [\"\\u00abGrand Opera\\u00bb\", 158.84, 70318468], [\"\\u00abGrand Opera\\u00bb\", 159.14, 71103752], [\"\\u00abGrand Opera\\u00bb\", 105.04, 47436064], [\"\\u00abGrand Opera\\u00bb\", 115.1, 50574940], [\"\\u00abGrand Opera\\u00bb\", 122.87, 52023158], [\"\\u00abGrand Opera\\u00bb\", 118.32, 53291328], [\"\\u00abGrand Opera\\u00bb\", 126.8, 53940720]], \"hovertemplate\": \"\\u0416\\u041a=%{customdata[0]}<br>\\u041f\\u043b\\u043e\\u0449\\u0430\\u0434\\u044c (\\u043c2)=%{customdata[1]}<br>\\u0426\\u0435\\u043d\\u0430 \\u0437\\u0430 \\u043c2=%{y}<br>\\u041a\\u043e\\u043b\\u0438\\u0447\\u0435\\u0441\\u0442\\u0432\\u043e \\u043a\\u043e\\u043c\\u043d\\u0430\\u0442=%{marker.size}<br>\\u0426\\u0435\\u043d\\u0430 (\\u0442\\u043d\\u0433)=%{customdata[2]}<extra></extra>\", \"legendgroup\": \"\\u00abGrand Opera\\u00bb\", \"marker\": {\"color\": \"#ab63fa\", \"size\": [3, 4, 4, 4, 3, 3, 3, 3, 3], \"sizemode\": \"area\", \"sizeref\": 0.0125, \"symbol\": \"circle\"}, \"mode\": \"markers\", \"name\": \"\\u00abGrand Opera\\u00bb\", \"orientation\": \"v\", \"showlegend\": true, \"type\": \"scatter\", \"x\": [132.25, 150.61, 158.84, 159.14, 105.04, 115.1, 122.87, 118.32, 126.8], \"xaxis\": \"x\", \"y\": [423400.0, 439599.99999999994, 442700.0, 446800.00000000006, 451600.0, 439400.0, 423400.0, 450400.0, 425400.0], \"yaxis\": \"y\"}, {\"customdata\": [[\"\\u00abCapital Park\\u00bb\", 48.75, 17476875], [\"\\u00abCapital Park\\u00bb\", 49.19, 17732995], [\"\\u00abCapital Park\\u00bb\", 54.05, 18803995], [\"\\u00abCapital Park\\u00bb\", 55.03, 19012865], [\"\\u00abCapital Park\\u00bb\", 52.59, 19258458], [\"\\u00abCapital Park\\u00bb\", 75.98, 27352800], [\"\\u00abCapital Park\\u00bb\", 82.03, 31581550], [\"\\u00abCapital Park\\u00bb\", 95.96, 34958228], [\"\\u00abCapital Park\\u00bb\", 107.0, 36808000], [\"\\u00abCapital Park\\u00bb\", 108.66, 37357308], [\"\\u00abCapital Park\\u00bb\", 101.87, 37467786], [\"\\u00abCapital Park\\u00bb\", 109.02, 37502880], [\"\\u00abCapital Park\\u00bb\", 107.95, 38084760], [\"\\u00abCapital Park\\u00bb\", 108.68, 39081328]], \"hovertemplate\": \"\\u0416\\u041a=%{customdata[0]}<br>\\u041f\\u043b\\u043e\\u0449\\u0430\\u0434\\u044c (\\u043c2)=%{customdata[1]}<br>\\u0426\\u0435\\u043d\\u0430 \\u0437\\u0430 \\u043c2=%{y}<br>\\u041a\\u043e\\u043b\\u0438\\u0447\\u0435\\u0441\\u0442\\u0432\\u043e \\u043a\\u043e\\u043c\\u043d\\u0430\\u0442=%{marker.size}<br>\\u0426\\u0435\\u043d\\u0430 (\\u0442\\u043d\\u0433)=%{customdata[2]}<extra></extra>\", \"legendgroup\": \"\\u00abCapital Park\\u00bb\", \"marker\": {\"color\": \"#FFA15A\", \"size\": [2, 2, 1, 2, 1, 2, 2, 3, 3, 3, 3, 3, 3, 3], \"sizemode\": \"area\", \"sizeref\": 0.0125, \"symbol\": \"circle\"}, \"mode\": \"markers\", \"name\": \"\\u00abCapital Park\\u00bb\", \"orientation\": \"v\", \"showlegend\": true, \"type\": \"scatter\", \"x\": [48.75, 49.19, 54.05, 55.03, 52.59, 75.98, 82.03, 95.96, 107.0, 108.66, 101.87, 109.02, 107.95, 108.68], \"xaxis\": \"x\", \"y\": [358500.0, 360500.0, 347900.0, 345500.0, 366200.0, 360000.0, 385000.0, 364300.0, 344000.0, 343800.0, 367800.0, 344000.0, 352800.0, 359600.0], \"yaxis\": \"y\"}, {\"customdata\": [[\"\\u00abBI City Tokyo\\u00bb\", 75.41, 30842690], [\"\\u00abBI City Tokyo\\u00bb\", 105.0, 36855000], [\"\\u00abBI City Tokyo\\u00bb\", 110.84, 38904840], [\"\\u00abBI City Tokyo\\u00bb\", 114.03, 39682440], [\"\\u00abBI City Tokyo\\u00bb\", 46.71, 17749800], [\"\\u00abBI City Tokyo\\u00bb\", 47.63, 18085111], [\"\\u00abBI City Tokyo\\u00bb\", 48.24, 18311904], [\"\\u00abBI City Tokyo\\u00bb\", 50.25, 21519562], [\"\\u00abBI City Tokyo\\u00bb\", 60.23, 24393150], [\"\\u00abBI City Tokyo\\u00bb\", 75.3, 27032700]], \"hovertemplate\": \"\\u0416\\u041a=%{customdata[0]}<br>\\u041f\\u043b\\u043e\\u0449\\u0430\\u0434\\u044c (\\u043c2)=%{customdata[1]}<br>\\u0426\\u0435\\u043d\\u0430 \\u0437\\u0430 \\u043c2=%{y}<br>\\u041a\\u043e\\u043b\\u0438\\u0447\\u0435\\u0441\\u0442\\u0432\\u043e \\u043a\\u043e\\u043c\\u043d\\u0430\\u0442=%{marker.size}<br>\\u0426\\u0435\\u043d\\u0430 (\\u0442\\u043d\\u0433)=%{customdata[2]}<extra></extra>\", \"legendgroup\": \"\\u00abBI City Tokyo\\u00bb\", \"marker\": {\"color\": \"#19d3f3\", \"size\": [3, 3, 3, 3, 1, 1, 1, 1, 2, 2], \"sizemode\": \"area\", \"sizeref\": 0.0125, \"symbol\": \"circle\"}, \"mode\": \"markers\", \"name\": \"\\u00abBI City Tokyo\\u00bb\", \"orientation\": \"v\", \"showlegend\": true, \"type\": \"scatter\", \"x\": [75.41, 105.0, 110.84, 114.03, 46.71, 47.63, 48.24, 50.25, 60.23, 75.3], \"xaxis\": \"x\", \"y\": [409000.0, 351000.0, 351000.0, 348000.0, 380000.0, 379700.0, 379600.0, 428249.99004975124, 405000.0, 359000.0], \"yaxis\": \"y\"}, {\"customdata\": [[\"\\u00abEsil Riverside\\u00bb\", 127.0, 63538100], [\"\\u00abEsil Riverside\\u00bb\", 137.65, 66388595], [\"\\u00abEsil Riverside\\u00bb\", 139.26, 66468798], [\"\\u00abEsil Riverside\\u00bb\", 186.36, 91690000], [\"\\u00abEsil Riverside\\u00bb\", 83.12, 43090000], [\"\\u00abEsil Riverside\\u00bb\", 88.87, 46410000], [\"\\u00abEsil Riverside\\u00bb\", 93.35, 46890000], [\"\\u00abEsil Riverside\\u00bb\", 96.24, 48340000], [\"\\u00abEsil Riverside\\u00bb\", 110.27, 54840000], [\"\\u00abEsil Riverside\\u00bb\", 116.6, 57402180]], \"hovertemplate\": \"\\u0416\\u041a=%{customdata[0]}<br>\\u041f\\u043b\\u043e\\u0449\\u0430\\u0434\\u044c (\\u043c2)=%{customdata[1]}<br>\\u0426\\u0435\\u043d\\u0430 \\u0437\\u0430 \\u043c2=%{y}<br>\\u041a\\u043e\\u043b\\u0438\\u0447\\u0435\\u0441\\u0442\\u0432\\u043e \\u043a\\u043e\\u043c\\u043d\\u0430\\u0442=%{marker.size}<br>\\u0426\\u0435\\u043d\\u0430 (\\u0442\\u043d\\u0433)=%{customdata[2]}<extra></extra>\", \"legendgroup\": \"\\u00abEsil Riverside\\u00bb\", \"marker\": {\"color\": \"#FF6692\", \"size\": [3, 3, 3, 4, 2, 3, 3, 3, 3, 3], \"sizemode\": \"area\", \"sizeref\": 0.0125, \"symbol\": \"circle\"}, \"mode\": \"markers\", \"name\": \"\\u00abEsil Riverside\\u00bb\", \"orientation\": \"v\", \"showlegend\": true, \"type\": \"scatter\", \"x\": [127.0, 137.65, 139.26, 186.36, 83.12, 88.87, 93.35, 96.24, 110.27, 116.6], \"xaxis\": \"x\", \"y\": [500300.0, 482300.0, 477300.00000000006, 492004.7220433569, 518407.12223291624, 522223.47248790367, 502303.16014997324, 502285.9517871987, 497324.74834497145, 492300.0], \"yaxis\": \"y\"}, {\"customdata\": [[\"\\u00abAtlant\\u00bb\", 122.8, 53755913], [\"\\u00abAtlant\\u00bb\", 152.8, 63324612], [\"\\u00abAtlant\\u00bb\", 146.3, 63424920], [\"\\u00abAtlant\\u00bb\", 82.0, 35096000], [\"\\u00abAtlant\\u00bb\", 94.7, 40721000], [\"\\u00abAtlant\\u00bb\", 97.8, 42130086], [\"\\u00abAtlant\\u00bb\", 102.3, 42738851], [\"\\u00abAtlant\\u00bb\", 113.6, 48800864]], \"hovertemplate\": \"\\u0416\\u041a=%{customdata[0]}<br>\\u041f\\u043b\\u043e\\u0449\\u0430\\u0434\\u044c (\\u043c2)=%{customdata[1]}<br>\\u0426\\u0435\\u043d\\u0430 \\u0437\\u0430 \\u043c2=%{y}<br>\\u041a\\u043e\\u043b\\u0438\\u0447\\u0435\\u0441\\u0442\\u0432\\u043e \\u043a\\u043e\\u043c\\u043d\\u0430\\u0442=%{marker.size}<br>\\u0426\\u0435\\u043d\\u0430 (\\u0442\\u043d\\u0433)=%{customdata[2]}<extra></extra>\", \"legendgroup\": \"\\u00abAtlant\\u00bb\", \"marker\": {\"color\": \"#B6E880\", \"size\": [3, 4, 4, 2, 3, 3, 3, 3], \"sizemode\": \"area\", \"sizeref\": 0.0125, \"symbol\": \"circle\"}, \"mode\": \"markers\", \"name\": \"\\u00abAtlant\\u00bb\", \"orientation\": \"v\", \"showlegend\": true, \"type\": \"scatter\", \"x\": [122.8, 152.8, 146.3, 82.0, 94.7, 97.8, 102.3, 113.6], \"xaxis\": \"x\", \"y\": [437751.7345276873, 414428.0890052356, 433526.4524948735, 428000.0, 430000.0, 430777.9754601227, 417779.57966764417, 429585.07042253524], \"yaxis\": \"y\"}, {\"customdata\": [[\"\\u00abNura Esil\\u00bb\", 48.0, 18412800], [\"\\u00abNura Esil\\u00bb\", 111.1, 42302100], [\"\\u00abNura Esil\\u00bb\", 92.7, 34577100], [\"\\u00abNura Esil\\u00bb\", 125.0, 46400000], [\"\\u00abNura Esil\\u00bb\", 46.5, 17665350], [\"\\u00abNura Esil\\u00bb\", 83.2, 32913920], [\"\\u00abNura Esil\\u00bb\", 96.0, 38016000], [\"\\u00abNura Esil\\u00bb\", 107.0, 40339000], [\"\\u00abNura Esil\\u00bb\", 49.2, 19202760]], \"hovertemplate\": \"\\u0416\\u041a=%{customdata[0]}<br>\\u041f\\u043b\\u043e\\u0449\\u0430\\u0434\\u044c (\\u043c2)=%{customdata[1]}<br>\\u0426\\u0435\\u043d\\u0430 \\u0437\\u0430 \\u043c2=%{y}<br>\\u041a\\u043e\\u043b\\u0438\\u0447\\u0435\\u0441\\u0442\\u0432\\u043e \\u043a\\u043e\\u043c\\u043d\\u0430\\u0442=%{marker.size}<br>\\u0426\\u0435\\u043d\\u0430 (\\u0442\\u043d\\u0433)=%{customdata[2]}<extra></extra>\", \"legendgroup\": \"\\u00abNura Esil\\u00bb\", \"marker\": {\"color\": \"#FF97FF\", \"size\": [1, 3, 3, 4, 1, 3, 3, 3, 1], \"sizemode\": \"area\", \"sizeref\": 0.0125, \"symbol\": \"circle\"}, \"mode\": \"markers\", \"name\": \"\\u00abNura Esil\\u00bb\", \"orientation\": \"v\", \"showlegend\": true, \"type\": \"scatter\", \"x\": [48.0, 111.1, 92.7, 125.0, 46.5, 83.2, 96.0, 107.0, 49.2], \"xaxis\": \"x\", \"y\": [383600.0, 380756.9756975698, 373000.0, 371200.0, 379900.0, 395600.0, 396000.0, 377000.0, 390300.0], \"yaxis\": \"y\"}],\n",
       "                        {\"legend\": {\"itemsizing\": \"constant\", \"title\": {\"text\": \"\\u0416\\u041a\"}, \"tracegroupgap\": 0}, \"template\": {\"data\": {\"bar\": [{\"error_x\": {\"color\": \"#2a3f5f\"}, \"error_y\": {\"color\": \"#2a3f5f\"}, \"marker\": {\"line\": {\"color\": \"#E5ECF6\", \"width\": 0.5}}, \"type\": \"bar\"}], \"barpolar\": [{\"marker\": {\"line\": {\"color\": \"#E5ECF6\", \"width\": 0.5}}, \"type\": \"barpolar\"}], \"carpet\": [{\"aaxis\": {\"endlinecolor\": \"#2a3f5f\", \"gridcolor\": \"white\", \"linecolor\": \"white\", \"minorgridcolor\": \"white\", \"startlinecolor\": \"#2a3f5f\"}, \"baxis\": {\"endlinecolor\": \"#2a3f5f\", \"gridcolor\": \"white\", \"linecolor\": \"white\", \"minorgridcolor\": \"white\", \"startlinecolor\": \"#2a3f5f\"}, \"type\": \"carpet\"}], \"choropleth\": [{\"colorbar\": {\"outlinewidth\": 0, \"ticks\": \"\"}, \"type\": \"choropleth\"}], \"contour\": [{\"colorbar\": {\"outlinewidth\": 0, \"ticks\": \"\"}, \"colorscale\": [[0.0, \"#0d0887\"], [0.1111111111111111, \"#46039f\"], [0.2222222222222222, \"#7201a8\"], [0.3333333333333333, \"#9c179e\"], [0.4444444444444444, \"#bd3786\"], [0.5555555555555556, \"#d8576b\"], [0.6666666666666666, \"#ed7953\"], [0.7777777777777778, \"#fb9f3a\"], [0.8888888888888888, \"#fdca26\"], [1.0, \"#f0f921\"]], \"type\": \"contour\"}], \"contourcarpet\": [{\"colorbar\": {\"outlinewidth\": 0, \"ticks\": \"\"}, \"type\": \"contourcarpet\"}], \"heatmap\": [{\"colorbar\": {\"outlinewidth\": 0, \"ticks\": \"\"}, \"colorscale\": [[0.0, \"#0d0887\"], [0.1111111111111111, \"#46039f\"], [0.2222222222222222, \"#7201a8\"], [0.3333333333333333, \"#9c179e\"], [0.4444444444444444, \"#bd3786\"], [0.5555555555555556, \"#d8576b\"], [0.6666666666666666, \"#ed7953\"], [0.7777777777777778, \"#fb9f3a\"], [0.8888888888888888, \"#fdca26\"], [1.0, \"#f0f921\"]], \"type\": \"heatmap\"}], \"heatmapgl\": [{\"colorbar\": {\"outlinewidth\": 0, \"ticks\": \"\"}, \"colorscale\": [[0.0, \"#0d0887\"], [0.1111111111111111, \"#46039f\"], [0.2222222222222222, \"#7201a8\"], [0.3333333333333333, \"#9c179e\"], [0.4444444444444444, \"#bd3786\"], [0.5555555555555556, \"#d8576b\"], [0.6666666666666666, \"#ed7953\"], [0.7777777777777778, \"#fb9f3a\"], [0.8888888888888888, \"#fdca26\"], [1.0, \"#f0f921\"]], \"type\": \"heatmapgl\"}], \"histogram\": [{\"marker\": {\"colorbar\": {\"outlinewidth\": 0, \"ticks\": \"\"}}, \"type\": \"histogram\"}], \"histogram2d\": [{\"colorbar\": {\"outlinewidth\": 0, \"ticks\": \"\"}, \"colorscale\": [[0.0, \"#0d0887\"], [0.1111111111111111, \"#46039f\"], [0.2222222222222222, \"#7201a8\"], [0.3333333333333333, \"#9c179e\"], [0.4444444444444444, \"#bd3786\"], [0.5555555555555556, \"#d8576b\"], [0.6666666666666666, \"#ed7953\"], [0.7777777777777778, \"#fb9f3a\"], [0.8888888888888888, \"#fdca26\"], [1.0, \"#f0f921\"]], \"type\": \"histogram2d\"}], \"histogram2dcontour\": [{\"colorbar\": {\"outlinewidth\": 0, \"ticks\": \"\"}, \"colorscale\": [[0.0, \"#0d0887\"], [0.1111111111111111, \"#46039f\"], [0.2222222222222222, \"#7201a8\"], [0.3333333333333333, \"#9c179e\"], [0.4444444444444444, \"#bd3786\"], [0.5555555555555556, \"#d8576b\"], [0.6666666666666666, \"#ed7953\"], [0.7777777777777778, \"#fb9f3a\"], [0.8888888888888888, \"#fdca26\"], [1.0, \"#f0f921\"]], \"type\": \"histogram2dcontour\"}], \"mesh3d\": [{\"colorbar\": {\"outlinewidth\": 0, \"ticks\": \"\"}, \"type\": \"mesh3d\"}], \"parcoords\": [{\"line\": {\"colorbar\": {\"outlinewidth\": 0, \"ticks\": \"\"}}, \"type\": \"parcoords\"}], \"pie\": [{\"automargin\": true, \"type\": \"pie\"}], \"scatter\": [{\"marker\": {\"colorbar\": {\"outlinewidth\": 0, \"ticks\": \"\"}}, \"type\": \"scatter\"}], \"scatter3d\": [{\"line\": {\"colorbar\": {\"outlinewidth\": 0, \"ticks\": \"\"}}, \"marker\": {\"colorbar\": {\"outlinewidth\": 0, \"ticks\": \"\"}}, \"type\": \"scatter3d\"}], \"scattercarpet\": [{\"marker\": {\"colorbar\": {\"outlinewidth\": 0, \"ticks\": \"\"}}, \"type\": \"scattercarpet\"}], \"scattergeo\": [{\"marker\": {\"colorbar\": {\"outlinewidth\": 0, \"ticks\": \"\"}}, \"type\": \"scattergeo\"}], \"scattergl\": [{\"marker\": {\"colorbar\": {\"outlinewidth\": 0, \"ticks\": \"\"}}, \"type\": \"scattergl\"}], \"scattermapbox\": [{\"marker\": {\"colorbar\": {\"outlinewidth\": 0, \"ticks\": \"\"}}, \"type\": \"scattermapbox\"}], \"scatterpolar\": [{\"marker\": {\"colorbar\": {\"outlinewidth\": 0, \"ticks\": \"\"}}, \"type\": \"scatterpolar\"}], \"scatterpolargl\": [{\"marker\": {\"colorbar\": {\"outlinewidth\": 0, \"ticks\": \"\"}}, \"type\": \"scatterpolargl\"}], \"scatterternary\": [{\"marker\": {\"colorbar\": {\"outlinewidth\": 0, \"ticks\": \"\"}}, \"type\": \"scatterternary\"}], \"surface\": [{\"colorbar\": {\"outlinewidth\": 0, \"ticks\": \"\"}, \"colorscale\": [[0.0, \"#0d0887\"], [0.1111111111111111, \"#46039f\"], [0.2222222222222222, \"#7201a8\"], [0.3333333333333333, \"#9c179e\"], [0.4444444444444444, \"#bd3786\"], [0.5555555555555556, \"#d8576b\"], [0.6666666666666666, \"#ed7953\"], [0.7777777777777778, \"#fb9f3a\"], [0.8888888888888888, \"#fdca26\"], [1.0, \"#f0f921\"]], \"type\": \"surface\"}], \"table\": [{\"cells\": {\"fill\": {\"color\": \"#EBF0F8\"}, \"line\": {\"color\": \"white\"}}, \"header\": {\"fill\": {\"color\": \"#C8D4E3\"}, \"line\": {\"color\": \"white\"}}, \"type\": \"table\"}]}, \"layout\": {\"annotationdefaults\": {\"arrowcolor\": \"#2a3f5f\", \"arrowhead\": 0, \"arrowwidth\": 1}, \"coloraxis\": {\"colorbar\": {\"outlinewidth\": 0, \"ticks\": \"\"}}, \"colorscale\": {\"diverging\": [[0, \"#8e0152\"], [0.1, \"#c51b7d\"], [0.2, \"#de77ae\"], [0.3, \"#f1b6da\"], [0.4, \"#fde0ef\"], [0.5, \"#f7f7f7\"], [0.6, \"#e6f5d0\"], [0.7, \"#b8e186\"], [0.8, \"#7fbc41\"], [0.9, \"#4d9221\"], [1, \"#276419\"]], \"sequential\": [[0.0, \"#0d0887\"], [0.1111111111111111, \"#46039f\"], [0.2222222222222222, \"#7201a8\"], [0.3333333333333333, \"#9c179e\"], [0.4444444444444444, \"#bd3786\"], [0.5555555555555556, \"#d8576b\"], [0.6666666666666666, \"#ed7953\"], [0.7777777777777778, \"#fb9f3a\"], [0.8888888888888888, \"#fdca26\"], [1.0, \"#f0f921\"]], \"sequentialminus\": [[0.0, \"#0d0887\"], [0.1111111111111111, \"#46039f\"], [0.2222222222222222, \"#7201a8\"], [0.3333333333333333, \"#9c179e\"], [0.4444444444444444, \"#bd3786\"], [0.5555555555555556, \"#d8576b\"], [0.6666666666666666, \"#ed7953\"], [0.7777777777777778, \"#fb9f3a\"], [0.8888888888888888, \"#fdca26\"], [1.0, \"#f0f921\"]]}, \"colorway\": [\"#636efa\", \"#EF553B\", \"#00cc96\", \"#ab63fa\", \"#FFA15A\", \"#19d3f3\", \"#FF6692\", \"#B6E880\", \"#FF97FF\", \"#FECB52\"], \"font\": {\"color\": \"#2a3f5f\"}, \"geo\": {\"bgcolor\": \"white\", \"lakecolor\": \"white\", \"landcolor\": \"#E5ECF6\", \"showlakes\": true, \"showland\": true, \"subunitcolor\": \"white\"}, \"hoverlabel\": {\"align\": \"left\"}, \"hovermode\": \"closest\", \"mapbox\": {\"style\": \"light\"}, \"paper_bgcolor\": \"white\", \"plot_bgcolor\": \"#E5ECF6\", \"polar\": {\"angularaxis\": {\"gridcolor\": \"white\", \"linecolor\": \"white\", \"ticks\": \"\"}, \"bgcolor\": \"#E5ECF6\", \"radialaxis\": {\"gridcolor\": \"white\", \"linecolor\": \"white\", \"ticks\": \"\"}}, \"scene\": {\"xaxis\": {\"backgroundcolor\": \"#E5ECF6\", \"gridcolor\": \"white\", \"gridwidth\": 2, \"linecolor\": \"white\", \"showbackground\": true, \"ticks\": \"\", \"zerolinecolor\": \"white\"}, \"yaxis\": {\"backgroundcolor\": \"#E5ECF6\", \"gridcolor\": \"white\", \"gridwidth\": 2, \"linecolor\": \"white\", \"showbackground\": true, \"ticks\": \"\", \"zerolinecolor\": \"white\"}, \"zaxis\": {\"backgroundcolor\": \"#E5ECF6\", \"gridcolor\": \"white\", \"gridwidth\": 2, \"linecolor\": \"white\", \"showbackground\": true, \"ticks\": \"\", \"zerolinecolor\": \"white\"}}, \"shapedefaults\": {\"line\": {\"color\": \"#2a3f5f\"}}, \"ternary\": {\"aaxis\": {\"gridcolor\": \"white\", \"linecolor\": \"white\", \"ticks\": \"\"}, \"baxis\": {\"gridcolor\": \"white\", \"linecolor\": \"white\", \"ticks\": \"\"}, \"bgcolor\": \"#E5ECF6\", \"caxis\": {\"gridcolor\": \"white\", \"linecolor\": \"white\", \"ticks\": \"\"}}, \"title\": {\"x\": 0.05}, \"xaxis\": {\"automargin\": true, \"gridcolor\": \"white\", \"linecolor\": \"white\", \"ticks\": \"\", \"title\": {\"standoff\": 15}, \"zerolinecolor\": \"white\", \"zerolinewidth\": 2}, \"yaxis\": {\"automargin\": true, \"gridcolor\": \"white\", \"linecolor\": \"white\", \"ticks\": \"\", \"title\": {\"standoff\": 15}, \"zerolinecolor\": \"white\", \"zerolinewidth\": 2}}}, \"title\": {\"text\": \"Figure 4. \\u0426\\u0435\\u043d\\u0430 \\u0437\\u0430 \\u043c2 vs \\u041f\\u043b\\u043e\\u0449\\u0430\\u0434\\u044c (\\u043c2)\"}, \"xaxis\": {\"anchor\": \"y\", \"domain\": [0.0, 1.0], \"title\": {\"text\": \"\\u041f\\u043b\\u043e\\u0449\\u0430\\u0434\\u044c (\\u043c2)\"}}, \"yaxis\": {\"anchor\": \"x\", \"domain\": [0.0, 1.0], \"title\": {\"text\": \"\\u0426\\u0435\\u043d\\u0430 \\u0437\\u0430 \\u043c2\"}}},\n",
       "                        {\"responsive\": true}\n",
       "                    ).then(function(){\n",
       "                            \n",
       "var gd = document.getElementById('f5bf22e2-0feb-49a4-9551-3b6f2dfdd133');\n",
       "var x = new MutationObserver(function (mutations, observer) {{\n",
       "        var display = window.getComputedStyle(gd).display;\n",
       "        if (!display || display === 'none') {{\n",
       "            console.log([gd, 'removed!']);\n",
       "            Plotly.purge(gd);\n",
       "            observer.disconnect();\n",
       "        }}\n",
       "}});\n",
       "\n",
       "// Listen for the removal of the full notebook cells\n",
       "var notebookContainer = gd.closest('#notebook-container');\n",
       "if (notebookContainer) {{\n",
       "    x.observe(notebookContainer, {childList: true});\n",
       "}}\n",
       "\n",
       "// Listen for the clearing of the current output cell\n",
       "var outputEl = gd.closest('.output');\n",
       "if (outputEl) {{\n",
       "    x.observe(outputEl, {childList: true});\n",
       "}}\n",
       "\n",
       "                        })\n",
       "                };\n",
       "                });\n",
       "            </script>\n",
       "        </div>"
      ]
     },
     "metadata": {},
     "output_type": "display_data"
    },
    {
     "data": {
      "text/html": [
       "\n",
       "        <script>\n",
       "            function code_toggle_13644808286116883341() {\n",
       "                $('div.cell.code_cell.rendered.selected').find('div.input').toggle();\n",
       "            }\n",
       "\n",
       "            \n",
       "        </script>\n",
       "\n",
       "        <a href=\"javascript:code_toggle_13644808286116883341()\">Toggle show/hide</a>\n",
       "    "
      ],
      "text/plain": [
       "<IPython.core.display.HTML object>"
      ]
     },
     "execution_count": 26,
     "metadata": {},
     "output_type": "execute_result"
    }
   ],
   "source": [
    "import plotly.express as px\n",
    "df1 = data[data['Застройщик']==\"«BI Group»\"]\n",
    "fig = px.scatter(df1, x=\"Площадь (м2)\", y=\"Цена за м2\", color=\"ЖК\",\n",
    "                 size='Количество комнат', hover_data=[\"ЖК\",\"Площадь (м2)\",\"Цена (тнг)\"],title='Figure 4. Цена за м2 vs Площадь (м2)')\n",
    "fig.show()\n",
    "hide_toggle()"
   ]
  },
  {
   "cell_type": "markdown",
   "metadata": {},
   "source": [
    "#### Наблюдения:\n",
    " 1. Цена за кв м уменьшается при приобритении кв с большей квадратурой при всех остальных равных факторов\n",
    "\n"
   ]
  },
  {
   "cell_type": "markdown",
   "metadata": {},
   "source": [
    "# Ящик с усами ( кто не знал русккого названия boxplot)"
   ]
  },
  {
   "cell_type": "markdown",
   "metadata": {},
   "source": [
    "## Знакомство с ящиком с усами"
   ]
  },
  {
   "attachments": {
    "image.png": {
     "image/png": "[encoded data removed]"
    }
   },
   "cell_type": "markdown",
   "metadata": {},
   "source": [
    "![image.png](attachment:image.png)"
   ]
  },
  {
   "cell_type": "markdown",
   "metadata": {},
   "source": [
    "### Ящик с усами, диаграмма размаха (англ. box-and-whiskers diagram or plot, box plot) — график, использующийся в описательной статистике, компактно изображающий одномерное распределение вероятностей."
   ]
  },
  {
   "cell_type": "markdown",
   "metadata": {},
   "source": [
    "Нижний(min) и верхний(max) прочерк показывает минимальную и максимальную цену за квартиру,соответственно.\n",
    "Нижняя(Q1) и верхняя (Q3) граница прямоугольника показывает 25% квартиль и 75% квартиль, соответсвенно.\n",
    "То есть Верхний квартиль(Q3) это граница значения цены за квартиру при которой 75% квратир имееют цену меньше, а\n",
    "Нижний квартиль(Q1) это граница значения цены за квартиру при которой 25% квартир имеют значение меньше. \n",
    "Если сортировать цены за квартиры по возрастанию и выбрать центральное значение, это будет медианой(median).\n",
    "Зеленая точка (mean) является значением средней ценой за квартиру."
   ]
  },
  {
   "cell_type": "code",
   "execution_count": 27,
   "metadata": {},
   "outputs": [
    {
     "data": {
      "application/vnd.plotly.v1+json": {
       "config": {
        "linkText": "Export to plot.ly",
        "plotlyServerURL": "https://plot.ly",
        "showLink": true
       },
       "data": [
        {
         "boxpoints": false,
         "line": {
          "width": 1.3
         },
         "marker": {
          "color": "rgba(255, 153, 51, 1.0)"
         },
         "name": "«AIZ QURYLYS ТОО»",
         "orientation": "v",
         "type": "box",
         "y": [
          null,
          null,
          null,
          null,
          null,
          null,
          null,
          null,
          null,
          null,
          null,
          null,
          null,
          7155000,
          null,
          null,
          null,
          null,
          null,
          null,
          null,
          null,
          null,
          null,
          null,
          null,
          null,
          null,
          7230600,
          null,
          null,
          null,
          null,
          null,
          null,
          null,
          null,
          null,
          null,
          null,
          null,
          null,
          null,
          null,
          null,
          null,
          7387200,
          null,
          null,
          null,
          null,
          null,
          null,
          null,
          null,
          null,
          null,
          null,
          null,
          null,
          null,
          null,
          7556400,
          null,
          null,
          null,
          null,
          null,
          null,
          null,
          null,
          null,
          7585200,
          null,
          null,
          null,
          null,
          null,
          null,
          null,
          null,
          null,
          null,
          7959600,
          null,
          null,
          null,
          null,
          null,
          null,
          8409600,
          null,
          null,
          9280800,
          null,
          null,
          null,
          14274000,
          14331600,
          6210000,
          6363000,
          6600600,
          6732000,
          null,
          null,
          null,
          null,
          null,
          null,
          null,
          null,
          null,
          null,
          null,
          null,
          null,
          null,
          null,
          null,
          null,
          null,
          null,
          null,
          null,
          null,
          null,
          null,
          null,
          null,
          null,
          null,
          null,
          null,
          null,
          null,
          null,
          null,
          null,
          null,
          null,
          null,
          null,
          null,
          null,
          null,
          null,
          null,
          null,
          null,
          null,
          null,
          null,
          null,
          null,
          null,
          null,
          null,
          null,
          null,
          null,
          null,
          null,
          null,
          null,
          null,
          null,
          null
         ]
        },
        {
         "boxpoints": false,
         "line": {
          "width": 1.3
         },
         "marker": {
          "color": "rgba(55, 128, 191, 1.0)"
         },
         "name": "«Asti Group»",
         "orientation": "v",
         "type": "box",
         "y": [
          null,
          null,
          null,
          null,
          null,
          null,
          null,
          null,
          null,
          null,
          null,
          null,
          null,
          null,
          null,
          null,
          null,
          null,
          null,
          null,
          null,
          null,
          null,
          null,
          null,
          null,
          null,
          null,
          null,
          null,
          null,
          null,
          null,
          null,
          null,
          null,
          null,
          null,
          null,
          null,
          null,
          null,
          null,
          null,
          null,
          null,
          null,
          null,
          null,
          null,
          null,
          null,
          null,
          null,
          null,
          null,
          null,
          null,
          null,
          null,
          null,
          null,
          null,
          null,
          null,
          null,
          null,
          null,
          null,
          null,
          null,
          null,
          null,
          null,
          null,
          null,
          null,
          null,
          null,
          null,
          null,
          null,
          null,
          null,
          null,
          null,
          null,
          null,
          null,
          null,
          null,
          null,
          null,
          null,
          null,
          null,
          null,
          null,
          null,
          null,
          null,
          null,
          null,
          null,
          null,
          null,
          null,
          null,
          null,
          null,
          null,
          null,
          null,
          null,
          null,
          null,
          null,
          null,
          null,
          null,
          null,
          null,
          null,
          null,
          null,
          null,
          null,
          null,
          null,
          null,
          null,
          null,
          null,
          null,
          10041800,
          22174800,
          9540300,
          10729150,
          18441350,
          22836800,
          24402000,
          25852400,
          20073750,
          11047750,
          10617050,
          18830900,
          11180500,
          9504900,
          null,
          null,
          null,
          null,
          null,
          null,
          null,
          null,
          null,
          null,
          null,
          null,
          null,
          null,
          null,
          null,
          15979950,
          16396050,
          16059750
         ]
        },
        {
         "boxpoints": false,
         "line": {
          "width": 1.3
         },
         "marker": {
          "color": "rgba(50, 171, 96, 1.0)"
         },
         "name": "«BI Group»",
         "orientation": "v",
         "type": "box",
         "y": [
          55487214,
          86261292,
          null,
          42258294,
          null,
          55994650,
          17476875,
          30842690,
          63538100,
          59147706,
          null,
          17406360,
          null,
          null,
          53755913,
          null,
          null,
          66208156,
          17732995,
          36855000,
          66388595,
          59226993,
          27328518,
          null,
          63324612,
          null,
          null,
          70318468,
          null,
          null,
          38904840,
          18803995,
          66468798,
          59889168,
          27814050,
          null,
          63424920,
          null,
          71103752,
          39682440,
          19012865,
          64039136,
          91690000,
          null,
          null,
          null,
          null,
          30238871,
          35096000,
          17749800,
          19258458,
          43090000,
          47436064,
          null,
          39107794,
          null,
          18085111,
          27352800,
          46410000,
          40721000,
          null,
          50574940,
          null,
          null,
          18311904,
          31581550,
          46890000,
          null,
          52023158,
          42130086,
          null,
          null,
          null,
          34958228,
          21519562,
          48340000,
          53291328,
          42738851,
          null,
          24393150,
          36808000,
          54840000,
          53940720,
          null,
          48800864,
          27032700,
          37357308,
          57402180,
          null,
          37467786,
          null,
          null,
          37502880,
          null,
          38084760,
          null,
          39081328,
          null,
          null,
          null,
          null,
          null,
          null,
          null,
          null,
          null,
          null,
          null,
          null,
          null,
          null,
          null,
          null,
          null,
          null,
          null,
          null,
          null,
          null,
          null,
          null,
          null,
          null,
          null,
          null,
          null,
          null,
          null,
          null,
          null,
          null,
          null,
          null,
          null,
          null,
          null,
          null,
          null,
          null,
          null,
          null,
          null,
          null,
          null,
          null,
          null,
          null,
          null,
          18412800,
          42302100,
          34577100,
          46400000,
          17665350,
          32913920,
          38016000,
          40339000,
          19202760,
          null,
          null,
          null,
          null,
          null,
          null,
          null,
          null,
          null,
          null
         ]
        },
        {
         "boxpoints": false,
         "line": {
          "width": 1.3
         },
         "marker": {
          "color": "rgba(128, 0, 128, 1.0)"
         },
         "name": "«GarInvest»",
         "orientation": "v",
         "type": "box",
         "y": [
          null,
          null,
          null,
          null,
          null,
          null,
          null,
          null,
          null,
          null,
          15368850,
          null,
          null,
          null,
          null,
          null,
          null,
          null,
          null,
          null,
          null,
          null,
          null,
          null,
          null,
          null,
          16457700,
          null,
          null,
          null,
          null,
          null,
          null,
          null,
          null,
          null,
          null,
          null,
          null,
          null,
          null,
          null,
          null,
          null,
          18620100,
          null,
          null,
          null,
          null,
          null,
          null,
          null,
          null,
          null,
          null,
          null,
          null,
          null,
          null,
          null,
          23136150,
          null,
          null,
          null,
          null,
          null,
          null,
          null,
          null,
          null,
          null,
          9651750,
          null,
          null,
          null,
          null,
          null,
          null,
          null,
          null,
          null,
          null,
          null,
          null,
          null,
          null,
          null,
          null,
          null,
          null,
          null,
          null,
          null,
          null,
          null,
          null,
          null,
          null,
          null,
          null,
          null,
          null,
          null,
          null,
          null,
          null,
          null,
          null,
          null,
          null,
          null,
          null,
          null,
          null,
          null,
          null,
          null,
          null,
          null,
          null,
          null,
          null,
          null,
          null,
          null,
          null,
          null,
          null,
          null,
          null,
          null,
          null,
          null,
          null,
          null,
          null,
          null,
          null,
          null,
          null,
          null,
          null,
          null,
          null,
          null,
          null,
          null,
          null,
          null,
          null,
          null,
          null,
          null,
          null,
          null,
          null,
          null,
          null,
          null,
          null,
          null,
          null,
          null,
          null,
          null,
          null,
          null
         ]
        },
        {
         "boxpoints": false,
         "line": {
          "width": 1.3
         },
         "marker": {
          "color": "rgba(219, 64, 82, 1.0)"
         },
         "name": "«SAT-NS ТОО»",
         "orientation": "v",
         "type": "box",
         "y": [
          null,
          null,
          null,
          null,
          null,
          null,
          null,
          null,
          null,
          null,
          null,
          null,
          null,
          null,
          null,
          null,
          null,
          null,
          null,
          null,
          null,
          null,
          null,
          null,
          null,
          null,
          null,
          null,
          null,
          null,
          null,
          null,
          null,
          null,
          null,
          null,
          null,
          null,
          null,
          null,
          null,
          null,
          null,
          null,
          null,
          null,
          null,
          null,
          null,
          null,
          null,
          null,
          null,
          null,
          null,
          null,
          null,
          null,
          null,
          null,
          null,
          null,
          null,
          null,
          null,
          null,
          null,
          null,
          null,
          null,
          null,
          null,
          null,
          null,
          null,
          null,
          null,
          null,
          null,
          null,
          null,
          null,
          null,
          null,
          null,
          null,
          null,
          null,
          null,
          null,
          null,
          null,
          null,
          null,
          null,
          null,
          null,
          null,
          null,
          null,
          null,
          null,
          null,
          19183500,
          19267600,
          19096500,
          19760600,
          23385600,
          19238600,
          null,
          null,
          null,
          null,
          null,
          null,
          17806000,
          15454100,
          null,
          null,
          null,
          13862000,
          14494200,
          12284400,
          17936500,
          null,
          null,
          18763000,
          13284900,
          null,
          16814200,
          null,
          null,
          null,
          null,
          null,
          null,
          null,
          null,
          null,
          null,
          null,
          null,
          null,
          null,
          null,
          null,
          null,
          null,
          null,
          null,
          null,
          null,
          null,
          null,
          null,
          null,
          null,
          null,
          null,
          null,
          null,
          null,
          null,
          null,
          null,
          null,
          null
         ]
        },
        {
         "boxpoints": false,
         "line": {
          "width": 1.3
         },
         "marker": {
          "color": "rgba(0, 128, 128, 1.0)"
         },
         "name": "«Алтын Отау ТОО»",
         "orientation": "v",
         "type": "box",
         "y": [
          null,
          null,
          null,
          null,
          null,
          null,
          null,
          null,
          null,
          null,
          null,
          null,
          null,
          null,
          null,
          9255000,
          null,
          null,
          null,
          null,
          null,
          null,
          null,
          null,
          null,
          null,
          null,
          null,
          null,
          9635000,
          null,
          null,
          null,
          null,
          null,
          null,
          null,
          null,
          null,
          null,
          null,
          null,
          null,
          10742500,
          null,
          null,
          null,
          null,
          null,
          null,
          null,
          null,
          null,
          null,
          null,
          14467500,
          null,
          null,
          null,
          null,
          null,
          null,
          null,
          null,
          null,
          null,
          null,
          14922500,
          null,
          null,
          null,
          null,
          null,
          null,
          null,
          null,
          null,
          null,
          15840000,
          null,
          null,
          null,
          null,
          null,
          null,
          null,
          null,
          null,
          16682500,
          null,
          null,
          17132500,
          null,
          null,
          null,
          17865000,
          null,
          null,
          null,
          null,
          null,
          null,
          null,
          null,
          null,
          null,
          null,
          null,
          null,
          null,
          null,
          null,
          null,
          null,
          null,
          null,
          null,
          null,
          null,
          null,
          null,
          null,
          null,
          null,
          null,
          null,
          null,
          null,
          null,
          null,
          null,
          null,
          null,
          null,
          null,
          null,
          null,
          null,
          null,
          null,
          null,
          null,
          null,
          null,
          null,
          null,
          null,
          null,
          null,
          null,
          null,
          null,
          null,
          null,
          null,
          null,
          null,
          null,
          null,
          null,
          null,
          null,
          null,
          null,
          null,
          null,
          null
         ]
        },
        {
         "boxpoints": false,
         "line": {
          "width": 1.3
         },
         "marker": {
          "color": "rgba(255, 255, 51, 1.0)"
         },
         "name": "«АстанаТехСтрой»",
         "orientation": "v",
         "type": "box",
         "y": [
          null,
          null,
          15477000,
          null,
          null,
          null,
          null,
          null,
          null,
          null,
          null,
          null,
          27756150,
          null,
          null,
          null,
          null,
          null,
          null,
          null,
          null,
          null,
          null,
          38346000,
          null,
          null,
          null,
          null,
          null,
          null,
          null,
          null,
          null,
          null,
          null,
          null,
          null,
          53616000,
          null,
          null,
          null,
          null,
          null,
          null,
          null,
          null,
          null,
          null,
          null,
          null,
          null,
          null,
          null,
          null,
          null,
          null,
          null,
          null,
          null,
          null,
          null,
          null,
          null,
          null,
          null,
          null,
          null,
          null,
          null,
          null,
          null,
          null,
          null,
          null,
          null,
          null,
          null,
          null,
          null,
          null,
          null,
          null,
          null,
          null,
          null,
          null,
          null,
          null,
          null,
          null,
          null,
          null,
          null,
          null,
          null,
          null,
          null,
          null,
          null,
          null,
          null,
          null,
          null,
          null,
          null,
          null,
          null,
          null,
          null,
          null,
          null,
          null,
          null,
          null,
          null,
          null,
          null,
          null,
          null,
          null,
          null,
          null,
          null,
          null,
          null,
          null,
          null,
          null,
          null,
          null,
          null,
          null,
          null,
          null,
          null,
          null,
          null,
          null,
          null,
          null,
          null,
          null,
          null,
          null,
          null,
          null,
          null,
          null,
          null,
          null,
          null,
          null,
          null,
          null,
          null,
          null,
          null,
          null,
          null,
          null,
          null,
          null,
          null,
          null,
          null,
          null,
          null
         ]
        },
        {
         "boxpoints": false,
         "line": {
          "width": 1.3
         },
         "marker": {
          "color": "rgba(128, 128, 0, 1.0)"
         },
         "name": "«Береке Курылыс 2030»",
         "orientation": "v",
         "type": "box",
         "y": [
          null,
          null,
          null,
          null,
          null,
          null,
          null,
          null,
          null,
          null,
          null,
          null,
          null,
          null,
          null,
          null,
          null,
          null,
          null,
          null,
          null,
          null,
          null,
          null,
          null,
          null,
          null,
          null,
          null,
          null,
          null,
          null,
          null,
          null,
          null,
          null,
          null,
          null,
          null,
          null,
          null,
          null,
          null,
          null,
          null,
          null,
          null,
          null,
          null,
          null,
          null,
          null,
          null,
          null,
          null,
          null,
          null,
          null,
          null,
          null,
          null,
          null,
          null,
          null,
          null,
          null,
          null,
          null,
          null,
          null,
          null,
          null,
          null,
          null,
          null,
          null,
          null,
          null,
          null,
          null,
          null,
          null,
          null,
          null,
          null,
          null,
          null,
          null,
          null,
          null,
          null,
          null,
          null,
          null,
          null,
          null,
          null,
          null,
          null,
          null,
          null,
          null,
          null,
          null,
          null,
          null,
          null,
          null,
          null,
          7406000,
          9422000,
          6496000,
          6286000,
          5320000,
          8568000,
          null,
          null,
          7574000,
          7294000,
          7434000,
          null,
          null,
          null,
          null,
          5320000,
          6426000,
          null,
          null,
          4662000,
          null,
          10276000,
          7238000,
          5152000,
          6552000,
          null,
          null,
          null,
          null,
          null,
          null,
          null,
          null,
          null,
          null,
          null,
          null,
          null,
          null,
          null,
          null,
          null,
          null,
          null,
          null,
          null,
          null,
          null,
          null,
          null,
          null,
          null,
          null,
          null,
          null,
          null,
          null,
          null
         ]
        },
        {
         "boxpoints": false,
         "line": {
          "width": 1.3
         },
         "marker": {
          "color": "rgba(251, 128, 114, 1.0)"
         },
         "name": "«ЖСК Жануя Инвест»",
         "orientation": "v",
         "type": "box",
         "y": [
          null,
          null,
          null,
          null,
          null,
          null,
          null,
          null,
          null,
          null,
          null,
          null,
          null,
          null,
          null,
          null,
          null,
          null,
          null,
          null,
          null,
          null,
          null,
          null,
          null,
          null,
          null,
          null,
          null,
          null,
          null,
          null,
          null,
          null,
          null,
          null,
          null,
          null,
          null,
          null,
          null,
          null,
          null,
          null,
          null,
          null,
          null,
          null,
          null,
          null,
          null,
          null,
          null,
          null,
          null,
          null,
          null,
          null,
          null,
          null,
          null,
          null,
          null,
          null,
          null,
          null,
          null,
          null,
          null,
          null,
          null,
          null,
          null,
          null,
          null,
          null,
          null,
          null,
          null,
          null,
          null,
          null,
          null,
          null,
          null,
          null,
          null,
          null,
          null,
          null,
          null,
          null,
          null,
          null,
          null,
          null,
          null,
          null,
          null,
          null,
          null,
          null,
          null,
          null,
          null,
          null,
          null,
          null,
          null,
          null,
          null,
          null,
          null,
          null,
          null,
          null,
          null,
          null,
          null,
          null,
          null,
          null,
          null,
          null,
          null,
          null,
          null,
          null,
          null,
          null,
          null,
          null,
          null,
          null,
          null,
          null,
          null,
          null,
          null,
          null,
          null,
          null,
          null,
          null,
          null,
          null,
          null,
          null,
          null,
          null,
          null,
          null,
          null,
          null,
          null,
          null,
          null,
          8374000,
          8362000,
          12226000,
          15790000,
          13432000,
          12200000,
          8986000,
          null,
          null,
          null
         ]
        },
        {
         "boxpoints": false,
         "line": {
          "width": 1.3
         },
         "marker": {
          "color": "rgba(128, 177, 211, 1.0)"
         },
         "name": "«ТОО Фаворит Строй»",
         "orientation": "v",
         "type": "box",
         "y": [
          null,
          null,
          null,
          null,
          16443000,
          null,
          null,
          null,
          null,
          null,
          null,
          null,
          null,
          null,
          null,
          null,
          21198810,
          null,
          null,
          null,
          null,
          null,
          null,
          null,
          null,
          22206250,
          null,
          null,
          null,
          null,
          null,
          null,
          null,
          null,
          null,
          23845770,
          null,
          null,
          null,
          null,
          null,
          null,
          null,
          null,
          null,
          28266300,
          null,
          null,
          null,
          null,
          null,
          null,
          null,
          29995350,
          null,
          null,
          null,
          null,
          null,
          null,
          null,
          null,
          null,
          31209630,
          null,
          null,
          null,
          null,
          null,
          null,
          10668130,
          null,
          null,
          null,
          null,
          null,
          null,
          null,
          null,
          null,
          null,
          null,
          null,
          null,
          null,
          null,
          null,
          null,
          null,
          null,
          null,
          null,
          null,
          null,
          null,
          null,
          null,
          null,
          null,
          null,
          null,
          null,
          null,
          null,
          null,
          null,
          null,
          null,
          null,
          null,
          null,
          null,
          null,
          null,
          null,
          null,
          null,
          null,
          null,
          null,
          null,
          null,
          null,
          null,
          null,
          null,
          null,
          null,
          null,
          null,
          null,
          null,
          null,
          null,
          null,
          null,
          null,
          null,
          null,
          null,
          null,
          null,
          null,
          null,
          null,
          null,
          null,
          null,
          null,
          null,
          null,
          null,
          null,
          null,
          null,
          null,
          null,
          null,
          null,
          null,
          null,
          null,
          null,
          null,
          null,
          null,
          null
         ]
        }
       ],
       "layout": {
        "legend": {
         "bgcolor": "#F5F6F9",
         "font": {
          "color": "#4D5663"
         }
        },
        "paper_bgcolor": "#F5F6F9",
        "plot_bgcolor": "#F5F6F9",
        "template": {
         "data": {
          "bar": [
           {
            "error_x": {
             "color": "#2a3f5f"
            },
            "error_y": {
             "color": "#2a3f5f"
            },
            "marker": {
             "line": {
              "color": "#E5ECF6",
              "width": 0.5
             }
            },
            "type": "bar"
           }
          ],
          "barpolar": [
           {
            "marker": {
             "line": {
              "color": "#E5ECF6",
              "width": 0.5
             }
            },
            "type": "barpolar"
           }
          ],
          "carpet": [
           {
            "aaxis": {
             "endlinecolor": "#2a3f5f",
             "gridcolor": "white",
             "linecolor": "white",
             "minorgridcolor": "white",
             "startlinecolor": "#2a3f5f"
            },
            "baxis": {
             "endlinecolor": "#2a3f5f",
             "gridcolor": "white",
             "linecolor": "white",
             "minorgridcolor": "white",
             "startlinecolor": "#2a3f5f"
            },
            "type": "carpet"
           }
          ],
          "choropleth": [
           {
            "colorbar": {
             "outlinewidth": 0,
             "ticks": ""
            },
            "type": "choropleth"
           }
          ],
          "contour": [
           {
            "colorbar": {
             "outlinewidth": 0,
             "ticks": ""
            },
            "colorscale": [
             [
              0,
              "#0d0887"
             ],
             [
              0.1111111111111111,
              "#46039f"
             ],
             [
              0.2222222222222222,
              "#7201a8"
             ],
             [
              0.3333333333333333,
              "#9c179e"
             ],
             [
              0.4444444444444444,
              "#bd3786"
             ],
             [
              0.5555555555555556,
              "#d8576b"
             ],
             [
              0.6666666666666666,
              "#ed7953"
             ],
             [
              0.7777777777777778,
              "#fb9f3a"
             ],
             [
              0.8888888888888888,
              "#fdca26"
             ],
             [
              1,
              "#f0f921"
             ]
            ],
            "type": "contour"
           }
          ],
          "contourcarpet": [
           {
            "colorbar": {
             "outlinewidth": 0,
             "ticks": ""
            },
            "type": "contourcarpet"
           }
          ],
          "heatmap": [
           {
            "colorbar": {
             "outlinewidth": 0,
             "ticks": ""
            },
            "colorscale": [
             [
              0,
              "#0d0887"
             ],
             [
              0.1111111111111111,
              "#46039f"
             ],
             [
              0.2222222222222222,
              "#7201a8"
             ],
             [
              0.3333333333333333,
              "#9c179e"
             ],
             [
              0.4444444444444444,
              "#bd3786"
             ],
             [
              0.5555555555555556,
              "#d8576b"
             ],
             [
              0.6666666666666666,
              "#ed7953"
             ],
             [
              0.7777777777777778,
              "#fb9f3a"
             ],
             [
              0.8888888888888888,
              "#fdca26"
             ],
             [
              1,
              "#f0f921"
             ]
            ],
            "type": "heatmap"
           }
          ],
          "heatmapgl": [
           {
            "colorbar": {
             "outlinewidth": 0,
             "ticks": ""
            },
            "colorscale": [
             [
              0,
              "#0d0887"
             ],
             [
              0.1111111111111111,
              "#46039f"
             ],
             [
              0.2222222222222222,
              "#7201a8"
             ],
             [
              0.3333333333333333,
              "#9c179e"
             ],
             [
              0.4444444444444444,
              "#bd3786"
             ],
             [
              0.5555555555555556,
              "#d8576b"
             ],
             [
              0.6666666666666666,
              "#ed7953"
             ],
             [
              0.7777777777777778,
              "#fb9f3a"
             ],
             [
              0.8888888888888888,
              "#fdca26"
             ],
             [
              1,
              "#f0f921"
             ]
            ],
            "type": "heatmapgl"
           }
          ],
          "histogram": [
           {
            "marker": {
             "colorbar": {
              "outlinewidth": 0,
              "ticks": ""
             }
            },
            "type": "histogram"
           }
          ],
          "histogram2d": [
           {
            "colorbar": {
             "outlinewidth": 0,
             "ticks": ""
            },
            "colorscale": [
             [
              0,
              "#0d0887"
             ],
             [
              0.1111111111111111,
              "#46039f"
             ],
             [
              0.2222222222222222,
              "#7201a8"
             ],
             [
              0.3333333333333333,
              "#9c179e"
             ],
             [
              0.4444444444444444,
              "#bd3786"
             ],
             [
              0.5555555555555556,
              "#d8576b"
             ],
             [
              0.6666666666666666,
              "#ed7953"
             ],
             [
              0.7777777777777778,
              "#fb9f3a"
             ],
             [
              0.8888888888888888,
              "#fdca26"
             ],
             [
              1,
              "#f0f921"
             ]
            ],
            "type": "histogram2d"
           }
          ],
          "histogram2dcontour": [
           {
            "colorbar": {
             "outlinewidth": 0,
             "ticks": ""
            },
            "colorscale": [
             [
              0,
              "#0d0887"
             ],
             [
              0.1111111111111111,
              "#46039f"
             ],
             [
              0.2222222222222222,
              "#7201a8"
             ],
             [
              0.3333333333333333,
              "#9c179e"
             ],
             [
              0.4444444444444444,
              "#bd3786"
             ],
             [
              0.5555555555555556,
              "#d8576b"
             ],
             [
              0.6666666666666666,
              "#ed7953"
             ],
             [
              0.7777777777777778,
              "#fb9f3a"
             ],
             [
              0.8888888888888888,
              "#fdca26"
             ],
             [
              1,
              "#f0f921"
             ]
            ],
            "type": "histogram2dcontour"
           }
          ],
          "mesh3d": [
           {
            "colorbar": {
             "outlinewidth": 0,
             "ticks": ""
            },
            "type": "mesh3d"
           }
          ],
          "parcoords": [
           {
            "line": {
             "colorbar": {
              "outlinewidth": 0,
              "ticks": ""
             }
            },
            "type": "parcoords"
           }
          ],
          "pie": [
           {
            "automargin": true,
            "type": "pie"
           }
          ],
          "scatter": [
           {
            "marker": {
             "colorbar": {
              "outlinewidth": 0,
              "ticks": ""
             }
            },
            "type": "scatter"
           }
          ],
          "scatter3d": [
           {
            "line": {
             "colorbar": {
              "outlinewidth": 0,
              "ticks": ""
             }
            },
            "marker": {
             "colorbar": {
              "outlinewidth": 0,
              "ticks": ""
             }
            },
            "type": "scatter3d"
           }
          ],
          "scattercarpet": [
           {
            "marker": {
             "colorbar": {
              "outlinewidth": 0,
              "ticks": ""
             }
            },
            "type": "scattercarpet"
           }
          ],
          "scattergeo": [
           {
            "marker": {
             "colorbar": {
              "outlinewidth": 0,
              "ticks": ""
             }
            },
            "type": "scattergeo"
           }
          ],
          "scattergl": [
           {
            "marker": {
             "colorbar": {
              "outlinewidth": 0,
              "ticks": ""
             }
            },
            "type": "scattergl"
           }
          ],
          "scattermapbox": [
           {
            "marker": {
             "colorbar": {
              "outlinewidth": 0,
              "ticks": ""
             }
            },
            "type": "scattermapbox"
           }
          ],
          "scatterpolar": [
           {
            "marker": {
             "colorbar": {
              "outlinewidth": 0,
              "ticks": ""
             }
            },
            "type": "scatterpolar"
           }
          ],
          "scatterpolargl": [
           {
            "marker": {
             "colorbar": {
              "outlinewidth": 0,
              "ticks": ""
             }
            },
            "type": "scatterpolargl"
           }
          ],
          "scatterternary": [
           {
            "marker": {
             "colorbar": {
              "outlinewidth": 0,
              "ticks": ""
             }
            },
            "type": "scatterternary"
           }
          ],
          "surface": [
           {
            "colorbar": {
             "outlinewidth": 0,
             "ticks": ""
            },
            "colorscale": [
             [
              0,
              "#0d0887"
             ],
             [
              0.1111111111111111,
              "#46039f"
             ],
             [
              0.2222222222222222,
              "#7201a8"
             ],
             [
              0.3333333333333333,
              "#9c179e"
             ],
             [
              0.4444444444444444,
              "#bd3786"
             ],
             [
              0.5555555555555556,
              "#d8576b"
             ],
             [
              0.6666666666666666,
              "#ed7953"
             ],
             [
              0.7777777777777778,
              "#fb9f3a"
             ],
             [
              0.8888888888888888,
              "#fdca26"
             ],
             [
              1,
              "#f0f921"
             ]
            ],
            "type": "surface"
           }
          ],
          "table": [
           {
            "cells": {
             "fill": {
              "color": "#EBF0F8"
             },
             "line": {
              "color": "white"
             }
            },
            "header": {
             "fill": {
              "color": "#C8D4E3"
             },
             "line": {
              "color": "white"
             }
            },
            "type": "table"
           }
          ]
         },
         "layout": {
          "annotationdefaults": {
           "arrowcolor": "#2a3f5f",
           "arrowhead": 0,
           "arrowwidth": 1
          },
          "coloraxis": {
           "colorbar": {
            "outlinewidth": 0,
            "ticks": ""
           }
          },
          "colorscale": {
           "diverging": [
            [
             0,
             "#8e0152"
            ],
            [
             0.1,
             "#c51b7d"
            ],
            [
             0.2,
             "#de77ae"
            ],
            [
             0.3,
             "#f1b6da"
            ],
            [
             0.4,
             "#fde0ef"
            ],
            [
             0.5,
             "#f7f7f7"
            ],
            [
             0.6,
             "#e6f5d0"
            ],
            [
             0.7,
             "#b8e186"
            ],
            [
             0.8,
             "#7fbc41"
            ],
            [
             0.9,
             "#4d9221"
            ],
            [
             1,
             "#276419"
            ]
           ],
           "sequential": [
            [
             0,
             "#0d0887"
            ],
            [
             0.1111111111111111,
             "#46039f"
            ],
            [
             0.2222222222222222,
             "#7201a8"
            ],
            [
             0.3333333333333333,
             "#9c179e"
            ],
            [
             0.4444444444444444,
             "#bd3786"
            ],
            [
             0.5555555555555556,
             "#d8576b"
            ],
            [
             0.6666666666666666,
             "#ed7953"
            ],
            [
             0.7777777777777778,
             "#fb9f3a"
            ],
            [
             0.8888888888888888,
             "#fdca26"
            ],
            [
             1,
             "#f0f921"
            ]
           ],
           "sequentialminus": [
            [
             0,
             "#0d0887"
            ],
            [
             0.1111111111111111,
             "#46039f"
            ],
            [
             0.2222222222222222,
             "#7201a8"
            ],
            [
             0.3333333333333333,
             "#9c179e"
            ],
            [
             0.4444444444444444,
             "#bd3786"
            ],
            [
             0.5555555555555556,
             "#d8576b"
            ],
            [
             0.6666666666666666,
             "#ed7953"
            ],
            [
             0.7777777777777778,
             "#fb9f3a"
            ],
            [
             0.8888888888888888,
             "#fdca26"
            ],
            [
             1,
             "#f0f921"
            ]
           ]
          },
          "colorway": [
           "#636efa",
           "#EF553B",
           "#00cc96",
           "#ab63fa",
           "#FFA15A",
           "#19d3f3",
           "#FF6692",
           "#B6E880",
           "#FF97FF",
           "#FECB52"
          ],
          "font": {
           "color": "#2a3f5f"
          },
          "geo": {
           "bgcolor": "white",
           "lakecolor": "white",
           "landcolor": "#E5ECF6",
           "showlakes": true,
           "showland": true,
           "subunitcolor": "white"
          },
          "hoverlabel": {
           "align": "left"
          },
          "hovermode": "closest",
          "mapbox": {
           "style": "light"
          },
          "paper_bgcolor": "white",
          "plot_bgcolor": "#E5ECF6",
          "polar": {
           "angularaxis": {
            "gridcolor": "white",
            "linecolor": "white",
            "ticks": ""
           },
           "bgcolor": "#E5ECF6",
           "radialaxis": {
            "gridcolor": "white",
            "linecolor": "white",
            "ticks": ""
           }
          },
          "scene": {
           "xaxis": {
            "backgroundcolor": "#E5ECF6",
            "gridcolor": "white",
            "gridwidth": 2,
            "linecolor": "white",
            "showbackground": true,
            "ticks": "",
            "zerolinecolor": "white"
           },
           "yaxis": {
            "backgroundcolor": "#E5ECF6",
            "gridcolor": "white",
            "gridwidth": 2,
            "linecolor": "white",
            "showbackground": true,
            "ticks": "",
            "zerolinecolor": "white"
           },
           "zaxis": {
            "backgroundcolor": "#E5ECF6",
            "gridcolor": "white",
            "gridwidth": 2,
            "linecolor": "white",
            "showbackground": true,
            "ticks": "",
            "zerolinecolor": "white"
           }
          },
          "shapedefaults": {
           "line": {
            "color": "#2a3f5f"
           }
          },
          "ternary": {
           "aaxis": {
            "gridcolor": "white",
            "linecolor": "white",
            "ticks": ""
           },
           "baxis": {
            "gridcolor": "white",
            "linecolor": "white",
            "ticks": ""
           },
           "bgcolor": "#E5ECF6",
           "caxis": {
            "gridcolor": "white",
            "linecolor": "white",
            "ticks": ""
           }
          },
          "title": {
           "x": 0.05
          },
          "xaxis": {
           "automargin": true,
           "gridcolor": "white",
           "linecolor": "white",
           "ticks": "",
           "title": {
            "standoff": 15
           },
           "zerolinecolor": "white",
           "zerolinewidth": 2
          },
          "yaxis": {
           "automargin": true,
           "gridcolor": "white",
           "linecolor": "white",
           "ticks": "",
           "title": {
            "standoff": 15
           },
           "zerolinecolor": "white",
           "zerolinewidth": 2
          }
         }
        },
        "title": {
         "font": {
          "color": "#4D5663"
         },
         "text": "Figure 5. Распределение цен на квартиры у застройщика"
        },
        "xaxis": {
         "gridcolor": "#E1E5ED",
         "showgrid": true,
         "tickfont": {
          "color": "#4D5663"
         },
         "title": {
          "font": {
           "color": "#4D5663"
          },
          "text": ""
         },
         "zerolinecolor": "#E1E5ED"
        },
        "yaxis": {
         "gridcolor": "#E1E5ED",
         "showgrid": true,
         "tickfont": {
          "color": "#4D5663"
         },
         "title": {
          "font": {
           "color": "#4D5663"
          },
          "text": "Диапазон цен на квартиры"
         },
         "zerolinecolor": "#E1E5ED"
        }
       }
      },
      "text/html": [
       "<div>\n",
       "        \n",
       "        \n",
       "            <div id=\"aa2b0c8a-3b65-48c5-908d-34c28f8a2b71\" class=\"plotly-graph-div\" style=\"height:525px; width:100%;\"></div>\n",
       "            <script type=\"text/javascript\">\n",
       "                require([\"plotly\"], function(Plotly) {\n",
       "                    window.PLOTLYENV=window.PLOTLYENV || {};\n",
       "                    window.PLOTLYENV.BASE_URL='https://plot.ly';\n",
       "                    \n",
       "                if (document.getElementById(\"aa2b0c8a-3b65-48c5-908d-34c28f8a2b71\")) {\n",
       "                    Plotly.newPlot(\n",
       "                        'aa2b0c8a-3b65-48c5-908d-34c28f8a2b71',\n",
       "                        [{\"boxpoints\": false, \"line\": {\"width\": 1.3}, \"marker\": {\"color\": \"rgba(255, 153, 51, 1.0)\"}, \"name\": \"\\u00abAIZ QURYLYS \\u0422\\u041e\\u041e\\u00bb\", \"orientation\": \"v\", \"type\": \"box\", \"y\": [null, null, null, null, null, null, null, null, null, null, null, null, null, 7155000.0, null, null, null, null, null, null, null, null, null, null, null, null, null, null, 7230600.0, null, null, null, null, null, null, null, null, null, null, null, null, null, null, null, null, null, 7387200.0, null, null, null, null, null, null, null, null, null, null, null, null, null, null, null, 7556400.0, null, null, null, null, null, null, null, null, null, 7585200.0, null, null, null, null, null, null, null, null, null, null, 7959600.0, null, null, null, null, null, null, 8409600.0, null, null, 9280800.0, null, null, null, 14274000.0, 14331600.0, 6210000.0, 6363000.0, 6600600.0, 6732000.0, null, null, null, null, null, null, null, null, null, null, null, null, null, null, null, null, null, null, null, null, null, null, null, null, null, null, null, null, null, null, null, null, null, null, null, null, null, null, null, null, null, null, null, null, null, null, null, null, null, null, null, null, null, null, null, null, null, null, null, null, null, null, null, null]}, {\"boxpoints\": false, \"line\": {\"width\": 1.3}, \"marker\": {\"color\": \"rgba(55, 128, 191, 1.0)\"}, \"name\": \"\\u00abAsti Group\\u00bb\", \"orientation\": \"v\", \"type\": \"box\", \"y\": [null, null, null, null, null, null, null, null, null, null, null, null, null, null, null, null, null, null, null, null, null, null, null, null, null, null, null, null, null, null, null, null, null, null, null, null, null, null, null, null, null, null, null, null, null, null, null, null, null, null, null, null, null, null, null, null, null, null, null, null, null, null, null, null, null, null, null, null, null, null, null, null, null, null, null, null, null, null, null, null, null, null, null, null, null, null, null, null, null, null, null, null, null, null, null, null, null, null, null, null, null, null, null, null, null, null, null, null, null, null, null, null, null, null, null, null, null, null, null, null, null, null, null, null, null, null, null, null, null, null, null, null, null, null, 10041800.0, 22174800.0, 9540300.0, 10729150.0, 18441350.0, 22836800.0, 24402000.0, 25852400.0, 20073750.0, 11047750.0, 10617050.0, 18830900.0, 11180500.0, 9504900.0, null, null, null, null, null, null, null, null, null, null, null, null, null, null, null, null, 15979950.0, 16396050.0, 16059750.0]}, {\"boxpoints\": false, \"line\": {\"width\": 1.3}, \"marker\": {\"color\": \"rgba(50, 171, 96, 1.0)\"}, \"name\": \"\\u00abBI Group\\u00bb\", \"orientation\": \"v\", \"type\": \"box\", \"y\": [55487214.0, 86261292.0, null, 42258294.0, null, 55994650.0, 17476875.0, 30842690.0, 63538100.0, 59147706.0, null, 17406360.0, null, null, 53755913.0, null, null, 66208156.0, 17732995.0, 36855000.0, 66388595.0, 59226993.0, 27328518.0, null, 63324612.0, null, null, 70318468.0, null, null, 38904840.0, 18803995.0, 66468798.0, 59889168.0, 27814050.0, null, 63424920.0, null, 71103752.0, 39682440.0, 19012865.0, 64039136.0, 91690000.0, null, null, null, null, 30238871.0, 35096000.0, 17749800.0, 19258458.0, 43090000.0, 47436064.0, null, 39107794.0, null, 18085111.0, 27352800.0, 46410000.0, 40721000.0, null, 50574940.0, null, null, 18311904.0, 31581550.0, 46890000.0, null, 52023158.0, 42130086.0, null, null, null, 34958228.0, 21519562.0, 48340000.0, 53291328.0, 42738851.0, null, 24393150.0, 36808000.0, 54840000.0, 53940720.0, null, 48800864.0, 27032700.0, 37357308.0, 57402180.0, null, 37467786.0, null, null, 37502880.0, null, 38084760.0, null, 39081328.0, null, null, null, null, null, null, null, null, null, null, null, null, null, null, null, null, null, null, null, null, null, null, null, null, null, null, null, null, null, null, null, null, null, null, null, null, null, null, null, null, null, null, null, null, null, null, null, null, null, null, null, 18412800.0, 42302100.0, 34577100.0, 46400000.0, 17665350.0, 32913920.0, 38016000.0, 40339000.0, 19202760.0, null, null, null, null, null, null, null, null, null, null]}, {\"boxpoints\": false, \"line\": {\"width\": 1.3}, \"marker\": {\"color\": \"rgba(128, 0, 128, 1.0)\"}, \"name\": \"\\u00abGarInvest\\u00bb\", \"orientation\": \"v\", \"type\": \"box\", \"y\": [null, null, null, null, null, null, null, null, null, null, 15368850.0, null, null, null, null, null, null, null, null, null, null, null, null, null, null, null, 16457700.0, null, null, null, null, null, null, null, null, null, null, null, null, null, null, null, null, null, 18620100.0, null, null, null, null, null, null, null, null, null, null, null, null, null, null, null, 23136150.0, null, null, null, null, null, null, null, null, null, null, 9651750.0, null, null, null, null, null, null, null, null, null, null, null, null, null, null, null, null, null, null, null, null, null, null, null, null, null, null, null, null, null, null, null, null, null, null, null, null, null, null, null, null, null, null, null, null, null, null, null, null, null, null, null, null, null, null, null, null, null, null, null, null, null, null, null, null, null, null, null, null, null, null, null, null, null, null, null, null, null, null, null, null, null, null, null, null, null, null, null, null, null, null, null, null, null, null, null]}, {\"boxpoints\": false, \"line\": {\"width\": 1.3}, \"marker\": {\"color\": \"rgba(219, 64, 82, 1.0)\"}, \"name\": \"\\u00abSAT-NS \\u0422\\u041e\\u041e\\u00bb\", \"orientation\": \"v\", \"type\": \"box\", \"y\": [null, null, null, null, null, null, null, null, null, null, null, null, null, null, null, null, null, null, null, null, null, null, null, null, null, null, null, null, null, null, null, null, null, null, null, null, null, null, null, null, null, null, null, null, null, null, null, null, null, null, null, null, null, null, null, null, null, null, null, null, null, null, null, null, null, null, null, null, null, null, null, null, null, null, null, null, null, null, null, null, null, null, null, null, null, null, null, null, null, null, null, null, null, null, null, null, null, null, null, null, null, null, null, 19183500.0, 19267600.0, 19096500.0, 19760600.0, 23385600.0, 19238600.0, null, null, null, null, null, null, 17806000.0, 15454100.0, null, null, null, 13862000.0, 14494200.0, 12284400.0, 17936500.0, null, null, 18763000.0, 13284900.0, null, 16814200.0, null, null, null, null, null, null, null, null, null, null, null, null, null, null, null, null, null, null, null, null, null, null, null, null, null, null, null, null, null, null, null, null, null, null, null, null, null]}, {\"boxpoints\": false, \"line\": {\"width\": 1.3}, \"marker\": {\"color\": \"rgba(0, 128, 128, 1.0)\"}, \"name\": \"\\u00ab\\u0410\\u043b\\u0442\\u044b\\u043d \\u041e\\u0442\\u0430\\u0443 \\u0422\\u041e\\u041e\\u00bb\", \"orientation\": \"v\", \"type\": \"box\", \"y\": [null, null, null, null, null, null, null, null, null, null, null, null, null, null, null, 9255000.0, null, null, null, null, null, null, null, null, null, null, null, null, null, 9635000.0, null, null, null, null, null, null, null, null, null, null, null, null, null, 10742500.0, null, null, null, null, null, null, null, null, null, null, null, 14467500.0, null, null, null, null, null, null, null, null, null, null, null, 14922500.0, null, null, null, null, null, null, null, null, null, null, 15840000.0, null, null, null, null, null, null, null, null, null, 16682500.0, null, null, 17132500.0, null, null, null, 17865000.0, null, null, null, null, null, null, null, null, null, null, null, null, null, null, null, null, null, null, null, null, null, null, null, null, null, null, null, null, null, null, null, null, null, null, null, null, null, null, null, null, null, null, null, null, null, null, null, null, null, null, null, null, null, null, null, null, null, null, null, null, null, null, null, null, null, null, null, null, null, null, null]}, {\"boxpoints\": false, \"line\": {\"width\": 1.3}, \"marker\": {\"color\": \"rgba(255, 255, 51, 1.0)\"}, \"name\": \"\\u00ab\\u0410\\u0441\\u0442\\u0430\\u043d\\u0430\\u0422\\u0435\\u0445\\u0421\\u0442\\u0440\\u043e\\u0439\\u00bb\", \"orientation\": \"v\", \"type\": \"box\", \"y\": [null, null, 15477000.0, null, null, null, null, null, null, null, null, null, 27756150.0, null, null, null, null, null, null, null, null, null, null, 38346000.0, null, null, null, null, null, null, null, null, null, null, null, null, null, 53616000.0, null, null, null, null, null, null, null, null, null, null, null, null, null, null, null, null, null, null, null, null, null, null, null, null, null, null, null, null, null, null, null, null, null, null, null, null, null, null, null, null, null, null, null, null, null, null, null, null, null, null, null, null, null, null, null, null, null, null, null, null, null, null, null, null, null, null, null, null, null, null, null, null, null, null, null, null, null, null, null, null, null, null, null, null, null, null, null, null, null, null, null, null, null, null, null, null, null, null, null, null, null, null, null, null, null, null, null, null, null, null, null, null, null, null, null, null, null, null, null, null, null, null, null, null, null, null, null, null, null]}, {\"boxpoints\": false, \"line\": {\"width\": 1.3}, \"marker\": {\"color\": \"rgba(128, 128, 0, 1.0)\"}, \"name\": \"\\u00ab\\u0411\\u0435\\u0440\\u0435\\u043a\\u0435 \\u041a\\u0443\\u0440\\u044b\\u043b\\u044b\\u0441 2030\\u00bb\", \"orientation\": \"v\", \"type\": \"box\", \"y\": [null, null, null, null, null, null, null, null, null, null, null, null, null, null, null, null, null, null, null, null, null, null, null, null, null, null, null, null, null, null, null, null, null, null, null, null, null, null, null, null, null, null, null, null, null, null, null, null, null, null, null, null, null, null, null, null, null, null, null, null, null, null, null, null, null, null, null, null, null, null, null, null, null, null, null, null, null, null, null, null, null, null, null, null, null, null, null, null, null, null, null, null, null, null, null, null, null, null, null, null, null, null, null, null, null, null, null, null, null, 7406000.0, 9422000.0, 6496000.0, 6286000.0, 5320000.0, 8568000.0, null, null, 7574000.0, 7294000.0, 7434000.0, null, null, null, null, 5320000.0, 6426000.0, null, null, 4662000.0, null, 10276000.0, 7238000.0, 5152000.0, 6552000.0, null, null, null, null, null, null, null, null, null, null, null, null, null, null, null, null, null, null, null, null, null, null, null, null, null, null, null, null, null, null, null, null, null]}, {\"boxpoints\": false, \"line\": {\"width\": 1.3}, \"marker\": {\"color\": \"rgba(251, 128, 114, 1.0)\"}, \"name\": \"\\u00ab\\u0416\\u0421\\u041a \\u0416\\u0430\\u043d\\u0443\\u044f \\u0418\\u043d\\u0432\\u0435\\u0441\\u0442\\u00bb\", \"orientation\": \"v\", \"type\": \"box\", \"y\": [null, null, null, null, null, null, null, null, null, null, null, null, null, null, null, null, null, null, null, null, null, null, null, null, null, null, null, null, null, null, null, null, null, null, null, null, null, null, null, null, null, null, null, null, null, null, null, null, null, null, null, null, null, null, null, null, null, null, null, null, null, null, null, null, null, null, null, null, null, null, null, null, null, null, null, null, null, null, null, null, null, null, null, null, null, null, null, null, null, null, null, null, null, null, null, null, null, null, null, null, null, null, null, null, null, null, null, null, null, null, null, null, null, null, null, null, null, null, null, null, null, null, null, null, null, null, null, null, null, null, null, null, null, null, null, null, null, null, null, null, null, null, null, null, null, null, null, null, null, null, null, null, null, null, null, null, null, 8374000.0, 8362000.0, 12226000.0, 15790000.0, 13432000.0, 12200000.0, 8986000.0, null, null, null]}, {\"boxpoints\": false, \"line\": {\"width\": 1.3}, \"marker\": {\"color\": \"rgba(128, 177, 211, 1.0)\"}, \"name\": \"\\u00ab\\u0422\\u041e\\u041e \\u0424\\u0430\\u0432\\u043e\\u0440\\u0438\\u0442 \\u0421\\u0442\\u0440\\u043e\\u0439\\u00bb\", \"orientation\": \"v\", \"type\": \"box\", \"y\": [null, null, null, null, 16443000.0, null, null, null, null, null, null, null, null, null, null, null, 21198810.0, null, null, null, null, null, null, null, null, 22206250.0, null, null, null, null, null, null, null, null, null, 23845770.0, null, null, null, null, null, null, null, null, null, 28266300.0, null, null, null, null, null, null, null, 29995350.0, null, null, null, null, null, null, null, null, null, 31209630.0, null, null, null, null, null, null, 10668130.0, null, null, null, null, null, null, null, null, null, null, null, null, null, null, null, null, null, null, null, null, null, null, null, null, null, null, null, null, null, null, null, null, null, null, null, null, null, null, null, null, null, null, null, null, null, null, null, null, null, null, null, null, null, null, null, null, null, null, null, null, null, null, null, null, null, null, null, null, null, null, null, null, null, null, null, null, null, null, null, null, null, null, null, null, null, null, null, null, null, null, null, null, null, null, null, null]}],\n",
       "                        {\"legend\": {\"bgcolor\": \"#F5F6F9\", \"font\": {\"color\": \"#4D5663\"}}, \"paper_bgcolor\": \"#F5F6F9\", \"plot_bgcolor\": \"#F5F6F9\", \"template\": {\"data\": {\"bar\": [{\"error_x\": {\"color\": \"#2a3f5f\"}, \"error_y\": {\"color\": \"#2a3f5f\"}, \"marker\": {\"line\": {\"color\": \"#E5ECF6\", \"width\": 0.5}}, \"type\": \"bar\"}], \"barpolar\": [{\"marker\": {\"line\": {\"color\": \"#E5ECF6\", \"width\": 0.5}}, \"type\": \"barpolar\"}], \"carpet\": [{\"aaxis\": {\"endlinecolor\": \"#2a3f5f\", \"gridcolor\": \"white\", \"linecolor\": \"white\", \"minorgridcolor\": \"white\", \"startlinecolor\": \"#2a3f5f\"}, \"baxis\": {\"endlinecolor\": \"#2a3f5f\", \"gridcolor\": \"white\", \"linecolor\": \"white\", \"minorgridcolor\": \"white\", \"startlinecolor\": \"#2a3f5f\"}, \"type\": \"carpet\"}], \"choropleth\": [{\"colorbar\": {\"outlinewidth\": 0, \"ticks\": \"\"}, \"type\": \"choropleth\"}], \"contour\": [{\"colorbar\": {\"outlinewidth\": 0, \"ticks\": \"\"}, \"colorscale\": [[0.0, \"#0d0887\"], [0.1111111111111111, \"#46039f\"], [0.2222222222222222, \"#7201a8\"], [0.3333333333333333, \"#9c179e\"], [0.4444444444444444, \"#bd3786\"], [0.5555555555555556, \"#d8576b\"], [0.6666666666666666, \"#ed7953\"], [0.7777777777777778, \"#fb9f3a\"], [0.8888888888888888, \"#fdca26\"], [1.0, \"#f0f921\"]], \"type\": \"contour\"}], \"contourcarpet\": [{\"colorbar\": {\"outlinewidth\": 0, \"ticks\": \"\"}, \"type\": \"contourcarpet\"}], \"heatmap\": [{\"colorbar\": {\"outlinewidth\": 0, \"ticks\": \"\"}, \"colorscale\": [[0.0, \"#0d0887\"], [0.1111111111111111, \"#46039f\"], [0.2222222222222222, \"#7201a8\"], [0.3333333333333333, \"#9c179e\"], [0.4444444444444444, \"#bd3786\"], [0.5555555555555556, \"#d8576b\"], [0.6666666666666666, \"#ed7953\"], [0.7777777777777778, \"#fb9f3a\"], [0.8888888888888888, \"#fdca26\"], [1.0, \"#f0f921\"]], \"type\": \"heatmap\"}], \"heatmapgl\": [{\"colorbar\": {\"outlinewidth\": 0, \"ticks\": \"\"}, \"colorscale\": [[0.0, \"#0d0887\"], [0.1111111111111111, \"#46039f\"], [0.2222222222222222, \"#7201a8\"], [0.3333333333333333, \"#9c179e\"], [0.4444444444444444, \"#bd3786\"], [0.5555555555555556, \"#d8576b\"], [0.6666666666666666, \"#ed7953\"], [0.7777777777777778, \"#fb9f3a\"], [0.8888888888888888, \"#fdca26\"], [1.0, \"#f0f921\"]], \"type\": \"heatmapgl\"}], \"histogram\": [{\"marker\": {\"colorbar\": {\"outlinewidth\": 0, \"ticks\": \"\"}}, \"type\": \"histogram\"}], \"histogram2d\": [{\"colorbar\": {\"outlinewidth\": 0, \"ticks\": \"\"}, \"colorscale\": [[0.0, \"#0d0887\"], [0.1111111111111111, \"#46039f\"], [0.2222222222222222, \"#7201a8\"], [0.3333333333333333, \"#9c179e\"], [0.4444444444444444, \"#bd3786\"], [0.5555555555555556, \"#d8576b\"], [0.6666666666666666, \"#ed7953\"], [0.7777777777777778, \"#fb9f3a\"], [0.8888888888888888, \"#fdca26\"], [1.0, \"#f0f921\"]], \"type\": \"histogram2d\"}], \"histogram2dcontour\": [{\"colorbar\": {\"outlinewidth\": 0, \"ticks\": \"\"}, \"colorscale\": [[0.0, \"#0d0887\"], [0.1111111111111111, \"#46039f\"], [0.2222222222222222, \"#7201a8\"], [0.3333333333333333, \"#9c179e\"], [0.4444444444444444, \"#bd3786\"], [0.5555555555555556, \"#d8576b\"], [0.6666666666666666, \"#ed7953\"], [0.7777777777777778, \"#fb9f3a\"], [0.8888888888888888, \"#fdca26\"], [1.0, \"#f0f921\"]], \"type\": \"histogram2dcontour\"}], \"mesh3d\": [{\"colorbar\": {\"outlinewidth\": 0, \"ticks\": \"\"}, \"type\": \"mesh3d\"}], \"parcoords\": [{\"line\": {\"colorbar\": {\"outlinewidth\": 0, \"ticks\": \"\"}}, \"type\": \"parcoords\"}], \"pie\": [{\"automargin\": true, \"type\": \"pie\"}], \"scatter\": [{\"marker\": {\"colorbar\": {\"outlinewidth\": 0, \"ticks\": \"\"}}, \"type\": \"scatter\"}], \"scatter3d\": [{\"line\": {\"colorbar\": {\"outlinewidth\": 0, \"ticks\": \"\"}}, \"marker\": {\"colorbar\": {\"outlinewidth\": 0, \"ticks\": \"\"}}, \"type\": \"scatter3d\"}], \"scattercarpet\": [{\"marker\": {\"colorbar\": {\"outlinewidth\": 0, \"ticks\": \"\"}}, \"type\": \"scattercarpet\"}], \"scattergeo\": [{\"marker\": {\"colorbar\": {\"outlinewidth\": 0, \"ticks\": \"\"}}, \"type\": \"scattergeo\"}], \"scattergl\": [{\"marker\": {\"colorbar\": {\"outlinewidth\": 0, \"ticks\": \"\"}}, \"type\": \"scattergl\"}], \"scattermapbox\": [{\"marker\": {\"colorbar\": {\"outlinewidth\": 0, \"ticks\": \"\"}}, \"type\": \"scattermapbox\"}], \"scatterpolar\": [{\"marker\": {\"colorbar\": {\"outlinewidth\": 0, \"ticks\": \"\"}}, \"type\": \"scatterpolar\"}], \"scatterpolargl\": [{\"marker\": {\"colorbar\": {\"outlinewidth\": 0, \"ticks\": \"\"}}, \"type\": \"scatterpolargl\"}], \"scatterternary\": [{\"marker\": {\"colorbar\": {\"outlinewidth\": 0, \"ticks\": \"\"}}, \"type\": \"scatterternary\"}], \"surface\": [{\"colorbar\": {\"outlinewidth\": 0, \"ticks\": \"\"}, \"colorscale\": [[0.0, \"#0d0887\"], [0.1111111111111111, \"#46039f\"], [0.2222222222222222, \"#7201a8\"], [0.3333333333333333, \"#9c179e\"], [0.4444444444444444, \"#bd3786\"], [0.5555555555555556, \"#d8576b\"], [0.6666666666666666, \"#ed7953\"], [0.7777777777777778, \"#fb9f3a\"], [0.8888888888888888, \"#fdca26\"], [1.0, \"#f0f921\"]], \"type\": \"surface\"}], \"table\": [{\"cells\": {\"fill\": {\"color\": \"#EBF0F8\"}, \"line\": {\"color\": \"white\"}}, \"header\": {\"fill\": {\"color\": \"#C8D4E3\"}, \"line\": {\"color\": \"white\"}}, \"type\": \"table\"}]}, \"layout\": {\"annotationdefaults\": {\"arrowcolor\": \"#2a3f5f\", \"arrowhead\": 0, \"arrowwidth\": 1}, \"coloraxis\": {\"colorbar\": {\"outlinewidth\": 0, \"ticks\": \"\"}}, \"colorscale\": {\"diverging\": [[0, \"#8e0152\"], [0.1, \"#c51b7d\"], [0.2, \"#de77ae\"], [0.3, \"#f1b6da\"], [0.4, \"#fde0ef\"], [0.5, \"#f7f7f7\"], [0.6, \"#e6f5d0\"], [0.7, \"#b8e186\"], [0.8, \"#7fbc41\"], [0.9, \"#4d9221\"], [1, \"#276419\"]], \"sequential\": [[0.0, \"#0d0887\"], [0.1111111111111111, \"#46039f\"], [0.2222222222222222, \"#7201a8\"], [0.3333333333333333, \"#9c179e\"], [0.4444444444444444, \"#bd3786\"], [0.5555555555555556, \"#d8576b\"], [0.6666666666666666, \"#ed7953\"], [0.7777777777777778, \"#fb9f3a\"], [0.8888888888888888, \"#fdca26\"], [1.0, \"#f0f921\"]], \"sequentialminus\": [[0.0, \"#0d0887\"], [0.1111111111111111, \"#46039f\"], [0.2222222222222222, \"#7201a8\"], [0.3333333333333333, \"#9c179e\"], [0.4444444444444444, \"#bd3786\"], [0.5555555555555556, \"#d8576b\"], [0.6666666666666666, \"#ed7953\"], [0.7777777777777778, \"#fb9f3a\"], [0.8888888888888888, \"#fdca26\"], [1.0, \"#f0f921\"]]}, \"colorway\": [\"#636efa\", \"#EF553B\", \"#00cc96\", \"#ab63fa\", \"#FFA15A\", \"#19d3f3\", \"#FF6692\", \"#B6E880\", \"#FF97FF\", \"#FECB52\"], \"font\": {\"color\": \"#2a3f5f\"}, \"geo\": {\"bgcolor\": \"white\", \"lakecolor\": \"white\", \"landcolor\": \"#E5ECF6\", \"showlakes\": true, \"showland\": true, \"subunitcolor\": \"white\"}, \"hoverlabel\": {\"align\": \"left\"}, \"hovermode\": \"closest\", \"mapbox\": {\"style\": \"light\"}, \"paper_bgcolor\": \"white\", \"plot_bgcolor\": \"#E5ECF6\", \"polar\": {\"angularaxis\": {\"gridcolor\": \"white\", \"linecolor\": \"white\", \"ticks\": \"\"}, \"bgcolor\": \"#E5ECF6\", \"radialaxis\": {\"gridcolor\": \"white\", \"linecolor\": \"white\", \"ticks\": \"\"}}, \"scene\": {\"xaxis\": {\"backgroundcolor\": \"#E5ECF6\", \"gridcolor\": \"white\", \"gridwidth\": 2, \"linecolor\": \"white\", \"showbackground\": true, \"ticks\": \"\", \"zerolinecolor\": \"white\"}, \"yaxis\": {\"backgroundcolor\": \"#E5ECF6\", \"gridcolor\": \"white\", \"gridwidth\": 2, \"linecolor\": \"white\", \"showbackground\": true, \"ticks\": \"\", \"zerolinecolor\": \"white\"}, \"zaxis\": {\"backgroundcolor\": \"#E5ECF6\", \"gridcolor\": \"white\", \"gridwidth\": 2, \"linecolor\": \"white\", \"showbackground\": true, \"ticks\": \"\", \"zerolinecolor\": \"white\"}}, \"shapedefaults\": {\"line\": {\"color\": \"#2a3f5f\"}}, \"ternary\": {\"aaxis\": {\"gridcolor\": \"white\", \"linecolor\": \"white\", \"ticks\": \"\"}, \"baxis\": {\"gridcolor\": \"white\", \"linecolor\": \"white\", \"ticks\": \"\"}, \"bgcolor\": \"#E5ECF6\", \"caxis\": {\"gridcolor\": \"white\", \"linecolor\": \"white\", \"ticks\": \"\"}}, \"title\": {\"x\": 0.05}, \"xaxis\": {\"automargin\": true, \"gridcolor\": \"white\", \"linecolor\": \"white\", \"ticks\": \"\", \"title\": {\"standoff\": 15}, \"zerolinecolor\": \"white\", \"zerolinewidth\": 2}, \"yaxis\": {\"automargin\": true, \"gridcolor\": \"white\", \"linecolor\": \"white\", \"ticks\": \"\", \"title\": {\"standoff\": 15}, \"zerolinecolor\": \"white\", \"zerolinewidth\": 2}}}, \"title\": {\"font\": {\"color\": \"#4D5663\"}, \"text\": \"Figure 5. \\u0420\\u0430\\u0441\\u043f\\u0440\\u0435\\u0434\\u0435\\u043b\\u0435\\u043d\\u0438\\u0435 \\u0446\\u0435\\u043d \\u043d\\u0430 \\u043a\\u0432\\u0430\\u0440\\u0442\\u0438\\u0440\\u044b \\u0443 \\u0437\\u0430\\u0441\\u0442\\u0440\\u043e\\u0439\\u0449\\u0438\\u043a\\u0430\"}, \"xaxis\": {\"gridcolor\": \"#E1E5ED\", \"showgrid\": true, \"tickfont\": {\"color\": \"#4D5663\"}, \"title\": {\"font\": {\"color\": \"#4D5663\"}, \"text\": \"\"}, \"zerolinecolor\": \"#E1E5ED\"}, \"yaxis\": {\"gridcolor\": \"#E1E5ED\", \"showgrid\": true, \"tickfont\": {\"color\": \"#4D5663\"}, \"title\": {\"font\": {\"color\": \"#4D5663\"}, \"text\": \"\\u0414\\u0438\\u0430\\u043f\\u0430\\u0437\\u043e\\u043d \\u0446\\u0435\\u043d \\u043d\\u0430 \\u043a\\u0432\\u0430\\u0440\\u0442\\u0438\\u0440\\u044b\"}, \"zerolinecolor\": \"#E1E5ED\"}},\n",
       "                        {\"showLink\": true, \"linkText\": \"Export to plot.ly\", \"plotlyServerURL\": \"https://plot.ly\", \"responsive\": true}\n",
       "                    ).then(function(){\n",
       "                            \n",
       "var gd = document.getElementById('aa2b0c8a-3b65-48c5-908d-34c28f8a2b71');\n",
       "var x = new MutationObserver(function (mutations, observer) {{\n",
       "        var display = window.getComputedStyle(gd).display;\n",
       "        if (!display || display === 'none') {{\n",
       "            console.log([gd, 'removed!']);\n",
       "            Plotly.purge(gd);\n",
       "            observer.disconnect();\n",
       "        }}\n",
       "}});\n",
       "\n",
       "// Listen for the removal of the full notebook cells\n",
       "var notebookContainer = gd.closest('#notebook-container');\n",
       "if (notebookContainer) {{\n",
       "    x.observe(notebookContainer, {childList: true});\n",
       "}}\n",
       "\n",
       "// Listen for the clearing of the current output cell\n",
       "var outputEl = gd.closest('.output');\n",
       "if (outputEl) {{\n",
       "    x.observe(outputEl, {childList: true});\n",
       "}}\n",
       "\n",
       "                        })\n",
       "                };\n",
       "                });\n",
       "            </script>\n",
       "        </div>"
      ]
     },
     "metadata": {},
     "output_type": "display_data"
    },
    {
     "data": {
      "text/html": [
       "\n",
       "        <script>\n",
       "            function code_toggle_2710379727842133327() {\n",
       "                $('div.cell.code_cell.rendered.selected').find('div.input').toggle();\n",
       "            }\n",
       "\n",
       "            \n",
       "        </script>\n",
       "\n",
       "        <a href=\"javascript:code_toggle_2710379727842133327()\">Toggle show/hide</a>\n",
       "    "
      ],
      "text/plain": [
       "<IPython.core.display.HTML object>"
      ]
     },
     "execution_count": 27,
     "metadata": {},
     "output_type": "execute_result"
    }
   ],
   "source": [
    "df.pivot(columns='Застройщик', values='Цена (тнг)').iplot(\n",
    "        kind='box',\n",
    "        yTitle='Диапазон цен на квартиры',\n",
    "        title='Figure 5. Распределение цен на квартиры у застройщика')\n",
    "hide_toggle()"
   ]
  },
  {
   "cell_type": "markdown",
   "metadata": {},
   "source": [
    "#### Читаем график:\n",
    " 1. Медиана цен за квартиру и застройщика \"BI Group\"  равна 40 млн тенге\n",
    " 2. 75% квартир застройщика \"АстанаТехСтрой\" имеют цену меньше 46 млн тенге\n",
    " 3. 25% квартир застройщика \"Asti Group\" имеют цену выше 20.6 млн тенге\n",
    " 4. За 20 млн тенге можно рассмотерть квартиры всех застрощиков, кроме \"AIZ QURYLYS TOO\",\"Береке Курылыс 2030\" и \" ЖСК Жануя Инвест\"\n"
   ]
  },
  {
   "cell_type": "code",
   "execution_count": 28,
   "metadata": {
    "scrolled": false
   },
   "outputs": [
    {
     "data": {
      "application/vnd.plotly.v1+json": {
       "config": {
        "linkText": "Export to plot.ly",
        "plotlyServerURL": "https://plot.ly",
        "showLink": true
       },
       "data": [
        {
         "boxpoints": false,
         "line": {
          "width": 1.3
         },
         "marker": {
          "color": "rgba(255, 153, 51, 1.0)"
         },
         "name": "«AIZ QURYLYS ТОО»",
         "orientation": "v",
         "type": "box",
         "y": [
          null,
          null,
          null,
          null,
          null,
          null,
          null,
          null,
          null,
          null,
          null,
          null,
          null,
          180000,
          null,
          null,
          null,
          null,
          null,
          null,
          null,
          null,
          null,
          null,
          null,
          null,
          null,
          null,
          180000,
          null,
          null,
          null,
          null,
          null,
          null,
          null,
          null,
          null,
          null,
          null,
          null,
          null,
          null,
          null,
          null,
          null,
          180000,
          null,
          null,
          null,
          null,
          null,
          null,
          null,
          null,
          null,
          null,
          null,
          null,
          null,
          null,
          null,
          180000,
          null,
          null,
          null,
          null,
          null,
          null,
          null,
          null,
          null,
          180000,
          null,
          null,
          null,
          null,
          null,
          null,
          null,
          null,
          null,
          null,
          180000,
          null,
          null,
          null,
          null,
          null,
          null,
          180000,
          null,
          null,
          180000,
          null,
          null,
          null,
          180000,
          180000,
          180000,
          180000,
          180000,
          180000,
          null,
          null,
          null,
          null,
          null,
          null,
          null,
          null,
          null,
          null,
          null,
          null,
          null,
          null,
          null,
          null,
          null,
          null,
          null,
          null,
          null,
          null,
          null,
          null,
          null,
          null,
          null,
          null,
          null,
          null,
          null,
          null,
          null,
          null,
          null,
          null,
          null,
          null,
          null,
          null,
          null,
          null,
          null,
          null,
          null,
          null,
          null,
          null,
          null,
          null,
          null,
          null,
          null,
          null,
          null,
          null,
          null,
          null,
          null,
          null,
          null,
          null,
          null,
          null
         ]
        },
        {
         "boxpoints": false,
         "line": {
          "width": 1.3
         },
         "marker": {
          "color": "rgba(55, 128, 191, 1.0)"
         },
         "name": "«Asti Group»",
         "orientation": "v",
         "type": "box",
         "y": [
          null,
          null,
          null,
          null,
          null,
          null,
          null,
          null,
          null,
          null,
          null,
          null,
          null,
          null,
          null,
          null,
          null,
          null,
          null,
          null,
          null,
          null,
          null,
          null,
          null,
          null,
          null,
          null,
          null,
          null,
          null,
          null,
          null,
          null,
          null,
          null,
          null,
          null,
          null,
          null,
          null,
          null,
          null,
          null,
          null,
          null,
          null,
          null,
          null,
          null,
          null,
          null,
          null,
          null,
          null,
          null,
          null,
          null,
          null,
          null,
          null,
          null,
          null,
          null,
          null,
          null,
          null,
          null,
          null,
          null,
          null,
          null,
          null,
          null,
          null,
          null,
          null,
          null,
          null,
          null,
          null,
          null,
          null,
          null,
          null,
          null,
          null,
          null,
          null,
          null,
          null,
          null,
          null,
          null,
          null,
          null,
          null,
          null,
          null,
          null,
          null,
          null,
          null,
          null,
          null,
          null,
          null,
          null,
          null,
          null,
          null,
          null,
          null,
          null,
          null,
          null,
          null,
          null,
          null,
          null,
          null,
          null,
          null,
          null,
          null,
          null,
          null,
          null,
          null,
          null,
          null,
          null,
          null,
          null,
          295000,
          255000.00000000003,
          294999.99999999994,
          295000,
          265000,
          280000,
          280000,
          280000,
          265000,
          295000,
          295000,
          265000,
          295000,
          295000,
          null,
          null,
          null,
          null,
          null,
          null,
          null,
          null,
          null,
          null,
          null,
          null,
          null,
          null,
          null,
          null,
          285000,
          285000,
          285000
         ]
        },
        {
         "boxpoints": false,
         "line": {
          "width": 1.3
         },
         "marker": {
          "color": "rgba(50, 171, 96, 1.0)"
         },
         "name": "«BI Group»",
         "orientation": "v",
         "type": "box",
         "y": [
          473400,
          392400,
          null,
          377508.4330891549,
          null,
          423400,
          358500,
          409000,
          500300,
          468311.2114014252,
          null,
          383400,
          null,
          null,
          437751.7345276873,
          null,
          null,
          439599.99999999994,
          360500,
          351000,
          482300,
          447300,
          373800,
          null,
          414428.0890052356,
          null,
          null,
          442700,
          null,
          null,
          351000,
          347900,
          477300.00000000006,
          467300,
          374600,
          null,
          433526.4524948735,
          null,
          446800.00000000006,
          348000,
          345500,
          455600,
          492004.7220433569,
          null,
          null,
          null,
          null,
          393274.43100533227,
          428000,
          380000,
          366200,
          518407.12223291624,
          451600,
          null,
          398489.85123293253,
          null,
          379700,
          360000,
          522223.47248790367,
          430000,
          null,
          439400,
          null,
          null,
          379600,
          385000,
          502303.16014997324,
          null,
          423400,
          430777.9754601227,
          null,
          null,
          null,
          364300,
          428249.99004975124,
          502285.9517871987,
          450400,
          417779.57966764417,
          null,
          405000,
          344000,
          497324.74834497145,
          425400,
          null,
          429585.07042253524,
          359000,
          343800,
          492300,
          null,
          367800,
          null,
          null,
          344000,
          null,
          352800,
          null,
          359600,
          null,
          null,
          null,
          null,
          null,
          null,
          null,
          null,
          null,
          null,
          null,
          null,
          null,
          null,
          null,
          null,
          null,
          null,
          null,
          null,
          null,
          null,
          null,
          null,
          null,
          null,
          null,
          null,
          null,
          null,
          null,
          null,
          null,
          null,
          null,
          null,
          null,
          null,
          null,
          null,
          null,
          null,
          null,
          null,
          null,
          null,
          null,
          null,
          null,
          null,
          null,
          383600,
          380756.9756975698,
          373000,
          371200,
          379900,
          395600,
          396000,
          377000,
          390300,
          null,
          null,
          null,
          null,
          null,
          null,
          null,
          null,
          null,
          null
         ]
        },
        {
         "boxpoints": false,
         "line": {
          "width": 1.3
         },
         "marker": {
          "color": "rgba(128, 0, 128, 1.0)"
         },
         "name": "«GarInvest»",
         "orientation": "v",
         "type": "box",
         "y": [
          null,
          null,
          null,
          null,
          null,
          null,
          null,
          null,
          null,
          null,
          255000,
          null,
          null,
          null,
          null,
          null,
          null,
          null,
          null,
          null,
          null,
          null,
          null,
          null,
          null,
          null,
          254999.99999999997,
          null,
          null,
          null,
          null,
          null,
          null,
          null,
          null,
          null,
          null,
          null,
          null,
          null,
          null,
          null,
          null,
          null,
          255000,
          null,
          null,
          null,
          null,
          null,
          null,
          null,
          null,
          null,
          null,
          null,
          null,
          null,
          null,
          null,
          255000,
          null,
          null,
          null,
          null,
          null,
          null,
          null,
          null,
          null,
          null,
          255000,
          null,
          null,
          null,
          null,
          null,
          null,
          null,
          null,
          null,
          null,
          null,
          null,
          null,
          null,
          null,
          null,
          null,
          null,
          null,
          null,
          null,
          null,
          null,
          null,
          null,
          null,
          null,
          null,
          null,
          null,
          null,
          null,
          null,
          null,
          null,
          null,
          null,
          null,
          null,
          null,
          null,
          null,
          null,
          null,
          null,
          null,
          null,
          null,
          null,
          null,
          null,
          null,
          null,
          null,
          null,
          null,
          null,
          null,
          null,
          null,
          null,
          null,
          null,
          null,
          null,
          null,
          null,
          null,
          null,
          null,
          null,
          null,
          null,
          null,
          null,
          null,
          null,
          null,
          null,
          null,
          null,
          null,
          null,
          null,
          null,
          null,
          null,
          null,
          null,
          null,
          null,
          null,
          null,
          null,
          null
         ]
        },
        {
         "boxpoints": false,
         "line": {
          "width": 1.3
         },
         "marker": {
          "color": "rgba(219, 64, 82, 1.0)"
         },
         "name": "«SAT-NS ТОО»",
         "orientation": "v",
         "type": "box",
         "y": [
          null,
          null,
          null,
          null,
          null,
          null,
          null,
          null,
          null,
          null,
          null,
          null,
          null,
          null,
          null,
          null,
          null,
          null,
          null,
          null,
          null,
          null,
          null,
          null,
          null,
          null,
          null,
          null,
          null,
          null,
          null,
          null,
          null,
          null,
          null,
          null,
          null,
          null,
          null,
          null,
          null,
          null,
          null,
          null,
          null,
          null,
          null,
          null,
          null,
          null,
          null,
          null,
          null,
          null,
          null,
          null,
          null,
          null,
          null,
          null,
          null,
          null,
          null,
          null,
          null,
          null,
          null,
          null,
          null,
          null,
          null,
          null,
          null,
          null,
          null,
          null,
          null,
          null,
          null,
          null,
          null,
          null,
          null,
          null,
          null,
          null,
          null,
          null,
          null,
          null,
          null,
          null,
          null,
          null,
          null,
          null,
          null,
          null,
          null,
          null,
          null,
          null,
          null,
          290000,
          290000,
          290000,
          290000,
          290000,
          290000,
          null,
          null,
          null,
          null,
          null,
          null,
          290000,
          290000,
          null,
          null,
          null,
          290000,
          290000,
          290000,
          290000,
          null,
          null,
          290000,
          290000,
          null,
          290000,
          null,
          null,
          null,
          null,
          null,
          null,
          null,
          null,
          null,
          null,
          null,
          null,
          null,
          null,
          null,
          null,
          null,
          null,
          null,
          null,
          null,
          null,
          null,
          null,
          null,
          null,
          null,
          null,
          null,
          null,
          null,
          null,
          null,
          null,
          null,
          null,
          null
         ]
        },
        {
         "boxpoints": false,
         "line": {
          "width": 1.3
         },
         "marker": {
          "color": "rgba(0, 128, 128, 1.0)"
         },
         "name": "«Алтын Отау ТОО»",
         "orientation": "v",
         "type": "box",
         "y": [
          null,
          null,
          null,
          null,
          null,
          null,
          null,
          null,
          null,
          null,
          null,
          null,
          null,
          null,
          null,
          249999.99999999997,
          null,
          null,
          null,
          null,
          null,
          null,
          null,
          null,
          null,
          null,
          null,
          null,
          null,
          250000,
          null,
          null,
          null,
          null,
          null,
          null,
          null,
          null,
          null,
          null,
          null,
          null,
          null,
          250000,
          null,
          null,
          null,
          null,
          null,
          null,
          null,
          null,
          null,
          null,
          null,
          250000,
          null,
          null,
          null,
          null,
          null,
          null,
          null,
          null,
          null,
          null,
          null,
          250000,
          null,
          null,
          null,
          null,
          null,
          null,
          null,
          null,
          null,
          null,
          250000,
          null,
          null,
          null,
          null,
          null,
          null,
          null,
          null,
          null,
          249999.99999999997,
          null,
          null,
          250000,
          null,
          null,
          null,
          250000.00000000003,
          null,
          null,
          null,
          null,
          null,
          null,
          null,
          null,
          null,
          null,
          null,
          null,
          null,
          null,
          null,
          null,
          null,
          null,
          null,
          null,
          null,
          null,
          null,
          null,
          null,
          null,
          null,
          null,
          null,
          null,
          null,
          null,
          null,
          null,
          null,
          null,
          null,
          null,
          null,
          null,
          null,
          null,
          null,
          null,
          null,
          null,
          null,
          null,
          null,
          null,
          null,
          null,
          null,
          null,
          null,
          null,
          null,
          null,
          null,
          null,
          null,
          null,
          null,
          null,
          null,
          null,
          null,
          null,
          null,
          null,
          null
         ]
        },
        {
         "boxpoints": false,
         "line": {
          "width": 1.3
         },
         "marker": {
          "color": "rgba(255, 255, 51, 1.0)"
         },
         "name": "«АстанаТехСтрой»",
         "orientation": "v",
         "type": "box",
         "y": [
          null,
          null,
          350000,
          null,
          null,
          null,
          null,
          null,
          null,
          null,
          null,
          null,
          285000,
          null,
          null,
          null,
          null,
          null,
          null,
          null,
          null,
          null,
          null,
          300000,
          null,
          null,
          null,
          null,
          null,
          null,
          null,
          null,
          null,
          null,
          null,
          null,
          null,
          301213.4831460674,
          null,
          null,
          null,
          null,
          null,
          null,
          null,
          null,
          null,
          null,
          null,
          null,
          null,
          null,
          null,
          null,
          null,
          null,
          null,
          null,
          null,
          null,
          null,
          null,
          null,
          null,
          null,
          null,
          null,
          null,
          null,
          null,
          null,
          null,
          null,
          null,
          null,
          null,
          null,
          null,
          null,
          null,
          null,
          null,
          null,
          null,
          null,
          null,
          null,
          null,
          null,
          null,
          null,
          null,
          null,
          null,
          null,
          null,
          null,
          null,
          null,
          null,
          null,
          null,
          null,
          null,
          null,
          null,
          null,
          null,
          null,
          null,
          null,
          null,
          null,
          null,
          null,
          null,
          null,
          null,
          null,
          null,
          null,
          null,
          null,
          null,
          null,
          null,
          null,
          null,
          null,
          null,
          null,
          null,
          null,
          null,
          null,
          null,
          null,
          null,
          null,
          null,
          null,
          null,
          null,
          null,
          null,
          null,
          null,
          null,
          null,
          null,
          null,
          null,
          null,
          null,
          null,
          null,
          null,
          null,
          null,
          null,
          null,
          null,
          null,
          null,
          null,
          null,
          null
         ]
        },
        {
         "boxpoints": false,
         "line": {
          "width": 1.3
         },
         "marker": {
          "color": "rgba(128, 128, 0, 1.0)"
         },
         "name": "«Береке Курылыс 2030»",
         "orientation": "v",
         "type": "box",
         "y": [
          null,
          null,
          null,
          null,
          null,
          null,
          null,
          null,
          null,
          null,
          null,
          null,
          null,
          null,
          null,
          null,
          null,
          null,
          null,
          null,
          null,
          null,
          null,
          null,
          null,
          null,
          null,
          null,
          null,
          null,
          null,
          null,
          null,
          null,
          null,
          null,
          null,
          null,
          null,
          null,
          null,
          null,
          null,
          null,
          null,
          null,
          null,
          null,
          null,
          null,
          null,
          null,
          null,
          null,
          null,
          null,
          null,
          null,
          null,
          null,
          null,
          null,
          null,
          null,
          null,
          null,
          null,
          null,
          null,
          null,
          null,
          null,
          null,
          null,
          null,
          null,
          null,
          null,
          null,
          null,
          null,
          null,
          null,
          null,
          null,
          null,
          null,
          null,
          null,
          null,
          null,
          null,
          null,
          null,
          null,
          null,
          null,
          null,
          null,
          null,
          null,
          null,
          null,
          null,
          null,
          null,
          null,
          null,
          null,
          140000,
          140000,
          140000,
          140000,
          140000,
          140000,
          null,
          null,
          140000,
          140000,
          140000,
          null,
          null,
          null,
          null,
          140000,
          140000,
          null,
          null,
          140000,
          null,
          140000,
          140000,
          140000,
          180000,
          null,
          null,
          null,
          null,
          null,
          null,
          null,
          null,
          null,
          null,
          null,
          null,
          null,
          null,
          null,
          null,
          null,
          null,
          null,
          null,
          null,
          null,
          null,
          null,
          null,
          null,
          null,
          null,
          null,
          null,
          null,
          null,
          null
         ]
        },
        {
         "boxpoints": false,
         "line": {
          "width": 1.3
         },
         "marker": {
          "color": "rgba(251, 128, 114, 1.0)"
         },
         "name": "«ЖСК Жануя Инвест»",
         "orientation": "v",
         "type": "box",
         "y": [
          null,
          null,
          null,
          null,
          null,
          null,
          null,
          null,
          null,
          null,
          null,
          null,
          null,
          null,
          null,
          null,
          null,
          null,
          null,
          null,
          null,
          null,
          null,
          null,
          null,
          null,
          null,
          null,
          null,
          null,
          null,
          null,
          null,
          null,
          null,
          null,
          null,
          null,
          null,
          null,
          null,
          null,
          null,
          null,
          null,
          null,
          null,
          null,
          null,
          null,
          null,
          null,
          null,
          null,
          null,
          null,
          null,
          null,
          null,
          null,
          null,
          null,
          null,
          null,
          null,
          null,
          null,
          null,
          null,
          null,
          null,
          null,
          null,
          null,
          null,
          null,
          null,
          null,
          null,
          null,
          null,
          null,
          null,
          null,
          null,
          null,
          null,
          null,
          null,
          null,
          null,
          null,
          null,
          null,
          null,
          null,
          null,
          null,
          null,
          null,
          null,
          null,
          null,
          null,
          null,
          null,
          null,
          null,
          null,
          null,
          null,
          null,
          null,
          null,
          null,
          null,
          null,
          null,
          null,
          null,
          null,
          null,
          null,
          null,
          null,
          null,
          null,
          null,
          null,
          null,
          null,
          null,
          null,
          null,
          null,
          null,
          null,
          null,
          null,
          null,
          null,
          null,
          null,
          null,
          null,
          null,
          null,
          null,
          null,
          null,
          null,
          null,
          null,
          null,
          null,
          null,
          null,
          200000,
          200000,
          200000,
          200000,
          200000,
          200000,
          200000,
          null,
          null,
          null
         ]
        },
        {
         "boxpoints": false,
         "line": {
          "width": 1.3
         },
         "marker": {
          "color": "rgba(128, 177, 211, 1.0)"
         },
         "name": "«ТОО Фаворит Строй»",
         "orientation": "v",
         "type": "box",
         "y": [
          null,
          null,
          null,
          null,
          269734.25196850393,
          null,
          null,
          null,
          null,
          null,
          null,
          null,
          null,
          null,
          null,
          null,
          275703.0823253999,
          null,
          null,
          null,
          null,
          null,
          null,
          null,
          null,
          275000,
          null,
          null,
          null,
          null,
          null,
          null,
          null,
          null,
          null,
          266940.22165006155,
          null,
          null,
          null,
          null,
          null,
          null,
          null,
          null,
          null,
          270000,
          null,
          null,
          null,
          null,
          null,
          null,
          null,
          265000,
          null,
          null,
          null,
          null,
          null,
          null,
          null,
          null,
          null,
          267000,
          null,
          null,
          null,
          null,
          null,
          null,
          301871.25070741365,
          null,
          null,
          null,
          null,
          null,
          null,
          null,
          null,
          null,
          null,
          null,
          null,
          null,
          null,
          null,
          null,
          null,
          null,
          null,
          null,
          null,
          null,
          null,
          null,
          null,
          null,
          null,
          null,
          null,
          null,
          null,
          null,
          null,
          null,
          null,
          null,
          null,
          null,
          null,
          null,
          null,
          null,
          null,
          null,
          null,
          null,
          null,
          null,
          null,
          null,
          null,
          null,
          null,
          null,
          null,
          null,
          null,
          null,
          null,
          null,
          null,
          null,
          null,
          null,
          null,
          null,
          null,
          null,
          null,
          null,
          null,
          null,
          null,
          null,
          null,
          null,
          null,
          null,
          null,
          null,
          null,
          null,
          null,
          null,
          null,
          null,
          null,
          null,
          null,
          null,
          null,
          null,
          null,
          null,
          null,
          null
         ]
        }
       ],
       "layout": {
        "legend": {
         "bgcolor": "#F5F6F9",
         "font": {
          "color": "#4D5663"
         }
        },
        "paper_bgcolor": "#F5F6F9",
        "plot_bgcolor": "#F5F6F9",
        "template": {
         "data": {
          "bar": [
           {
            "error_x": {
             "color": "#2a3f5f"
            },
            "error_y": {
             "color": "#2a3f5f"
            },
            "marker": {
             "line": {
              "color": "#E5ECF6",
              "width": 0.5
             }
            },
            "type": "bar"
           }
          ],
          "barpolar": [
           {
            "marker": {
             "line": {
              "color": "#E5ECF6",
              "width": 0.5
             }
            },
            "type": "barpolar"
           }
          ],
          "carpet": [
           {
            "aaxis": {
             "endlinecolor": "#2a3f5f",
             "gridcolor": "white",
             "linecolor": "white",
             "minorgridcolor": "white",
             "startlinecolor": "#2a3f5f"
            },
            "baxis": {
             "endlinecolor": "#2a3f5f",
             "gridcolor": "white",
             "linecolor": "white",
             "minorgridcolor": "white",
             "startlinecolor": "#2a3f5f"
            },
            "type": "carpet"
           }
          ],
          "choropleth": [
           {
            "colorbar": {
             "outlinewidth": 0,
             "ticks": ""
            },
            "type": "choropleth"
           }
          ],
          "contour": [
           {
            "colorbar": {
             "outlinewidth": 0,
             "ticks": ""
            },
            "colorscale": [
             [
              0,
              "#0d0887"
             ],
             [
              0.1111111111111111,
              "#46039f"
             ],
             [
              0.2222222222222222,
              "#7201a8"
             ],
             [
              0.3333333333333333,
              "#9c179e"
             ],
             [
              0.4444444444444444,
              "#bd3786"
             ],
             [
              0.5555555555555556,
              "#d8576b"
             ],
             [
              0.6666666666666666,
              "#ed7953"
             ],
             [
              0.7777777777777778,
              "#fb9f3a"
             ],
             [
              0.8888888888888888,
              "#fdca26"
             ],
             [
              1,
              "#f0f921"
             ]
            ],
            "type": "contour"
           }
          ],
          "contourcarpet": [
           {
            "colorbar": {
             "outlinewidth": 0,
             "ticks": ""
            },
            "type": "contourcarpet"
           }
          ],
          "heatmap": [
           {
            "colorbar": {
             "outlinewidth": 0,
             "ticks": ""
            },
            "colorscale": [
             [
              0,
              "#0d0887"
             ],
             [
              0.1111111111111111,
              "#46039f"
             ],
             [
              0.2222222222222222,
              "#7201a8"
             ],
             [
              0.3333333333333333,
              "#9c179e"
             ],
             [
              0.4444444444444444,
              "#bd3786"
             ],
             [
              0.5555555555555556,
              "#d8576b"
             ],
             [
              0.6666666666666666,
              "#ed7953"
             ],
             [
              0.7777777777777778,
              "#fb9f3a"
             ],
             [
              0.8888888888888888,
              "#fdca26"
             ],
             [
              1,
              "#f0f921"
             ]
            ],
            "type": "heatmap"
           }
          ],
          "heatmapgl": [
           {
            "colorbar": {
             "outlinewidth": 0,
             "ticks": ""
            },
            "colorscale": [
             [
              0,
              "#0d0887"
             ],
             [
              0.1111111111111111,
              "#46039f"
             ],
             [
              0.2222222222222222,
              "#7201a8"
             ],
             [
              0.3333333333333333,
              "#9c179e"
             ],
             [
              0.4444444444444444,
              "#bd3786"
             ],
             [
              0.5555555555555556,
              "#d8576b"
             ],
             [
              0.6666666666666666,
              "#ed7953"
             ],
             [
              0.7777777777777778,
              "#fb9f3a"
             ],
             [
              0.8888888888888888,
              "#fdca26"
             ],
             [
              1,
              "#f0f921"
             ]
            ],
            "type": "heatmapgl"
           }
          ],
          "histogram": [
           {
            "marker": {
             "colorbar": {
              "outlinewidth": 0,
              "ticks": ""
             }
            },
            "type": "histogram"
           }
          ],
          "histogram2d": [
           {
            "colorbar": {
             "outlinewidth": 0,
             "ticks": ""
            },
            "colorscale": [
             [
              0,
              "#0d0887"
             ],
             [
              0.1111111111111111,
              "#46039f"
             ],
             [
              0.2222222222222222,
              "#7201a8"
             ],
             [
              0.3333333333333333,
              "#9c179e"
             ],
             [
              0.4444444444444444,
              "#bd3786"
             ],
             [
              0.5555555555555556,
              "#d8576b"
             ],
             [
              0.6666666666666666,
              "#ed7953"
             ],
             [
              0.7777777777777778,
              "#fb9f3a"
             ],
             [
              0.8888888888888888,
              "#fdca26"
             ],
             [
              1,
              "#f0f921"
             ]
            ],
            "type": "histogram2d"
           }
          ],
          "histogram2dcontour": [
           {
            "colorbar": {
             "outlinewidth": 0,
             "ticks": ""
            },
            "colorscale": [
             [
              0,
              "#0d0887"
             ],
             [
              0.1111111111111111,
              "#46039f"
             ],
             [
              0.2222222222222222,
              "#7201a8"
             ],
             [
              0.3333333333333333,
              "#9c179e"
             ],
             [
              0.4444444444444444,
              "#bd3786"
             ],
             [
              0.5555555555555556,
              "#d8576b"
             ],
             [
              0.6666666666666666,
              "#ed7953"
             ],
             [
              0.7777777777777778,
              "#fb9f3a"
             ],
             [
              0.8888888888888888,
              "#fdca26"
             ],
             [
              1,
              "#f0f921"
             ]
            ],
            "type": "histogram2dcontour"
           }
          ],
          "mesh3d": [
           {
            "colorbar": {
             "outlinewidth": 0,
             "ticks": ""
            },
            "type": "mesh3d"
           }
          ],
          "parcoords": [
           {
            "line": {
             "colorbar": {
              "outlinewidth": 0,
              "ticks": ""
             }
            },
            "type": "parcoords"
           }
          ],
          "pie": [
           {
            "automargin": true,
            "type": "pie"
           }
          ],
          "scatter": [
           {
            "marker": {
             "colorbar": {
              "outlinewidth": 0,
              "ticks": ""
             }
            },
            "type": "scatter"
           }
          ],
          "scatter3d": [
           {
            "line": {
             "colorbar": {
              "outlinewidth": 0,
              "ticks": ""
             }
            },
            "marker": {
             "colorbar": {
              "outlinewidth": 0,
              "ticks": ""
             }
            },
            "type": "scatter3d"
           }
          ],
          "scattercarpet": [
           {
            "marker": {
             "colorbar": {
              "outlinewidth": 0,
              "ticks": ""
             }
            },
            "type": "scattercarpet"
           }
          ],
          "scattergeo": [
           {
            "marker": {
             "colorbar": {
              "outlinewidth": 0,
              "ticks": ""
             }
            },
            "type": "scattergeo"
           }
          ],
          "scattergl": [
           {
            "marker": {
             "colorbar": {
              "outlinewidth": 0,
              "ticks": ""
             }
            },
            "type": "scattergl"
           }
          ],
          "scattermapbox": [
           {
            "marker": {
             "colorbar": {
              "outlinewidth": 0,
              "ticks": ""
             }
            },
            "type": "scattermapbox"
           }
          ],
          "scatterpolar": [
           {
            "marker": {
             "colorbar": {
              "outlinewidth": 0,
              "ticks": ""
             }
            },
            "type": "scatterpolar"
           }
          ],
          "scatterpolargl": [
           {
            "marker": {
             "colorbar": {
              "outlinewidth": 0,
              "ticks": ""
             }
            },
            "type": "scatterpolargl"
           }
          ],
          "scatterternary": [
           {
            "marker": {
             "colorbar": {
              "outlinewidth": 0,
              "ticks": ""
             }
            },
            "type": "scatterternary"
           }
          ],
          "surface": [
           {
            "colorbar": {
             "outlinewidth": 0,
             "ticks": ""
            },
            "colorscale": [
             [
              0,
              "#0d0887"
             ],
             [
              0.1111111111111111,
              "#46039f"
             ],
             [
              0.2222222222222222,
              "#7201a8"
             ],
             [
              0.3333333333333333,
              "#9c179e"
             ],
             [
              0.4444444444444444,
              "#bd3786"
             ],
             [
              0.5555555555555556,
              "#d8576b"
             ],
             [
              0.6666666666666666,
              "#ed7953"
             ],
             [
              0.7777777777777778,
              "#fb9f3a"
             ],
             [
              0.8888888888888888,
              "#fdca26"
             ],
             [
              1,
              "#f0f921"
             ]
            ],
            "type": "surface"
           }
          ],
          "table": [
           {
            "cells": {
             "fill": {
              "color": "#EBF0F8"
             },
             "line": {
              "color": "white"
             }
            },
            "header": {
             "fill": {
              "color": "#C8D4E3"
             },
             "line": {
              "color": "white"
             }
            },
            "type": "table"
           }
          ]
         },
         "layout": {
          "annotationdefaults": {
           "arrowcolor": "#2a3f5f",
           "arrowhead": 0,
           "arrowwidth": 1
          },
          "coloraxis": {
           "colorbar": {
            "outlinewidth": 0,
            "ticks": ""
           }
          },
          "colorscale": {
           "diverging": [
            [
             0,
             "#8e0152"
            ],
            [
             0.1,
             "#c51b7d"
            ],
            [
             0.2,
             "#de77ae"
            ],
            [
             0.3,
             "#f1b6da"
            ],
            [
             0.4,
             "#fde0ef"
            ],
            [
             0.5,
             "#f7f7f7"
            ],
            [
             0.6,
             "#e6f5d0"
            ],
            [
             0.7,
             "#b8e186"
            ],
            [
             0.8,
             "#7fbc41"
            ],
            [
             0.9,
             "#4d9221"
            ],
            [
             1,
             "#276419"
            ]
           ],
           "sequential": [
            [
             0,
             "#0d0887"
            ],
            [
             0.1111111111111111,
             "#46039f"
            ],
            [
             0.2222222222222222,
             "#7201a8"
            ],
            [
             0.3333333333333333,
             "#9c179e"
            ],
            [
             0.4444444444444444,
             "#bd3786"
            ],
            [
             0.5555555555555556,
             "#d8576b"
            ],
            [
             0.6666666666666666,
             "#ed7953"
            ],
            [
             0.7777777777777778,
             "#fb9f3a"
            ],
            [
             0.8888888888888888,
             "#fdca26"
            ],
            [
             1,
             "#f0f921"
            ]
           ],
           "sequentialminus": [
            [
             0,
             "#0d0887"
            ],
            [
             0.1111111111111111,
             "#46039f"
            ],
            [
             0.2222222222222222,
             "#7201a8"
            ],
            [
             0.3333333333333333,
             "#9c179e"
            ],
            [
             0.4444444444444444,
             "#bd3786"
            ],
            [
             0.5555555555555556,
             "#d8576b"
            ],
            [
             0.6666666666666666,
             "#ed7953"
            ],
            [
             0.7777777777777778,
             "#fb9f3a"
            ],
            [
             0.8888888888888888,
             "#fdca26"
            ],
            [
             1,
             "#f0f921"
            ]
           ]
          },
          "colorway": [
           "#636efa",
           "#EF553B",
           "#00cc96",
           "#ab63fa",
           "#FFA15A",
           "#19d3f3",
           "#FF6692",
           "#B6E880",
           "#FF97FF",
           "#FECB52"
          ],
          "font": {
           "color": "#2a3f5f"
          },
          "geo": {
           "bgcolor": "white",
           "lakecolor": "white",
           "landcolor": "#E5ECF6",
           "showlakes": true,
           "showland": true,
           "subunitcolor": "white"
          },
          "hoverlabel": {
           "align": "left"
          },
          "hovermode": "closest",
          "mapbox": {
           "style": "light"
          },
          "paper_bgcolor": "white",
          "plot_bgcolor": "#E5ECF6",
          "polar": {
           "angularaxis": {
            "gridcolor": "white",
            "linecolor": "white",
            "ticks": ""
           },
           "bgcolor": "#E5ECF6",
           "radialaxis": {
            "gridcolor": "white",
            "linecolor": "white",
            "ticks": ""
           }
          },
          "scene": {
           "xaxis": {
            "backgroundcolor": "#E5ECF6",
            "gridcolor": "white",
            "gridwidth": 2,
            "linecolor": "white",
            "showbackground": true,
            "ticks": "",
            "zerolinecolor": "white"
           },
           "yaxis": {
            "backgroundcolor": "#E5ECF6",
            "gridcolor": "white",
            "gridwidth": 2,
            "linecolor": "white",
            "showbackground": true,
            "ticks": "",
            "zerolinecolor": "white"
           },
           "zaxis": {
            "backgroundcolor": "#E5ECF6",
            "gridcolor": "white",
            "gridwidth": 2,
            "linecolor": "white",
            "showbackground": true,
            "ticks": "",
            "zerolinecolor": "white"
           }
          },
          "shapedefaults": {
           "line": {
            "color": "#2a3f5f"
           }
          },
          "ternary": {
           "aaxis": {
            "gridcolor": "white",
            "linecolor": "white",
            "ticks": ""
           },
           "baxis": {
            "gridcolor": "white",
            "linecolor": "white",
            "ticks": ""
           },
           "bgcolor": "#E5ECF6",
           "caxis": {
            "gridcolor": "white",
            "linecolor": "white",
            "ticks": ""
           }
          },
          "title": {
           "x": 0.05
          },
          "xaxis": {
           "automargin": true,
           "gridcolor": "white",
           "linecolor": "white",
           "ticks": "",
           "title": {
            "standoff": 15
           },
           "zerolinecolor": "white",
           "zerolinewidth": 2
          },
          "yaxis": {
           "automargin": true,
           "gridcolor": "white",
           "linecolor": "white",
           "ticks": "",
           "title": {
            "standoff": 15
           },
           "zerolinecolor": "white",
           "zerolinewidth": 2
          }
         }
        },
        "title": {
         "font": {
          "color": "#4D5663"
         },
         "text": "Figure 6. Распределение цен за м2 у застройщика"
        },
        "xaxis": {
         "gridcolor": "#E1E5ED",
         "showgrid": true,
         "tickfont": {
          "color": "#4D5663"
         },
         "title": {
          "font": {
           "color": "#4D5663"
          },
          "text": ""
         },
         "zerolinecolor": "#E1E5ED"
        },
        "yaxis": {
         "gridcolor": "#E1E5ED",
         "showgrid": true,
         "tickfont": {
          "color": "#4D5663"
         },
         "title": {
          "font": {
           "color": "#4D5663"
          },
          "text": "Диапазон цен за м2"
         },
         "zerolinecolor": "#E1E5ED"
        }
       }
      },
      "text/html": [
       "<div>\n",
       "        \n",
       "        \n",
       "            <div id=\"1745d510-4bdb-411f-b7aa-a7d37e822a2e\" class=\"plotly-graph-div\" style=\"height:525px; width:100%;\"></div>\n",
       "            <script type=\"text/javascript\">\n",
       "                require([\"plotly\"], function(Plotly) {\n",
       "                    window.PLOTLYENV=window.PLOTLYENV || {};\n",
       "                    window.PLOTLYENV.BASE_URL='https://plot.ly';\n",
       "                    \n",
       "                if (document.getElementById(\"1745d510-4bdb-411f-b7aa-a7d37e822a2e\")) {\n",
       "                    Plotly.newPlot(\n",
       "                        '1745d510-4bdb-411f-b7aa-a7d37e822a2e',\n",
       "                        [{\"boxpoints\": false, \"line\": {\"width\": 1.3}, \"marker\": {\"color\": \"rgba(255, 153, 51, 1.0)\"}, \"name\": \"\\u00abAIZ QURYLYS \\u0422\\u041e\\u041e\\u00bb\", \"orientation\": \"v\", \"type\": \"box\", \"y\": [null, null, null, null, null, null, null, null, null, null, null, null, null, 180000.0, null, null, null, null, null, null, null, null, null, null, null, null, null, null, 180000.0, null, null, null, null, null, null, null, null, null, null, null, null, null, null, null, null, null, 180000.0, null, null, null, null, null, null, null, null, null, null, null, null, null, null, null, 180000.0, null, null, null, null, null, null, null, null, null, 180000.0, null, null, null, null, null, null, null, null, null, null, 180000.0, null, null, null, null, null, null, 180000.0, null, null, 180000.0, null, null, null, 180000.0, 180000.0, 180000.0, 180000.0, 180000.0, 180000.0, null, null, null, null, null, null, null, null, null, null, null, null, null, null, null, null, null, null, null, null, null, null, null, null, null, null, null, null, null, null, null, null, null, null, null, null, null, null, null, null, null, null, null, null, null, null, null, null, null, null, null, null, null, null, null, null, null, null, null, null, null, null, null, null]}, {\"boxpoints\": false, \"line\": {\"width\": 1.3}, \"marker\": {\"color\": \"rgba(55, 128, 191, 1.0)\"}, \"name\": \"\\u00abAsti Group\\u00bb\", \"orientation\": \"v\", \"type\": \"box\", \"y\": [null, null, null, null, null, null, null, null, null, null, null, null, null, null, null, null, null, null, null, null, null, null, null, null, null, null, null, null, null, null, null, null, null, null, null, null, null, null, null, null, null, null, null, null, null, null, null, null, null, null, null, null, null, null, null, null, null, null, null, null, null, null, null, null, null, null, null, null, null, null, null, null, null, null, null, null, null, null, null, null, null, null, null, null, null, null, null, null, null, null, null, null, null, null, null, null, null, null, null, null, null, null, null, null, null, null, null, null, null, null, null, null, null, null, null, null, null, null, null, null, null, null, null, null, null, null, null, null, null, null, null, null, null, null, 295000.0, 255000.00000000003, 294999.99999999994, 295000.0, 265000.0, 280000.0, 280000.0, 280000.0, 265000.0, 295000.0, 295000.0, 265000.0, 295000.0, 295000.0, null, null, null, null, null, null, null, null, null, null, null, null, null, null, null, null, 285000.0, 285000.0, 285000.0]}, {\"boxpoints\": false, \"line\": {\"width\": 1.3}, \"marker\": {\"color\": \"rgba(50, 171, 96, 1.0)\"}, \"name\": \"\\u00abBI Group\\u00bb\", \"orientation\": \"v\", \"type\": \"box\", \"y\": [473400.0, 392400.0, null, 377508.4330891549, null, 423400.0, 358500.0, 409000.0, 500300.0, 468311.2114014252, null, 383400.0, null, null, 437751.7345276873, null, null, 439599.99999999994, 360500.0, 351000.0, 482300.0, 447300.0, 373800.0, null, 414428.0890052356, null, null, 442700.0, null, null, 351000.0, 347900.0, 477300.00000000006, 467300.0, 374600.0, null, 433526.4524948735, null, 446800.00000000006, 348000.0, 345500.0, 455600.0, 492004.7220433569, null, null, null, null, 393274.43100533227, 428000.0, 380000.0, 366200.0, 518407.12223291624, 451600.0, null, 398489.85123293253, null, 379700.0, 360000.0, 522223.47248790367, 430000.0, null, 439400.0, null, null, 379600.0, 385000.0, 502303.16014997324, null, 423400.0, 430777.9754601227, null, null, null, 364300.0, 428249.99004975124, 502285.9517871987, 450400.0, 417779.57966764417, null, 405000.0, 344000.0, 497324.74834497145, 425400.0, null, 429585.07042253524, 359000.0, 343800.0, 492300.0, null, 367800.0, null, null, 344000.0, null, 352800.0, null, 359600.0, null, null, null, null, null, null, null, null, null, null, null, null, null, null, null, null, null, null, null, null, null, null, null, null, null, null, null, null, null, null, null, null, null, null, null, null, null, null, null, null, null, null, null, null, null, null, null, null, null, null, null, 383600.0, 380756.9756975698, 373000.0, 371200.0, 379900.0, 395600.0, 396000.0, 377000.0, 390300.0, null, null, null, null, null, null, null, null, null, null]}, {\"boxpoints\": false, \"line\": {\"width\": 1.3}, \"marker\": {\"color\": \"rgba(128, 0, 128, 1.0)\"}, \"name\": \"\\u00abGarInvest\\u00bb\", \"orientation\": \"v\", \"type\": \"box\", \"y\": [null, null, null, null, null, null, null, null, null, null, 255000.0, null, null, null, null, null, null, null, null, null, null, null, null, null, null, null, 254999.99999999997, null, null, null, null, null, null, null, null, null, null, null, null, null, null, null, null, null, 255000.0, null, null, null, null, null, null, null, null, null, null, null, null, null, null, null, 255000.0, null, null, null, null, null, null, null, null, null, null, 255000.0, null, null, null, null, null, null, null, null, null, null, null, null, null, null, null, null, null, null, null, null, null, null, null, null, null, null, null, null, null, null, null, null, null, null, null, null, null, null, null, null, null, null, null, null, null, null, null, null, null, null, null, null, null, null, null, null, null, null, null, null, null, null, null, null, null, null, null, null, null, null, null, null, null, null, null, null, null, null, null, null, null, null, null, null, null, null, null, null, null, null, null, null, null, null, null]}, {\"boxpoints\": false, \"line\": {\"width\": 1.3}, \"marker\": {\"color\": \"rgba(219, 64, 82, 1.0)\"}, \"name\": \"\\u00abSAT-NS \\u0422\\u041e\\u041e\\u00bb\", \"orientation\": \"v\", \"type\": \"box\", \"y\": [null, null, null, null, null, null, null, null, null, null, null, null, null, null, null, null, null, null, null, null, null, null, null, null, null, null, null, null, null, null, null, null, null, null, null, null, null, null, null, null, null, null, null, null, null, null, null, null, null, null, null, null, null, null, null, null, null, null, null, null, null, null, null, null, null, null, null, null, null, null, null, null, null, null, null, null, null, null, null, null, null, null, null, null, null, null, null, null, null, null, null, null, null, null, null, null, null, null, null, null, null, null, null, 290000.0, 290000.0, 290000.0, 290000.0, 290000.0, 290000.0, null, null, null, null, null, null, 290000.0, 290000.0, null, null, null, 290000.0, 290000.0, 290000.0, 290000.0, null, null, 290000.0, 290000.0, null, 290000.0, null, null, null, null, null, null, null, null, null, null, null, null, null, null, null, null, null, null, null, null, null, null, null, null, null, null, null, null, null, null, null, null, null, null, null, null, null]}, {\"boxpoints\": false, \"line\": {\"width\": 1.3}, \"marker\": {\"color\": \"rgba(0, 128, 128, 1.0)\"}, \"name\": \"\\u00ab\\u0410\\u043b\\u0442\\u044b\\u043d \\u041e\\u0442\\u0430\\u0443 \\u0422\\u041e\\u041e\\u00bb\", \"orientation\": \"v\", \"type\": \"box\", \"y\": [null, null, null, null, null, null, null, null, null, null, null, null, null, null, null, 249999.99999999997, null, null, null, null, null, null, null, null, null, null, null, null, null, 250000.0, null, null, null, null, null, null, null, null, null, null, null, null, null, 250000.0, null, null, null, null, null, null, null, null, null, null, null, 250000.0, null, null, null, null, null, null, null, null, null, null, null, 250000.0, null, null, null, null, null, null, null, null, null, null, 250000.0, null, null, null, null, null, null, null, null, null, 249999.99999999997, null, null, 250000.0, null, null, null, 250000.00000000003, null, null, null, null, null, null, null, null, null, null, null, null, null, null, null, null, null, null, null, null, null, null, null, null, null, null, null, null, null, null, null, null, null, null, null, null, null, null, null, null, null, null, null, null, null, null, null, null, null, null, null, null, null, null, null, null, null, null, null, null, null, null, null, null, null, null, null, null, null, null, null]}, {\"boxpoints\": false, \"line\": {\"width\": 1.3}, \"marker\": {\"color\": \"rgba(255, 255, 51, 1.0)\"}, \"name\": \"\\u00ab\\u0410\\u0441\\u0442\\u0430\\u043d\\u0430\\u0422\\u0435\\u0445\\u0421\\u0442\\u0440\\u043e\\u0439\\u00bb\", \"orientation\": \"v\", \"type\": \"box\", \"y\": [null, null, 350000.0, null, null, null, null, null, null, null, null, null, 285000.0, null, null, null, null, null, null, null, null, null, null, 300000.0, null, null, null, null, null, null, null, null, null, null, null, null, null, 301213.4831460674, null, null, null, null, null, null, null, null, null, null, null, null, null, null, null, null, null, null, null, null, null, null, null, null, null, null, null, null, null, null, null, null, null, null, null, null, null, null, null, null, null, null, null, null, null, null, null, null, null, null, null, null, null, null, null, null, null, null, null, null, null, null, null, null, null, null, null, null, null, null, null, null, null, null, null, null, null, null, null, null, null, null, null, null, null, null, null, null, null, null, null, null, null, null, null, null, null, null, null, null, null, null, null, null, null, null, null, null, null, null, null, null, null, null, null, null, null, null, null, null, null, null, null, null, null, null, null, null, null]}, {\"boxpoints\": false, \"line\": {\"width\": 1.3}, \"marker\": {\"color\": \"rgba(128, 128, 0, 1.0)\"}, \"name\": \"\\u00ab\\u0411\\u0435\\u0440\\u0435\\u043a\\u0435 \\u041a\\u0443\\u0440\\u044b\\u043b\\u044b\\u0441 2030\\u00bb\", \"orientation\": \"v\", \"type\": \"box\", \"y\": [null, null, null, null, null, null, null, null, null, null, null, null, null, null, null, null, null, null, null, null, null, null, null, null, null, null, null, null, null, null, null, null, null, null, null, null, null, null, null, null, null, null, null, null, null, null, null, null, null, null, null, null, null, null, null, null, null, null, null, null, null, null, null, null, null, null, null, null, null, null, null, null, null, null, null, null, null, null, null, null, null, null, null, null, null, null, null, null, null, null, null, null, null, null, null, null, null, null, null, null, null, null, null, null, null, null, null, null, null, 140000.0, 140000.0, 140000.0, 140000.0, 140000.0, 140000.0, null, null, 140000.0, 140000.0, 140000.0, null, null, null, null, 140000.0, 140000.0, null, null, 140000.0, null, 140000.0, 140000.0, 140000.0, 180000.0, null, null, null, null, null, null, null, null, null, null, null, null, null, null, null, null, null, null, null, null, null, null, null, null, null, null, null, null, null, null, null, null, null]}, {\"boxpoints\": false, \"line\": {\"width\": 1.3}, \"marker\": {\"color\": \"rgba(251, 128, 114, 1.0)\"}, \"name\": \"\\u00ab\\u0416\\u0421\\u041a \\u0416\\u0430\\u043d\\u0443\\u044f \\u0418\\u043d\\u0432\\u0435\\u0441\\u0442\\u00bb\", \"orientation\": \"v\", \"type\": \"box\", \"y\": [null, null, null, null, null, null, null, null, null, null, null, null, null, null, null, null, null, null, null, null, null, null, null, null, null, null, null, null, null, null, null, null, null, null, null, null, null, null, null, null, null, null, null, null, null, null, null, null, null, null, null, null, null, null, null, null, null, null, null, null, null, null, null, null, null, null, null, null, null, null, null, null, null, null, null, null, null, null, null, null, null, null, null, null, null, null, null, null, null, null, null, null, null, null, null, null, null, null, null, null, null, null, null, null, null, null, null, null, null, null, null, null, null, null, null, null, null, null, null, null, null, null, null, null, null, null, null, null, null, null, null, null, null, null, null, null, null, null, null, null, null, null, null, null, null, null, null, null, null, null, null, null, null, null, null, null, null, 200000.0, 200000.0, 200000.0, 200000.0, 200000.0, 200000.0, 200000.0, null, null, null]}, {\"boxpoints\": false, \"line\": {\"width\": 1.3}, \"marker\": {\"color\": \"rgba(128, 177, 211, 1.0)\"}, \"name\": \"\\u00ab\\u0422\\u041e\\u041e \\u0424\\u0430\\u0432\\u043e\\u0440\\u0438\\u0442 \\u0421\\u0442\\u0440\\u043e\\u0439\\u00bb\", \"orientation\": \"v\", \"type\": \"box\", \"y\": [null, null, null, null, 269734.25196850393, null, null, null, null, null, null, null, null, null, null, null, 275703.0823253999, null, null, null, null, null, null, null, null, 275000.0, null, null, null, null, null, null, null, null, null, 266940.22165006155, null, null, null, null, null, null, null, null, null, 270000.0, null, null, null, null, null, null, null, 265000.0, null, null, null, null, null, null, null, null, null, 267000.0, null, null, null, null, null, null, 301871.25070741365, null, null, null, null, null, null, null, null, null, null, null, null, null, null, null, null, null, null, null, null, null, null, null, null, null, null, null, null, null, null, null, null, null, null, null, null, null, null, null, null, null, null, null, null, null, null, null, null, null, null, null, null, null, null, null, null, null, null, null, null, null, null, null, null, null, null, null, null, null, null, null, null, null, null, null, null, null, null, null, null, null, null, null, null, null, null, null, null, null, null, null, null, null, null, null, null]}],\n",
       "                        {\"legend\": {\"bgcolor\": \"#F5F6F9\", \"font\": {\"color\": \"#4D5663\"}}, \"paper_bgcolor\": \"#F5F6F9\", \"plot_bgcolor\": \"#F5F6F9\", \"template\": {\"data\": {\"bar\": [{\"error_x\": {\"color\": \"#2a3f5f\"}, \"error_y\": {\"color\": \"#2a3f5f\"}, \"marker\": {\"line\": {\"color\": \"#E5ECF6\", \"width\": 0.5}}, \"type\": \"bar\"}], \"barpolar\": [{\"marker\": {\"line\": {\"color\": \"#E5ECF6\", \"width\": 0.5}}, \"type\": \"barpolar\"}], \"carpet\": [{\"aaxis\": {\"endlinecolor\": \"#2a3f5f\", \"gridcolor\": \"white\", \"linecolor\": \"white\", \"minorgridcolor\": \"white\", \"startlinecolor\": \"#2a3f5f\"}, \"baxis\": {\"endlinecolor\": \"#2a3f5f\", \"gridcolor\": \"white\", \"linecolor\": \"white\", \"minorgridcolor\": \"white\", \"startlinecolor\": \"#2a3f5f\"}, \"type\": \"carpet\"}], \"choropleth\": [{\"colorbar\": {\"outlinewidth\": 0, \"ticks\": \"\"}, \"type\": \"choropleth\"}], \"contour\": [{\"colorbar\": {\"outlinewidth\": 0, \"ticks\": \"\"}, \"colorscale\": [[0.0, \"#0d0887\"], [0.1111111111111111, \"#46039f\"], [0.2222222222222222, \"#7201a8\"], [0.3333333333333333, \"#9c179e\"], [0.4444444444444444, \"#bd3786\"], [0.5555555555555556, \"#d8576b\"], [0.6666666666666666, \"#ed7953\"], [0.7777777777777778, \"#fb9f3a\"], [0.8888888888888888, \"#fdca26\"], [1.0, \"#f0f921\"]], \"type\": \"contour\"}], \"contourcarpet\": [{\"colorbar\": {\"outlinewidth\": 0, \"ticks\": \"\"}, \"type\": \"contourcarpet\"}], \"heatmap\": [{\"colorbar\": {\"outlinewidth\": 0, \"ticks\": \"\"}, \"colorscale\": [[0.0, \"#0d0887\"], [0.1111111111111111, \"#46039f\"], [0.2222222222222222, \"#7201a8\"], [0.3333333333333333, \"#9c179e\"], [0.4444444444444444, \"#bd3786\"], [0.5555555555555556, \"#d8576b\"], [0.6666666666666666, \"#ed7953\"], [0.7777777777777778, \"#fb9f3a\"], [0.8888888888888888, \"#fdca26\"], [1.0, \"#f0f921\"]], \"type\": \"heatmap\"}], \"heatmapgl\": [{\"colorbar\": {\"outlinewidth\": 0, \"ticks\": \"\"}, \"colorscale\": [[0.0, \"#0d0887\"], [0.1111111111111111, \"#46039f\"], [0.2222222222222222, \"#7201a8\"], [0.3333333333333333, \"#9c179e\"], [0.4444444444444444, \"#bd3786\"], [0.5555555555555556, \"#d8576b\"], [0.6666666666666666, \"#ed7953\"], [0.7777777777777778, \"#fb9f3a\"], [0.8888888888888888, \"#fdca26\"], [1.0, \"#f0f921\"]], \"type\": \"heatmapgl\"}], \"histogram\": [{\"marker\": {\"colorbar\": {\"outlinewidth\": 0, \"ticks\": \"\"}}, \"type\": \"histogram\"}], \"histogram2d\": [{\"colorbar\": {\"outlinewidth\": 0, \"ticks\": \"\"}, \"colorscale\": [[0.0, \"#0d0887\"], [0.1111111111111111, \"#46039f\"], [0.2222222222222222, \"#7201a8\"], [0.3333333333333333, \"#9c179e\"], [0.4444444444444444, \"#bd3786\"], [0.5555555555555556, \"#d8576b\"], [0.6666666666666666, \"#ed7953\"], [0.7777777777777778, \"#fb9f3a\"], [0.8888888888888888, \"#fdca26\"], [1.0, \"#f0f921\"]], \"type\": \"histogram2d\"}], \"histogram2dcontour\": [{\"colorbar\": {\"outlinewidth\": 0, \"ticks\": \"\"}, \"colorscale\": [[0.0, \"#0d0887\"], [0.1111111111111111, \"#46039f\"], [0.2222222222222222, \"#7201a8\"], [0.3333333333333333, \"#9c179e\"], [0.4444444444444444, \"#bd3786\"], [0.5555555555555556, \"#d8576b\"], [0.6666666666666666, \"#ed7953\"], [0.7777777777777778, \"#fb9f3a\"], [0.8888888888888888, \"#fdca26\"], [1.0, \"#f0f921\"]], \"type\": \"histogram2dcontour\"}], \"mesh3d\": [{\"colorbar\": {\"outlinewidth\": 0, \"ticks\": \"\"}, \"type\": \"mesh3d\"}], \"parcoords\": [{\"line\": {\"colorbar\": {\"outlinewidth\": 0, \"ticks\": \"\"}}, \"type\": \"parcoords\"}], \"pie\": [{\"automargin\": true, \"type\": \"pie\"}], \"scatter\": [{\"marker\": {\"colorbar\": {\"outlinewidth\": 0, \"ticks\": \"\"}}, \"type\": \"scatter\"}], \"scatter3d\": [{\"line\": {\"colorbar\": {\"outlinewidth\": 0, \"ticks\": \"\"}}, \"marker\": {\"colorbar\": {\"outlinewidth\": 0, \"ticks\": \"\"}}, \"type\": \"scatter3d\"}], \"scattercarpet\": [{\"marker\": {\"colorbar\": {\"outlinewidth\": 0, \"ticks\": \"\"}}, \"type\": \"scattercarpet\"}], \"scattergeo\": [{\"marker\": {\"colorbar\": {\"outlinewidth\": 0, \"ticks\": \"\"}}, \"type\": \"scattergeo\"}], \"scattergl\": [{\"marker\": {\"colorbar\": {\"outlinewidth\": 0, \"ticks\": \"\"}}, \"type\": \"scattergl\"}], \"scattermapbox\": [{\"marker\": {\"colorbar\": {\"outlinewidth\": 0, \"ticks\": \"\"}}, \"type\": \"scattermapbox\"}], \"scatterpolar\": [{\"marker\": {\"colorbar\": {\"outlinewidth\": 0, \"ticks\": \"\"}}, \"type\": \"scatterpolar\"}], \"scatterpolargl\": [{\"marker\": {\"colorbar\": {\"outlinewidth\": 0, \"ticks\": \"\"}}, \"type\": \"scatterpolargl\"}], \"scatterternary\": [{\"marker\": {\"colorbar\": {\"outlinewidth\": 0, \"ticks\": \"\"}}, \"type\": \"scatterternary\"}], \"surface\": [{\"colorbar\": {\"outlinewidth\": 0, \"ticks\": \"\"}, \"colorscale\": [[0.0, \"#0d0887\"], [0.1111111111111111, \"#46039f\"], [0.2222222222222222, \"#7201a8\"], [0.3333333333333333, \"#9c179e\"], [0.4444444444444444, \"#bd3786\"], [0.5555555555555556, \"#d8576b\"], [0.6666666666666666, \"#ed7953\"], [0.7777777777777778, \"#fb9f3a\"], [0.8888888888888888, \"#fdca26\"], [1.0, \"#f0f921\"]], \"type\": \"surface\"}], \"table\": [{\"cells\": {\"fill\": {\"color\": \"#EBF0F8\"}, \"line\": {\"color\": \"white\"}}, \"header\": {\"fill\": {\"color\": \"#C8D4E3\"}, \"line\": {\"color\": \"white\"}}, \"type\": \"table\"}]}, \"layout\": {\"annotationdefaults\": {\"arrowcolor\": \"#2a3f5f\", \"arrowhead\": 0, \"arrowwidth\": 1}, \"coloraxis\": {\"colorbar\": {\"outlinewidth\": 0, \"ticks\": \"\"}}, \"colorscale\": {\"diverging\": [[0, \"#8e0152\"], [0.1, \"#c51b7d\"], [0.2, \"#de77ae\"], [0.3, \"#f1b6da\"], [0.4, \"#fde0ef\"], [0.5, \"#f7f7f7\"], [0.6, \"#e6f5d0\"], [0.7, \"#b8e186\"], [0.8, \"#7fbc41\"], [0.9, \"#4d9221\"], [1, \"#276419\"]], \"sequential\": [[0.0, \"#0d0887\"], [0.1111111111111111, \"#46039f\"], [0.2222222222222222, \"#7201a8\"], [0.3333333333333333, \"#9c179e\"], [0.4444444444444444, \"#bd3786\"], [0.5555555555555556, \"#d8576b\"], [0.6666666666666666, \"#ed7953\"], [0.7777777777777778, \"#fb9f3a\"], [0.8888888888888888, \"#fdca26\"], [1.0, \"#f0f921\"]], \"sequentialminus\": [[0.0, \"#0d0887\"], [0.1111111111111111, \"#46039f\"], [0.2222222222222222, \"#7201a8\"], [0.3333333333333333, \"#9c179e\"], [0.4444444444444444, \"#bd3786\"], [0.5555555555555556, \"#d8576b\"], [0.6666666666666666, \"#ed7953\"], [0.7777777777777778, \"#fb9f3a\"], [0.8888888888888888, \"#fdca26\"], [1.0, \"#f0f921\"]]}, \"colorway\": [\"#636efa\", \"#EF553B\", \"#00cc96\", \"#ab63fa\", \"#FFA15A\", \"#19d3f3\", \"#FF6692\", \"#B6E880\", \"#FF97FF\", \"#FECB52\"], \"font\": {\"color\": \"#2a3f5f\"}, \"geo\": {\"bgcolor\": \"white\", \"lakecolor\": \"white\", \"landcolor\": \"#E5ECF6\", \"showlakes\": true, \"showland\": true, \"subunitcolor\": \"white\"}, \"hoverlabel\": {\"align\": \"left\"}, \"hovermode\": \"closest\", \"mapbox\": {\"style\": \"light\"}, \"paper_bgcolor\": \"white\", \"plot_bgcolor\": \"#E5ECF6\", \"polar\": {\"angularaxis\": {\"gridcolor\": \"white\", \"linecolor\": \"white\", \"ticks\": \"\"}, \"bgcolor\": \"#E5ECF6\", \"radialaxis\": {\"gridcolor\": \"white\", \"linecolor\": \"white\", \"ticks\": \"\"}}, \"scene\": {\"xaxis\": {\"backgroundcolor\": \"#E5ECF6\", \"gridcolor\": \"white\", \"gridwidth\": 2, \"linecolor\": \"white\", \"showbackground\": true, \"ticks\": \"\", \"zerolinecolor\": \"white\"}, \"yaxis\": {\"backgroundcolor\": \"#E5ECF6\", \"gridcolor\": \"white\", \"gridwidth\": 2, \"linecolor\": \"white\", \"showbackground\": true, \"ticks\": \"\", \"zerolinecolor\": \"white\"}, \"zaxis\": {\"backgroundcolor\": \"#E5ECF6\", \"gridcolor\": \"white\", \"gridwidth\": 2, \"linecolor\": \"white\", \"showbackground\": true, \"ticks\": \"\", \"zerolinecolor\": \"white\"}}, \"shapedefaults\": {\"line\": {\"color\": \"#2a3f5f\"}}, \"ternary\": {\"aaxis\": {\"gridcolor\": \"white\", \"linecolor\": \"white\", \"ticks\": \"\"}, \"baxis\": {\"gridcolor\": \"white\", \"linecolor\": \"white\", \"ticks\": \"\"}, \"bgcolor\": \"#E5ECF6\", \"caxis\": {\"gridcolor\": \"white\", \"linecolor\": \"white\", \"ticks\": \"\"}}, \"title\": {\"x\": 0.05}, \"xaxis\": {\"automargin\": true, \"gridcolor\": \"white\", \"linecolor\": \"white\", \"ticks\": \"\", \"title\": {\"standoff\": 15}, \"zerolinecolor\": \"white\", \"zerolinewidth\": 2}, \"yaxis\": {\"automargin\": true, \"gridcolor\": \"white\", \"linecolor\": \"white\", \"ticks\": \"\", \"title\": {\"standoff\": 15}, \"zerolinecolor\": \"white\", \"zerolinewidth\": 2}}}, \"title\": {\"font\": {\"color\": \"#4D5663\"}, \"text\": \"Figure 6. \\u0420\\u0430\\u0441\\u043f\\u0440\\u0435\\u0434\\u0435\\u043b\\u0435\\u043d\\u0438\\u0435 \\u0446\\u0435\\u043d \\u0437\\u0430 \\u043c2 \\u0443 \\u0437\\u0430\\u0441\\u0442\\u0440\\u043e\\u0439\\u0449\\u0438\\u043a\\u0430\"}, \"xaxis\": {\"gridcolor\": \"#E1E5ED\", \"showgrid\": true, \"tickfont\": {\"color\": \"#4D5663\"}, \"title\": {\"font\": {\"color\": \"#4D5663\"}, \"text\": \"\"}, \"zerolinecolor\": \"#E1E5ED\"}, \"yaxis\": {\"gridcolor\": \"#E1E5ED\", \"showgrid\": true, \"tickfont\": {\"color\": \"#4D5663\"}, \"title\": {\"font\": {\"color\": \"#4D5663\"}, \"text\": \"\\u0414\\u0438\\u0430\\u043f\\u0430\\u0437\\u043e\\u043d \\u0446\\u0435\\u043d \\u0437\\u0430 \\u043c2\"}, \"zerolinecolor\": \"#E1E5ED\"}},\n",
       "                        {\"showLink\": true, \"linkText\": \"Export to plot.ly\", \"plotlyServerURL\": \"https://plot.ly\", \"responsive\": true}\n",
       "                    ).then(function(){\n",
       "                            \n",
       "var gd = document.getElementById('1745d510-4bdb-411f-b7aa-a7d37e822a2e');\n",
       "var x = new MutationObserver(function (mutations, observer) {{\n",
       "        var display = window.getComputedStyle(gd).display;\n",
       "        if (!display || display === 'none') {{\n",
       "            console.log([gd, 'removed!']);\n",
       "            Plotly.purge(gd);\n",
       "            observer.disconnect();\n",
       "        }}\n",
       "}});\n",
       "\n",
       "// Listen for the removal of the full notebook cells\n",
       "var notebookContainer = gd.closest('#notebook-container');\n",
       "if (notebookContainer) {{\n",
       "    x.observe(notebookContainer, {childList: true});\n",
       "}}\n",
       "\n",
       "// Listen for the clearing of the current output cell\n",
       "var outputEl = gd.closest('.output');\n",
       "if (outputEl) {{\n",
       "    x.observe(outputEl, {childList: true});\n",
       "}}\n",
       "\n",
       "                        })\n",
       "                };\n",
       "                });\n",
       "            </script>\n",
       "        </div>"
      ]
     },
     "metadata": {},
     "output_type": "display_data"
    },
    {
     "data": {
      "text/html": [
       "\n",
       "        <script>\n",
       "            function code_toggle_1507498065803576479() {\n",
       "                $('div.cell.code_cell.rendered.selected').find('div.input').toggle();\n",
       "            }\n",
       "\n",
       "            \n",
       "        </script>\n",
       "\n",
       "        <a href=\"javascript:code_toggle_1507498065803576479()\">Toggle show/hide</a>\n",
       "    "
      ],
      "text/plain": [
       "<IPython.core.display.HTML object>"
      ]
     },
     "execution_count": 28,
     "metadata": {},
     "output_type": "execute_result"
    }
   ],
   "source": [
    "df.pivot(columns='Застройщик', values='Цена за м2').iplot(\n",
    "        kind='box',\n",
    "        yTitle='Диапазон цен за м2',\n",
    "        title='Figure 6. Распределение цен за м2 у застройщика')\n",
    "hide_toggle()"
   ]
  },
  {
   "cell_type": "markdown",
   "metadata": {},
   "source": [
    "#### Читаем график:\n",
    " 1. Причина прочерков послужила малая выборка. Застройщики с 1 ЖК обычного класса с единой планировкой будут иметь единую цену за кв м. \n",
    "\n"
   ]
  },
  {
   "cell_type": "code",
   "execution_count": 29,
   "metadata": {},
   "outputs": [
    {
     "data": {
      "application/vnd.plotly.v1+json": {
       "config": {
        "linkText": "Export to plot.ly",
        "plotlyServerURL": "https://plot.ly",
        "showLink": true
       },
       "data": [
        {
         "boxpoints": false,
         "line": {
          "width": 1.3
         },
         "marker": {
          "color": "rgba(255, 153, 51, 1.0)"
         },
         "name": "«ASQAT»",
         "orientation": "v",
         "type": "box",
         "y": [
          null,
          null,
          null,
          null,
          null,
          null,
          null,
          null,
          null,
          null,
          null,
          null,
          null,
          null,
          null,
          null,
          null,
          null,
          null,
          null,
          null,
          null,
          null,
          null,
          null,
          null,
          null,
          null,
          null,
          null,
          null,
          null,
          null,
          null,
          null,
          null,
          null,
          null,
          null,
          null,
          null,
          null,
          null,
          null,
          null,
          null,
          null,
          null,
          null,
          null,
          null,
          null,
          null,
          null,
          null,
          null,
          null,
          null,
          null,
          null,
          null,
          null,
          null,
          null,
          null,
          null,
          null,
          null,
          null,
          null,
          null,
          null,
          null,
          null,
          null,
          null,
          null,
          null,
          null,
          null,
          null,
          null,
          null,
          null,
          null,
          null,
          null,
          null,
          null,
          null,
          null,
          null,
          null,
          null,
          null,
          null,
          null,
          null,
          null,
          null,
          null,
          null,
          null,
          null,
          null,
          null,
          null,
          null,
          null,
          null,
          null,
          null,
          null,
          null,
          null,
          null,
          null,
          null,
          null,
          null,
          null,
          null,
          null,
          null,
          null,
          null,
          null,
          null,
          null,
          null,
          null,
          null,
          null,
          null,
          10041800,
          22174800,
          9540300,
          10729150,
          18441350,
          22836800,
          24402000,
          25852400,
          20073750,
          11047750,
          10617050,
          18830900,
          11180500,
          9504900,
          null,
          null,
          null,
          null,
          null,
          null,
          null,
          null,
          null,
          null,
          null,
          null,
          null,
          null,
          null,
          null,
          15979950,
          16396050,
          16059750
         ]
        },
        {
         "boxpoints": false,
         "line": {
          "width": 1.3
         },
         "marker": {
          "color": "rgba(55, 128, 191, 1.0)"
         },
         "name": "«Alau»",
         "orientation": "v",
         "type": "box",
         "y": [
          null,
          null,
          15477000,
          null,
          null,
          null,
          null,
          null,
          null,
          null,
          null,
          null,
          27756150,
          null,
          null,
          null,
          null,
          null,
          null,
          null,
          null,
          null,
          null,
          38346000,
          null,
          null,
          null,
          null,
          null,
          null,
          null,
          null,
          null,
          null,
          null,
          null,
          null,
          53616000,
          null,
          null,
          null,
          null,
          null,
          null,
          null,
          null,
          null,
          null,
          null,
          null,
          null,
          null,
          null,
          null,
          null,
          null,
          null,
          null,
          null,
          null,
          null,
          null,
          null,
          null,
          null,
          null,
          null,
          null,
          null,
          null,
          null,
          null,
          null,
          null,
          null,
          null,
          null,
          null,
          null,
          null,
          null,
          null,
          null,
          null,
          null,
          null,
          null,
          null,
          null,
          null,
          null,
          null,
          null,
          null,
          null,
          null,
          null,
          null,
          null,
          null,
          null,
          null,
          null,
          null,
          null,
          null,
          null,
          null,
          null,
          null,
          null,
          null,
          null,
          null,
          null,
          null,
          null,
          null,
          null,
          null,
          null,
          null,
          null,
          null,
          null,
          null,
          null,
          null,
          null,
          null,
          null,
          null,
          null,
          null,
          null,
          null,
          null,
          null,
          null,
          null,
          null,
          null,
          null,
          null,
          null,
          null,
          null,
          null,
          null,
          null,
          null,
          null,
          null,
          null,
          null,
          null,
          null,
          null,
          null,
          null,
          null,
          null,
          null,
          null,
          null,
          null,
          null
         ]
        },
        {
         "boxpoints": false,
         "line": {
          "width": 1.3
         },
         "marker": {
          "color": "rgba(50, 171, 96, 1.0)"
         },
         "name": "«Apple City»",
         "orientation": "v",
         "type": "box",
         "y": [
          null,
          null,
          null,
          null,
          null,
          null,
          null,
          null,
          null,
          null,
          null,
          null,
          null,
          null,
          null,
          null,
          null,
          null,
          null,
          null,
          null,
          null,
          null,
          null,
          null,
          null,
          null,
          null,
          null,
          null,
          null,
          null,
          null,
          null,
          null,
          null,
          null,
          null,
          null,
          null,
          null,
          null,
          null,
          null,
          null,
          null,
          null,
          null,
          null,
          null,
          null,
          null,
          null,
          null,
          null,
          null,
          null,
          null,
          null,
          null,
          null,
          null,
          null,
          null,
          null,
          null,
          null,
          null,
          null,
          null,
          null,
          null,
          null,
          null,
          null,
          null,
          null,
          null,
          null,
          null,
          null,
          null,
          null,
          null,
          null,
          null,
          null,
          null,
          null,
          null,
          null,
          null,
          null,
          null,
          null,
          null,
          null,
          null,
          null,
          null,
          null,
          null,
          null,
          19183500,
          19267600,
          19096500,
          19760600,
          23385600,
          19238600,
          null,
          null,
          null,
          null,
          null,
          null,
          17806000,
          15454100,
          null,
          null,
          null,
          13862000,
          14494200,
          12284400,
          17936500,
          null,
          null,
          18763000,
          13284900,
          null,
          16814200,
          null,
          null,
          null,
          null,
          null,
          null,
          null,
          null,
          null,
          null,
          null,
          null,
          null,
          null,
          null,
          null,
          null,
          null,
          null,
          null,
          null,
          null,
          null,
          null,
          null,
          null,
          null,
          null,
          null,
          null,
          null,
          null,
          null,
          null,
          null,
          null,
          null
         ]
        },
        {
         "boxpoints": false,
         "line": {
          "width": 1.3
         },
         "marker": {
          "color": "rgba(128, 0, 128, 1.0)"
         },
         "name": "«Atlant»",
         "orientation": "v",
         "type": "box",
         "y": [
          null,
          null,
          null,
          null,
          null,
          null,
          null,
          null,
          null,
          null,
          null,
          null,
          null,
          null,
          53755913,
          null,
          null,
          null,
          null,
          null,
          null,
          null,
          null,
          null,
          63324612,
          null,
          null,
          null,
          null,
          null,
          null,
          null,
          null,
          null,
          null,
          null,
          63424920,
          null,
          null,
          null,
          null,
          null,
          null,
          null,
          null,
          null,
          null,
          null,
          35096000,
          null,
          null,
          null,
          null,
          null,
          null,
          null,
          null,
          null,
          null,
          40721000,
          null,
          null,
          null,
          null,
          null,
          null,
          null,
          null,
          null,
          42130086,
          null,
          null,
          null,
          null,
          null,
          null,
          null,
          42738851,
          null,
          null,
          null,
          null,
          null,
          null,
          48800864,
          null,
          null,
          null,
          null,
          null,
          null,
          null,
          null,
          null,
          null,
          null,
          null,
          null,
          null,
          null,
          null,
          null,
          null,
          null,
          null,
          null,
          null,
          null,
          null,
          null,
          null,
          null,
          null,
          null,
          null,
          null,
          null,
          null,
          null,
          null,
          null,
          null,
          null,
          null,
          null,
          null,
          null,
          null,
          null,
          null,
          null,
          null,
          null,
          null,
          null,
          null,
          null,
          null,
          null,
          null,
          null,
          null,
          null,
          null,
          null,
          null,
          null,
          null,
          null,
          null,
          null,
          null,
          null,
          null,
          null,
          null,
          null,
          null,
          null,
          null,
          null,
          null,
          null,
          null,
          null,
          null,
          null
         ]
        },
        {
         "boxpoints": false,
         "line": {
          "width": 1.3
         },
         "marker": {
          "color": "rgba(219, 64, 82, 1.0)"
         },
         "name": "«BI City Tokyo»",
         "orientation": "v",
         "type": "box",
         "y": [
          null,
          null,
          null,
          null,
          null,
          null,
          null,
          30842690,
          null,
          null,
          null,
          null,
          null,
          null,
          null,
          null,
          null,
          null,
          null,
          36855000,
          null,
          null,
          null,
          null,
          null,
          null,
          null,
          null,
          null,
          null,
          38904840,
          null,
          null,
          null,
          null,
          null,
          null,
          null,
          null,
          39682440,
          null,
          null,
          null,
          null,
          null,
          null,
          null,
          null,
          null,
          17749800,
          null,
          null,
          null,
          null,
          null,
          null,
          18085111,
          null,
          null,
          null,
          null,
          null,
          null,
          null,
          18311904,
          null,
          null,
          null,
          null,
          null,
          null,
          null,
          null,
          null,
          21519562,
          null,
          null,
          null,
          null,
          24393150,
          null,
          null,
          null,
          null,
          null,
          27032700,
          null,
          null,
          null,
          null,
          null,
          null,
          null,
          null,
          null,
          null,
          null,
          null,
          null,
          null,
          null,
          null,
          null,
          null,
          null,
          null,
          null,
          null,
          null,
          null,
          null,
          null,
          null,
          null,
          null,
          null,
          null,
          null,
          null,
          null,
          null,
          null,
          null,
          null,
          null,
          null,
          null,
          null,
          null,
          null,
          null,
          null,
          null,
          null,
          null,
          null,
          null,
          null,
          null,
          null,
          null,
          null,
          null,
          null,
          null,
          null,
          null,
          null,
          null,
          null,
          null,
          null,
          null,
          null,
          null,
          null,
          null,
          null,
          null,
          null,
          null,
          null,
          null,
          null,
          null,
          null,
          null
         ]
        },
        {
         "boxpoints": false,
         "line": {
          "width": 1.3
         },
         "marker": {
          "color": "rgba(0, 128, 128, 1.0)"
         },
         "name": "«Capital Park»",
         "orientation": "v",
         "type": "box",
         "y": [
          null,
          null,
          null,
          null,
          null,
          null,
          17476875,
          null,
          null,
          null,
          null,
          null,
          null,
          null,
          null,
          null,
          null,
          null,
          17732995,
          null,
          null,
          null,
          null,
          null,
          null,
          null,
          null,
          null,
          null,
          null,
          null,
          18803995,
          null,
          null,
          null,
          null,
          null,
          null,
          null,
          null,
          19012865,
          null,
          null,
          null,
          null,
          null,
          null,
          null,
          null,
          null,
          19258458,
          null,
          null,
          null,
          null,
          null,
          null,
          27352800,
          null,
          null,
          null,
          null,
          null,
          null,
          null,
          31581550,
          null,
          null,
          null,
          null,
          null,
          null,
          null,
          34958228,
          null,
          null,
          null,
          null,
          null,
          null,
          36808000,
          null,
          null,
          null,
          null,
          null,
          37357308,
          null,
          null,
          37467786,
          null,
          null,
          37502880,
          null,
          38084760,
          null,
          39081328,
          null,
          null,
          null,
          null,
          null,
          null,
          null,
          null,
          null,
          null,
          null,
          null,
          null,
          null,
          null,
          null,
          null,
          null,
          null,
          null,
          null,
          null,
          null,
          null,
          null,
          null,
          null,
          null,
          null,
          null,
          null,
          null,
          null,
          null,
          null,
          null,
          null,
          null,
          null,
          null,
          null,
          null,
          null,
          null,
          null,
          null,
          null,
          null,
          null,
          null,
          null,
          null,
          null,
          null,
          null,
          null,
          null,
          null,
          null,
          null,
          null,
          null,
          null,
          null,
          null,
          null,
          null,
          null,
          null,
          null
         ]
        },
        {
         "boxpoints": false,
         "line": {
          "width": 1.3
         },
         "marker": {
          "color": "rgba(255, 255, 51, 1.0)"
         },
         "name": "«College»",
         "orientation": "v",
         "type": "box",
         "y": [
          null,
          null,
          null,
          null,
          16443000,
          null,
          null,
          null,
          null,
          null,
          null,
          null,
          null,
          null,
          null,
          null,
          21198810,
          null,
          null,
          null,
          null,
          null,
          null,
          null,
          null,
          22206250,
          null,
          null,
          null,
          null,
          null,
          null,
          null,
          null,
          null,
          23845770,
          null,
          null,
          null,
          null,
          null,
          null,
          null,
          null,
          null,
          28266300,
          null,
          null,
          null,
          null,
          null,
          null,
          null,
          29995350,
          null,
          null,
          null,
          null,
          null,
          null,
          null,
          null,
          null,
          31209630,
          null,
          null,
          null,
          null,
          null,
          null,
          10668130,
          null,
          null,
          null,
          null,
          null,
          null,
          null,
          null,
          null,
          null,
          null,
          null,
          null,
          null,
          null,
          null,
          null,
          null,
          null,
          null,
          null,
          null,
          null,
          null,
          null,
          null,
          null,
          null,
          null,
          null,
          null,
          null,
          null,
          null,
          null,
          null,
          null,
          null,
          null,
          null,
          null,
          null,
          null,
          null,
          null,
          null,
          null,
          null,
          null,
          null,
          null,
          null,
          null,
          null,
          null,
          null,
          null,
          null,
          null,
          null,
          null,
          null,
          null,
          null,
          null,
          null,
          null,
          null,
          null,
          null,
          null,
          null,
          null,
          null,
          null,
          null,
          null,
          null,
          null,
          null,
          null,
          null,
          null,
          null,
          null,
          null,
          null,
          null,
          null,
          null,
          null,
          null,
          null,
          null,
          null,
          null
         ]
        },
        {
         "boxpoints": false,
         "line": {
          "width": 1.3
         },
         "marker": {
          "color": "rgba(128, 128, 0, 1.0)"
         },
         "name": "«Esil Riverside»",
         "orientation": "v",
         "type": "box",
         "y": [
          null,
          null,
          null,
          null,
          null,
          null,
          null,
          null,
          63538100,
          null,
          null,
          null,
          null,
          null,
          null,
          null,
          null,
          null,
          null,
          null,
          66388595,
          null,
          null,
          null,
          null,
          null,
          null,
          null,
          null,
          null,
          null,
          null,
          66468798,
          null,
          null,
          null,
          null,
          null,
          null,
          null,
          null,
          null,
          91690000,
          null,
          null,
          null,
          null,
          null,
          null,
          null,
          null,
          43090000,
          null,
          null,
          null,
          null,
          null,
          null,
          46410000,
          null,
          null,
          null,
          null,
          null,
          null,
          null,
          46890000,
          null,
          null,
          null,
          null,
          null,
          null,
          null,
          null,
          48340000,
          null,
          null,
          null,
          null,
          null,
          54840000,
          null,
          null,
          null,
          null,
          null,
          57402180,
          null,
          null,
          null,
          null,
          null,
          null,
          null,
          null,
          null,
          null,
          null,
          null,
          null,
          null,
          null,
          null,
          null,
          null,
          null,
          null,
          null,
          null,
          null,
          null,
          null,
          null,
          null,
          null,
          null,
          null,
          null,
          null,
          null,
          null,
          null,
          null,
          null,
          null,
          null,
          null,
          null,
          null,
          null,
          null,
          null,
          null,
          null,
          null,
          null,
          null,
          null,
          null,
          null,
          null,
          null,
          null,
          null,
          null,
          null,
          null,
          null,
          null,
          null,
          null,
          null,
          null,
          null,
          null,
          null,
          null,
          null,
          null,
          null,
          null,
          null,
          null,
          null,
          null,
          null
         ]
        },
        {
         "boxpoints": false,
         "line": {
          "width": 1.3
         },
         "marker": {
          "color": "rgba(251, 128, 114, 1.0)"
         },
         "name": "«Grand Opera»",
         "orientation": "v",
         "type": "box",
         "y": [
          null,
          null,
          null,
          null,
          null,
          55994650,
          null,
          null,
          null,
          null,
          null,
          null,
          null,
          null,
          null,
          null,
          null,
          66208156,
          null,
          null,
          null,
          null,
          null,
          null,
          null,
          null,
          null,
          70318468,
          null,
          null,
          null,
          null,
          null,
          null,
          null,
          null,
          null,
          null,
          71103752,
          null,
          null,
          null,
          null,
          null,
          null,
          null,
          null,
          null,
          null,
          null,
          null,
          null,
          47436064,
          null,
          null,
          null,
          null,
          null,
          null,
          null,
          null,
          50574940,
          null,
          null,
          null,
          null,
          null,
          null,
          52023158,
          null,
          null,
          null,
          null,
          null,
          null,
          null,
          53291328,
          null,
          null,
          null,
          null,
          null,
          53940720,
          null,
          null,
          null,
          null,
          null,
          null,
          null,
          null,
          null,
          null,
          null,
          null,
          null,
          null,
          null,
          null,
          null,
          null,
          null,
          null,
          null,
          null,
          null,
          null,
          null,
          null,
          null,
          null,
          null,
          null,
          null,
          null,
          null,
          null,
          null,
          null,
          null,
          null,
          null,
          null,
          null,
          null,
          null,
          null,
          null,
          null,
          null,
          null,
          null,
          null,
          null,
          null,
          null,
          null,
          null,
          null,
          null,
          null,
          null,
          null,
          null,
          null,
          null,
          null,
          null,
          null,
          null,
          null,
          null,
          null,
          null,
          null,
          null,
          null,
          null,
          null,
          null,
          null,
          null,
          null,
          null,
          null,
          null,
          null
         ]
        },
        {
         "boxpoints": false,
         "line": {
          "width": 1.3
         },
         "marker": {
          "color": "rgba(128, 177, 211, 1.0)"
         },
         "name": "«Headliner»",
         "orientation": "v",
         "type": "box",
         "y": [
          null,
          null,
          null,
          42258294,
          null,
          null,
          null,
          null,
          null,
          null,
          null,
          17406360,
          null,
          null,
          null,
          null,
          null,
          null,
          null,
          null,
          null,
          null,
          27328518,
          null,
          null,
          null,
          null,
          null,
          null,
          null,
          null,
          null,
          null,
          null,
          27814050,
          null,
          null,
          null,
          null,
          null,
          null,
          null,
          null,
          null,
          null,
          null,
          null,
          30238871,
          null,
          null,
          null,
          null,
          null,
          null,
          39107794,
          null,
          null,
          null,
          null,
          null,
          null,
          null,
          null,
          null,
          null,
          null,
          null,
          null,
          null,
          null,
          null,
          null,
          null,
          null,
          null,
          null,
          null,
          null,
          null,
          null,
          null,
          null,
          null,
          null,
          null,
          null,
          null,
          null,
          null,
          null,
          null,
          null,
          null,
          null,
          null,
          null,
          null,
          null,
          null,
          null,
          null,
          null,
          null,
          null,
          null,
          null,
          null,
          null,
          null,
          null,
          null,
          null,
          null,
          null,
          null,
          null,
          null,
          null,
          null,
          null,
          null,
          null,
          null,
          null,
          null,
          null,
          null,
          null,
          null,
          null,
          null,
          null,
          null,
          null,
          null,
          null,
          null,
          null,
          null,
          null,
          null,
          null,
          null,
          null,
          null,
          null,
          null,
          null,
          null,
          null,
          null,
          null,
          null,
          null,
          null,
          null,
          null,
          null,
          null,
          null,
          null,
          null,
          null,
          null,
          null,
          null,
          null
         ]
        },
        {
         "boxpoints": false,
         "line": {
          "width": 1.3
         },
         "marker": {
          "color": "rgba(128, 177, 211, 0.8999999999999999)"
         },
         "name": "«Nura Esil»",
         "orientation": "v",
         "type": "box",
         "y": [
          null,
          null,
          null,
          null,
          null,
          null,
          null,
          null,
          null,
          null,
          null,
          null,
          null,
          null,
          null,
          null,
          null,
          null,
          null,
          null,
          null,
          null,
          null,
          null,
          null,
          null,
          null,
          null,
          null,
          null,
          null,
          null,
          null,
          null,
          null,
          null,
          null,
          null,
          null,
          null,
          null,
          null,
          null,
          null,
          null,
          null,
          null,
          null,
          null,
          null,
          null,
          null,
          null,
          null,
          null,
          null,
          null,
          null,
          null,
          null,
          null,
          null,
          null,
          null,
          null,
          null,
          null,
          null,
          null,
          null,
          null,
          null,
          null,
          null,
          null,
          null,
          null,
          null,
          null,
          null,
          null,
          null,
          null,
          null,
          null,
          null,
          null,
          null,
          null,
          null,
          null,
          null,
          null,
          null,
          null,
          null,
          null,
          null,
          null,
          null,
          null,
          null,
          null,
          null,
          null,
          null,
          null,
          null,
          null,
          null,
          null,
          null,
          null,
          null,
          null,
          null,
          null,
          null,
          null,
          null,
          null,
          null,
          null,
          null,
          null,
          null,
          null,
          null,
          null,
          null,
          null,
          null,
          null,
          null,
          null,
          null,
          null,
          null,
          null,
          null,
          null,
          null,
          null,
          null,
          null,
          null,
          null,
          null,
          18412800,
          42302100,
          34577100,
          46400000,
          17665350,
          32913920,
          38016000,
          40339000,
          19202760,
          null,
          null,
          null,
          null,
          null,
          null,
          null,
          null,
          null,
          null
         ]
        },
        {
         "boxpoints": false,
         "line": {
          "width": 1.3
         },
         "marker": {
          "color": "rgba(255, 153, 51, 0.8999999999999999)"
         },
         "name": "«Tulpar City»",
         "orientation": "v",
         "type": "box",
         "y": [
          null,
          null,
          null,
          null,
          null,
          null,
          null,
          null,
          null,
          null,
          null,
          null,
          null,
          7155000,
          null,
          null,
          null,
          null,
          null,
          null,
          null,
          null,
          null,
          null,
          null,
          null,
          null,
          null,
          7230600,
          null,
          null,
          null,
          null,
          null,
          null,
          null,
          null,
          null,
          null,
          null,
          null,
          null,
          null,
          null,
          null,
          null,
          7387200,
          null,
          null,
          null,
          null,
          null,
          null,
          null,
          null,
          null,
          null,
          null,
          null,
          null,
          null,
          null,
          7556400,
          null,
          null,
          null,
          null,
          null,
          null,
          null,
          null,
          null,
          7585200,
          null,
          null,
          null,
          null,
          null,
          null,
          null,
          null,
          null,
          null,
          7959600,
          null,
          null,
          null,
          null,
          null,
          null,
          8409600,
          null,
          null,
          9280800,
          null,
          null,
          null,
          14274000,
          14331600,
          6210000,
          6363000,
          6600600,
          6732000,
          null,
          null,
          null,
          null,
          null,
          null,
          null,
          null,
          null,
          null,
          null,
          null,
          null,
          null,
          null,
          null,
          null,
          null,
          null,
          null,
          null,
          null,
          null,
          null,
          null,
          null,
          null,
          null,
          null,
          null,
          null,
          null,
          null,
          null,
          null,
          null,
          null,
          null,
          null,
          null,
          null,
          null,
          null,
          null,
          null,
          null,
          null,
          null,
          null,
          null,
          null,
          null,
          null,
          null,
          null,
          null,
          null,
          null,
          null,
          null,
          null,
          null,
          null,
          null
         ]
        },
        {
         "boxpoints": false,
         "line": {
          "width": 1.3
         },
         "marker": {
          "color": "rgba(55, 128, 191, 0.8999999999999999)"
         },
         "name": "«Vela Village»",
         "orientation": "v",
         "type": "box",
         "y": [
          null,
          86261292,
          null,
          null,
          null,
          null,
          null,
          null,
          null,
          null,
          null,
          null,
          null,
          null,
          null,
          null,
          null,
          null,
          null,
          null,
          null,
          null,
          null,
          null,
          null,
          null,
          null,
          null,
          null,
          null,
          null,
          null,
          null,
          null,
          null,
          null,
          null,
          null,
          null,
          null,
          null,
          null,
          null,
          null,
          null,
          null,
          null,
          null,
          null,
          null,
          null,
          null,
          null,
          null,
          null,
          null,
          null,
          null,
          null,
          null,
          null,
          null,
          null,
          null,
          null,
          null,
          null,
          null,
          null,
          null,
          null,
          null,
          null,
          null,
          null,
          null,
          null,
          null,
          null,
          null,
          null,
          null,
          null,
          null,
          null,
          null,
          null,
          null,
          null,
          null,
          null,
          null,
          null,
          null,
          null,
          null,
          null,
          null,
          null,
          null,
          null,
          null,
          null,
          null,
          null,
          null,
          null,
          null,
          null,
          null,
          null,
          null,
          null,
          null,
          null,
          null,
          null,
          null,
          null,
          null,
          null,
          null,
          null,
          null,
          null,
          null,
          null,
          null,
          null,
          null,
          null,
          null,
          null,
          null,
          null,
          null,
          null,
          null,
          null,
          null,
          null,
          null,
          null,
          null,
          null,
          null,
          null,
          null,
          null,
          null,
          null,
          null,
          null,
          null,
          null,
          null,
          null,
          null,
          null,
          null,
          null,
          null,
          null,
          null,
          null,
          null,
          null
         ]
        },
        {
         "boxpoints": false,
         "line": {
          "width": 1.3
         },
         "marker": {
          "color": "rgba(50, 171, 96, 0.8999999999999999)"
         },
         "name": "«Алтын Отау»",
         "orientation": "v",
         "type": "box",
         "y": [
          null,
          null,
          null,
          null,
          null,
          null,
          null,
          null,
          null,
          null,
          null,
          null,
          null,
          null,
          null,
          9255000,
          null,
          null,
          null,
          null,
          null,
          null,
          null,
          null,
          null,
          null,
          null,
          null,
          null,
          9635000,
          null,
          null,
          null,
          null,
          null,
          null,
          null,
          null,
          null,
          null,
          null,
          null,
          null,
          10742500,
          null,
          null,
          null,
          null,
          null,
          null,
          null,
          null,
          null,
          null,
          null,
          14467500,
          null,
          null,
          null,
          null,
          null,
          null,
          null,
          null,
          null,
          null,
          null,
          14922500,
          null,
          null,
          null,
          null,
          null,
          null,
          null,
          null,
          null,
          null,
          15840000,
          null,
          null,
          null,
          null,
          null,
          null,
          null,
          null,
          null,
          16682500,
          null,
          null,
          17132500,
          null,
          null,
          null,
          17865000,
          null,
          null,
          null,
          null,
          null,
          null,
          null,
          null,
          null,
          null,
          null,
          null,
          null,
          null,
          null,
          null,
          null,
          null,
          null,
          null,
          null,
          null,
          null,
          null,
          null,
          null,
          null,
          null,
          null,
          null,
          null,
          null,
          null,
          null,
          null,
          null,
          null,
          null,
          null,
          null,
          null,
          null,
          null,
          null,
          null,
          null,
          null,
          null,
          null,
          null,
          null,
          null,
          null,
          null,
          null,
          null,
          null,
          null,
          null,
          null,
          null,
          null,
          null,
          null,
          null,
          null,
          null,
          null,
          null,
          null,
          null
         ]
        },
        {
         "boxpoints": false,
         "line": {
          "width": 1.3
         },
         "marker": {
          "color": "rgba(128, 0, 128, 0.8999999999999999)"
         },
         "name": "«Байсал»",
         "orientation": "v",
         "type": "box",
         "y": [
          null,
          null,
          null,
          null,
          null,
          null,
          null,
          null,
          null,
          null,
          null,
          null,
          null,
          null,
          null,
          null,
          null,
          null,
          null,
          null,
          null,
          null,
          null,
          null,
          null,
          null,
          null,
          null,
          null,
          null,
          null,
          null,
          null,
          null,
          null,
          null,
          null,
          null,
          null,
          null,
          null,
          null,
          null,
          null,
          null,
          null,
          null,
          null,
          null,
          null,
          null,
          null,
          null,
          null,
          null,
          null,
          null,
          null,
          null,
          null,
          null,
          null,
          null,
          null,
          null,
          null,
          null,
          null,
          null,
          null,
          null,
          null,
          null,
          null,
          null,
          null,
          null,
          null,
          null,
          null,
          null,
          null,
          null,
          null,
          null,
          null,
          null,
          null,
          null,
          null,
          null,
          null,
          null,
          null,
          null,
          null,
          null,
          null,
          null,
          null,
          null,
          null,
          null,
          null,
          null,
          null,
          null,
          null,
          null,
          7406000,
          9422000,
          6496000,
          6286000,
          5320000,
          8568000,
          null,
          null,
          7574000,
          7294000,
          7434000,
          null,
          null,
          null,
          null,
          5320000,
          6426000,
          null,
          null,
          4662000,
          null,
          10276000,
          7238000,
          5152000,
          6552000,
          null,
          null,
          null,
          null,
          null,
          null,
          null,
          null,
          null,
          null,
          null,
          null,
          null,
          null,
          null,
          null,
          null,
          null,
          null,
          null,
          null,
          null,
          null,
          null,
          null,
          null,
          null,
          null,
          null,
          null,
          null,
          null,
          null
         ]
        },
        {
         "boxpoints": false,
         "line": {
          "width": 1.3
         },
         "marker": {
          "color": "rgba(219, 64, 82, 0.8999999999999999)"
         },
         "name": "«Ботанический»",
         "orientation": "v",
         "type": "box",
         "y": [
          55487214,
          null,
          null,
          null,
          null,
          null,
          null,
          null,
          null,
          59147706,
          null,
          null,
          null,
          null,
          null,
          null,
          null,
          null,
          null,
          null,
          null,
          59226993,
          null,
          null,
          null,
          null,
          null,
          null,
          null,
          null,
          null,
          null,
          null,
          59889168,
          null,
          null,
          null,
          null,
          null,
          null,
          null,
          64039136,
          null,
          null,
          null,
          null,
          null,
          null,
          null,
          null,
          null,
          null,
          null,
          null,
          null,
          null,
          null,
          null,
          null,
          null,
          null,
          null,
          null,
          null,
          null,
          null,
          null,
          null,
          null,
          null,
          null,
          null,
          null,
          null,
          null,
          null,
          null,
          null,
          null,
          null,
          null,
          null,
          null,
          null,
          null,
          null,
          null,
          null,
          null,
          null,
          null,
          null,
          null,
          null,
          null,
          null,
          null,
          null,
          null,
          null,
          null,
          null,
          null,
          null,
          null,
          null,
          null,
          null,
          null,
          null,
          null,
          null,
          null,
          null,
          null,
          null,
          null,
          null,
          null,
          null,
          null,
          null,
          null,
          null,
          null,
          null,
          null,
          null,
          null,
          null,
          null,
          null,
          null,
          null,
          null,
          null,
          null,
          null,
          null,
          null,
          null,
          null,
          null,
          null,
          null,
          null,
          null,
          null,
          null,
          null,
          null,
          null,
          null,
          null,
          null,
          null,
          null,
          null,
          null,
          null,
          null,
          null,
          null,
          null,
          null,
          null,
          null
         ]
        },
        {
         "boxpoints": false,
         "line": {
          "width": 1.3
         },
         "marker": {
          "color": "rgba(0, 128, 128, 0.8999999999999999)"
         },
         "name": "«Казанат 2»",
         "orientation": "v",
         "type": "box",
         "y": [
          null,
          null,
          null,
          null,
          null,
          null,
          null,
          null,
          null,
          null,
          null,
          null,
          null,
          null,
          null,
          null,
          null,
          null,
          null,
          null,
          null,
          null,
          null,
          null,
          null,
          null,
          null,
          null,
          null,
          null,
          null,
          null,
          null,
          null,
          null,
          null,
          null,
          null,
          null,
          null,
          null,
          null,
          null,
          null,
          null,
          null,
          null,
          null,
          null,
          null,
          null,
          null,
          null,
          null,
          null,
          null,
          null,
          null,
          null,
          null,
          null,
          null,
          null,
          null,
          null,
          null,
          null,
          null,
          null,
          null,
          null,
          null,
          null,
          null,
          null,
          null,
          null,
          null,
          null,
          null,
          null,
          null,
          null,
          null,
          null,
          null,
          null,
          null,
          null,
          null,
          null,
          null,
          null,
          null,
          null,
          null,
          null,
          null,
          null,
          null,
          null,
          null,
          null,
          null,
          null,
          null,
          null,
          null,
          null,
          null,
          null,
          null,
          null,
          null,
          null,
          null,
          null,
          null,
          null,
          null,
          null,
          null,
          null,
          null,
          null,
          null,
          null,
          null,
          null,
          null,
          null,
          null,
          null,
          null,
          null,
          null,
          null,
          null,
          null,
          null,
          null,
          null,
          null,
          null,
          null,
          null,
          null,
          null,
          null,
          null,
          null,
          null,
          null,
          null,
          null,
          null,
          null,
          8374000,
          8362000,
          12226000,
          15790000,
          13432000,
          12200000,
          8986000,
          null,
          null,
          null
         ]
        },
        {
         "boxpoints": false,
         "line": {
          "width": 1.3
         },
         "marker": {
          "color": "rgba(255, 255, 51, 0.8999999999999999)"
         },
         "name": "«Эмир»",
         "orientation": "v",
         "type": "box",
         "y": [
          null,
          null,
          null,
          null,
          null,
          null,
          null,
          null,
          null,
          null,
          15368850,
          null,
          null,
          null,
          null,
          null,
          null,
          null,
          null,
          null,
          null,
          null,
          null,
          null,
          null,
          null,
          16457700,
          null,
          null,
          null,
          null,
          null,
          null,
          null,
          null,
          null,
          null,
          null,
          null,
          null,
          null,
          null,
          null,
          null,
          18620100,
          null,
          null,
          null,
          null,
          null,
          null,
          null,
          null,
          null,
          null,
          null,
          null,
          null,
          null,
          null,
          23136150,
          null,
          null,
          null,
          null,
          null,
          null,
          null,
          null,
          null,
          null,
          9651750,
          null,
          null,
          null,
          null,
          null,
          null,
          null,
          null,
          null,
          null,
          null,
          null,
          null,
          null,
          null,
          null,
          null,
          null,
          null,
          null,
          null,
          null,
          null,
          null,
          null,
          null,
          null,
          null,
          null,
          null,
          null,
          null,
          null,
          null,
          null,
          null,
          null,
          null,
          null,
          null,
          null,
          null,
          null,
          null,
          null,
          null,
          null,
          null,
          null,
          null,
          null,
          null,
          null,
          null,
          null,
          null,
          null,
          null,
          null,
          null,
          null,
          null,
          null,
          null,
          null,
          null,
          null,
          null,
          null,
          null,
          null,
          null,
          null,
          null,
          null,
          null,
          null,
          null,
          null,
          null,
          null,
          null,
          null,
          null,
          null,
          null,
          null,
          null,
          null,
          null,
          null,
          null,
          null,
          null,
          null
         ]
        }
       ],
       "layout": {
        "legend": {
         "bgcolor": "#F5F6F9",
         "font": {
          "color": "#4D5663"
         }
        },
        "paper_bgcolor": "#F5F6F9",
        "plot_bgcolor": "#F5F6F9",
        "template": {
         "data": {
          "bar": [
           {
            "error_x": {
             "color": "#2a3f5f"
            },
            "error_y": {
             "color": "#2a3f5f"
            },
            "marker": {
             "line": {
              "color": "#E5ECF6",
              "width": 0.5
             }
            },
            "type": "bar"
           }
          ],
          "barpolar": [
           {
            "marker": {
             "line": {
              "color": "#E5ECF6",
              "width": 0.5
             }
            },
            "type": "barpolar"
           }
          ],
          "carpet": [
           {
            "aaxis": {
             "endlinecolor": "#2a3f5f",
             "gridcolor": "white",
             "linecolor": "white",
             "minorgridcolor": "white",
             "startlinecolor": "#2a3f5f"
            },
            "baxis": {
             "endlinecolor": "#2a3f5f",
             "gridcolor": "white",
             "linecolor": "white",
             "minorgridcolor": "white",
             "startlinecolor": "#2a3f5f"
            },
            "type": "carpet"
           }
          ],
          "choropleth": [
           {
            "colorbar": {
             "outlinewidth": 0,
             "ticks": ""
            },
            "type": "choropleth"
           }
          ],
          "contour": [
           {
            "colorbar": {
             "outlinewidth": 0,
             "ticks": ""
            },
            "colorscale": [
             [
              0,
              "#0d0887"
             ],
             [
              0.1111111111111111,
              "#46039f"
             ],
             [
              0.2222222222222222,
              "#7201a8"
             ],
             [
              0.3333333333333333,
              "#9c179e"
             ],
             [
              0.4444444444444444,
              "#bd3786"
             ],
             [
              0.5555555555555556,
              "#d8576b"
             ],
             [
              0.6666666666666666,
              "#ed7953"
             ],
             [
              0.7777777777777778,
              "#fb9f3a"
             ],
             [
              0.8888888888888888,
              "#fdca26"
             ],
             [
              1,
              "#f0f921"
             ]
            ],
            "type": "contour"
           }
          ],
          "contourcarpet": [
           {
            "colorbar": {
             "outlinewidth": 0,
             "ticks": ""
            },
            "type": "contourcarpet"
           }
          ],
          "heatmap": [
           {
            "colorbar": {
             "outlinewidth": 0,
             "ticks": ""
            },
            "colorscale": [
             [
              0,
              "#0d0887"
             ],
             [
              0.1111111111111111,
              "#46039f"
             ],
             [
              0.2222222222222222,
              "#7201a8"
             ],
             [
              0.3333333333333333,
              "#9c179e"
             ],
             [
              0.4444444444444444,
              "#bd3786"
             ],
             [
              0.5555555555555556,
              "#d8576b"
             ],
             [
              0.6666666666666666,
              "#ed7953"
             ],
             [
              0.7777777777777778,
              "#fb9f3a"
             ],
             [
              0.8888888888888888,
              "#fdca26"
             ],
             [
              1,
              "#f0f921"
             ]
            ],
            "type": "heatmap"
           }
          ],
          "heatmapgl": [
           {
            "colorbar": {
             "outlinewidth": 0,
             "ticks": ""
            },
            "colorscale": [
             [
              0,
              "#0d0887"
             ],
             [
              0.1111111111111111,
              "#46039f"
             ],
             [
              0.2222222222222222,
              "#7201a8"
             ],
             [
              0.3333333333333333,
              "#9c179e"
             ],
             [
              0.4444444444444444,
              "#bd3786"
             ],
             [
              0.5555555555555556,
              "#d8576b"
             ],
             [
              0.6666666666666666,
              "#ed7953"
             ],
             [
              0.7777777777777778,
              "#fb9f3a"
             ],
             [
              0.8888888888888888,
              "#fdca26"
             ],
             [
              1,
              "#f0f921"
             ]
            ],
            "type": "heatmapgl"
           }
          ],
          "histogram": [
           {
            "marker": {
             "colorbar": {
              "outlinewidth": 0,
              "ticks": ""
             }
            },
            "type": "histogram"
           }
          ],
          "histogram2d": [
           {
            "colorbar": {
             "outlinewidth": 0,
             "ticks": ""
            },
            "colorscale": [
             [
              0,
              "#0d0887"
             ],
             [
              0.1111111111111111,
              "#46039f"
             ],
             [
              0.2222222222222222,
              "#7201a8"
             ],
             [
              0.3333333333333333,
              "#9c179e"
             ],
             [
              0.4444444444444444,
              "#bd3786"
             ],
             [
              0.5555555555555556,
              "#d8576b"
             ],
             [
              0.6666666666666666,
              "#ed7953"
             ],
             [
              0.7777777777777778,
              "#fb9f3a"
             ],
             [
              0.8888888888888888,
              "#fdca26"
             ],
             [
              1,
              "#f0f921"
             ]
            ],
            "type": "histogram2d"
           }
          ],
          "histogram2dcontour": [
           {
            "colorbar": {
             "outlinewidth": 0,
             "ticks": ""
            },
            "colorscale": [
             [
              0,
              "#0d0887"
             ],
             [
              0.1111111111111111,
              "#46039f"
             ],
             [
              0.2222222222222222,
              "#7201a8"
             ],
             [
              0.3333333333333333,
              "#9c179e"
             ],
             [
              0.4444444444444444,
              "#bd3786"
             ],
             [
              0.5555555555555556,
              "#d8576b"
             ],
             [
              0.6666666666666666,
              "#ed7953"
             ],
             [
              0.7777777777777778,
              "#fb9f3a"
             ],
             [
              0.8888888888888888,
              "#fdca26"
             ],
             [
              1,
              "#f0f921"
             ]
            ],
            "type": "histogram2dcontour"
           }
          ],
          "mesh3d": [
           {
            "colorbar": {
             "outlinewidth": 0,
             "ticks": ""
            },
            "type": "mesh3d"
           }
          ],
          "parcoords": [
           {
            "line": {
             "colorbar": {
              "outlinewidth": 0,
              "ticks": ""
             }
            },
            "type": "parcoords"
           }
          ],
          "pie": [
           {
            "automargin": true,
            "type": "pie"
           }
          ],
          "scatter": [
           {
            "marker": {
             "colorbar": {
              "outlinewidth": 0,
              "ticks": ""
             }
            },
            "type": "scatter"
           }
          ],
          "scatter3d": [
           {
            "line": {
             "colorbar": {
              "outlinewidth": 0,
              "ticks": ""
             }
            },
            "marker": {
             "colorbar": {
              "outlinewidth": 0,
              "ticks": ""
             }
            },
            "type": "scatter3d"
           }
          ],
          "scattercarpet": [
           {
            "marker": {
             "colorbar": {
              "outlinewidth": 0,
              "ticks": ""
             }
            },
            "type": "scattercarpet"
           }
          ],
          "scattergeo": [
           {
            "marker": {
             "colorbar": {
              "outlinewidth": 0,
              "ticks": ""
             }
            },
            "type": "scattergeo"
           }
          ],
          "scattergl": [
           {
            "marker": {
             "colorbar": {
              "outlinewidth": 0,
              "ticks": ""
             }
            },
            "type": "scattergl"
           }
          ],
          "scattermapbox": [
           {
            "marker": {
             "colorbar": {
              "outlinewidth": 0,
              "ticks": ""
             }
            },
            "type": "scattermapbox"
           }
          ],
          "scatterpolar": [
           {
            "marker": {
             "colorbar": {
              "outlinewidth": 0,
              "ticks": ""
             }
            },
            "type": "scatterpolar"
           }
          ],
          "scatterpolargl": [
           {
            "marker": {
             "colorbar": {
              "outlinewidth": 0,
              "ticks": ""
             }
            },
            "type": "scatterpolargl"
           }
          ],
          "scatterternary": [
           {
            "marker": {
             "colorbar": {
              "outlinewidth": 0,
              "ticks": ""
             }
            },
            "type": "scatterternary"
           }
          ],
          "surface": [
           {
            "colorbar": {
             "outlinewidth": 0,
             "ticks": ""
            },
            "colorscale": [
             [
              0,
              "#0d0887"
             ],
             [
              0.1111111111111111,
              "#46039f"
             ],
             [
              0.2222222222222222,
              "#7201a8"
             ],
             [
              0.3333333333333333,
              "#9c179e"
             ],
             [
              0.4444444444444444,
              "#bd3786"
             ],
             [
              0.5555555555555556,
              "#d8576b"
             ],
             [
              0.6666666666666666,
              "#ed7953"
             ],
             [
              0.7777777777777778,
              "#fb9f3a"
             ],
             [
              0.8888888888888888,
              "#fdca26"
             ],
             [
              1,
              "#f0f921"
             ]
            ],
            "type": "surface"
           }
          ],
          "table": [
           {
            "cells": {
             "fill": {
              "color": "#EBF0F8"
             },
             "line": {
              "color": "white"
             }
            },
            "header": {
             "fill": {
              "color": "#C8D4E3"
             },
             "line": {
              "color": "white"
             }
            },
            "type": "table"
           }
          ]
         },
         "layout": {
          "annotationdefaults": {
           "arrowcolor": "#2a3f5f",
           "arrowhead": 0,
           "arrowwidth": 1
          },
          "coloraxis": {
           "colorbar": {
            "outlinewidth": 0,
            "ticks": ""
           }
          },
          "colorscale": {
           "diverging": [
            [
             0,
             "#8e0152"
            ],
            [
             0.1,
             "#c51b7d"
            ],
            [
             0.2,
             "#de77ae"
            ],
            [
             0.3,
             "#f1b6da"
            ],
            [
             0.4,
             "#fde0ef"
            ],
            [
             0.5,
             "#f7f7f7"
            ],
            [
             0.6,
             "#e6f5d0"
            ],
            [
             0.7,
             "#b8e186"
            ],
            [
             0.8,
             "#7fbc41"
            ],
            [
             0.9,
             "#4d9221"
            ],
            [
             1,
             "#276419"
            ]
           ],
           "sequential": [
            [
             0,
             "#0d0887"
            ],
            [
             0.1111111111111111,
             "#46039f"
            ],
            [
             0.2222222222222222,
             "#7201a8"
            ],
            [
             0.3333333333333333,
             "#9c179e"
            ],
            [
             0.4444444444444444,
             "#bd3786"
            ],
            [
             0.5555555555555556,
             "#d8576b"
            ],
            [
             0.6666666666666666,
             "#ed7953"
            ],
            [
             0.7777777777777778,
             "#fb9f3a"
            ],
            [
             0.8888888888888888,
             "#fdca26"
            ],
            [
             1,
             "#f0f921"
            ]
           ],
           "sequentialminus": [
            [
             0,
             "#0d0887"
            ],
            [
             0.1111111111111111,
             "#46039f"
            ],
            [
             0.2222222222222222,
             "#7201a8"
            ],
            [
             0.3333333333333333,
             "#9c179e"
            ],
            [
             0.4444444444444444,
             "#bd3786"
            ],
            [
             0.5555555555555556,
             "#d8576b"
            ],
            [
             0.6666666666666666,
             "#ed7953"
            ],
            [
             0.7777777777777778,
             "#fb9f3a"
            ],
            [
             0.8888888888888888,
             "#fdca26"
            ],
            [
             1,
             "#f0f921"
            ]
           ]
          },
          "colorway": [
           "#636efa",
           "#EF553B",
           "#00cc96",
           "#ab63fa",
           "#FFA15A",
           "#19d3f3",
           "#FF6692",
           "#B6E880",
           "#FF97FF",
           "#FECB52"
          ],
          "font": {
           "color": "#2a3f5f"
          },
          "geo": {
           "bgcolor": "white",
           "lakecolor": "white",
           "landcolor": "#E5ECF6",
           "showlakes": true,
           "showland": true,
           "subunitcolor": "white"
          },
          "hoverlabel": {
           "align": "left"
          },
          "hovermode": "closest",
          "mapbox": {
           "style": "light"
          },
          "paper_bgcolor": "white",
          "plot_bgcolor": "#E5ECF6",
          "polar": {
           "angularaxis": {
            "gridcolor": "white",
            "linecolor": "white",
            "ticks": ""
           },
           "bgcolor": "#E5ECF6",
           "radialaxis": {
            "gridcolor": "white",
            "linecolor": "white",
            "ticks": ""
           }
          },
          "scene": {
           "xaxis": {
            "backgroundcolor": "#E5ECF6",
            "gridcolor": "white",
            "gridwidth": 2,
            "linecolor": "white",
            "showbackground": true,
            "ticks": "",
            "zerolinecolor": "white"
           },
           "yaxis": {
            "backgroundcolor": "#E5ECF6",
            "gridcolor": "white",
            "gridwidth": 2,
            "linecolor": "white",
            "showbackground": true,
            "ticks": "",
            "zerolinecolor": "white"
           },
           "zaxis": {
            "backgroundcolor": "#E5ECF6",
            "gridcolor": "white",
            "gridwidth": 2,
            "linecolor": "white",
            "showbackground": true,
            "ticks": "",
            "zerolinecolor": "white"
           }
          },
          "shapedefaults": {
           "line": {
            "color": "#2a3f5f"
           }
          },
          "ternary": {
           "aaxis": {
            "gridcolor": "white",
            "linecolor": "white",
            "ticks": ""
           },
           "baxis": {
            "gridcolor": "white",
            "linecolor": "white",
            "ticks": ""
           },
           "bgcolor": "#E5ECF6",
           "caxis": {
            "gridcolor": "white",
            "linecolor": "white",
            "ticks": ""
           }
          },
          "title": {
           "x": 0.05
          },
          "xaxis": {
           "automargin": true,
           "gridcolor": "white",
           "linecolor": "white",
           "ticks": "",
           "title": {
            "standoff": 15
           },
           "zerolinecolor": "white",
           "zerolinewidth": 2
          },
          "yaxis": {
           "automargin": true,
           "gridcolor": "white",
           "linecolor": "white",
           "ticks": "",
           "title": {
            "standoff": 15
           },
           "zerolinecolor": "white",
           "zerolinewidth": 2
          }
         }
        },
        "title": {
         "font": {
          "color": "#4D5663"
         },
         "text": "Figure 7. Распределение цен на квартиры в ЖК"
        },
        "xaxis": {
         "gridcolor": "#E1E5ED",
         "showgrid": true,
         "tickfont": {
          "color": "#4D5663"
         },
         "title": {
          "font": {
           "color": "#4D5663"
          },
          "text": ""
         },
         "zerolinecolor": "#E1E5ED"
        },
        "yaxis": {
         "gridcolor": "#E1E5ED",
         "showgrid": true,
         "tickfont": {
          "color": "#4D5663"
         },
         "title": {
          "font": {
           "color": "#4D5663"
          },
          "text": "Диапазон цен на квартиры"
         },
         "zerolinecolor": "#E1E5ED"
        }
       }
      },
      "text/html": [
       "<div>\n",
       "        \n",
       "        \n",
       "            <div id=\"2e531615-84d2-49d5-95cd-ec7f535ac631\" class=\"plotly-graph-div\" style=\"height:525px; width:100%;\"></div>\n",
       "            <script type=\"text/javascript\">\n",
       "                require([\"plotly\"], function(Plotly) {\n",
       "                    window.PLOTLYENV=window.PLOTLYENV || {};\n",
       "                    window.PLOTLYENV.BASE_URL='https://plot.ly';\n",
       "                    \n",
       "                if (document.getElementById(\"2e531615-84d2-49d5-95cd-ec7f535ac631\")) {\n",
       "                    Plotly.newPlot(\n",
       "                        '2e531615-84d2-49d5-95cd-ec7f535ac631',\n",
       "                        [{\"boxpoints\": false, \"line\": {\"width\": 1.3}, \"marker\": {\"color\": \"rgba(255, 153, 51, 1.0)\"}, \"name\": \"\\u00abASQAT\\u00bb\", \"orientation\": \"v\", \"type\": \"box\", \"y\": [null, null, null, null, null, null, null, null, null, null, null, null, null, null, null, null, null, null, null, null, null, null, null, null, null, null, null, null, null, null, null, null, null, null, null, null, null, null, null, null, null, null, null, null, null, null, null, null, null, null, null, null, null, null, null, null, null, null, null, null, null, null, null, null, null, null, null, null, null, null, null, null, null, null, null, null, null, null, null, null, null, null, null, null, null, null, null, null, null, null, null, null, null, null, null, null, null, null, null, null, null, null, null, null, null, null, null, null, null, null, null, null, null, null, null, null, null, null, null, null, null, null, null, null, null, null, null, null, null, null, null, null, null, null, 10041800.0, 22174800.0, 9540300.0, 10729150.0, 18441350.0, 22836800.0, 24402000.0, 25852400.0, 20073750.0, 11047750.0, 10617050.0, 18830900.0, 11180500.0, 9504900.0, null, null, null, null, null, null, null, null, null, null, null, null, null, null, null, null, 15979950.0, 16396050.0, 16059750.0]}, {\"boxpoints\": false, \"line\": {\"width\": 1.3}, \"marker\": {\"color\": \"rgba(55, 128, 191, 1.0)\"}, \"name\": \"\\u00abAlau\\u00bb\", \"orientation\": \"v\", \"type\": \"box\", \"y\": [null, null, 15477000.0, null, null, null, null, null, null, null, null, null, 27756150.0, null, null, null, null, null, null, null, null, null, null, 38346000.0, null, null, null, null, null, null, null, null, null, null, null, null, null, 53616000.0, null, null, null, null, null, null, null, null, null, null, null, null, null, null, null, null, null, null, null, null, null, null, null, null, null, null, null, null, null, null, null, null, null, null, null, null, null, null, null, null, null, null, null, null, null, null, null, null, null, null, null, null, null, null, null, null, null, null, null, null, null, null, null, null, null, null, null, null, null, null, null, null, null, null, null, null, null, null, null, null, null, null, null, null, null, null, null, null, null, null, null, null, null, null, null, null, null, null, null, null, null, null, null, null, null, null, null, null, null, null, null, null, null, null, null, null, null, null, null, null, null, null, null, null, null, null, null, null, null]}, {\"boxpoints\": false, \"line\": {\"width\": 1.3}, \"marker\": {\"color\": \"rgba(50, 171, 96, 1.0)\"}, \"name\": \"\\u00abApple City\\u00bb\", \"orientation\": \"v\", \"type\": \"box\", \"y\": [null, null, null, null, null, null, null, null, null, null, null, null, null, null, null, null, null, null, null, null, null, null, null, null, null, null, null, null, null, null, null, null, null, null, null, null, null, null, null, null, null, null, null, null, null, null, null, null, null, null, null, null, null, null, null, null, null, null, null, null, null, null, null, null, null, null, null, null, null, null, null, null, null, null, null, null, null, null, null, null, null, null, null, null, null, null, null, null, null, null, null, null, null, null, null, null, null, null, null, null, null, null, null, 19183500.0, 19267600.0, 19096500.0, 19760600.0, 23385600.0, 19238600.0, null, null, null, null, null, null, 17806000.0, 15454100.0, null, null, null, 13862000.0, 14494200.0, 12284400.0, 17936500.0, null, null, 18763000.0, 13284900.0, null, 16814200.0, null, null, null, null, null, null, null, null, null, null, null, null, null, null, null, null, null, null, null, null, null, null, null, null, null, null, null, null, null, null, null, null, null, null, null, null, null]}, {\"boxpoints\": false, \"line\": {\"width\": 1.3}, \"marker\": {\"color\": \"rgba(128, 0, 128, 1.0)\"}, \"name\": \"\\u00abAtlant\\u00bb\", \"orientation\": \"v\", \"type\": \"box\", \"y\": [null, null, null, null, null, null, null, null, null, null, null, null, null, null, 53755913.0, null, null, null, null, null, null, null, null, null, 63324612.0, null, null, null, null, null, null, null, null, null, null, null, 63424920.0, null, null, null, null, null, null, null, null, null, null, null, 35096000.0, null, null, null, null, null, null, null, null, null, null, 40721000.0, null, null, null, null, null, null, null, null, null, 42130086.0, null, null, null, null, null, null, null, 42738851.0, null, null, null, null, null, null, 48800864.0, null, null, null, null, null, null, null, null, null, null, null, null, null, null, null, null, null, null, null, null, null, null, null, null, null, null, null, null, null, null, null, null, null, null, null, null, null, null, null, null, null, null, null, null, null, null, null, null, null, null, null, null, null, null, null, null, null, null, null, null, null, null, null, null, null, null, null, null, null, null, null, null, null, null, null, null, null, null, null, null, null, null]}, {\"boxpoints\": false, \"line\": {\"width\": 1.3}, \"marker\": {\"color\": \"rgba(219, 64, 82, 1.0)\"}, \"name\": \"\\u00abBI City Tokyo\\u00bb\", \"orientation\": \"v\", \"type\": \"box\", \"y\": [null, null, null, null, null, null, null, 30842690.0, null, null, null, null, null, null, null, null, null, null, null, 36855000.0, null, null, null, null, null, null, null, null, null, null, 38904840.0, null, null, null, null, null, null, null, null, 39682440.0, null, null, null, null, null, null, null, null, null, 17749800.0, null, null, null, null, null, null, 18085111.0, null, null, null, null, null, null, null, 18311904.0, null, null, null, null, null, null, null, null, null, 21519562.0, null, null, null, null, 24393150.0, null, null, null, null, null, 27032700.0, null, null, null, null, null, null, null, null, null, null, null, null, null, null, null, null, null, null, null, null, null, null, null, null, null, null, null, null, null, null, null, null, null, null, null, null, null, null, null, null, null, null, null, null, null, null, null, null, null, null, null, null, null, null, null, null, null, null, null, null, null, null, null, null, null, null, null, null, null, null, null, null, null, null, null, null, null, null, null, null, null]}, {\"boxpoints\": false, \"line\": {\"width\": 1.3}, \"marker\": {\"color\": \"rgba(0, 128, 128, 1.0)\"}, \"name\": \"\\u00abCapital Park\\u00bb\", \"orientation\": \"v\", \"type\": \"box\", \"y\": [null, null, null, null, null, null, 17476875.0, null, null, null, null, null, null, null, null, null, null, null, 17732995.0, null, null, null, null, null, null, null, null, null, null, null, null, 18803995.0, null, null, null, null, null, null, null, null, 19012865.0, null, null, null, null, null, null, null, null, null, 19258458.0, null, null, null, null, null, null, 27352800.0, null, null, null, null, null, null, null, 31581550.0, null, null, null, null, null, null, null, 34958228.0, null, null, null, null, null, null, 36808000.0, null, null, null, null, null, 37357308.0, null, null, 37467786.0, null, null, 37502880.0, null, 38084760.0, null, 39081328.0, null, null, null, null, null, null, null, null, null, null, null, null, null, null, null, null, null, null, null, null, null, null, null, null, null, null, null, null, null, null, null, null, null, null, null, null, null, null, null, null, null, null, null, null, null, null, null, null, null, null, null, null, null, null, null, null, null, null, null, null, null, null, null, null, null, null, null, null, null, null]}, {\"boxpoints\": false, \"line\": {\"width\": 1.3}, \"marker\": {\"color\": \"rgba(255, 255, 51, 1.0)\"}, \"name\": \"\\u00abCollege\\u00bb\", \"orientation\": \"v\", \"type\": \"box\", \"y\": [null, null, null, null, 16443000.0, null, null, null, null, null, null, null, null, null, null, null, 21198810.0, null, null, null, null, null, null, null, null, 22206250.0, null, null, null, null, null, null, null, null, null, 23845770.0, null, null, null, null, null, null, null, null, null, 28266300.0, null, null, null, null, null, null, null, 29995350.0, null, null, null, null, null, null, null, null, null, 31209630.0, null, null, null, null, null, null, 10668130.0, null, null, null, null, null, null, null, null, null, null, null, null, null, null, null, null, null, null, null, null, null, null, null, null, null, null, null, null, null, null, null, null, null, null, null, null, null, null, null, null, null, null, null, null, null, null, null, null, null, null, null, null, null, null, null, null, null, null, null, null, null, null, null, null, null, null, null, null, null, null, null, null, null, null, null, null, null, null, null, null, null, null, null, null, null, null, null, null, null, null, null, null, null, null, null, null]}, {\"boxpoints\": false, \"line\": {\"width\": 1.3}, \"marker\": {\"color\": \"rgba(128, 128, 0, 1.0)\"}, \"name\": \"\\u00abEsil Riverside\\u00bb\", \"orientation\": \"v\", \"type\": \"box\", \"y\": [null, null, null, null, null, null, null, null, 63538100.0, null, null, null, null, null, null, null, null, null, null, null, 66388595.0, null, null, null, null, null, null, null, null, null, null, null, 66468798.0, null, null, null, null, null, null, null, null, null, 91690000.0, null, null, null, null, null, null, null, null, 43090000.0, null, null, null, null, null, null, 46410000.0, null, null, null, null, null, null, null, 46890000.0, null, null, null, null, null, null, null, null, 48340000.0, null, null, null, null, null, 54840000.0, null, null, null, null, null, 57402180.0, null, null, null, null, null, null, null, null, null, null, null, null, null, null, null, null, null, null, null, null, null, null, null, null, null, null, null, null, null, null, null, null, null, null, null, null, null, null, null, null, null, null, null, null, null, null, null, null, null, null, null, null, null, null, null, null, null, null, null, null, null, null, null, null, null, null, null, null, null, null, null, null, null, null, null, null, null, null, null]}, {\"boxpoints\": false, \"line\": {\"width\": 1.3}, \"marker\": {\"color\": \"rgba(251, 128, 114, 1.0)\"}, \"name\": \"\\u00abGrand Opera\\u00bb\", \"orientation\": \"v\", \"type\": \"box\", \"y\": [null, null, null, null, null, 55994650.0, null, null, null, null, null, null, null, null, null, null, null, 66208156.0, null, null, null, null, null, null, null, null, null, 70318468.0, null, null, null, null, null, null, null, null, null, null, 71103752.0, null, null, null, null, null, null, null, null, null, null, null, null, null, 47436064.0, null, null, null, null, null, null, null, null, 50574940.0, null, null, null, null, null, null, 52023158.0, null, null, null, null, null, null, null, 53291328.0, null, null, null, null, null, 53940720.0, null, null, null, null, null, null, null, null, null, null, null, null, null, null, null, null, null, null, null, null, null, null, null, null, null, null, null, null, null, null, null, null, null, null, null, null, null, null, null, null, null, null, null, null, null, null, null, null, null, null, null, null, null, null, null, null, null, null, null, null, null, null, null, null, null, null, null, null, null, null, null, null, null, null, null, null, null, null, null, null, null, null, null, null]}, {\"boxpoints\": false, \"line\": {\"width\": 1.3}, \"marker\": {\"color\": \"rgba(128, 177, 211, 1.0)\"}, \"name\": \"\\u00abHeadliner\\u00bb\", \"orientation\": \"v\", \"type\": \"box\", \"y\": [null, null, null, 42258294.0, null, null, null, null, null, null, null, 17406360.0, null, null, null, null, null, null, null, null, null, null, 27328518.0, null, null, null, null, null, null, null, null, null, null, null, 27814050.0, null, null, null, null, null, null, null, null, null, null, null, null, 30238871.0, null, null, null, null, null, null, 39107794.0, null, null, null, null, null, null, null, null, null, null, null, null, null, null, null, null, null, null, null, null, null, null, null, null, null, null, null, null, null, null, null, null, null, null, null, null, null, null, null, null, null, null, null, null, null, null, null, null, null, null, null, null, null, null, null, null, null, null, null, null, null, null, null, null, null, null, null, null, null, null, null, null, null, null, null, null, null, null, null, null, null, null, null, null, null, null, null, null, null, null, null, null, null, null, null, null, null, null, null, null, null, null, null, null, null, null, null, null, null, null, null, null]}, {\"boxpoints\": false, \"line\": {\"width\": 1.3}, \"marker\": {\"color\": \"rgba(128, 177, 211, 0.8999999999999999)\"}, \"name\": \"\\u00abNura Esil\\u00bb\", \"orientation\": \"v\", \"type\": \"box\", \"y\": [null, null, null, null, null, null, null, null, null, null, null, null, null, null, null, null, null, null, null, null, null, null, null, null, null, null, null, null, null, null, null, null, null, null, null, null, null, null, null, null, null, null, null, null, null, null, null, null, null, null, null, null, null, null, null, null, null, null, null, null, null, null, null, null, null, null, null, null, null, null, null, null, null, null, null, null, null, null, null, null, null, null, null, null, null, null, null, null, null, null, null, null, null, null, null, null, null, null, null, null, null, null, null, null, null, null, null, null, null, null, null, null, null, null, null, null, null, null, null, null, null, null, null, null, null, null, null, null, null, null, null, null, null, null, null, null, null, null, null, null, null, null, null, null, null, null, null, null, 18412800.0, 42302100.0, 34577100.0, 46400000.0, 17665350.0, 32913920.0, 38016000.0, 40339000.0, 19202760.0, null, null, null, null, null, null, null, null, null, null]}, {\"boxpoints\": false, \"line\": {\"width\": 1.3}, \"marker\": {\"color\": \"rgba(255, 153, 51, 0.8999999999999999)\"}, \"name\": \"\\u00abTulpar City\\u00bb\", \"orientation\": \"v\", \"type\": \"box\", \"y\": [null, null, null, null, null, null, null, null, null, null, null, null, null, 7155000.0, null, null, null, null, null, null, null, null, null, null, null, null, null, null, 7230600.0, null, null, null, null, null, null, null, null, null, null, null, null, null, null, null, null, null, 7387200.0, null, null, null, null, null, null, null, null, null, null, null, null, null, null, null, 7556400.0, null, null, null, null, null, null, null, null, null, 7585200.0, null, null, null, null, null, null, null, null, null, null, 7959600.0, null, null, null, null, null, null, 8409600.0, null, null, 9280800.0, null, null, null, 14274000.0, 14331600.0, 6210000.0, 6363000.0, 6600600.0, 6732000.0, null, null, null, null, null, null, null, null, null, null, null, null, null, null, null, null, null, null, null, null, null, null, null, null, null, null, null, null, null, null, null, null, null, null, null, null, null, null, null, null, null, null, null, null, null, null, null, null, null, null, null, null, null, null, null, null, null, null, null, null, null, null, null, null]}, {\"boxpoints\": false, \"line\": {\"width\": 1.3}, \"marker\": {\"color\": \"rgba(55, 128, 191, 0.8999999999999999)\"}, \"name\": \"\\u00abVela Village\\u00bb\", \"orientation\": \"v\", \"type\": \"box\", \"y\": [null, 86261292.0, null, null, null, null, null, null, null, null, null, null, null, null, null, null, null, null, null, null, null, null, null, null, null, null, null, null, null, null, null, null, null, null, null, null, null, null, null, null, null, null, null, null, null, null, null, null, null, null, null, null, null, null, null, null, null, null, null, null, null, null, null, null, null, null, null, null, null, null, null, null, null, null, null, null, null, null, null, null, null, null, null, null, null, null, null, null, null, null, null, null, null, null, null, null, null, null, null, null, null, null, null, null, null, null, null, null, null, null, null, null, null, null, null, null, null, null, null, null, null, null, null, null, null, null, null, null, null, null, null, null, null, null, null, null, null, null, null, null, null, null, null, null, null, null, null, null, null, null, null, null, null, null, null, null, null, null, null, null, null, null, null, null, null, null, null]}, {\"boxpoints\": false, \"line\": {\"width\": 1.3}, \"marker\": {\"color\": \"rgba(50, 171, 96, 0.8999999999999999)\"}, \"name\": \"\\u00ab\\u0410\\u043b\\u0442\\u044b\\u043d \\u041e\\u0442\\u0430\\u0443\\u00bb\", \"orientation\": \"v\", \"type\": \"box\", \"y\": [null, null, null, null, null, null, null, null, null, null, null, null, null, null, null, 9255000.0, null, null, null, null, null, null, null, null, null, null, null, null, null, 9635000.0, null, null, null, null, null, null, null, null, null, null, null, null, null, 10742500.0, null, null, null, null, null, null, null, null, null, null, null, 14467500.0, null, null, null, null, null, null, null, null, null, null, null, 14922500.0, null, null, null, null, null, null, null, null, null, null, 15840000.0, null, null, null, null, null, null, null, null, null, 16682500.0, null, null, 17132500.0, null, null, null, 17865000.0, null, null, null, null, null, null, null, null, null, null, null, null, null, null, null, null, null, null, null, null, null, null, null, null, null, null, null, null, null, null, null, null, null, null, null, null, null, null, null, null, null, null, null, null, null, null, null, null, null, null, null, null, null, null, null, null, null, null, null, null, null, null, null, null, null, null, null, null, null, null, null]}, {\"boxpoints\": false, \"line\": {\"width\": 1.3}, \"marker\": {\"color\": \"rgba(128, 0, 128, 0.8999999999999999)\"}, \"name\": \"\\u00ab\\u0411\\u0430\\u0439\\u0441\\u0430\\u043b\\u00bb\", \"orientation\": \"v\", \"type\": \"box\", \"y\": [null, null, null, null, null, null, null, null, null, null, null, null, null, null, null, null, null, null, null, null, null, null, null, null, null, null, null, null, null, null, null, null, null, null, null, null, null, null, null, null, null, null, null, null, null, null, null, null, null, null, null, null, null, null, null, null, null, null, null, null, null, null, null, null, null, null, null, null, null, null, null, null, null, null, null, null, null, null, null, null, null, null, null, null, null, null, null, null, null, null, null, null, null, null, null, null, null, null, null, null, null, null, null, null, null, null, null, null, null, 7406000.0, 9422000.0, 6496000.0, 6286000.0, 5320000.0, 8568000.0, null, null, 7574000.0, 7294000.0, 7434000.0, null, null, null, null, 5320000.0, 6426000.0, null, null, 4662000.0, null, 10276000.0, 7238000.0, 5152000.0, 6552000.0, null, null, null, null, null, null, null, null, null, null, null, null, null, null, null, null, null, null, null, null, null, null, null, null, null, null, null, null, null, null, null, null, null]}, {\"boxpoints\": false, \"line\": {\"width\": 1.3}, \"marker\": {\"color\": \"rgba(219, 64, 82, 0.8999999999999999)\"}, \"name\": \"\\u00ab\\u0411\\u043e\\u0442\\u0430\\u043d\\u0438\\u0447\\u0435\\u0441\\u043a\\u0438\\u0439\\u00bb\", \"orientation\": \"v\", \"type\": \"box\", \"y\": [55487214.0, null, null, null, null, null, null, null, null, 59147706.0, null, null, null, null, null, null, null, null, null, null, null, 59226993.0, null, null, null, null, null, null, null, null, null, null, null, 59889168.0, null, null, null, null, null, null, null, 64039136.0, null, null, null, null, null, null, null, null, null, null, null, null, null, null, null, null, null, null, null, null, null, null, null, null, null, null, null, null, null, null, null, null, null, null, null, null, null, null, null, null, null, null, null, null, null, null, null, null, null, null, null, null, null, null, null, null, null, null, null, null, null, null, null, null, null, null, null, null, null, null, null, null, null, null, null, null, null, null, null, null, null, null, null, null, null, null, null, null, null, null, null, null, null, null, null, null, null, null, null, null, null, null, null, null, null, null, null, null, null, null, null, null, null, null, null, null, null, null, null, null, null, null, null, null, null]}, {\"boxpoints\": false, \"line\": {\"width\": 1.3}, \"marker\": {\"color\": \"rgba(0, 128, 128, 0.8999999999999999)\"}, \"name\": \"\\u00ab\\u041a\\u0430\\u0437\\u0430\\u043d\\u0430\\u0442 2\\u00bb\", \"orientation\": \"v\", \"type\": \"box\", \"y\": [null, null, null, null, null, null, null, null, null, null, null, null, null, null, null, null, null, null, null, null, null, null, null, null, null, null, null, null, null, null, null, null, null, null, null, null, null, null, null, null, null, null, null, null, null, null, null, null, null, null, null, null, null, null, null, null, null, null, null, null, null, null, null, null, null, null, null, null, null, null, null, null, null, null, null, null, null, null, null, null, null, null, null, null, null, null, null, null, null, null, null, null, null, null, null, null, null, null, null, null, null, null, null, null, null, null, null, null, null, null, null, null, null, null, null, null, null, null, null, null, null, null, null, null, null, null, null, null, null, null, null, null, null, null, null, null, null, null, null, null, null, null, null, null, null, null, null, null, null, null, null, null, null, null, null, null, null, 8374000.0, 8362000.0, 12226000.0, 15790000.0, 13432000.0, 12200000.0, 8986000.0, null, null, null]}, {\"boxpoints\": false, \"line\": {\"width\": 1.3}, \"marker\": {\"color\": \"rgba(255, 255, 51, 0.8999999999999999)\"}, \"name\": \"\\u00ab\\u042d\\u043c\\u0438\\u0440\\u00bb\", \"orientation\": \"v\", \"type\": \"box\", \"y\": [null, null, null, null, null, null, null, null, null, null, 15368850.0, null, null, null, null, null, null, null, null, null, null, null, null, null, null, null, 16457700.0, null, null, null, null, null, null, null, null, null, null, null, null, null, null, null, null, null, 18620100.0, null, null, null, null, null, null, null, null, null, null, null, null, null, null, null, 23136150.0, null, null, null, null, null, null, null, null, null, null, 9651750.0, null, null, null, null, null, null, null, null, null, null, null, null, null, null, null, null, null, null, null, null, null, null, null, null, null, null, null, null, null, null, null, null, null, null, null, null, null, null, null, null, null, null, null, null, null, null, null, null, null, null, null, null, null, null, null, null, null, null, null, null, null, null, null, null, null, null, null, null, null, null, null, null, null, null, null, null, null, null, null, null, null, null, null, null, null, null, null, null, null, null, null, null, null, null, null]}],\n",
       "                        {\"legend\": {\"bgcolor\": \"#F5F6F9\", \"font\": {\"color\": \"#4D5663\"}}, \"paper_bgcolor\": \"#F5F6F9\", \"plot_bgcolor\": \"#F5F6F9\", \"template\": {\"data\": {\"bar\": [{\"error_x\": {\"color\": \"#2a3f5f\"}, \"error_y\": {\"color\": \"#2a3f5f\"}, \"marker\": {\"line\": {\"color\": \"#E5ECF6\", \"width\": 0.5}}, \"type\": \"bar\"}], \"barpolar\": [{\"marker\": {\"line\": {\"color\": \"#E5ECF6\", \"width\": 0.5}}, \"type\": \"barpolar\"}], \"carpet\": [{\"aaxis\": {\"endlinecolor\": \"#2a3f5f\", \"gridcolor\": \"white\", \"linecolor\": \"white\", \"minorgridcolor\": \"white\", \"startlinecolor\": \"#2a3f5f\"}, \"baxis\": {\"endlinecolor\": \"#2a3f5f\", \"gridcolor\": \"white\", \"linecolor\": \"white\", \"minorgridcolor\": \"white\", \"startlinecolor\": \"#2a3f5f\"}, \"type\": \"carpet\"}], \"choropleth\": [{\"colorbar\": {\"outlinewidth\": 0, \"ticks\": \"\"}, \"type\": \"choropleth\"}], \"contour\": [{\"colorbar\": {\"outlinewidth\": 0, \"ticks\": \"\"}, \"colorscale\": [[0.0, \"#0d0887\"], [0.1111111111111111, \"#46039f\"], [0.2222222222222222, \"#7201a8\"], [0.3333333333333333, \"#9c179e\"], [0.4444444444444444, \"#bd3786\"], [0.5555555555555556, \"#d8576b\"], [0.6666666666666666, \"#ed7953\"], [0.7777777777777778, \"#fb9f3a\"], [0.8888888888888888, \"#fdca26\"], [1.0, \"#f0f921\"]], \"type\": \"contour\"}], \"contourcarpet\": [{\"colorbar\": {\"outlinewidth\": 0, \"ticks\": \"\"}, \"type\": \"contourcarpet\"}], \"heatmap\": [{\"colorbar\": {\"outlinewidth\": 0, \"ticks\": \"\"}, \"colorscale\": [[0.0, \"#0d0887\"], [0.1111111111111111, \"#46039f\"], [0.2222222222222222, \"#7201a8\"], [0.3333333333333333, \"#9c179e\"], [0.4444444444444444, \"#bd3786\"], [0.5555555555555556, \"#d8576b\"], [0.6666666666666666, \"#ed7953\"], [0.7777777777777778, \"#fb9f3a\"], [0.8888888888888888, \"#fdca26\"], [1.0, \"#f0f921\"]], \"type\": \"heatmap\"}], \"heatmapgl\": [{\"colorbar\": {\"outlinewidth\": 0, \"ticks\": \"\"}, \"colorscale\": [[0.0, \"#0d0887\"], [0.1111111111111111, \"#46039f\"], [0.2222222222222222, \"#7201a8\"], [0.3333333333333333, \"#9c179e\"], [0.4444444444444444, \"#bd3786\"], [0.5555555555555556, \"#d8576b\"], [0.6666666666666666, \"#ed7953\"], [0.7777777777777778, \"#fb9f3a\"], [0.8888888888888888, \"#fdca26\"], [1.0, \"#f0f921\"]], \"type\": \"heatmapgl\"}], \"histogram\": [{\"marker\": {\"colorbar\": {\"outlinewidth\": 0, \"ticks\": \"\"}}, \"type\": \"histogram\"}], \"histogram2d\": [{\"colorbar\": {\"outlinewidth\": 0, \"ticks\": \"\"}, \"colorscale\": [[0.0, \"#0d0887\"], [0.1111111111111111, \"#46039f\"], [0.2222222222222222, \"#7201a8\"], [0.3333333333333333, \"#9c179e\"], [0.4444444444444444, \"#bd3786\"], [0.5555555555555556, \"#d8576b\"], [0.6666666666666666, \"#ed7953\"], [0.7777777777777778, \"#fb9f3a\"], [0.8888888888888888, \"#fdca26\"], [1.0, \"#f0f921\"]], \"type\": \"histogram2d\"}], \"histogram2dcontour\": [{\"colorbar\": {\"outlinewidth\": 0, \"ticks\": \"\"}, \"colorscale\": [[0.0, \"#0d0887\"], [0.1111111111111111, \"#46039f\"], [0.2222222222222222, \"#7201a8\"], [0.3333333333333333, \"#9c179e\"], [0.4444444444444444, \"#bd3786\"], [0.5555555555555556, \"#d8576b\"], [0.6666666666666666, \"#ed7953\"], [0.7777777777777778, \"#fb9f3a\"], [0.8888888888888888, \"#fdca26\"], [1.0, \"#f0f921\"]], \"type\": \"histogram2dcontour\"}], \"mesh3d\": [{\"colorbar\": {\"outlinewidth\": 0, \"ticks\": \"\"}, \"type\": \"mesh3d\"}], \"parcoords\": [{\"line\": {\"colorbar\": {\"outlinewidth\": 0, \"ticks\": \"\"}}, \"type\": \"parcoords\"}], \"pie\": [{\"automargin\": true, \"type\": \"pie\"}], \"scatter\": [{\"marker\": {\"colorbar\": {\"outlinewidth\": 0, \"ticks\": \"\"}}, \"type\": \"scatter\"}], \"scatter3d\": [{\"line\": {\"colorbar\": {\"outlinewidth\": 0, \"ticks\": \"\"}}, \"marker\": {\"colorbar\": {\"outlinewidth\": 0, \"ticks\": \"\"}}, \"type\": \"scatter3d\"}], \"scattercarpet\": [{\"marker\": {\"colorbar\": {\"outlinewidth\": 0, \"ticks\": \"\"}}, \"type\": \"scattercarpet\"}], \"scattergeo\": [{\"marker\": {\"colorbar\": {\"outlinewidth\": 0, \"ticks\": \"\"}}, \"type\": \"scattergeo\"}], \"scattergl\": [{\"marker\": {\"colorbar\": {\"outlinewidth\": 0, \"ticks\": \"\"}}, \"type\": \"scattergl\"}], \"scattermapbox\": [{\"marker\": {\"colorbar\": {\"outlinewidth\": 0, \"ticks\": \"\"}}, \"type\": \"scattermapbox\"}], \"scatterpolar\": [{\"marker\": {\"colorbar\": {\"outlinewidth\": 0, \"ticks\": \"\"}}, \"type\": \"scatterpolar\"}], \"scatterpolargl\": [{\"marker\": {\"colorbar\": {\"outlinewidth\": 0, \"ticks\": \"\"}}, \"type\": \"scatterpolargl\"}], \"scatterternary\": [{\"marker\": {\"colorbar\": {\"outlinewidth\": 0, \"ticks\": \"\"}}, \"type\": \"scatterternary\"}], \"surface\": [{\"colorbar\": {\"outlinewidth\": 0, \"ticks\": \"\"}, \"colorscale\": [[0.0, \"#0d0887\"], [0.1111111111111111, \"#46039f\"], [0.2222222222222222, \"#7201a8\"], [0.3333333333333333, \"#9c179e\"], [0.4444444444444444, \"#bd3786\"], [0.5555555555555556, \"#d8576b\"], [0.6666666666666666, \"#ed7953\"], [0.7777777777777778, \"#fb9f3a\"], [0.8888888888888888, \"#fdca26\"], [1.0, \"#f0f921\"]], \"type\": \"surface\"}], \"table\": [{\"cells\": {\"fill\": {\"color\": \"#EBF0F8\"}, \"line\": {\"color\": \"white\"}}, \"header\": {\"fill\": {\"color\": \"#C8D4E3\"}, \"line\": {\"color\": \"white\"}}, \"type\": \"table\"}]}, \"layout\": {\"annotationdefaults\": {\"arrowcolor\": \"#2a3f5f\", \"arrowhead\": 0, \"arrowwidth\": 1}, \"coloraxis\": {\"colorbar\": {\"outlinewidth\": 0, \"ticks\": \"\"}}, \"colorscale\": {\"diverging\": [[0, \"#8e0152\"], [0.1, \"#c51b7d\"], [0.2, \"#de77ae\"], [0.3, \"#f1b6da\"], [0.4, \"#fde0ef\"], [0.5, \"#f7f7f7\"], [0.6, \"#e6f5d0\"], [0.7, \"#b8e186\"], [0.8, \"#7fbc41\"], [0.9, \"#4d9221\"], [1, \"#276419\"]], \"sequential\": [[0.0, \"#0d0887\"], [0.1111111111111111, \"#46039f\"], [0.2222222222222222, \"#7201a8\"], [0.3333333333333333, \"#9c179e\"], [0.4444444444444444, \"#bd3786\"], [0.5555555555555556, \"#d8576b\"], [0.6666666666666666, \"#ed7953\"], [0.7777777777777778, \"#fb9f3a\"], [0.8888888888888888, \"#fdca26\"], [1.0, \"#f0f921\"]], \"sequentialminus\": [[0.0, \"#0d0887\"], [0.1111111111111111, \"#46039f\"], [0.2222222222222222, \"#7201a8\"], [0.3333333333333333, \"#9c179e\"], [0.4444444444444444, \"#bd3786\"], [0.5555555555555556, \"#d8576b\"], [0.6666666666666666, \"#ed7953\"], [0.7777777777777778, \"#fb9f3a\"], [0.8888888888888888, \"#fdca26\"], [1.0, \"#f0f921\"]]}, \"colorway\": [\"#636efa\", \"#EF553B\", \"#00cc96\", \"#ab63fa\", \"#FFA15A\", \"#19d3f3\", \"#FF6692\", \"#B6E880\", \"#FF97FF\", \"#FECB52\"], \"font\": {\"color\": \"#2a3f5f\"}, \"geo\": {\"bgcolor\": \"white\", \"lakecolor\": \"white\", \"landcolor\": \"#E5ECF6\", \"showlakes\": true, \"showland\": true, \"subunitcolor\": \"white\"}, \"hoverlabel\": {\"align\": \"left\"}, \"hovermode\": \"closest\", \"mapbox\": {\"style\": \"light\"}, \"paper_bgcolor\": \"white\", \"plot_bgcolor\": \"#E5ECF6\", \"polar\": {\"angularaxis\": {\"gridcolor\": \"white\", \"linecolor\": \"white\", \"ticks\": \"\"}, \"bgcolor\": \"#E5ECF6\", \"radialaxis\": {\"gridcolor\": \"white\", \"linecolor\": \"white\", \"ticks\": \"\"}}, \"scene\": {\"xaxis\": {\"backgroundcolor\": \"#E5ECF6\", \"gridcolor\": \"white\", \"gridwidth\": 2, \"linecolor\": \"white\", \"showbackground\": true, \"ticks\": \"\", \"zerolinecolor\": \"white\"}, \"yaxis\": {\"backgroundcolor\": \"#E5ECF6\", \"gridcolor\": \"white\", \"gridwidth\": 2, \"linecolor\": \"white\", \"showbackground\": true, \"ticks\": \"\", \"zerolinecolor\": \"white\"}, \"zaxis\": {\"backgroundcolor\": \"#E5ECF6\", \"gridcolor\": \"white\", \"gridwidth\": 2, \"linecolor\": \"white\", \"showbackground\": true, \"ticks\": \"\", \"zerolinecolor\": \"white\"}}, \"shapedefaults\": {\"line\": {\"color\": \"#2a3f5f\"}}, \"ternary\": {\"aaxis\": {\"gridcolor\": \"white\", \"linecolor\": \"white\", \"ticks\": \"\"}, \"baxis\": {\"gridcolor\": \"white\", \"linecolor\": \"white\", \"ticks\": \"\"}, \"bgcolor\": \"#E5ECF6\", \"caxis\": {\"gridcolor\": \"white\", \"linecolor\": \"white\", \"ticks\": \"\"}}, \"title\": {\"x\": 0.05}, \"xaxis\": {\"automargin\": true, \"gridcolor\": \"white\", \"linecolor\": \"white\", \"ticks\": \"\", \"title\": {\"standoff\": 15}, \"zerolinecolor\": \"white\", \"zerolinewidth\": 2}, \"yaxis\": {\"automargin\": true, \"gridcolor\": \"white\", \"linecolor\": \"white\", \"ticks\": \"\", \"title\": {\"standoff\": 15}, \"zerolinecolor\": \"white\", \"zerolinewidth\": 2}}}, \"title\": {\"font\": {\"color\": \"#4D5663\"}, \"text\": \"Figure 7. \\u0420\\u0430\\u0441\\u043f\\u0440\\u0435\\u0434\\u0435\\u043b\\u0435\\u043d\\u0438\\u0435 \\u0446\\u0435\\u043d \\u043d\\u0430 \\u043a\\u0432\\u0430\\u0440\\u0442\\u0438\\u0440\\u044b \\u0432 \\u0416\\u041a\"}, \"xaxis\": {\"gridcolor\": \"#E1E5ED\", \"showgrid\": true, \"tickfont\": {\"color\": \"#4D5663\"}, \"title\": {\"font\": {\"color\": \"#4D5663\"}, \"text\": \"\"}, \"zerolinecolor\": \"#E1E5ED\"}, \"yaxis\": {\"gridcolor\": \"#E1E5ED\", \"showgrid\": true, \"tickfont\": {\"color\": \"#4D5663\"}, \"title\": {\"font\": {\"color\": \"#4D5663\"}, \"text\": \"\\u0414\\u0438\\u0430\\u043f\\u0430\\u0437\\u043e\\u043d \\u0446\\u0435\\u043d \\u043d\\u0430 \\u043a\\u0432\\u0430\\u0440\\u0442\\u0438\\u0440\\u044b\"}, \"zerolinecolor\": \"#E1E5ED\"}},\n",
       "                        {\"showLink\": true, \"linkText\": \"Export to plot.ly\", \"plotlyServerURL\": \"https://plot.ly\", \"responsive\": true}\n",
       "                    ).then(function(){\n",
       "                            \n",
       "var gd = document.getElementById('2e531615-84d2-49d5-95cd-ec7f535ac631');\n",
       "var x = new MutationObserver(function (mutations, observer) {{\n",
       "        var display = window.getComputedStyle(gd).display;\n",
       "        if (!display || display === 'none') {{\n",
       "            console.log([gd, 'removed!']);\n",
       "            Plotly.purge(gd);\n",
       "            observer.disconnect();\n",
       "        }}\n",
       "}});\n",
       "\n",
       "// Listen for the removal of the full notebook cells\n",
       "var notebookContainer = gd.closest('#notebook-container');\n",
       "if (notebookContainer) {{\n",
       "    x.observe(notebookContainer, {childList: true});\n",
       "}}\n",
       "\n",
       "// Listen for the clearing of the current output cell\n",
       "var outputEl = gd.closest('.output');\n",
       "if (outputEl) {{\n",
       "    x.observe(outputEl, {childList: true});\n",
       "}}\n",
       "\n",
       "                        })\n",
       "                };\n",
       "                });\n",
       "            </script>\n",
       "        </div>"
      ]
     },
     "metadata": {},
     "output_type": "display_data"
    },
    {
     "data": {
      "text/html": [
       "\n",
       "        <script>\n",
       "            function code_toggle_6542054848670351111() {\n",
       "                $('div.cell.code_cell.rendered.selected').find('div.input').toggle();\n",
       "            }\n",
       "\n",
       "            \n",
       "        </script>\n",
       "\n",
       "        <a href=\"javascript:code_toggle_6542054848670351111()\">Toggle show/hide</a>\n",
       "    "
      ],
      "text/plain": [
       "<IPython.core.display.HTML object>"
      ]
     },
     "execution_count": 29,
     "metadata": {},
     "output_type": "execute_result"
    }
   ],
   "source": [
    "df.pivot(columns='ЖК', values='Цена (тнг)').iplot(\n",
    "        kind='box',\n",
    "        yTitle='Диапазон цен на квартиры',\n",
    "        title='Figure 7. Распределение цен на квартиры в ЖК')\n",
    "hide_toggle()"
   ]
  },
  {
   "cell_type": "markdown",
   "metadata": {},
   "source": [
    "#### Читаем график:\n",
    " 1. ЖК \"Алау\"  пример нормального распределения ( по графику одинаковые усы и медиана в центре прямоугольника, однако там всего 4 объявления)\n",
    " 2. 75% квартир застройщика \"АстанаТехСтрой\" имеют цену меньше 42 млн тенге\n",
    " 3. 25% квартир застройщика \"Asti Group\" имеют цену выше 20 млн тенге\n",
    " 4. За 20 млн тенге можно рассмотерть квартиры всех застрощиков, кроме \"AIZ QURYLYS TOO\",\"Береке Курылыс 2030\" и \" ЖСК Жануя Инвест\"\n"
   ]
  },
  {
   "cell_type": "code",
   "execution_count": 30,
   "metadata": {
    "scrolled": false
   },
   "outputs": [
    {
     "data": {
      "application/vnd.plotly.v1+json": {
       "config": {
        "linkText": "Export to plot.ly",
        "plotlyServerURL": "https://plot.ly",
        "showLink": true
       },
       "data": [
        {
         "boxpoints": false,
         "line": {
          "width": 1.3
         },
         "marker": {
          "color": "rgba(255, 153, 51, 1.0)"
         },
         "name": "«ASQAT»",
         "orientation": "v",
         "type": "box",
         "y": [
          null,
          null,
          null,
          null,
          null,
          null,
          null,
          null,
          null,
          null,
          null,
          null,
          null,
          null,
          null,
          null,
          null,
          null,
          null,
          null,
          null,
          null,
          null,
          null,
          null,
          null,
          null,
          null,
          null,
          null,
          null,
          null,
          null,
          null,
          null,
          null,
          null,
          null,
          null,
          null,
          null,
          null,
          null,
          null,
          null,
          null,
          null,
          null,
          null,
          null,
          null,
          null,
          null,
          null,
          null,
          null,
          null,
          null,
          null,
          null,
          null,
          null,
          null,
          null,
          null,
          null,
          null,
          null,
          null,
          null,
          null,
          null,
          null,
          null,
          null,
          null,
          null,
          null,
          null,
          null,
          null,
          null,
          null,
          null,
          null,
          null,
          null,
          null,
          null,
          null,
          null,
          null,
          null,
          null,
          null,
          null,
          null,
          null,
          null,
          null,
          null,
          null,
          null,
          null,
          null,
          null,
          null,
          null,
          null,
          null,
          null,
          null,
          null,
          null,
          null,
          null,
          null,
          null,
          null,
          null,
          null,
          null,
          null,
          null,
          null,
          null,
          null,
          null,
          null,
          null,
          null,
          null,
          null,
          null,
          295000,
          255000.00000000003,
          294999.99999999994,
          295000,
          265000,
          280000,
          280000,
          280000,
          265000,
          295000,
          295000,
          265000,
          295000,
          295000,
          null,
          null,
          null,
          null,
          null,
          null,
          null,
          null,
          null,
          null,
          null,
          null,
          null,
          null,
          null,
          null,
          285000,
          285000,
          285000
         ]
        },
        {
         "boxpoints": false,
         "line": {
          "width": 1.3
         },
         "marker": {
          "color": "rgba(55, 128, 191, 1.0)"
         },
         "name": "«Alau»",
         "orientation": "v",
         "type": "box",
         "y": [
          null,
          null,
          350000,
          null,
          null,
          null,
          null,
          null,
          null,
          null,
          null,
          null,
          285000,
          null,
          null,
          null,
          null,
          null,
          null,
          null,
          null,
          null,
          null,
          300000,
          null,
          null,
          null,
          null,
          null,
          null,
          null,
          null,
          null,
          null,
          null,
          null,
          null,
          301213.4831460674,
          null,
          null,
          null,
          null,
          null,
          null,
          null,
          null,
          null,
          null,
          null,
          null,
          null,
          null,
          null,
          null,
          null,
          null,
          null,
          null,
          null,
          null,
          null,
          null,
          null,
          null,
          null,
          null,
          null,
          null,
          null,
          null,
          null,
          null,
          null,
          null,
          null,
          null,
          null,
          null,
          null,
          null,
          null,
          null,
          null,
          null,
          null,
          null,
          null,
          null,
          null,
          null,
          null,
          null,
          null,
          null,
          null,
          null,
          null,
          null,
          null,
          null,
          null,
          null,
          null,
          null,
          null,
          null,
          null,
          null,
          null,
          null,
          null,
          null,
          null,
          null,
          null,
          null,
          null,
          null,
          null,
          null,
          null,
          null,
          null,
          null,
          null,
          null,
          null,
          null,
          null,
          null,
          null,
          null,
          null,
          null,
          null,
          null,
          null,
          null,
          null,
          null,
          null,
          null,
          null,
          null,
          null,
          null,
          null,
          null,
          null,
          null,
          null,
          null,
          null,
          null,
          null,
          null,
          null,
          null,
          null,
          null,
          null,
          null,
          null,
          null,
          null,
          null,
          null
         ]
        },
        {
         "boxpoints": false,
         "line": {
          "width": 1.3
         },
         "marker": {
          "color": "rgba(50, 171, 96, 1.0)"
         },
         "name": "«Apple City»",
         "orientation": "v",
         "type": "box",
         "y": [
          null,
          null,
          null,
          null,
          null,
          null,
          null,
          null,
          null,
          null,
          null,
          null,
          null,
          null,
          null,
          null,
          null,
          null,
          null,
          null,
          null,
          null,
          null,
          null,
          null,
          null,
          null,
          null,
          null,
          null,
          null,
          null,
          null,
          null,
          null,
          null,
          null,
          null,
          null,
          null,
          null,
          null,
          null,
          null,
          null,
          null,
          null,
          null,
          null,
          null,
          null,
          null,
          null,
          null,
          null,
          null,
          null,
          null,
          null,
          null,
          null,
          null,
          null,
          null,
          null,
          null,
          null,
          null,
          null,
          null,
          null,
          null,
          null,
          null,
          null,
          null,
          null,
          null,
          null,
          null,
          null,
          null,
          null,
          null,
          null,
          null,
          null,
          null,
          null,
          null,
          null,
          null,
          null,
          null,
          null,
          null,
          null,
          null,
          null,
          null,
          null,
          null,
          null,
          290000,
          290000,
          290000,
          290000,
          290000,
          290000,
          null,
          null,
          null,
          null,
          null,
          null,
          290000,
          290000,
          null,
          null,
          null,
          290000,
          290000,
          290000,
          290000,
          null,
          null,
          290000,
          290000,
          null,
          290000,
          null,
          null,
          null,
          null,
          null,
          null,
          null,
          null,
          null,
          null,
          null,
          null,
          null,
          null,
          null,
          null,
          null,
          null,
          null,
          null,
          null,
          null,
          null,
          null,
          null,
          null,
          null,
          null,
          null,
          null,
          null,
          null,
          null,
          null,
          null,
          null,
          null
         ]
        },
        {
         "boxpoints": false,
         "line": {
          "width": 1.3
         },
         "marker": {
          "color": "rgba(128, 0, 128, 1.0)"
         },
         "name": "«Atlant»",
         "orientation": "v",
         "type": "box",
         "y": [
          null,
          null,
          null,
          null,
          null,
          null,
          null,
          null,
          null,
          null,
          null,
          null,
          null,
          null,
          437751.7345276873,
          null,
          null,
          null,
          null,
          null,
          null,
          null,
          null,
          null,
          414428.0890052356,
          null,
          null,
          null,
          null,
          null,
          null,
          null,
          null,
          null,
          null,
          null,
          433526.4524948735,
          null,
          null,
          null,
          null,
          null,
          null,
          null,
          null,
          null,
          null,
          null,
          428000,
          null,
          null,
          null,
          null,
          null,
          null,
          null,
          null,
          null,
          null,
          430000,
          null,
          null,
          null,
          null,
          null,
          null,
          null,
          null,
          null,
          430777.9754601227,
          null,
          null,
          null,
          null,
          null,
          null,
          null,
          417779.57966764417,
          null,
          null,
          null,
          null,
          null,
          null,
          429585.07042253524,
          null,
          null,
          null,
          null,
          null,
          null,
          null,
          null,
          null,
          null,
          null,
          null,
          null,
          null,
          null,
          null,
          null,
          null,
          null,
          null,
          null,
          null,
          null,
          null,
          null,
          null,
          null,
          null,
          null,
          null,
          null,
          null,
          null,
          null,
          null,
          null,
          null,
          null,
          null,
          null,
          null,
          null,
          null,
          null,
          null,
          null,
          null,
          null,
          null,
          null,
          null,
          null,
          null,
          null,
          null,
          null,
          null,
          null,
          null,
          null,
          null,
          null,
          null,
          null,
          null,
          null,
          null,
          null,
          null,
          null,
          null,
          null,
          null,
          null,
          null,
          null,
          null,
          null,
          null,
          null,
          null,
          null
         ]
        },
        {
         "boxpoints": false,
         "line": {
          "width": 1.3
         },
         "marker": {
          "color": "rgba(219, 64, 82, 1.0)"
         },
         "name": "«BI City Tokyo»",
         "orientation": "v",
         "type": "box",
         "y": [
          null,
          null,
          null,
          null,
          null,
          null,
          null,
          409000,
          null,
          null,
          null,
          null,
          null,
          null,
          null,
          null,
          null,
          null,
          null,
          351000,
          null,
          null,
          null,
          null,
          null,
          null,
          null,
          null,
          null,
          null,
          351000,
          null,
          null,
          null,
          null,
          null,
          null,
          null,
          null,
          348000,
          null,
          null,
          null,
          null,
          null,
          null,
          null,
          null,
          null,
          380000,
          null,
          null,
          null,
          null,
          null,
          null,
          379700,
          null,
          null,
          null,
          null,
          null,
          null,
          null,
          379600,
          null,
          null,
          null,
          null,
          null,
          null,
          null,
          null,
          null,
          428249.99004975124,
          null,
          null,
          null,
          null,
          405000,
          null,
          null,
          null,
          null,
          null,
          359000,
          null,
          null,
          null,
          null,
          null,
          null,
          null,
          null,
          null,
          null,
          null,
          null,
          null,
          null,
          null,
          null,
          null,
          null,
          null,
          null,
          null,
          null,
          null,
          null,
          null,
          null,
          null,
          null,
          null,
          null,
          null,
          null,
          null,
          null,
          null,
          null,
          null,
          null,
          null,
          null,
          null,
          null,
          null,
          null,
          null,
          null,
          null,
          null,
          null,
          null,
          null,
          null,
          null,
          null,
          null,
          null,
          null,
          null,
          null,
          null,
          null,
          null,
          null,
          null,
          null,
          null,
          null,
          null,
          null,
          null,
          null,
          null,
          null,
          null,
          null,
          null,
          null,
          null,
          null,
          null,
          null
         ]
        },
        {
         "boxpoints": false,
         "line": {
          "width": 1.3
         },
         "marker": {
          "color": "rgba(0, 128, 128, 1.0)"
         },
         "name": "«Capital Park»",
         "orientation": "v",
         "type": "box",
         "y": [
          null,
          null,
          null,
          null,
          null,
          null,
          358500,
          null,
          null,
          null,
          null,
          null,
          null,
          null,
          null,
          null,
          null,
          null,
          360500,
          null,
          null,
          null,
          null,
          null,
          null,
          null,
          null,
          null,
          null,
          null,
          null,
          347900,
          null,
          null,
          null,
          null,
          null,
          null,
          null,
          null,
          345500,
          null,
          null,
          null,
          null,
          null,
          null,
          null,
          null,
          null,
          366200,
          null,
          null,
          null,
          null,
          null,
          null,
          360000,
          null,
          null,
          null,
          null,
          null,
          null,
          null,
          385000,
          null,
          null,
          null,
          null,
          null,
          null,
          null,
          364300,
          null,
          null,
          null,
          null,
          null,
          null,
          344000,
          null,
          null,
          null,
          null,
          null,
          343800,
          null,
          null,
          367800,
          null,
          null,
          344000,
          null,
          352800,
          null,
          359600,
          null,
          null,
          null,
          null,
          null,
          null,
          null,
          null,
          null,
          null,
          null,
          null,
          null,
          null,
          null,
          null,
          null,
          null,
          null,
          null,
          null,
          null,
          null,
          null,
          null,
          null,
          null,
          null,
          null,
          null,
          null,
          null,
          null,
          null,
          null,
          null,
          null,
          null,
          null,
          null,
          null,
          null,
          null,
          null,
          null,
          null,
          null,
          null,
          null,
          null,
          null,
          null,
          null,
          null,
          null,
          null,
          null,
          null,
          null,
          null,
          null,
          null,
          null,
          null,
          null,
          null,
          null,
          null,
          null,
          null
         ]
        },
        {
         "boxpoints": false,
         "line": {
          "width": 1.3
         },
         "marker": {
          "color": "rgba(255, 255, 51, 1.0)"
         },
         "name": "«College»",
         "orientation": "v",
         "type": "box",
         "y": [
          null,
          null,
          null,
          null,
          269734.25196850393,
          null,
          null,
          null,
          null,
          null,
          null,
          null,
          null,
          null,
          null,
          null,
          275703.0823253999,
          null,
          null,
          null,
          null,
          null,
          null,
          null,
          null,
          275000,
          null,
          null,
          null,
          null,
          null,
          null,
          null,
          null,
          null,
          266940.22165006155,
          null,
          null,
          null,
          null,
          null,
          null,
          null,
          null,
          null,
          270000,
          null,
          null,
          null,
          null,
          null,
          null,
          null,
          265000,
          null,
          null,
          null,
          null,
          null,
          null,
          null,
          null,
          null,
          267000,
          null,
          null,
          null,
          null,
          null,
          null,
          301871.25070741365,
          null,
          null,
          null,
          null,
          null,
          null,
          null,
          null,
          null,
          null,
          null,
          null,
          null,
          null,
          null,
          null,
          null,
          null,
          null,
          null,
          null,
          null,
          null,
          null,
          null,
          null,
          null,
          null,
          null,
          null,
          null,
          null,
          null,
          null,
          null,
          null,
          null,
          null,
          null,
          null,
          null,
          null,
          null,
          null,
          null,
          null,
          null,
          null,
          null,
          null,
          null,
          null,
          null,
          null,
          null,
          null,
          null,
          null,
          null,
          null,
          null,
          null,
          null,
          null,
          null,
          null,
          null,
          null,
          null,
          null,
          null,
          null,
          null,
          null,
          null,
          null,
          null,
          null,
          null,
          null,
          null,
          null,
          null,
          null,
          null,
          null,
          null,
          null,
          null,
          null,
          null,
          null,
          null,
          null,
          null,
          null
         ]
        },
        {
         "boxpoints": false,
         "line": {
          "width": 1.3
         },
         "marker": {
          "color": "rgba(128, 128, 0, 1.0)"
         },
         "name": "«Esil Riverside»",
         "orientation": "v",
         "type": "box",
         "y": [
          null,
          null,
          null,
          null,
          null,
          null,
          null,
          null,
          500300,
          null,
          null,
          null,
          null,
          null,
          null,
          null,
          null,
          null,
          null,
          null,
          482300,
          null,
          null,
          null,
          null,
          null,
          null,
          null,
          null,
          null,
          null,
          null,
          477300.00000000006,
          null,
          null,
          null,
          null,
          null,
          null,
          null,
          null,
          null,
          492004.7220433569,
          null,
          null,
          null,
          null,
          null,
          null,
          null,
          null,
          518407.12223291624,
          null,
          null,
          null,
          null,
          null,
          null,
          522223.47248790367,
          null,
          null,
          null,
          null,
          null,
          null,
          null,
          502303.16014997324,
          null,
          null,
          null,
          null,
          null,
          null,
          null,
          null,
          502285.9517871987,
          null,
          null,
          null,
          null,
          null,
          497324.74834497145,
          null,
          null,
          null,
          null,
          null,
          492300,
          null,
          null,
          null,
          null,
          null,
          null,
          null,
          null,
          null,
          null,
          null,
          null,
          null,
          null,
          null,
          null,
          null,
          null,
          null,
          null,
          null,
          null,
          null,
          null,
          null,
          null,
          null,
          null,
          null,
          null,
          null,
          null,
          null,
          null,
          null,
          null,
          null,
          null,
          null,
          null,
          null,
          null,
          null,
          null,
          null,
          null,
          null,
          null,
          null,
          null,
          null,
          null,
          null,
          null,
          null,
          null,
          null,
          null,
          null,
          null,
          null,
          null,
          null,
          null,
          null,
          null,
          null,
          null,
          null,
          null,
          null,
          null,
          null,
          null,
          null,
          null,
          null,
          null,
          null
         ]
        },
        {
         "boxpoints": false,
         "line": {
          "width": 1.3
         },
         "marker": {
          "color": "rgba(251, 128, 114, 1.0)"
         },
         "name": "«Grand Opera»",
         "orientation": "v",
         "type": "box",
         "y": [
          null,
          null,
          null,
          null,
          null,
          423400,
          null,
          null,
          null,
          null,
          null,
          null,
          null,
          null,
          null,
          null,
          null,
          439599.99999999994,
          null,
          null,
          null,
          null,
          null,
          null,
          null,
          null,
          null,
          442700,
          null,
          null,
          null,
          null,
          null,
          null,
          null,
          null,
          null,
          null,
          446800.00000000006,
          null,
          null,
          null,
          null,
          null,
          null,
          null,
          null,
          null,
          null,
          null,
          null,
          null,
          451600,
          null,
          null,
          null,
          null,
          null,
          null,
          null,
          null,
          439400,
          null,
          null,
          null,
          null,
          null,
          null,
          423400,
          null,
          null,
          null,
          null,
          null,
          null,
          null,
          450400,
          null,
          null,
          null,
          null,
          null,
          425400,
          null,
          null,
          null,
          null,
          null,
          null,
          null,
          null,
          null,
          null,
          null,
          null,
          null,
          null,
          null,
          null,
          null,
          null,
          null,
          null,
          null,
          null,
          null,
          null,
          null,
          null,
          null,
          null,
          null,
          null,
          null,
          null,
          null,
          null,
          null,
          null,
          null,
          null,
          null,
          null,
          null,
          null,
          null,
          null,
          null,
          null,
          null,
          null,
          null,
          null,
          null,
          null,
          null,
          null,
          null,
          null,
          null,
          null,
          null,
          null,
          null,
          null,
          null,
          null,
          null,
          null,
          null,
          null,
          null,
          null,
          null,
          null,
          null,
          null,
          null,
          null,
          null,
          null,
          null,
          null,
          null,
          null,
          null,
          null
         ]
        },
        {
         "boxpoints": false,
         "line": {
          "width": 1.3
         },
         "marker": {
          "color": "rgba(128, 177, 211, 1.0)"
         },
         "name": "«Headliner»",
         "orientation": "v",
         "type": "box",
         "y": [
          null,
          null,
          null,
          377508.4330891549,
          null,
          null,
          null,
          null,
          null,
          null,
          null,
          383400,
          null,
          null,
          null,
          null,
          null,
          null,
          null,
          null,
          null,
          null,
          373800,
          null,
          null,
          null,
          null,
          null,
          null,
          null,
          null,
          null,
          null,
          null,
          374600,
          null,
          null,
          null,
          null,
          null,
          null,
          null,
          null,
          null,
          null,
          null,
          null,
          393274.43100533227,
          null,
          null,
          null,
          null,
          null,
          null,
          398489.85123293253,
          null,
          null,
          null,
          null,
          null,
          null,
          null,
          null,
          null,
          null,
          null,
          null,
          null,
          null,
          null,
          null,
          null,
          null,
          null,
          null,
          null,
          null,
          null,
          null,
          null,
          null,
          null,
          null,
          null,
          null,
          null,
          null,
          null,
          null,
          null,
          null,
          null,
          null,
          null,
          null,
          null,
          null,
          null,
          null,
          null,
          null,
          null,
          null,
          null,
          null,
          null,
          null,
          null,
          null,
          null,
          null,
          null,
          null,
          null,
          null,
          null,
          null,
          null,
          null,
          null,
          null,
          null,
          null,
          null,
          null,
          null,
          null,
          null,
          null,
          null,
          null,
          null,
          null,
          null,
          null,
          null,
          null,
          null,
          null,
          null,
          null,
          null,
          null,
          null,
          null,
          null,
          null,
          null,
          null,
          null,
          null,
          null,
          null,
          null,
          null,
          null,
          null,
          null,
          null,
          null,
          null,
          null,
          null,
          null,
          null,
          null,
          null
         ]
        },
        {
         "boxpoints": false,
         "line": {
          "width": 1.3
         },
         "marker": {
          "color": "rgba(128, 177, 211, 0.8999999999999999)"
         },
         "name": "«Nura Esil»",
         "orientation": "v",
         "type": "box",
         "y": [
          null,
          null,
          null,
          null,
          null,
          null,
          null,
          null,
          null,
          null,
          null,
          null,
          null,
          null,
          null,
          null,
          null,
          null,
          null,
          null,
          null,
          null,
          null,
          null,
          null,
          null,
          null,
          null,
          null,
          null,
          null,
          null,
          null,
          null,
          null,
          null,
          null,
          null,
          null,
          null,
          null,
          null,
          null,
          null,
          null,
          null,
          null,
          null,
          null,
          null,
          null,
          null,
          null,
          null,
          null,
          null,
          null,
          null,
          null,
          null,
          null,
          null,
          null,
          null,
          null,
          null,
          null,
          null,
          null,
          null,
          null,
          null,
          null,
          null,
          null,
          null,
          null,
          null,
          null,
          null,
          null,
          null,
          null,
          null,
          null,
          null,
          null,
          null,
          null,
          null,
          null,
          null,
          null,
          null,
          null,
          null,
          null,
          null,
          null,
          null,
          null,
          null,
          null,
          null,
          null,
          null,
          null,
          null,
          null,
          null,
          null,
          null,
          null,
          null,
          null,
          null,
          null,
          null,
          null,
          null,
          null,
          null,
          null,
          null,
          null,
          null,
          null,
          null,
          null,
          null,
          null,
          null,
          null,
          null,
          null,
          null,
          null,
          null,
          null,
          null,
          null,
          null,
          null,
          null,
          null,
          null,
          null,
          null,
          383600,
          380756.9756975698,
          373000,
          371200,
          379900,
          395600,
          396000,
          377000,
          390300,
          null,
          null,
          null,
          null,
          null,
          null,
          null,
          null,
          null,
          null
         ]
        },
        {
         "boxpoints": false,
         "line": {
          "width": 1.3
         },
         "marker": {
          "color": "rgba(255, 153, 51, 0.8999999999999999)"
         },
         "name": "«Tulpar City»",
         "orientation": "v",
         "type": "box",
         "y": [
          null,
          null,
          null,
          null,
          null,
          null,
          null,
          null,
          null,
          null,
          null,
          null,
          null,
          180000,
          null,
          null,
          null,
          null,
          null,
          null,
          null,
          null,
          null,
          null,
          null,
          null,
          null,
          null,
          180000,
          null,
          null,
          null,
          null,
          null,
          null,
          null,
          null,
          null,
          null,
          null,
          null,
          null,
          null,
          null,
          null,
          null,
          180000,
          null,
          null,
          null,
          null,
          null,
          null,
          null,
          null,
          null,
          null,
          null,
          null,
          null,
          null,
          null,
          180000,
          null,
          null,
          null,
          null,
          null,
          null,
          null,
          null,
          null,
          180000,
          null,
          null,
          null,
          null,
          null,
          null,
          null,
          null,
          null,
          null,
          180000,
          null,
          null,
          null,
          null,
          null,
          null,
          180000,
          null,
          null,
          180000,
          null,
          null,
          null,
          180000,
          180000,
          180000,
          180000,
          180000,
          180000,
          null,
          null,
          null,
          null,
          null,
          null,
          null,
          null,
          null,
          null,
          null,
          null,
          null,
          null,
          null,
          null,
          null,
          null,
          null,
          null,
          null,
          null,
          null,
          null,
          null,
          null,
          null,
          null,
          null,
          null,
          null,
          null,
          null,
          null,
          null,
          null,
          null,
          null,
          null,
          null,
          null,
          null,
          null,
          null,
          null,
          null,
          null,
          null,
          null,
          null,
          null,
          null,
          null,
          null,
          null,
          null,
          null,
          null,
          null,
          null,
          null,
          null,
          null,
          null
         ]
        },
        {
         "boxpoints": false,
         "line": {
          "width": 1.3
         },
         "marker": {
          "color": "rgba(55, 128, 191, 0.8999999999999999)"
         },
         "name": "«Vela Village»",
         "orientation": "v",
         "type": "box",
         "y": [
          null,
          392400,
          null,
          null,
          null,
          null,
          null,
          null,
          null,
          null,
          null,
          null,
          null,
          null,
          null,
          null,
          null,
          null,
          null,
          null,
          null,
          null,
          null,
          null,
          null,
          null,
          null,
          null,
          null,
          null,
          null,
          null,
          null,
          null,
          null,
          null,
          null,
          null,
          null,
          null,
          null,
          null,
          null,
          null,
          null,
          null,
          null,
          null,
          null,
          null,
          null,
          null,
          null,
          null,
          null,
          null,
          null,
          null,
          null,
          null,
          null,
          null,
          null,
          null,
          null,
          null,
          null,
          null,
          null,
          null,
          null,
          null,
          null,
          null,
          null,
          null,
          null,
          null,
          null,
          null,
          null,
          null,
          null,
          null,
          null,
          null,
          null,
          null,
          null,
          null,
          null,
          null,
          null,
          null,
          null,
          null,
          null,
          null,
          null,
          null,
          null,
          null,
          null,
          null,
          null,
          null,
          null,
          null,
          null,
          null,
          null,
          null,
          null,
          null,
          null,
          null,
          null,
          null,
          null,
          null,
          null,
          null,
          null,
          null,
          null,
          null,
          null,
          null,
          null,
          null,
          null,
          null,
          null,
          null,
          null,
          null,
          null,
          null,
          null,
          null,
          null,
          null,
          null,
          null,
          null,
          null,
          null,
          null,
          null,
          null,
          null,
          null,
          null,
          null,
          null,
          null,
          null,
          null,
          null,
          null,
          null,
          null,
          null,
          null,
          null,
          null,
          null
         ]
        },
        {
         "boxpoints": false,
         "line": {
          "width": 1.3
         },
         "marker": {
          "color": "rgba(50, 171, 96, 0.8999999999999999)"
         },
         "name": "«Алтын Отау»",
         "orientation": "v",
         "type": "box",
         "y": [
          null,
          null,
          null,
          null,
          null,
          null,
          null,
          null,
          null,
          null,
          null,
          null,
          null,
          null,
          null,
          249999.99999999997,
          null,
          null,
          null,
          null,
          null,
          null,
          null,
          null,
          null,
          null,
          null,
          null,
          null,
          250000,
          null,
          null,
          null,
          null,
          null,
          null,
          null,
          null,
          null,
          null,
          null,
          null,
          null,
          250000,
          null,
          null,
          null,
          null,
          null,
          null,
          null,
          null,
          null,
          null,
          null,
          250000,
          null,
          null,
          null,
          null,
          null,
          null,
          null,
          null,
          null,
          null,
          null,
          250000,
          null,
          null,
          null,
          null,
          null,
          null,
          null,
          null,
          null,
          null,
          250000,
          null,
          null,
          null,
          null,
          null,
          null,
          null,
          null,
          null,
          249999.99999999997,
          null,
          null,
          250000,
          null,
          null,
          null,
          250000.00000000003,
          null,
          null,
          null,
          null,
          null,
          null,
          null,
          null,
          null,
          null,
          null,
          null,
          null,
          null,
          null,
          null,
          null,
          null,
          null,
          null,
          null,
          null,
          null,
          null,
          null,
          null,
          null,
          null,
          null,
          null,
          null,
          null,
          null,
          null,
          null,
          null,
          null,
          null,
          null,
          null,
          null,
          null,
          null,
          null,
          null,
          null,
          null,
          null,
          null,
          null,
          null,
          null,
          null,
          null,
          null,
          null,
          null,
          null,
          null,
          null,
          null,
          null,
          null,
          null,
          null,
          null,
          null,
          null,
          null,
          null,
          null
         ]
        },
        {
         "boxpoints": false,
         "line": {
          "width": 1.3
         },
         "marker": {
          "color": "rgba(128, 0, 128, 0.8999999999999999)"
         },
         "name": "«Байсал»",
         "orientation": "v",
         "type": "box",
         "y": [
          null,
          null,
          null,
          null,
          null,
          null,
          null,
          null,
          null,
          null,
          null,
          null,
          null,
          null,
          null,
          null,
          null,
          null,
          null,
          null,
          null,
          null,
          null,
          null,
          null,
          null,
          null,
          null,
          null,
          null,
          null,
          null,
          null,
          null,
          null,
          null,
          null,
          null,
          null,
          null,
          null,
          null,
          null,
          null,
          null,
          null,
          null,
          null,
          null,
          null,
          null,
          null,
          null,
          null,
          null,
          null,
          null,
          null,
          null,
          null,
          null,
          null,
          null,
          null,
          null,
          null,
          null,
          null,
          null,
          null,
          null,
          null,
          null,
          null,
          null,
          null,
          null,
          null,
          null,
          null,
          null,
          null,
          null,
          null,
          null,
          null,
          null,
          null,
          null,
          null,
          null,
          null,
          null,
          null,
          null,
          null,
          null,
          null,
          null,
          null,
          null,
          null,
          null,
          null,
          null,
          null,
          null,
          null,
          null,
          140000,
          140000,
          140000,
          140000,
          140000,
          140000,
          null,
          null,
          140000,
          140000,
          140000,
          null,
          null,
          null,
          null,
          140000,
          140000,
          null,
          null,
          140000,
          null,
          140000,
          140000,
          140000,
          180000,
          null,
          null,
          null,
          null,
          null,
          null,
          null,
          null,
          null,
          null,
          null,
          null,
          null,
          null,
          null,
          null,
          null,
          null,
          null,
          null,
          null,
          null,
          null,
          null,
          null,
          null,
          null,
          null,
          null,
          null,
          null,
          null,
          null
         ]
        },
        {
         "boxpoints": false,
         "line": {
          "width": 1.3
         },
         "marker": {
          "color": "rgba(219, 64, 82, 0.8999999999999999)"
         },
         "name": "«Ботанический»",
         "orientation": "v",
         "type": "box",
         "y": [
          473400,
          null,
          null,
          null,
          null,
          null,
          null,
          null,
          null,
          468311.2114014252,
          null,
          null,
          null,
          null,
          null,
          null,
          null,
          null,
          null,
          null,
          null,
          447300,
          null,
          null,
          null,
          null,
          null,
          null,
          null,
          null,
          null,
          null,
          null,
          467300,
          null,
          null,
          null,
          null,
          null,
          null,
          null,
          455600,
          null,
          null,
          null,
          null,
          null,
          null,
          null,
          null,
          null,
          null,
          null,
          null,
          null,
          null,
          null,
          null,
          null,
          null,
          null,
          null,
          null,
          null,
          null,
          null,
          null,
          null,
          null,
          null,
          null,
          null,
          null,
          null,
          null,
          null,
          null,
          null,
          null,
          null,
          null,
          null,
          null,
          null,
          null,
          null,
          null,
          null,
          null,
          null,
          null,
          null,
          null,
          null,
          null,
          null,
          null,
          null,
          null,
          null,
          null,
          null,
          null,
          null,
          null,
          null,
          null,
          null,
          null,
          null,
          null,
          null,
          null,
          null,
          null,
          null,
          null,
          null,
          null,
          null,
          null,
          null,
          null,
          null,
          null,
          null,
          null,
          null,
          null,
          null,
          null,
          null,
          null,
          null,
          null,
          null,
          null,
          null,
          null,
          null,
          null,
          null,
          null,
          null,
          null,
          null,
          null,
          null,
          null,
          null,
          null,
          null,
          null,
          null,
          null,
          null,
          null,
          null,
          null,
          null,
          null,
          null,
          null,
          null,
          null,
          null,
          null
         ]
        },
        {
         "boxpoints": false,
         "line": {
          "width": 1.3
         },
         "marker": {
          "color": "rgba(0, 128, 128, 0.8999999999999999)"
         },
         "name": "«Казанат 2»",
         "orientation": "v",
         "type": "box",
         "y": [
          null,
          null,
          null,
          null,
          null,
          null,
          null,
          null,
          null,
          null,
          null,
          null,
          null,
          null,
          null,
          null,
          null,
          null,
          null,
          null,
          null,
          null,
          null,
          null,
          null,
          null,
          null,
          null,
          null,
          null,
          null,
          null,
          null,
          null,
          null,
          null,
          null,
          null,
          null,
          null,
          null,
          null,
          null,
          null,
          null,
          null,
          null,
          null,
          null,
          null,
          null,
          null,
          null,
          null,
          null,
          null,
          null,
          null,
          null,
          null,
          null,
          null,
          null,
          null,
          null,
          null,
          null,
          null,
          null,
          null,
          null,
          null,
          null,
          null,
          null,
          null,
          null,
          null,
          null,
          null,
          null,
          null,
          null,
          null,
          null,
          null,
          null,
          null,
          null,
          null,
          null,
          null,
          null,
          null,
          null,
          null,
          null,
          null,
          null,
          null,
          null,
          null,
          null,
          null,
          null,
          null,
          null,
          null,
          null,
          null,
          null,
          null,
          null,
          null,
          null,
          null,
          null,
          null,
          null,
          null,
          null,
          null,
          null,
          null,
          null,
          null,
          null,
          null,
          null,
          null,
          null,
          null,
          null,
          null,
          null,
          null,
          null,
          null,
          null,
          null,
          null,
          null,
          null,
          null,
          null,
          null,
          null,
          null,
          null,
          null,
          null,
          null,
          null,
          null,
          null,
          null,
          null,
          200000,
          200000,
          200000,
          200000,
          200000,
          200000,
          200000,
          null,
          null,
          null
         ]
        },
        {
         "boxpoints": false,
         "line": {
          "width": 1.3
         },
         "marker": {
          "color": "rgba(255, 255, 51, 0.8999999999999999)"
         },
         "name": "«Эмир»",
         "orientation": "v",
         "type": "box",
         "y": [
          null,
          null,
          null,
          null,
          null,
          null,
          null,
          null,
          null,
          null,
          255000,
          null,
          null,
          null,
          null,
          null,
          null,
          null,
          null,
          null,
          null,
          null,
          null,
          null,
          null,
          null,
          254999.99999999997,
          null,
          null,
          null,
          null,
          null,
          null,
          null,
          null,
          null,
          null,
          null,
          null,
          null,
          null,
          null,
          null,
          null,
          255000,
          null,
          null,
          null,
          null,
          null,
          null,
          null,
          null,
          null,
          null,
          null,
          null,
          null,
          null,
          null,
          255000,
          null,
          null,
          null,
          null,
          null,
          null,
          null,
          null,
          null,
          null,
          255000,
          null,
          null,
          null,
          null,
          null,
          null,
          null,
          null,
          null,
          null,
          null,
          null,
          null,
          null,
          null,
          null,
          null,
          null,
          null,
          null,
          null,
          null,
          null,
          null,
          null,
          null,
          null,
          null,
          null,
          null,
          null,
          null,
          null,
          null,
          null,
          null,
          null,
          null,
          null,
          null,
          null,
          null,
          null,
          null,
          null,
          null,
          null,
          null,
          null,
          null,
          null,
          null,
          null,
          null,
          null,
          null,
          null,
          null,
          null,
          null,
          null,
          null,
          null,
          null,
          null,
          null,
          null,
          null,
          null,
          null,
          null,
          null,
          null,
          null,
          null,
          null,
          null,
          null,
          null,
          null,
          null,
          null,
          null,
          null,
          null,
          null,
          null,
          null,
          null,
          null,
          null,
          null,
          null,
          null,
          null
         ]
        }
       ],
       "layout": {
        "legend": {
         "bgcolor": "#F5F6F9",
         "font": {
          "color": "#4D5663"
         }
        },
        "paper_bgcolor": "#F5F6F9",
        "plot_bgcolor": "#F5F6F9",
        "template": {
         "data": {
          "bar": [
           {
            "error_x": {
             "color": "#2a3f5f"
            },
            "error_y": {
             "color": "#2a3f5f"
            },
            "marker": {
             "line": {
              "color": "#E5ECF6",
              "width": 0.5
             }
            },
            "type": "bar"
           }
          ],
          "barpolar": [
           {
            "marker": {
             "line": {
              "color": "#E5ECF6",
              "width": 0.5
             }
            },
            "type": "barpolar"
           }
          ],
          "carpet": [
           {
            "aaxis": {
             "endlinecolor": "#2a3f5f",
             "gridcolor": "white",
             "linecolor": "white",
             "minorgridcolor": "white",
             "startlinecolor": "#2a3f5f"
            },
            "baxis": {
             "endlinecolor": "#2a3f5f",
             "gridcolor": "white",
             "linecolor": "white",
             "minorgridcolor": "white",
             "startlinecolor": "#2a3f5f"
            },
            "type": "carpet"
           }
          ],
          "choropleth": [
           {
            "colorbar": {
             "outlinewidth": 0,
             "ticks": ""
            },
            "type": "choropleth"
           }
          ],
          "contour": [
           {
            "colorbar": {
             "outlinewidth": 0,
             "ticks": ""
            },
            "colorscale": [
             [
              0,
              "#0d0887"
             ],
             [
              0.1111111111111111,
              "#46039f"
             ],
             [
              0.2222222222222222,
              "#7201a8"
             ],
             [
              0.3333333333333333,
              "#9c179e"
             ],
             [
              0.4444444444444444,
              "#bd3786"
             ],
             [
              0.5555555555555556,
              "#d8576b"
             ],
             [
              0.6666666666666666,
              "#ed7953"
             ],
             [
              0.7777777777777778,
              "#fb9f3a"
             ],
             [
              0.8888888888888888,
              "#fdca26"
             ],
             [
              1,
              "#f0f921"
             ]
            ],
            "type": "contour"
           }
          ],
          "contourcarpet": [
           {
            "colorbar": {
             "outlinewidth": 0,
             "ticks": ""
            },
            "type": "contourcarpet"
           }
          ],
          "heatmap": [
           {
            "colorbar": {
             "outlinewidth": 0,
             "ticks": ""
            },
            "colorscale": [
             [
              0,
              "#0d0887"
             ],
             [
              0.1111111111111111,
              "#46039f"
             ],
             [
              0.2222222222222222,
              "#7201a8"
             ],
             [
              0.3333333333333333,
              "#9c179e"
             ],
             [
              0.4444444444444444,
              "#bd3786"
             ],
             [
              0.5555555555555556,
              "#d8576b"
             ],
             [
              0.6666666666666666,
              "#ed7953"
             ],
             [
              0.7777777777777778,
              "#fb9f3a"
             ],
             [
              0.8888888888888888,
              "#fdca26"
             ],
             [
              1,
              "#f0f921"
             ]
            ],
            "type": "heatmap"
           }
          ],
          "heatmapgl": [
           {
            "colorbar": {
             "outlinewidth": 0,
             "ticks": ""
            },
            "colorscale": [
             [
              0,
              "#0d0887"
             ],
             [
              0.1111111111111111,
              "#46039f"
             ],
             [
              0.2222222222222222,
              "#7201a8"
             ],
             [
              0.3333333333333333,
              "#9c179e"
             ],
             [
              0.4444444444444444,
              "#bd3786"
             ],
             [
              0.5555555555555556,
              "#d8576b"
             ],
             [
              0.6666666666666666,
              "#ed7953"
             ],
             [
              0.7777777777777778,
              "#fb9f3a"
             ],
             [
              0.8888888888888888,
              "#fdca26"
             ],
             [
              1,
              "#f0f921"
             ]
            ],
            "type": "heatmapgl"
           }
          ],
          "histogram": [
           {
            "marker": {
             "colorbar": {
              "outlinewidth": 0,
              "ticks": ""
             }
            },
            "type": "histogram"
           }
          ],
          "histogram2d": [
           {
            "colorbar": {
             "outlinewidth": 0,
             "ticks": ""
            },
            "colorscale": [
             [
              0,
              "#0d0887"
             ],
             [
              0.1111111111111111,
              "#46039f"
             ],
             [
              0.2222222222222222,
              "#7201a8"
             ],
             [
              0.3333333333333333,
              "#9c179e"
             ],
             [
              0.4444444444444444,
              "#bd3786"
             ],
             [
              0.5555555555555556,
              "#d8576b"
             ],
             [
              0.6666666666666666,
              "#ed7953"
             ],
             [
              0.7777777777777778,
              "#fb9f3a"
             ],
             [
              0.8888888888888888,
              "#fdca26"
             ],
             [
              1,
              "#f0f921"
             ]
            ],
            "type": "histogram2d"
           }
          ],
          "histogram2dcontour": [
           {
            "colorbar": {
             "outlinewidth": 0,
             "ticks": ""
            },
            "colorscale": [
             [
              0,
              "#0d0887"
             ],
             [
              0.1111111111111111,
              "#46039f"
             ],
             [
              0.2222222222222222,
              "#7201a8"
             ],
             [
              0.3333333333333333,
              "#9c179e"
             ],
             [
              0.4444444444444444,
              "#bd3786"
             ],
             [
              0.5555555555555556,
              "#d8576b"
             ],
             [
              0.6666666666666666,
              "#ed7953"
             ],
             [
              0.7777777777777778,
              "#fb9f3a"
             ],
             [
              0.8888888888888888,
              "#fdca26"
             ],
             [
              1,
              "#f0f921"
             ]
            ],
            "type": "histogram2dcontour"
           }
          ],
          "mesh3d": [
           {
            "colorbar": {
             "outlinewidth": 0,
             "ticks": ""
            },
            "type": "mesh3d"
           }
          ],
          "parcoords": [
           {
            "line": {
             "colorbar": {
              "outlinewidth": 0,
              "ticks": ""
             }
            },
            "type": "parcoords"
           }
          ],
          "pie": [
           {
            "automargin": true,
            "type": "pie"
           }
          ],
          "scatter": [
           {
            "marker": {
             "colorbar": {
              "outlinewidth": 0,
              "ticks": ""
             }
            },
            "type": "scatter"
           }
          ],
          "scatter3d": [
           {
            "line": {
             "colorbar": {
              "outlinewidth": 0,
              "ticks": ""
             }
            },
            "marker": {
             "colorbar": {
              "outlinewidth": 0,
              "ticks": ""
             }
            },
            "type": "scatter3d"
           }
          ],
          "scattercarpet": [
           {
            "marker": {
             "colorbar": {
              "outlinewidth": 0,
              "ticks": ""
             }
            },
            "type": "scattercarpet"
           }
          ],
          "scattergeo": [
           {
            "marker": {
             "colorbar": {
              "outlinewidth": 0,
              "ticks": ""
             }
            },
            "type": "scattergeo"
           }
          ],
          "scattergl": [
           {
            "marker": {
             "colorbar": {
              "outlinewidth": 0,
              "ticks": ""
             }
            },
            "type": "scattergl"
           }
          ],
          "scattermapbox": [
           {
            "marker": {
             "colorbar": {
              "outlinewidth": 0,
              "ticks": ""
             }
            },
            "type": "scattermapbox"
           }
          ],
          "scatterpolar": [
           {
            "marker": {
             "colorbar": {
              "outlinewidth": 0,
              "ticks": ""
             }
            },
            "type": "scatterpolar"
           }
          ],
          "scatterpolargl": [
           {
            "marker": {
             "colorbar": {
              "outlinewidth": 0,
              "ticks": ""
             }
            },
            "type": "scatterpolargl"
           }
          ],
          "scatterternary": [
           {
            "marker": {
             "colorbar": {
              "outlinewidth": 0,
              "ticks": ""
             }
            },
            "type": "scatterternary"
           }
          ],
          "surface": [
           {
            "colorbar": {
             "outlinewidth": 0,
             "ticks": ""
            },
            "colorscale": [
             [
              0,
              "#0d0887"
             ],
             [
              0.1111111111111111,
              "#46039f"
             ],
             [
              0.2222222222222222,
              "#7201a8"
             ],
             [
              0.3333333333333333,
              "#9c179e"
             ],
             [
              0.4444444444444444,
              "#bd3786"
             ],
             [
              0.5555555555555556,
              "#d8576b"
             ],
             [
              0.6666666666666666,
              "#ed7953"
             ],
             [
              0.7777777777777778,
              "#fb9f3a"
             ],
             [
              0.8888888888888888,
              "#fdca26"
             ],
             [
              1,
              "#f0f921"
             ]
            ],
            "type": "surface"
           }
          ],
          "table": [
           {
            "cells": {
             "fill": {
              "color": "#EBF0F8"
             },
             "line": {
              "color": "white"
             }
            },
            "header": {
             "fill": {
              "color": "#C8D4E3"
             },
             "line": {
              "color": "white"
             }
            },
            "type": "table"
           }
          ]
         },
         "layout": {
          "annotationdefaults": {
           "arrowcolor": "#2a3f5f",
           "arrowhead": 0,
           "arrowwidth": 1
          },
          "coloraxis": {
           "colorbar": {
            "outlinewidth": 0,
            "ticks": ""
           }
          },
          "colorscale": {
           "diverging": [
            [
             0,
             "#8e0152"
            ],
            [
             0.1,
             "#c51b7d"
            ],
            [
             0.2,
             "#de77ae"
            ],
            [
             0.3,
             "#f1b6da"
            ],
            [
             0.4,
             "#fde0ef"
            ],
            [
             0.5,
             "#f7f7f7"
            ],
            [
             0.6,
             "#e6f5d0"
            ],
            [
             0.7,
             "#b8e186"
            ],
            [
             0.8,
             "#7fbc41"
            ],
            [
             0.9,
             "#4d9221"
            ],
            [
             1,
             "#276419"
            ]
           ],
           "sequential": [
            [
             0,
             "#0d0887"
            ],
            [
             0.1111111111111111,
             "#46039f"
            ],
            [
             0.2222222222222222,
             "#7201a8"
            ],
            [
             0.3333333333333333,
             "#9c179e"
            ],
            [
             0.4444444444444444,
             "#bd3786"
            ],
            [
             0.5555555555555556,
             "#d8576b"
            ],
            [
             0.6666666666666666,
             "#ed7953"
            ],
            [
             0.7777777777777778,
             "#fb9f3a"
            ],
            [
             0.8888888888888888,
             "#fdca26"
            ],
            [
             1,
             "#f0f921"
            ]
           ],
           "sequentialminus": [
            [
             0,
             "#0d0887"
            ],
            [
             0.1111111111111111,
             "#46039f"
            ],
            [
             0.2222222222222222,
             "#7201a8"
            ],
            [
             0.3333333333333333,
             "#9c179e"
            ],
            [
             0.4444444444444444,
             "#bd3786"
            ],
            [
             0.5555555555555556,
             "#d8576b"
            ],
            [
             0.6666666666666666,
             "#ed7953"
            ],
            [
             0.7777777777777778,
             "#fb9f3a"
            ],
            [
             0.8888888888888888,
             "#fdca26"
            ],
            [
             1,
             "#f0f921"
            ]
           ]
          },
          "colorway": [
           "#636efa",
           "#EF553B",
           "#00cc96",
           "#ab63fa",
           "#FFA15A",
           "#19d3f3",
           "#FF6692",
           "#B6E880",
           "#FF97FF",
           "#FECB52"
          ],
          "font": {
           "color": "#2a3f5f"
          },
          "geo": {
           "bgcolor": "white",
           "lakecolor": "white",
           "landcolor": "#E5ECF6",
           "showlakes": true,
           "showland": true,
           "subunitcolor": "white"
          },
          "hoverlabel": {
           "align": "left"
          },
          "hovermode": "closest",
          "mapbox": {
           "style": "light"
          },
          "paper_bgcolor": "white",
          "plot_bgcolor": "#E5ECF6",
          "polar": {
           "angularaxis": {
            "gridcolor": "white",
            "linecolor": "white",
            "ticks": ""
           },
           "bgcolor": "#E5ECF6",
           "radialaxis": {
            "gridcolor": "white",
            "linecolor": "white",
            "ticks": ""
           }
          },
          "scene": {
           "xaxis": {
            "backgroundcolor": "#E5ECF6",
            "gridcolor": "white",
            "gridwidth": 2,
            "linecolor": "white",
            "showbackground": true,
            "ticks": "",
            "zerolinecolor": "white"
           },
           "yaxis": {
            "backgroundcolor": "#E5ECF6",
            "gridcolor": "white",
            "gridwidth": 2,
            "linecolor": "white",
            "showbackground": true,
            "ticks": "",
            "zerolinecolor": "white"
           },
           "zaxis": {
            "backgroundcolor": "#E5ECF6",
            "gridcolor": "white",
            "gridwidth": 2,
            "linecolor": "white",
            "showbackground": true,
            "ticks": "",
            "zerolinecolor": "white"
           }
          },
          "shapedefaults": {
           "line": {
            "color": "#2a3f5f"
           }
          },
          "ternary": {
           "aaxis": {
            "gridcolor": "white",
            "linecolor": "white",
            "ticks": ""
           },
           "baxis": {
            "gridcolor": "white",
            "linecolor": "white",
            "ticks": ""
           },
           "bgcolor": "#E5ECF6",
           "caxis": {
            "gridcolor": "white",
            "linecolor": "white",
            "ticks": ""
           }
          },
          "title": {
           "x": 0.05
          },
          "xaxis": {
           "automargin": true,
           "gridcolor": "white",
           "linecolor": "white",
           "ticks": "",
           "title": {
            "standoff": 15
           },
           "zerolinecolor": "white",
           "zerolinewidth": 2
          },
          "yaxis": {
           "automargin": true,
           "gridcolor": "white",
           "linecolor": "white",
           "ticks": "",
           "title": {
            "standoff": 15
           },
           "zerolinecolor": "white",
           "zerolinewidth": 2
          }
         }
        },
        "title": {
         "font": {
          "color": "#4D5663"
         },
         "text": "Figure 8. Распределение цен за м2 в ЖК"
        },
        "xaxis": {
         "gridcolor": "#E1E5ED",
         "showgrid": true,
         "tickfont": {
          "color": "#4D5663"
         },
         "title": {
          "font": {
           "color": "#4D5663"
          },
          "text": ""
         },
         "zerolinecolor": "#E1E5ED"
        },
        "yaxis": {
         "gridcolor": "#E1E5ED",
         "showgrid": true,
         "tickfont": {
          "color": "#4D5663"
         },
         "title": {
          "font": {
           "color": "#4D5663"
          },
          "text": "Диапазон цен за м2 на квартиры"
         },
         "zerolinecolor": "#E1E5ED"
        }
       }
      },
      "text/html": [
       "<div>\n",
       "        \n",
       "        \n",
       "            <div id=\"b378f98d-c6d6-4294-bbe3-625716c35766\" class=\"plotly-graph-div\" style=\"height:525px; width:100%;\"></div>\n",
       "            <script type=\"text/javascript\">\n",
       "                require([\"plotly\"], function(Plotly) {\n",
       "                    window.PLOTLYENV=window.PLOTLYENV || {};\n",
       "                    window.PLOTLYENV.BASE_URL='https://plot.ly';\n",
       "                    \n",
       "                if (document.getElementById(\"b378f98d-c6d6-4294-bbe3-625716c35766\")) {\n",
       "                    Plotly.newPlot(\n",
       "                        'b378f98d-c6d6-4294-bbe3-625716c35766',\n",
       "                        [{\"boxpoints\": false, \"line\": {\"width\": 1.3}, \"marker\": {\"color\": \"rgba(255, 153, 51, 1.0)\"}, \"name\": \"\\u00abASQAT\\u00bb\", \"orientation\": \"v\", \"type\": \"box\", \"y\": [null, null, null, null, null, null, null, null, null, null, null, null, null, null, null, null, null, null, null, null, null, null, null, null, null, null, null, null, null, null, null, null, null, null, null, null, null, null, null, null, null, null, null, null, null, null, null, null, null, null, null, null, null, null, null, null, null, null, null, null, null, null, null, null, null, null, null, null, null, null, null, null, null, null, null, null, null, null, null, null, null, null, null, null, null, null, null, null, null, null, null, null, null, null, null, null, null, null, null, null, null, null, null, null, null, null, null, null, null, null, null, null, null, null, null, null, null, null, null, null, null, null, null, null, null, null, null, null, null, null, null, null, null, null, 295000.0, 255000.00000000003, 294999.99999999994, 295000.0, 265000.0, 280000.0, 280000.0, 280000.0, 265000.0, 295000.0, 295000.0, 265000.0, 295000.0, 295000.0, null, null, null, null, null, null, null, null, null, null, null, null, null, null, null, null, 285000.0, 285000.0, 285000.0]}, {\"boxpoints\": false, \"line\": {\"width\": 1.3}, \"marker\": {\"color\": \"rgba(55, 128, 191, 1.0)\"}, \"name\": \"\\u00abAlau\\u00bb\", \"orientation\": \"v\", \"type\": \"box\", \"y\": [null, null, 350000.0, null, null, null, null, null, null, null, null, null, 285000.0, null, null, null, null, null, null, null, null, null, null, 300000.0, null, null, null, null, null, null, null, null, null, null, null, null, null, 301213.4831460674, null, null, null, null, null, null, null, null, null, null, null, null, null, null, null, null, null, null, null, null, null, null, null, null, null, null, null, null, null, null, null, null, null, null, null, null, null, null, null, null, null, null, null, null, null, null, null, null, null, null, null, null, null, null, null, null, null, null, null, null, null, null, null, null, null, null, null, null, null, null, null, null, null, null, null, null, null, null, null, null, null, null, null, null, null, null, null, null, null, null, null, null, null, null, null, null, null, null, null, null, null, null, null, null, null, null, null, null, null, null, null, null, null, null, null, null, null, null, null, null, null, null, null, null, null, null, null, null, null]}, {\"boxpoints\": false, \"line\": {\"width\": 1.3}, \"marker\": {\"color\": \"rgba(50, 171, 96, 1.0)\"}, \"name\": \"\\u00abApple City\\u00bb\", \"orientation\": \"v\", \"type\": \"box\", \"y\": [null, null, null, null, null, null, null, null, null, null, null, null, null, null, null, null, null, null, null, null, null, null, null, null, null, null, null, null, null, null, null, null, null, null, null, null, null, null, null, null, null, null, null, null, null, null, null, null, null, null, null, null, null, null, null, null, null, null, null, null, null, null, null, null, null, null, null, null, null, null, null, null, null, null, null, null, null, null, null, null, null, null, null, null, null, null, null, null, null, null, null, null, null, null, null, null, null, null, null, null, null, null, null, 290000.0, 290000.0, 290000.0, 290000.0, 290000.0, 290000.0, null, null, null, null, null, null, 290000.0, 290000.0, null, null, null, 290000.0, 290000.0, 290000.0, 290000.0, null, null, 290000.0, 290000.0, null, 290000.0, null, null, null, null, null, null, null, null, null, null, null, null, null, null, null, null, null, null, null, null, null, null, null, null, null, null, null, null, null, null, null, null, null, null, null, null, null]}, {\"boxpoints\": false, \"line\": {\"width\": 1.3}, \"marker\": {\"color\": \"rgba(128, 0, 128, 1.0)\"}, \"name\": \"\\u00abAtlant\\u00bb\", \"orientation\": \"v\", \"type\": \"box\", \"y\": [null, null, null, null, null, null, null, null, null, null, null, null, null, null, 437751.7345276873, null, null, null, null, null, null, null, null, null, 414428.0890052356, null, null, null, null, null, null, null, null, null, null, null, 433526.4524948735, null, null, null, null, null, null, null, null, null, null, null, 428000.0, null, null, null, null, null, null, null, null, null, null, 430000.0, null, null, null, null, null, null, null, null, null, 430777.9754601227, null, null, null, null, null, null, null, 417779.57966764417, null, null, null, null, null, null, 429585.07042253524, null, null, null, null, null, null, null, null, null, null, null, null, null, null, null, null, null, null, null, null, null, null, null, null, null, null, null, null, null, null, null, null, null, null, null, null, null, null, null, null, null, null, null, null, null, null, null, null, null, null, null, null, null, null, null, null, null, null, null, null, null, null, null, null, null, null, null, null, null, null, null, null, null, null, null, null, null, null, null, null, null, null]}, {\"boxpoints\": false, \"line\": {\"width\": 1.3}, \"marker\": {\"color\": \"rgba(219, 64, 82, 1.0)\"}, \"name\": \"\\u00abBI City Tokyo\\u00bb\", \"orientation\": \"v\", \"type\": \"box\", \"y\": [null, null, null, null, null, null, null, 409000.0, null, null, null, null, null, null, null, null, null, null, null, 351000.0, null, null, null, null, null, null, null, null, null, null, 351000.0, null, null, null, null, null, null, null, null, 348000.0, null, null, null, null, null, null, null, null, null, 380000.0, null, null, null, null, null, null, 379700.0, null, null, null, null, null, null, null, 379600.0, null, null, null, null, null, null, null, null, null, 428249.99004975124, null, null, null, null, 405000.0, null, null, null, null, null, 359000.0, null, null, null, null, null, null, null, null, null, null, null, null, null, null, null, null, null, null, null, null, null, null, null, null, null, null, null, null, null, null, null, null, null, null, null, null, null, null, null, null, null, null, null, null, null, null, null, null, null, null, null, null, null, null, null, null, null, null, null, null, null, null, null, null, null, null, null, null, null, null, null, null, null, null, null, null, null, null, null, null, null]}, {\"boxpoints\": false, \"line\": {\"width\": 1.3}, \"marker\": {\"color\": \"rgba(0, 128, 128, 1.0)\"}, \"name\": \"\\u00abCapital Park\\u00bb\", \"orientation\": \"v\", \"type\": \"box\", \"y\": [null, null, null, null, null, null, 358500.0, null, null, null, null, null, null, null, null, null, null, null, 360500.0, null, null, null, null, null, null, null, null, null, null, null, null, 347900.0, null, null, null, null, null, null, null, null, 345500.0, null, null, null, null, null, null, null, null, null, 366200.0, null, null, null, null, null, null, 360000.0, null, null, null, null, null, null, null, 385000.0, null, null, null, null, null, null, null, 364300.0, null, null, null, null, null, null, 344000.0, null, null, null, null, null, 343800.0, null, null, 367800.0, null, null, 344000.0, null, 352800.0, null, 359600.0, null, null, null, null, null, null, null, null, null, null, null, null, null, null, null, null, null, null, null, null, null, null, null, null, null, null, null, null, null, null, null, null, null, null, null, null, null, null, null, null, null, null, null, null, null, null, null, null, null, null, null, null, null, null, null, null, null, null, null, null, null, null, null, null, null, null, null, null, null, null]}, {\"boxpoints\": false, \"line\": {\"width\": 1.3}, \"marker\": {\"color\": \"rgba(255, 255, 51, 1.0)\"}, \"name\": \"\\u00abCollege\\u00bb\", \"orientation\": \"v\", \"type\": \"box\", \"y\": [null, null, null, null, 269734.25196850393, null, null, null, null, null, null, null, null, null, null, null, 275703.0823253999, null, null, null, null, null, null, null, null, 275000.0, null, null, null, null, null, null, null, null, null, 266940.22165006155, null, null, null, null, null, null, null, null, null, 270000.0, null, null, null, null, null, null, null, 265000.0, null, null, null, null, null, null, null, null, null, 267000.0, null, null, null, null, null, null, 301871.25070741365, null, null, null, null, null, null, null, null, null, null, null, null, null, null, null, null, null, null, null, null, null, null, null, null, null, null, null, null, null, null, null, null, null, null, null, null, null, null, null, null, null, null, null, null, null, null, null, null, null, null, null, null, null, null, null, null, null, null, null, null, null, null, null, null, null, null, null, null, null, null, null, null, null, null, null, null, null, null, null, null, null, null, null, null, null, null, null, null, null, null, null, null, null, null, null, null]}, {\"boxpoints\": false, \"line\": {\"width\": 1.3}, \"marker\": {\"color\": \"rgba(128, 128, 0, 1.0)\"}, \"name\": \"\\u00abEsil Riverside\\u00bb\", \"orientation\": \"v\", \"type\": \"box\", \"y\": [null, null, null, null, null, null, null, null, 500300.0, null, null, null, null, null, null, null, null, null, null, null, 482300.0, null, null, null, null, null, null, null, null, null, null, null, 477300.00000000006, null, null, null, null, null, null, null, null, null, 492004.7220433569, null, null, null, null, null, null, null, null, 518407.12223291624, null, null, null, null, null, null, 522223.47248790367, null, null, null, null, null, null, null, 502303.16014997324, null, null, null, null, null, null, null, null, 502285.9517871987, null, null, null, null, null, 497324.74834497145, null, null, null, null, null, 492300.0, null, null, null, null, null, null, null, null, null, null, null, null, null, null, null, null, null, null, null, null, null, null, null, null, null, null, null, null, null, null, null, null, null, null, null, null, null, null, null, null, null, null, null, null, null, null, null, null, null, null, null, null, null, null, null, null, null, null, null, null, null, null, null, null, null, null, null, null, null, null, null, null, null, null, null, null, null, null, null]}, {\"boxpoints\": false, \"line\": {\"width\": 1.3}, \"marker\": {\"color\": \"rgba(251, 128, 114, 1.0)\"}, \"name\": \"\\u00abGrand Opera\\u00bb\", \"orientation\": \"v\", \"type\": \"box\", \"y\": [null, null, null, null, null, 423400.0, null, null, null, null, null, null, null, null, null, null, null, 439599.99999999994, null, null, null, null, null, null, null, null, null, 442700.0, null, null, null, null, null, null, null, null, null, null, 446800.00000000006, null, null, null, null, null, null, null, null, null, null, null, null, null, 451600.0, null, null, null, null, null, null, null, null, 439400.0, null, null, null, null, null, null, 423400.0, null, null, null, null, null, null, null, 450400.0, null, null, null, null, null, 425400.0, null, null, null, null, null, null, null, null, null, null, null, null, null, null, null, null, null, null, null, null, null, null, null, null, null, null, null, null, null, null, null, null, null, null, null, null, null, null, null, null, null, null, null, null, null, null, null, null, null, null, null, null, null, null, null, null, null, null, null, null, null, null, null, null, null, null, null, null, null, null, null, null, null, null, null, null, null, null, null, null, null, null, null, null]}, {\"boxpoints\": false, \"line\": {\"width\": 1.3}, \"marker\": {\"color\": \"rgba(128, 177, 211, 1.0)\"}, \"name\": \"\\u00abHeadliner\\u00bb\", \"orientation\": \"v\", \"type\": \"box\", \"y\": [null, null, null, 377508.4330891549, null, null, null, null, null, null, null, 383400.0, null, null, null, null, null, null, null, null, null, null, 373800.0, null, null, null, null, null, null, null, null, null, null, null, 374600.0, null, null, null, null, null, null, null, null, null, null, null, null, 393274.43100533227, null, null, null, null, null, null, 398489.85123293253, null, null, null, null, null, null, null, null, null, null, null, null, null, null, null, null, null, null, null, null, null, null, null, null, null, null, null, null, null, null, null, null, null, null, null, null, null, null, null, null, null, null, null, null, null, null, null, null, null, null, null, null, null, null, null, null, null, null, null, null, null, null, null, null, null, null, null, null, null, null, null, null, null, null, null, null, null, null, null, null, null, null, null, null, null, null, null, null, null, null, null, null, null, null, null, null, null, null, null, null, null, null, null, null, null, null, null, null, null, null, null, null]}, {\"boxpoints\": false, \"line\": {\"width\": 1.3}, \"marker\": {\"color\": \"rgba(128, 177, 211, 0.8999999999999999)\"}, \"name\": \"\\u00abNura Esil\\u00bb\", \"orientation\": \"v\", \"type\": \"box\", \"y\": [null, null, null, null, null, null, null, null, null, null, null, null, null, null, null, null, null, null, null, null, null, null, null, null, null, null, null, null, null, null, null, null, null, null, null, null, null, null, null, null, null, null, null, null, null, null, null, null, null, null, null, null, null, null, null, null, null, null, null, null, null, null, null, null, null, null, null, null, null, null, null, null, null, null, null, null, null, null, null, null, null, null, null, null, null, null, null, null, null, null, null, null, null, null, null, null, null, null, null, null, null, null, null, null, null, null, null, null, null, null, null, null, null, null, null, null, null, null, null, null, null, null, null, null, null, null, null, null, null, null, null, null, null, null, null, null, null, null, null, null, null, null, null, null, null, null, null, null, 383600.0, 380756.9756975698, 373000.0, 371200.0, 379900.0, 395600.0, 396000.0, 377000.0, 390300.0, null, null, null, null, null, null, null, null, null, null]}, {\"boxpoints\": false, \"line\": {\"width\": 1.3}, \"marker\": {\"color\": \"rgba(255, 153, 51, 0.8999999999999999)\"}, \"name\": \"\\u00abTulpar City\\u00bb\", \"orientation\": \"v\", \"type\": \"box\", \"y\": [null, null, null, null, null, null, null, null, null, null, null, null, null, 180000.0, null, null, null, null, null, null, null, null, null, null, null, null, null, null, 180000.0, null, null, null, null, null, null, null, null, null, null, null, null, null, null, null, null, null, 180000.0, null, null, null, null, null, null, null, null, null, null, null, null, null, null, null, 180000.0, null, null, null, null, null, null, null, null, null, 180000.0, null, null, null, null, null, null, null, null, null, null, 180000.0, null, null, null, null, null, null, 180000.0, null, null, 180000.0, null, null, null, 180000.0, 180000.0, 180000.0, 180000.0, 180000.0, 180000.0, null, null, null, null, null, null, null, null, null, null, null, null, null, null, null, null, null, null, null, null, null, null, null, null, null, null, null, null, null, null, null, null, null, null, null, null, null, null, null, null, null, null, null, null, null, null, null, null, null, null, null, null, null, null, null, null, null, null, null, null, null, null, null, null]}, {\"boxpoints\": false, \"line\": {\"width\": 1.3}, \"marker\": {\"color\": \"rgba(55, 128, 191, 0.8999999999999999)\"}, \"name\": \"\\u00abVela Village\\u00bb\", \"orientation\": \"v\", \"type\": \"box\", \"y\": [null, 392400.0, null, null, null, null, null, null, null, null, null, null, null, null, null, null, null, null, null, null, null, null, null, null, null, null, null, null, null, null, null, null, null, null, null, null, null, null, null, null, null, null, null, null, null, null, null, null, null, null, null, null, null, null, null, null, null, null, null, null, null, null, null, null, null, null, null, null, null, null, null, null, null, null, null, null, null, null, null, null, null, null, null, null, null, null, null, null, null, null, null, null, null, null, null, null, null, null, null, null, null, null, null, null, null, null, null, null, null, null, null, null, null, null, null, null, null, null, null, null, null, null, null, null, null, null, null, null, null, null, null, null, null, null, null, null, null, null, null, null, null, null, null, null, null, null, null, null, null, null, null, null, null, null, null, null, null, null, null, null, null, null, null, null, null, null, null]}, {\"boxpoints\": false, \"line\": {\"width\": 1.3}, \"marker\": {\"color\": \"rgba(50, 171, 96, 0.8999999999999999)\"}, \"name\": \"\\u00ab\\u0410\\u043b\\u0442\\u044b\\u043d \\u041e\\u0442\\u0430\\u0443\\u00bb\", \"orientation\": \"v\", \"type\": \"box\", \"y\": [null, null, null, null, null, null, null, null, null, null, null, null, null, null, null, 249999.99999999997, null, null, null, null, null, null, null, null, null, null, null, null, null, 250000.0, null, null, null, null, null, null, null, null, null, null, null, null, null, 250000.0, null, null, null, null, null, null, null, null, null, null, null, 250000.0, null, null, null, null, null, null, null, null, null, null, null, 250000.0, null, null, null, null, null, null, null, null, null, null, 250000.0, null, null, null, null, null, null, null, null, null, 249999.99999999997, null, null, 250000.0, null, null, null, 250000.00000000003, null, null, null, null, null, null, null, null, null, null, null, null, null, null, null, null, null, null, null, null, null, null, null, null, null, null, null, null, null, null, null, null, null, null, null, null, null, null, null, null, null, null, null, null, null, null, null, null, null, null, null, null, null, null, null, null, null, null, null, null, null, null, null, null, null, null, null, null, null, null, null]}, {\"boxpoints\": false, \"line\": {\"width\": 1.3}, \"marker\": {\"color\": \"rgba(128, 0, 128, 0.8999999999999999)\"}, \"name\": \"\\u00ab\\u0411\\u0430\\u0439\\u0441\\u0430\\u043b\\u00bb\", \"orientation\": \"v\", \"type\": \"box\", \"y\": [null, null, null, null, null, null, null, null, null, null, null, null, null, null, null, null, null, null, null, null, null, null, null, null, null, null, null, null, null, null, null, null, null, null, null, null, null, null, null, null, null, null, null, null, null, null, null, null, null, null, null, null, null, null, null, null, null, null, null, null, null, null, null, null, null, null, null, null, null, null, null, null, null, null, null, null, null, null, null, null, null, null, null, null, null, null, null, null, null, null, null, null, null, null, null, null, null, null, null, null, null, null, null, null, null, null, null, null, null, 140000.0, 140000.0, 140000.0, 140000.0, 140000.0, 140000.0, null, null, 140000.0, 140000.0, 140000.0, null, null, null, null, 140000.0, 140000.0, null, null, 140000.0, null, 140000.0, 140000.0, 140000.0, 180000.0, null, null, null, null, null, null, null, null, null, null, null, null, null, null, null, null, null, null, null, null, null, null, null, null, null, null, null, null, null, null, null, null, null]}, {\"boxpoints\": false, \"line\": {\"width\": 1.3}, \"marker\": {\"color\": \"rgba(219, 64, 82, 0.8999999999999999)\"}, \"name\": \"\\u00ab\\u0411\\u043e\\u0442\\u0430\\u043d\\u0438\\u0447\\u0435\\u0441\\u043a\\u0438\\u0439\\u00bb\", \"orientation\": \"v\", \"type\": \"box\", \"y\": [473400.0, null, null, null, null, null, null, null, null, 468311.2114014252, null, null, null, null, null, null, null, null, null, null, null, 447300.0, null, null, null, null, null, null, null, null, null, null, null, 467300.0, null, null, null, null, null, null, null, 455600.0, null, null, null, null, null, null, null, null, null, null, null, null, null, null, null, null, null, null, null, null, null, null, null, null, null, null, null, null, null, null, null, null, null, null, null, null, null, null, null, null, null, null, null, null, null, null, null, null, null, null, null, null, null, null, null, null, null, null, null, null, null, null, null, null, null, null, null, null, null, null, null, null, null, null, null, null, null, null, null, null, null, null, null, null, null, null, null, null, null, null, null, null, null, null, null, null, null, null, null, null, null, null, null, null, null, null, null, null, null, null, null, null, null, null, null, null, null, null, null, null, null, null, null, null, null]}, {\"boxpoints\": false, \"line\": {\"width\": 1.3}, \"marker\": {\"color\": \"rgba(0, 128, 128, 0.8999999999999999)\"}, \"name\": \"\\u00ab\\u041a\\u0430\\u0437\\u0430\\u043d\\u0430\\u0442 2\\u00bb\", \"orientation\": \"v\", \"type\": \"box\", \"y\": [null, null, null, null, null, null, null, null, null, null, null, null, null, null, null, null, null, null, null, null, null, null, null, null, null, null, null, null, null, null, null, null, null, null, null, null, null, null, null, null, null, null, null, null, null, null, null, null, null, null, null, null, null, null, null, null, null, null, null, null, null, null, null, null, null, null, null, null, null, null, null, null, null, null, null, null, null, null, null, null, null, null, null, null, null, null, null, null, null, null, null, null, null, null, null, null, null, null, null, null, null, null, null, null, null, null, null, null, null, null, null, null, null, null, null, null, null, null, null, null, null, null, null, null, null, null, null, null, null, null, null, null, null, null, null, null, null, null, null, null, null, null, null, null, null, null, null, null, null, null, null, null, null, null, null, null, null, 200000.0, 200000.0, 200000.0, 200000.0, 200000.0, 200000.0, 200000.0, null, null, null]}, {\"boxpoints\": false, \"line\": {\"width\": 1.3}, \"marker\": {\"color\": \"rgba(255, 255, 51, 0.8999999999999999)\"}, \"name\": \"\\u00ab\\u042d\\u043c\\u0438\\u0440\\u00bb\", \"orientation\": \"v\", \"type\": \"box\", \"y\": [null, null, null, null, null, null, null, null, null, null, 255000.0, null, null, null, null, null, null, null, null, null, null, null, null, null, null, null, 254999.99999999997, null, null, null, null, null, null, null, null, null, null, null, null, null, null, null, null, null, 255000.0, null, null, null, null, null, null, null, null, null, null, null, null, null, null, null, 255000.0, null, null, null, null, null, null, null, null, null, null, 255000.0, null, null, null, null, null, null, null, null, null, null, null, null, null, null, null, null, null, null, null, null, null, null, null, null, null, null, null, null, null, null, null, null, null, null, null, null, null, null, null, null, null, null, null, null, null, null, null, null, null, null, null, null, null, null, null, null, null, null, null, null, null, null, null, null, null, null, null, null, null, null, null, null, null, null, null, null, null, null, null, null, null, null, null, null, null, null, null, null, null, null, null, null, null, null, null]}],\n",
       "                        {\"legend\": {\"bgcolor\": \"#F5F6F9\", \"font\": {\"color\": \"#4D5663\"}}, \"paper_bgcolor\": \"#F5F6F9\", \"plot_bgcolor\": \"#F5F6F9\", \"template\": {\"data\": {\"bar\": [{\"error_x\": {\"color\": \"#2a3f5f\"}, \"error_y\": {\"color\": \"#2a3f5f\"}, \"marker\": {\"line\": {\"color\": \"#E5ECF6\", \"width\": 0.5}}, \"type\": \"bar\"}], \"barpolar\": [{\"marker\": {\"line\": {\"color\": \"#E5ECF6\", \"width\": 0.5}}, \"type\": \"barpolar\"}], \"carpet\": [{\"aaxis\": {\"endlinecolor\": \"#2a3f5f\", \"gridcolor\": \"white\", \"linecolor\": \"white\", \"minorgridcolor\": \"white\", \"startlinecolor\": \"#2a3f5f\"}, \"baxis\": {\"endlinecolor\": \"#2a3f5f\", \"gridcolor\": \"white\", \"linecolor\": \"white\", \"minorgridcolor\": \"white\", \"startlinecolor\": \"#2a3f5f\"}, \"type\": \"carpet\"}], \"choropleth\": [{\"colorbar\": {\"outlinewidth\": 0, \"ticks\": \"\"}, \"type\": \"choropleth\"}], \"contour\": [{\"colorbar\": {\"outlinewidth\": 0, \"ticks\": \"\"}, \"colorscale\": [[0.0, \"#0d0887\"], [0.1111111111111111, \"#46039f\"], [0.2222222222222222, \"#7201a8\"], [0.3333333333333333, \"#9c179e\"], [0.4444444444444444, \"#bd3786\"], [0.5555555555555556, \"#d8576b\"], [0.6666666666666666, \"#ed7953\"], [0.7777777777777778, \"#fb9f3a\"], [0.8888888888888888, \"#fdca26\"], [1.0, \"#f0f921\"]], \"type\": \"contour\"}], \"contourcarpet\": [{\"colorbar\": {\"outlinewidth\": 0, \"ticks\": \"\"}, \"type\": \"contourcarpet\"}], \"heatmap\": [{\"colorbar\": {\"outlinewidth\": 0, \"ticks\": \"\"}, \"colorscale\": [[0.0, \"#0d0887\"], [0.1111111111111111, \"#46039f\"], [0.2222222222222222, \"#7201a8\"], [0.3333333333333333, \"#9c179e\"], [0.4444444444444444, \"#bd3786\"], [0.5555555555555556, \"#d8576b\"], [0.6666666666666666, \"#ed7953\"], [0.7777777777777778, \"#fb9f3a\"], [0.8888888888888888, \"#fdca26\"], [1.0, \"#f0f921\"]], \"type\": \"heatmap\"}], \"heatmapgl\": [{\"colorbar\": {\"outlinewidth\": 0, \"ticks\": \"\"}, \"colorscale\": [[0.0, \"#0d0887\"], [0.1111111111111111, \"#46039f\"], [0.2222222222222222, \"#7201a8\"], [0.3333333333333333, \"#9c179e\"], [0.4444444444444444, \"#bd3786\"], [0.5555555555555556, \"#d8576b\"], [0.6666666666666666, \"#ed7953\"], [0.7777777777777778, \"#fb9f3a\"], [0.8888888888888888, \"#fdca26\"], [1.0, \"#f0f921\"]], \"type\": \"heatmapgl\"}], \"histogram\": [{\"marker\": {\"colorbar\": {\"outlinewidth\": 0, \"ticks\": \"\"}}, \"type\": \"histogram\"}], \"histogram2d\": [{\"colorbar\": {\"outlinewidth\": 0, \"ticks\": \"\"}, \"colorscale\": [[0.0, \"#0d0887\"], [0.1111111111111111, \"#46039f\"], [0.2222222222222222, \"#7201a8\"], [0.3333333333333333, \"#9c179e\"], [0.4444444444444444, \"#bd3786\"], [0.5555555555555556, \"#d8576b\"], [0.6666666666666666, \"#ed7953\"], [0.7777777777777778, \"#fb9f3a\"], [0.8888888888888888, \"#fdca26\"], [1.0, \"#f0f921\"]], \"type\": \"histogram2d\"}], \"histogram2dcontour\": [{\"colorbar\": {\"outlinewidth\": 0, \"ticks\": \"\"}, \"colorscale\": [[0.0, \"#0d0887\"], [0.1111111111111111, \"#46039f\"], [0.2222222222222222, \"#7201a8\"], [0.3333333333333333, \"#9c179e\"], [0.4444444444444444, \"#bd3786\"], [0.5555555555555556, \"#d8576b\"], [0.6666666666666666, \"#ed7953\"], [0.7777777777777778, \"#fb9f3a\"], [0.8888888888888888, \"#fdca26\"], [1.0, \"#f0f921\"]], \"type\": \"histogram2dcontour\"}], \"mesh3d\": [{\"colorbar\": {\"outlinewidth\": 0, \"ticks\": \"\"}, \"type\": \"mesh3d\"}], \"parcoords\": [{\"line\": {\"colorbar\": {\"outlinewidth\": 0, \"ticks\": \"\"}}, \"type\": \"parcoords\"}], \"pie\": [{\"automargin\": true, \"type\": \"pie\"}], \"scatter\": [{\"marker\": {\"colorbar\": {\"outlinewidth\": 0, \"ticks\": \"\"}}, \"type\": \"scatter\"}], \"scatter3d\": [{\"line\": {\"colorbar\": {\"outlinewidth\": 0, \"ticks\": \"\"}}, \"marker\": {\"colorbar\": {\"outlinewidth\": 0, \"ticks\": \"\"}}, \"type\": \"scatter3d\"}], \"scattercarpet\": [{\"marker\": {\"colorbar\": {\"outlinewidth\": 0, \"ticks\": \"\"}}, \"type\": \"scattercarpet\"}], \"scattergeo\": [{\"marker\": {\"colorbar\": {\"outlinewidth\": 0, \"ticks\": \"\"}}, \"type\": \"scattergeo\"}], \"scattergl\": [{\"marker\": {\"colorbar\": {\"outlinewidth\": 0, \"ticks\": \"\"}}, \"type\": \"scattergl\"}], \"scattermapbox\": [{\"marker\": {\"colorbar\": {\"outlinewidth\": 0, \"ticks\": \"\"}}, \"type\": \"scattermapbox\"}], \"scatterpolar\": [{\"marker\": {\"colorbar\": {\"outlinewidth\": 0, \"ticks\": \"\"}}, \"type\": \"scatterpolar\"}], \"scatterpolargl\": [{\"marker\": {\"colorbar\": {\"outlinewidth\": 0, \"ticks\": \"\"}}, \"type\": \"scatterpolargl\"}], \"scatterternary\": [{\"marker\": {\"colorbar\": {\"outlinewidth\": 0, \"ticks\": \"\"}}, \"type\": \"scatterternary\"}], \"surface\": [{\"colorbar\": {\"outlinewidth\": 0, \"ticks\": \"\"}, \"colorscale\": [[0.0, \"#0d0887\"], [0.1111111111111111, \"#46039f\"], [0.2222222222222222, \"#7201a8\"], [0.3333333333333333, \"#9c179e\"], [0.4444444444444444, \"#bd3786\"], [0.5555555555555556, \"#d8576b\"], [0.6666666666666666, \"#ed7953\"], [0.7777777777777778, \"#fb9f3a\"], [0.8888888888888888, \"#fdca26\"], [1.0, \"#f0f921\"]], \"type\": \"surface\"}], \"table\": [{\"cells\": {\"fill\": {\"color\": \"#EBF0F8\"}, \"line\": {\"color\": \"white\"}}, \"header\": {\"fill\": {\"color\": \"#C8D4E3\"}, \"line\": {\"color\": \"white\"}}, \"type\": \"table\"}]}, \"layout\": {\"annotationdefaults\": {\"arrowcolor\": \"#2a3f5f\", \"arrowhead\": 0, \"arrowwidth\": 1}, \"coloraxis\": {\"colorbar\": {\"outlinewidth\": 0, \"ticks\": \"\"}}, \"colorscale\": {\"diverging\": [[0, \"#8e0152\"], [0.1, \"#c51b7d\"], [0.2, \"#de77ae\"], [0.3, \"#f1b6da\"], [0.4, \"#fde0ef\"], [0.5, \"#f7f7f7\"], [0.6, \"#e6f5d0\"], [0.7, \"#b8e186\"], [0.8, \"#7fbc41\"], [0.9, \"#4d9221\"], [1, \"#276419\"]], \"sequential\": [[0.0, \"#0d0887\"], [0.1111111111111111, \"#46039f\"], [0.2222222222222222, \"#7201a8\"], [0.3333333333333333, \"#9c179e\"], [0.4444444444444444, \"#bd3786\"], [0.5555555555555556, \"#d8576b\"], [0.6666666666666666, \"#ed7953\"], [0.7777777777777778, \"#fb9f3a\"], [0.8888888888888888, \"#fdca26\"], [1.0, \"#f0f921\"]], \"sequentialminus\": [[0.0, \"#0d0887\"], [0.1111111111111111, \"#46039f\"], [0.2222222222222222, \"#7201a8\"], [0.3333333333333333, \"#9c179e\"], [0.4444444444444444, \"#bd3786\"], [0.5555555555555556, \"#d8576b\"], [0.6666666666666666, \"#ed7953\"], [0.7777777777777778, \"#fb9f3a\"], [0.8888888888888888, \"#fdca26\"], [1.0, \"#f0f921\"]]}, \"colorway\": [\"#636efa\", \"#EF553B\", \"#00cc96\", \"#ab63fa\", \"#FFA15A\", \"#19d3f3\", \"#FF6692\", \"#B6E880\", \"#FF97FF\", \"#FECB52\"], \"font\": {\"color\": \"#2a3f5f\"}, \"geo\": {\"bgcolor\": \"white\", \"lakecolor\": \"white\", \"landcolor\": \"#E5ECF6\", \"showlakes\": true, \"showland\": true, \"subunitcolor\": \"white\"}, \"hoverlabel\": {\"align\": \"left\"}, \"hovermode\": \"closest\", \"mapbox\": {\"style\": \"light\"}, \"paper_bgcolor\": \"white\", \"plot_bgcolor\": \"#E5ECF6\", \"polar\": {\"angularaxis\": {\"gridcolor\": \"white\", \"linecolor\": \"white\", \"ticks\": \"\"}, \"bgcolor\": \"#E5ECF6\", \"radialaxis\": {\"gridcolor\": \"white\", \"linecolor\": \"white\", \"ticks\": \"\"}}, \"scene\": {\"xaxis\": {\"backgroundcolor\": \"#E5ECF6\", \"gridcolor\": \"white\", \"gridwidth\": 2, \"linecolor\": \"white\", \"showbackground\": true, \"ticks\": \"\", \"zerolinecolor\": \"white\"}, \"yaxis\": {\"backgroundcolor\": \"#E5ECF6\", \"gridcolor\": \"white\", \"gridwidth\": 2, \"linecolor\": \"white\", \"showbackground\": true, \"ticks\": \"\", \"zerolinecolor\": \"white\"}, \"zaxis\": {\"backgroundcolor\": \"#E5ECF6\", \"gridcolor\": \"white\", \"gridwidth\": 2, \"linecolor\": \"white\", \"showbackground\": true, \"ticks\": \"\", \"zerolinecolor\": \"white\"}}, \"shapedefaults\": {\"line\": {\"color\": \"#2a3f5f\"}}, \"ternary\": {\"aaxis\": {\"gridcolor\": \"white\", \"linecolor\": \"white\", \"ticks\": \"\"}, \"baxis\": {\"gridcolor\": \"white\", \"linecolor\": \"white\", \"ticks\": \"\"}, \"bgcolor\": \"#E5ECF6\", \"caxis\": {\"gridcolor\": \"white\", \"linecolor\": \"white\", \"ticks\": \"\"}}, \"title\": {\"x\": 0.05}, \"xaxis\": {\"automargin\": true, \"gridcolor\": \"white\", \"linecolor\": \"white\", \"ticks\": \"\", \"title\": {\"standoff\": 15}, \"zerolinecolor\": \"white\", \"zerolinewidth\": 2}, \"yaxis\": {\"automargin\": true, \"gridcolor\": \"white\", \"linecolor\": \"white\", \"ticks\": \"\", \"title\": {\"standoff\": 15}, \"zerolinecolor\": \"white\", \"zerolinewidth\": 2}}}, \"title\": {\"font\": {\"color\": \"#4D5663\"}, \"text\": \"Figure 8. \\u0420\\u0430\\u0441\\u043f\\u0440\\u0435\\u0434\\u0435\\u043b\\u0435\\u043d\\u0438\\u0435 \\u0446\\u0435\\u043d \\u0437\\u0430 \\u043c2 \\u0432 \\u0416\\u041a\"}, \"xaxis\": {\"gridcolor\": \"#E1E5ED\", \"showgrid\": true, \"tickfont\": {\"color\": \"#4D5663\"}, \"title\": {\"font\": {\"color\": \"#4D5663\"}, \"text\": \"\"}, \"zerolinecolor\": \"#E1E5ED\"}, \"yaxis\": {\"gridcolor\": \"#E1E5ED\", \"showgrid\": true, \"tickfont\": {\"color\": \"#4D5663\"}, \"title\": {\"font\": {\"color\": \"#4D5663\"}, \"text\": \"\\u0414\\u0438\\u0430\\u043f\\u0430\\u0437\\u043e\\u043d \\u0446\\u0435\\u043d \\u0437\\u0430 \\u043c2 \\u043d\\u0430 \\u043a\\u0432\\u0430\\u0440\\u0442\\u0438\\u0440\\u044b\"}, \"zerolinecolor\": \"#E1E5ED\"}},\n",
       "                        {\"showLink\": true, \"linkText\": \"Export to plot.ly\", \"plotlyServerURL\": \"https://plot.ly\", \"responsive\": true}\n",
       "                    ).then(function(){\n",
       "                            \n",
       "var gd = document.getElementById('b378f98d-c6d6-4294-bbe3-625716c35766');\n",
       "var x = new MutationObserver(function (mutations, observer) {{\n",
       "        var display = window.getComputedStyle(gd).display;\n",
       "        if (!display || display === 'none') {{\n",
       "            console.log([gd, 'removed!']);\n",
       "            Plotly.purge(gd);\n",
       "            observer.disconnect();\n",
       "        }}\n",
       "}});\n",
       "\n",
       "// Listen for the removal of the full notebook cells\n",
       "var notebookContainer = gd.closest('#notebook-container');\n",
       "if (notebookContainer) {{\n",
       "    x.observe(notebookContainer, {childList: true});\n",
       "}}\n",
       "\n",
       "// Listen for the clearing of the current output cell\n",
       "var outputEl = gd.closest('.output');\n",
       "if (outputEl) {{\n",
       "    x.observe(outputEl, {childList: true});\n",
       "}}\n",
       "\n",
       "                        })\n",
       "                };\n",
       "                });\n",
       "            </script>\n",
       "        </div>"
      ]
     },
     "metadata": {},
     "output_type": "display_data"
    },
    {
     "data": {
      "text/html": [
       "\n",
       "        <script>\n",
       "            function code_toggle_8060093438923609319() {\n",
       "                $('div.cell.code_cell.rendered.selected').find('div.input').toggle();\n",
       "            }\n",
       "\n",
       "            \n",
       "        </script>\n",
       "\n",
       "        <a href=\"javascript:code_toggle_8060093438923609319()\">Toggle show/hide</a>\n",
       "    "
      ],
      "text/plain": [
       "<IPython.core.display.HTML object>"
      ]
     },
     "execution_count": 30,
     "metadata": {},
     "output_type": "execute_result"
    }
   ],
   "source": [
    "df.pivot(columns='ЖК', values='Цена за м2').iplot(\n",
    "        kind='box',\n",
    "        yTitle='Диапазон цен за м2 на квартиры',\n",
    "        title='Figure 8. Распределение цен за м2 в ЖК')\n",
    "hide_toggle()"
   ]
  },
  {
   "cell_type": "markdown",
   "metadata": {},
   "source": [
    "#### Читаем график:\n",
    " 1. Цена за кв м варируются в ЖК, классом выше.Причиной этому могут быть планировка(угловая/неугловая, этаж, вид с окон, ликвидность 2 квартир и тд.)\n"
   ]
  },
  {
   "cell_type": "markdown",
   "metadata": {},
   "source": [
    "### Вывод:\n",
    " 1. Стоит отметить, что все ЖК застройщика BI Group являются классом выше, по сравнению с другими застройщиками. В добавок: качество, сервис и репутация делают свое дело.(Figure 3, Figure 7)\n",
    " 2. ТОО застройщики имеют одинаковый прирост цены за м2. (Figure 3)\n",
    " 3. Квартира с большей квадратурой может быть дороже по цене, но меньше по цене за 1 м2 (Figure 4)\n",
    " 4. Самые дешевые квартиры среди выборки оказались кв ЖК \"Байсал\" застройщика \"Береке Курылыс 2020\" (From table)\n",
    "\n"
   ]
  },
  {
   "cell_type": "code",
   "execution_count": null,
   "metadata": {},
   "outputs": [],
   "source": []
  }
 ],
 "metadata": {
  "kernelspec": {
   "display_name": "Python 3",
   "language": "python",
   "name": "python3"
  },
  "language_info": {
   "codemirror_mode": {
    "name": "ipython",
    "version": 3
   },
   "file_extension": ".py",
   "mimetype": "text/x-python",
   "name": "python",
   "nbconvert_exporter": "python",
   "pygments_lexer": "ipython3",
   "version": "3.7.6"
  }
 },
 "nbformat": 4,
 "nbformat_minor": 4
}
